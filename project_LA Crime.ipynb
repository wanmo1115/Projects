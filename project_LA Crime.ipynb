{
 "cells": [
  {
   "cell_type": "markdown",
   "metadata": {},
   "source": [
    "# LA Crime: 2010 - Present"
   ]
  },
  {
   "cell_type": "markdown",
   "metadata": {},
   "source": [
    "Wanmo Chen"
   ]
  },
  {
   "cell_type": "markdown",
   "metadata": {},
   "source": [
    "## Part 1 - Selection"
   ]
  },
  {
   "cell_type": "markdown",
   "metadata": {},
   "source": [
    "Aspiring actors/actresses, I wanted to examine crime in Los Angeles, in order to decide which neighbourhoods to live in, and which ones to definetely avoid.\n",
    "\n",
    "The following statistics we include:\n",
    "* Time\n",
    "* The neighbourhoods\n",
    "* Crimes and their victims\n",
    "* Weapons used, and where they occur\n",
    "* Demographic analysis"
   ]
  },
  {
   "cell_type": "markdown",
   "metadata": {},
   "source": [
    "## Part 2 - Wrangling"
   ]
  },
  {
   "cell_type": "markdown",
   "metadata": {},
   "source": [
    "Let's begin the analysis by downloading the data begin wrangling it."
   ]
  },
  {
   "cell_type": "code",
   "execution_count": 1,
   "metadata": {},
   "outputs": [
    {
     "name": "stdout",
     "output_type": "stream",
     "text": [
      "--2017-12-07 01:17:22--  https://data.lacity.org/api/views/y8tr-7khq/rows.csv\n",
      "Resolving data.lacity.org (data.lacity.org)... 52.206.140.199\n",
      "Connecting to data.lacity.org (data.lacity.org)|52.206.140.199|:443... connected.\n",
      "HTTP request sent, awaiting response... 200 OK\n",
      "Length: unspecified [text/csv]\n",
      "Saving to: ‘rows.csv’\n",
      "\n",
      "rows.csv                [  <=>               ] 357.76M  2.51MB/s    in 2m 35s  \n",
      "\n",
      "Last-modified header invalid -- time-stamp ignored.\n",
      "2017-12-07 01:19:57 (2.31 MB/s) - ‘rows.csv’ saved [375144413]\n",
      "\n"
     ]
    }
   ],
   "source": [
    "!wget https://data.lacity.org/api/views/y8tr-7khq/rows.csv"
   ]
  },
  {
   "cell_type": "code",
   "execution_count": 2,
   "metadata": {
    "collapsed": true
   },
   "outputs": [],
   "source": [
    "!mv rows.csv Crime_Data_from_2010_to_Present.csv"
   ]
  },
  {
   "cell_type": "markdown",
   "metadata": {},
   "source": [
    "Let's check the amount of records in this data file."
   ]
  },
  {
   "cell_type": "code",
   "execution_count": 4,
   "metadata": {},
   "outputs": [
    {
     "name": "stdout",
     "output_type": "stream",
     "text": [
      "1621439 Crime_Data_from_2010_to_Present.csv\r\n"
     ]
    }
   ],
   "source": [
    "!wc -l Crime*.csv"
   ]
  },
  {
   "cell_type": "markdown",
   "metadata": {},
   "source": [
    "Let's take look at the first 5 records in the data."
   ]
  },
  {
   "cell_type": "code",
   "execution_count": 5,
   "metadata": {},
   "outputs": [
    {
     "name": "stdout",
     "output_type": "stream",
     "text": [
      "|------------+---------------+---------------+---------------+---------+-------------+--------------------+------------+-----------------------------------------------------------------+---------------------------------------------------+------------+------------+----------------+--------------+-----------------------------------------------------------+------------------+------------------------------------------------+-------------+--------------------+--------------+--------------+--------------+--------------+------------------------------------------+------------------------------------+-----------------------|\r\n",
      "|  DR Number | Date Reported | Date Occurred | Time Occurred | Area ID | Area Name   | Reporting District | Crime Code | Crime Code Description                                          | MO Codes                                          | Victim Age | Victim Sex | Victim Descent | Premise Code | Premise Description                                       | Weapon Used Code | Weapon Description                             | Status Code | Status Description | Crime Code 1 | Crime Code 2 | Crime Code 3 | Crime Code 4 | Address                                  | Cross Street                       | Location              |\r\n",
      "|------------+---------------+---------------+---------------+---------+-------------+--------------------+------------+-----------------------------------------------------------------+---------------------------------------------------+------------+------------+----------------+--------------+-----------------------------------------------------------+------------------+------------------------------------------------+-------------+--------------------+--------------+--------------+--------------+--------------+------------------------------------------+------------------------------------+-----------------------|\r\n",
      "|  001208575 | 03/14/2013    | 03/11/2013    | 1800          | 12      | 77th Street | 1241               | 626        | INTIMATE PARTNER - SIMPLE ASSAULT                               | 0416 0446 1243 2000                               | 30         | F          | W              | 502          | MULTI-UNIT DWELLING (APARTMENT, DUPLEX, ETC)              | 400              | STRONG-ARM (HANDS, FIST, FEET OR BODILY FORCE) | AO          | Adult Other        | 626          |              |              |              | 6300    BRYNHURST                    AV  |                                    | (33.9829, -118.3338)  |\r\n",
      "|  102005556 | 01/25/2010    | 01/22/2010    | 2300          | 20      | Olympic     | 2071               | 510        | VEHICLE - STOLEN                                                |                                                   |            |            |                | 101          | STREET                                                    |                  |                                                | IC          | Invest Cont        | 510          |              |              |              | VAN NESS                                 | 15TH                               | (34.0454, -118.3157)  |\r\n"
     ]
    }
   ],
   "source": [
    "!csvlook Crime*.csv | head -5"
   ]
  },
  {
   "cell_type": "markdown",
   "metadata": {},
   "source": [
    "Now that we have briefly analysed the data, let's load the data into a database to continue the wrangling."
   ]
  },
  {
   "cell_type": "code",
   "execution_count": 6,
   "metadata": {
    "collapsed": true
   },
   "outputs": [],
   "source": [
    "%load_ext sql"
   ]
  },
  {
   "cell_type": "code",
   "execution_count": 7,
   "metadata": {},
   "outputs": [
    {
     "name": "stdout",
     "output_type": "stream",
     "text": [
      "NOTICE:  database \"project4\" does not exist, skipping\r\n"
     ]
    }
   ],
   "source": [
    "!dropdb --if-exists -U student project4"
   ]
  },
  {
   "cell_type": "code",
   "execution_count": 8,
   "metadata": {
    "collapsed": true
   },
   "outputs": [],
   "source": [
    "!createdb -U student project4"
   ]
  },
  {
   "cell_type": "code",
   "execution_count": 9,
   "metadata": {},
   "outputs": [
    {
     "data": {
      "text/plain": [
       "'Connected: student@project4'"
      ]
     },
     "execution_count": 9,
     "metadata": {},
     "output_type": "execute_result"
    }
   ],
   "source": [
    "%sql postgresql://student@/project4"
   ]
  },
  {
   "cell_type": "markdown",
   "metadata": {},
   "source": [
    "### Creating Crime Fact Table"
   ]
  },
  {
   "cell_type": "code",
   "execution_count": 10,
   "metadata": {},
   "outputs": [
    {
     "name": "stdout",
     "output_type": "stream",
     "text": [
      "Done.\n",
      "Done.\n"
     ]
    },
    {
     "data": {
      "text/plain": [
       "[]"
      ]
     },
     "execution_count": 10,
     "metadata": {},
     "output_type": "execute_result"
    }
   ],
   "source": [
    "%%sql\n",
    "DROP TABLE IF EXISTS crime_facts;\n",
    "\n",
    "CREATE TABLE crime_facts (\n",
    "    DR_number VARCHAR(10),\n",
    "    date_reported DATE,\n",
    "    date_occured DATE,\n",
    "    time_occured INTEGER,\n",
    "    area_key INTEGER,\n",
    "    area_name VARCHAR(15),\n",
    "    report_district VARCHAR(4),\n",
    "    crime_key INTEGER,\n",
    "    crime_description VARCHAR(70),\n",
    "    mo_code VARCHAR(50),\n",
    "    victim_age INTEGER,\n",
    "    victim_sex VARCHAR(2),\n",
    "    victim_descent VARCHAR(5),\n",
    "    premise_key INTEGER,\n",
    "    premise_description VARCHAR(60),\n",
    "    weapon_key INTEGER,\n",
    "    weapon_description VARCHAR(50),\n",
    "    status_key VARCHAR(5),\n",
    "    status_description VARCHAR(15),\n",
    "    crime_code_1 INTEGER,\n",
    "    crime_code_2 INTEGER,\n",
    "    crime_code_3 INTEGER,\n",
    "    crime_code_4 INTEGER,\n",
    "    address VARCHAR(50),\n",
    "    cross_street VARCHAR(50),\n",
    "    location VARCHAR(30))"
   ]
  },
  {
   "cell_type": "markdown",
   "metadata": {},
   "source": [
    "Importing the crime data into the **Crime Facts Table**"
   ]
  },
  {
   "cell_type": "code",
   "execution_count": 11,
   "metadata": {
    "collapsed": true
   },
   "outputs": [],
   "source": [
    "!cp Crime_Data_from_2010_to_Present.csv /tmp/Crime_Data_from_2010_to_Present.csv"
   ]
  },
  {
   "cell_type": "code",
   "execution_count": 12,
   "metadata": {},
   "outputs": [
    {
     "name": "stdout",
     "output_type": "stream",
     "text": [
      "1621438 rows affected.\n"
     ]
    },
    {
     "data": {
      "text/plain": [
       "[]"
      ]
     },
     "execution_count": 12,
     "metadata": {},
     "output_type": "execute_result"
    }
   ],
   "source": [
    "%%sql\n",
    "COPY crime_facts FROM '/tmp/Crime_Data_from_2010_to_Present.csv'\n",
    "CSV\n",
    "HEADER;"
   ]
  },
  {
   "cell_type": "markdown",
   "metadata": {},
   "source": [
    "Let's verify that the data was successfully uploaded into the table."
   ]
  },
  {
   "cell_type": "code",
   "execution_count": 13,
   "metadata": {},
   "outputs": [
    {
     "name": "stdout",
     "output_type": "stream",
     "text": [
      "1 rows affected.\n"
     ]
    },
    {
     "data": {
      "text/html": [
       "<table>\n",
       "    <tr>\n",
       "        <th>count</th>\n",
       "    </tr>\n",
       "    <tr>\n",
       "        <td>1621438</td>\n",
       "    </tr>\n",
       "</table>"
      ],
      "text/plain": [
       "[(1621438,)]"
      ]
     },
     "execution_count": 13,
     "metadata": {},
     "output_type": "execute_result"
    }
   ],
   "source": [
    "%%sql\n",
    "SELECT COUNT(*)\n",
    "FROM crime_facts"
   ]
  },
  {
   "cell_type": "markdown",
   "metadata": {},
   "source": [
    "### Resolving the missing values"
   ]
  },
  {
   "cell_type": "markdown",
   "metadata": {},
   "source": [
    "We are replacing all the null values with a value of 'MISSING' to minimise error."
   ]
  },
  {
   "cell_type": "code",
   "execution_count": 14,
   "metadata": {},
   "outputs": [
    {
     "name": "stdout",
     "output_type": "stream",
     "text": [
      "451 rows affected.\n"
     ]
    },
    {
     "data": {
      "text/plain": [
       "[]"
      ]
     },
     "execution_count": 14,
     "metadata": {},
     "output_type": "execute_result"
    }
   ],
   "source": [
    "%%sql\n",
    "UPDATE crime_facts\n",
    "SET crime_description = 'MISSING'\n",
    "WHERE crime_description IS NULL"
   ]
  },
  {
   "cell_type": "code",
   "execution_count": 15,
   "metadata": {},
   "outputs": [
    {
     "name": "stdout",
     "output_type": "stream",
     "text": [
      "3469 rows affected.\n"
     ]
    },
    {
     "data": {
      "text/plain": [
       "[]"
      ]
     },
     "execution_count": 15,
     "metadata": {},
     "output_type": "execute_result"
    }
   ],
   "source": [
    "%%sql\n",
    "UPDATE crime_facts\n",
    "SET premise_description = 'MISSING'\n",
    "WHERE premise_description IS NULL"
   ]
  },
  {
   "cell_type": "code",
   "execution_count": 16,
   "metadata": {},
   "outputs": [
    {
     "name": "stdout",
     "output_type": "stream",
     "text": [
      "1084249 rows affected.\n"
     ]
    },
    {
     "data": {
      "text/plain": [
       "[]"
      ]
     },
     "execution_count": 16,
     "metadata": {},
     "output_type": "execute_result"
    }
   ],
   "source": [
    "%%sql\n",
    "UPDATE crime_facts\n",
    "SET weapon_description = 'MISSING'\n",
    "WHERE weapon_description IS NULL"
   ]
  },
  {
   "cell_type": "markdown",
   "metadata": {},
   "source": [
    "We are also dropping the following columns crime_code_1, crime_code_2, crime_code_3, crime_code_4 since they are empty."
   ]
  },
  {
   "cell_type": "code",
   "execution_count": 17,
   "metadata": {},
   "outputs": [
    {
     "name": "stdout",
     "output_type": "stream",
     "text": [
      "Done.\n"
     ]
    },
    {
     "data": {
      "text/plain": [
       "[]"
      ]
     },
     "execution_count": 17,
     "metadata": {},
     "output_type": "execute_result"
    }
   ],
   "source": [
    "%%sql\n",
    "ALTER TABLE crime_facts\n",
    "DROP COLUMN crime_code_1,\n",
    "DROP COLUMN crime_code_2,\n",
    "DROP COLUMN crime_code_3,\n",
    "DROP COLUMN crime_code_4;"
   ]
  },
  {
   "cell_type": "markdown",
   "metadata": {},
   "source": [
    "### Create table occured_time"
   ]
  },
  {
   "cell_type": "markdown",
   "metadata": {},
   "source": [
    "We then create the first dimension table \"occured_time\" to track all time data."
   ]
  },
  {
   "cell_type": "code",
   "execution_count": 18,
   "metadata": {},
   "outputs": [
    {
     "name": "stdout",
     "output_type": "stream",
     "text": [
      "Done.\n",
      "Done.\n"
     ]
    },
    {
     "data": {
      "text/plain": [
       "[]"
      ]
     },
     "execution_count": 18,
     "metadata": {},
     "output_type": "execute_result"
    }
   ],
   "source": [
    "%%sql\n",
    "DROP TABLE IF EXISTS occured_time;\n",
    "\n",
    "CREATE TABLE occured_time(\n",
    "    occured_time_key SERIAL PRIMARY KEY,\n",
    "    occured_date DATE,\n",
    "    occured_time INTEGER,\n",
    "    occured_hour INTEGER,\n",
    "    occured_minute INTEGER)"
   ]
  },
  {
   "cell_type": "markdown",
   "metadata": {},
   "source": [
    "Then we insert all the time data into the table, as well as properly calculating time from a 4 digit number (e.g. 0830 = 08:30). We used division and the remainder to represent the accurate hour and minute."
   ]
  },
  {
   "cell_type": "code",
   "execution_count": 19,
   "metadata": {},
   "outputs": [
    {
     "name": "stdout",
     "output_type": "stream",
     "text": [
      "474341 rows affected.\n"
     ]
    },
    {
     "data": {
      "text/plain": [
       "[]"
      ]
     },
     "execution_count": 19,
     "metadata": {},
     "output_type": "execute_result"
    }
   ],
   "source": [
    "%%sql\n",
    "INSERT INTO occured_time (occured_date, occured_time, occured_hour, occured_minute)\n",
    "SELECT DISTINCT date_occured, time_occured, time_occured/100, time_occured-100*(time_occured/100)\n",
    "FROM crime_facts"
   ]
  },
  {
   "cell_type": "markdown",
   "metadata": {},
   "source": [
    "Now we want to verify that there is no missing values in date_occured and time_occured."
   ]
  },
  {
   "cell_type": "code",
   "execution_count": 20,
   "metadata": {},
   "outputs": [
    {
     "name": "stdout",
     "output_type": "stream",
     "text": [
      "5 rows affected.\n"
     ]
    },
    {
     "data": {
      "text/html": [
       "<table>\n",
       "    <tr>\n",
       "        <th>occured_time_key</th>\n",
       "        <th>occured_date</th>\n",
       "        <th>occured_time</th>\n",
       "        <th>occured_hour</th>\n",
       "        <th>occured_minute</th>\n",
       "    </tr>\n",
       "    <tr>\n",
       "        <td>1</td>\n",
       "        <td>2010-01-01</td>\n",
       "        <td>1</td>\n",
       "        <td>0</td>\n",
       "        <td>1</td>\n",
       "    </tr>\n",
       "    <tr>\n",
       "        <td>2</td>\n",
       "        <td>2010-01-01</td>\n",
       "        <td>2</td>\n",
       "        <td>0</td>\n",
       "        <td>2</td>\n",
       "    </tr>\n",
       "    <tr>\n",
       "        <td>3</td>\n",
       "        <td>2010-01-01</td>\n",
       "        <td>5</td>\n",
       "        <td>0</td>\n",
       "        <td>5</td>\n",
       "    </tr>\n",
       "    <tr>\n",
       "        <td>4</td>\n",
       "        <td>2010-01-01</td>\n",
       "        <td>7</td>\n",
       "        <td>0</td>\n",
       "        <td>7</td>\n",
       "    </tr>\n",
       "    <tr>\n",
       "        <td>5</td>\n",
       "        <td>2010-01-01</td>\n",
       "        <td>10</td>\n",
       "        <td>0</td>\n",
       "        <td>10</td>\n",
       "    </tr>\n",
       "</table>"
      ],
      "text/plain": [
       "[(1, datetime.date(2010, 1, 1), 1, 0, 1),\n",
       " (2, datetime.date(2010, 1, 1), 2, 0, 2),\n",
       " (3, datetime.date(2010, 1, 1), 5, 0, 5),\n",
       " (4, datetime.date(2010, 1, 1), 7, 0, 7),\n",
       " (5, datetime.date(2010, 1, 1), 10, 0, 10)]"
      ]
     },
     "execution_count": 20,
     "metadata": {},
     "output_type": "execute_result"
    }
   ],
   "source": [
    "%%sql\n",
    "SELECT *\n",
    "FROM occured_time\n",
    "LIMIT 5"
   ]
  },
  {
   "cell_type": "markdown",
   "metadata": {},
   "source": [
    "We update the crime facts table with the occurred_time_key foreign key from the occurred_time table."
   ]
  },
  {
   "cell_type": "code",
   "execution_count": 23,
   "metadata": {},
   "outputs": [
    {
     "name": "stdout",
     "output_type": "stream",
     "text": [
      "(psycopg2.ProgrammingError) column \"occured_time_key\" of relation \"crime_facts\" already exists\n",
      " [SQL: 'ALTER TABLE crime_facts\\nADD COLUMN occured_time_key INTEGER,\\nADD CONSTRAINT fk_occured_time\\n    FOREIGN KEY (occured_time_key)\\n    REFERENCES occured_time;']\n"
     ]
    }
   ],
   "source": [
    "%%sql\n",
    "ALTER TABLE crime_facts\n",
    "ADD COLUMN occured_time_key INTEGER,\n",
    "ADD CONSTRAINT fk_occured_time\n",
    "    FOREIGN KEY (occured_time_key)\n",
    "    REFERENCES occured_time;"
   ]
  },
  {
   "cell_type": "code",
   "execution_count": 24,
   "metadata": {},
   "outputs": [
    {
     "name": "stdout",
     "output_type": "stream",
     "text": [
      "5 rows affected.\n"
     ]
    },
    {
     "data": {
      "text/html": [
       "<table>\n",
       "    <tr>\n",
       "        <th>occured_time_key</th>\n",
       "    </tr>\n",
       "    <tr>\n",
       "        <td>None</td>\n",
       "    </tr>\n",
       "    <tr>\n",
       "        <td>None</td>\n",
       "    </tr>\n",
       "    <tr>\n",
       "        <td>None</td>\n",
       "    </tr>\n",
       "    <tr>\n",
       "        <td>None</td>\n",
       "    </tr>\n",
       "    <tr>\n",
       "        <td>None</td>\n",
       "    </tr>\n",
       "</table>"
      ],
      "text/plain": [
       "[(None,), (None,), (None,), (None,), (None,)]"
      ]
     },
     "execution_count": 24,
     "metadata": {},
     "output_type": "execute_result"
    }
   ],
   "source": [
    "%%sql\n",
    "SELECT occured_time_key\n",
    "FROM crime_facts\n",
    "LIMIT 5"
   ]
  },
  {
   "cell_type": "code",
   "execution_count": 25,
   "metadata": {},
   "outputs": [
    {
     "name": "stdout",
     "output_type": "stream",
     "text": [
      "1621438 rows affected.\n"
     ]
    },
    {
     "data": {
      "text/plain": [
       "[]"
      ]
     },
     "execution_count": 25,
     "metadata": {},
     "output_type": "execute_result"
    }
   ],
   "source": [
    "%%sql\n",
    "UPDATE crime_facts\n",
    "SET occured_time_key = occured_time.occured_time_key\n",
    "FROM occured_time\n",
    "WHERE crime_facts.date_occured = occured_time.occured_date\n",
    "AND crime_facts.time_occured = occured_time.occured_time"
   ]
  },
  {
   "cell_type": "markdown",
   "metadata": {},
   "source": [
    "We add the following columns 'day_of_week', 'day_of_week_num', 'year, 'month', and 'day' to further track the time. We also format the day, month, and year in their proper format."
   ]
  },
  {
   "cell_type": "code",
   "execution_count": 26,
   "metadata": {},
   "outputs": [
    {
     "name": "stdout",
     "output_type": "stream",
     "text": [
      "Done.\n"
     ]
    },
    {
     "data": {
      "text/plain": [
       "[]"
      ]
     },
     "execution_count": 26,
     "metadata": {},
     "output_type": "execute_result"
    }
   ],
   "source": [
    "%%sql\n",
    "ALTER TABLE occured_time\n",
    "ADD COLUMN day_of_week VARCHAR(10),\n",
    "ADD COLUMN day_of_week_num INTEGER,\n",
    "ADD COLUMN year INTEGER,\n",
    "ADD COLUMN month INTEGER,\n",
    "ADD COLUMN day INTEGER"
   ]
  },
  {
   "cell_type": "code",
   "execution_count": 27,
   "metadata": {},
   "outputs": [
    {
     "name": "stdout",
     "output_type": "stream",
     "text": [
      "474341 rows affected.\n"
     ]
    },
    {
     "data": {
      "text/plain": [
       "[]"
      ]
     },
     "execution_count": 27,
     "metadata": {},
     "output_type": "execute_result"
    }
   ],
   "source": [
    "%%sql\n",
    "UPDATE occured_time\n",
    "SET day_of_week = TO_CHAR(occured_date, 'Day')"
   ]
  },
  {
   "cell_type": "code",
   "execution_count": 28,
   "metadata": {},
   "outputs": [
    {
     "name": "stdout",
     "output_type": "stream",
     "text": [
      "474341 rows affected.\n"
     ]
    },
    {
     "data": {
      "text/plain": [
       "[]"
      ]
     },
     "execution_count": 28,
     "metadata": {},
     "output_type": "execute_result"
    }
   ],
   "source": [
    "%%sql\n",
    "UPDATE occured_time\n",
    "SET day_of_week_num = CAST(TO_CHAR(occured_date, 'D') AS INTEGER)"
   ]
  },
  {
   "cell_type": "code",
   "execution_count": 29,
   "metadata": {},
   "outputs": [
    {
     "name": "stdout",
     "output_type": "stream",
     "text": [
      "474341 rows affected.\n"
     ]
    },
    {
     "data": {
      "text/plain": [
       "[]"
      ]
     },
     "execution_count": 29,
     "metadata": {},
     "output_type": "execute_result"
    }
   ],
   "source": [
    "%%sql\n",
    "UPDATE occured_time\n",
    "SET year = CAST(TO_CHAR(occured_date, 'YYYY') AS INTEGER)"
   ]
  },
  {
   "cell_type": "code",
   "execution_count": 30,
   "metadata": {},
   "outputs": [
    {
     "name": "stdout",
     "output_type": "stream",
     "text": [
      "474341 rows affected.\n"
     ]
    },
    {
     "data": {
      "text/plain": [
       "[]"
      ]
     },
     "execution_count": 30,
     "metadata": {},
     "output_type": "execute_result"
    }
   ],
   "source": [
    "%%sql\n",
    "UPDATE occured_time\n",
    "SET month = CAST(TO_CHAR(occured_date, 'MM') AS INTEGER)"
   ]
  },
  {
   "cell_type": "code",
   "execution_count": 31,
   "metadata": {},
   "outputs": [
    {
     "name": "stdout",
     "output_type": "stream",
     "text": [
      "474341 rows affected.\n"
     ]
    },
    {
     "data": {
      "text/plain": [
       "[]"
      ]
     },
     "execution_count": 31,
     "metadata": {},
     "output_type": "execute_result"
    }
   ],
   "source": [
    "%%sql\n",
    "UPDATE occured_time\n",
    "SET day = CAST(TO_CHAR(occured_date, 'DD') AS INTEGER)"
   ]
  },
  {
   "cell_type": "markdown",
   "metadata": {},
   "source": [
    "Verifying that the time formatting is correct."
   ]
  },
  {
   "cell_type": "code",
   "execution_count": 26,
   "metadata": {},
   "outputs": [
    {
     "name": "stdout",
     "output_type": "stream",
     "text": [
      "5 rows affected.\n"
     ]
    },
    {
     "data": {
      "text/html": [
       "<table>\n",
       "    <tr>\n",
       "        <th>occured_time_key</th>\n",
       "        <th>occured_date</th>\n",
       "        <th>occured_time</th>\n",
       "        <th>occured_hour</th>\n",
       "        <th>occured_minute</th>\n",
       "        <th>day_of_week</th>\n",
       "        <th>day_of_week_num</th>\n",
       "        <th>year</th>\n",
       "        <th>month</th>\n",
       "        <th>day</th>\n",
       "    </tr>\n",
       "    <tr>\n",
       "        <td>1</td>\n",
       "        <td>2012-07-30</td>\n",
       "        <td>355</td>\n",
       "        <td>3</td>\n",
       "        <td>55</td>\n",
       "        <td>Monday   </td>\n",
       "        <td>2</td>\n",
       "        <td>2012</td>\n",
       "        <td>7</td>\n",
       "        <td>30</td>\n",
       "    </tr>\n",
       "    <tr>\n",
       "        <td>2</td>\n",
       "        <td>2014-11-11</td>\n",
       "        <td>2355</td>\n",
       "        <td>23</td>\n",
       "        <td>55</td>\n",
       "        <td>Tuesday  </td>\n",
       "        <td>3</td>\n",
       "        <td>2014</td>\n",
       "        <td>11</td>\n",
       "        <td>11</td>\n",
       "    </tr>\n",
       "    <tr>\n",
       "        <td>3</td>\n",
       "        <td>2012-02-01</td>\n",
       "        <td>1620</td>\n",
       "        <td>16</td>\n",
       "        <td>20</td>\n",
       "        <td>Wednesday</td>\n",
       "        <td>4</td>\n",
       "        <td>2012</td>\n",
       "        <td>2</td>\n",
       "        <td>1</td>\n",
       "    </tr>\n",
       "    <tr>\n",
       "        <td>4</td>\n",
       "        <td>2014-09-08</td>\n",
       "        <td>1400</td>\n",
       "        <td>14</td>\n",
       "        <td>0</td>\n",
       "        <td>Monday   </td>\n",
       "        <td>2</td>\n",
       "        <td>2014</td>\n",
       "        <td>9</td>\n",
       "        <td>8</td>\n",
       "    </tr>\n",
       "    <tr>\n",
       "        <td>5</td>\n",
       "        <td>2012-07-19</td>\n",
       "        <td>1130</td>\n",
       "        <td>11</td>\n",
       "        <td>30</td>\n",
       "        <td>Thursday </td>\n",
       "        <td>5</td>\n",
       "        <td>2012</td>\n",
       "        <td>7</td>\n",
       "        <td>19</td>\n",
       "    </tr>\n",
       "</table>"
      ],
      "text/plain": [
       "[(1, datetime.date(2012, 7, 30), 355, 3, 55, 'Monday   ', 2, 2012, 7, 30),\n",
       " (2, datetime.date(2014, 11, 11), 2355, 23, 55, 'Tuesday  ', 3, 2014, 11, 11),\n",
       " (3, datetime.date(2012, 2, 1), 1620, 16, 20, 'Wednesday', 4, 2012, 2, 1),\n",
       " (4, datetime.date(2014, 9, 8), 1400, 14, 0, 'Monday   ', 2, 2014, 9, 8),\n",
       " (5, datetime.date(2012, 7, 19), 1130, 11, 30, 'Thursday ', 5, 2012, 7, 19)]"
      ]
     },
     "execution_count": 26,
     "metadata": {},
     "output_type": "execute_result"
    }
   ],
   "source": [
    "%%sql\n",
    "SELECT *\n",
    "FROM occured_time\n",
    "LIMIT 5"
   ]
  },
  {
   "cell_type": "markdown",
   "metadata": {},
   "source": [
    "### Create area table"
   ]
  },
  {
   "cell_type": "markdown",
   "metadata": {},
   "source": [
    "We create the area dimension table that records information about the neighbourhoods."
   ]
  },
  {
   "cell_type": "code",
   "execution_count": 32,
   "metadata": {},
   "outputs": [
    {
     "name": "stdout",
     "output_type": "stream",
     "text": [
      "Done.\n",
      "Done.\n"
     ]
    },
    {
     "data": {
      "text/plain": [
       "[]"
      ]
     },
     "execution_count": 32,
     "metadata": {},
     "output_type": "execute_result"
    }
   ],
   "source": [
    "%%sql\n",
    "DROP TABLE IF EXISTS area;\n",
    "\n",
    "CREATE TABLE area(\n",
    "    area_key SERIAL PRIMARY KEY,\n",
    "    area_name VARCHAR(15),\n",
    "    premise_description VARCHAR(60))"
   ]
  },
  {
   "cell_type": "markdown",
   "metadata": {},
   "source": [
    "Inserting the neighbourhood data into the table."
   ]
  },
  {
   "cell_type": "code",
   "execution_count": 33,
   "metadata": {},
   "outputs": [
    {
     "name": "stdout",
     "output_type": "stream",
     "text": [
      "3436 rows affected.\n"
     ]
    },
    {
     "data": {
      "text/plain": [
       "[]"
      ]
     },
     "execution_count": 33,
     "metadata": {},
     "output_type": "execute_result"
    }
   ],
   "source": [
    "%%sql\n",
    "INSERT INTO area (area_name, premise_description)\n",
    "SELECT DISTINCT area_name, premise_description\n",
    "FROM crime_facts"
   ]
  },
  {
   "cell_type": "markdown",
   "metadata": {},
   "source": [
    "Now we verify that the data was input successfully."
   ]
  },
  {
   "cell_type": "code",
   "execution_count": 34,
   "metadata": {},
   "outputs": [
    {
     "name": "stdout",
     "output_type": "stream",
     "text": [
      "5 rows affected.\n"
     ]
    },
    {
     "data": {
      "text/html": [
       "<table>\n",
       "    <tr>\n",
       "        <th>area_key</th>\n",
       "        <th>area_name</th>\n",
       "        <th>premise_description</th>\n",
       "    </tr>\n",
       "    <tr>\n",
       "        <td>1</td>\n",
       "        <td>Harbor</td>\n",
       "        <td>HOSPITAL</td>\n",
       "    </tr>\n",
       "    <tr>\n",
       "        <td>2</td>\n",
       "        <td>West Valley</td>\n",
       "        <td>FOSTER HOME BOYS OR GIRLS*</td>\n",
       "    </tr>\n",
       "    <tr>\n",
       "        <td>3</td>\n",
       "        <td>Hollywood</td>\n",
       "        <td>NAIL SALON</td>\n",
       "    </tr>\n",
       "    <tr>\n",
       "        <td>4</td>\n",
       "        <td>Southeast</td>\n",
       "        <td>AUTO SUPPLY STORE*</td>\n",
       "    </tr>\n",
       "    <tr>\n",
       "        <td>5</td>\n",
       "        <td>Wilshire</td>\n",
       "        <td>FINANCE COMPANY</td>\n",
       "    </tr>\n",
       "</table>"
      ],
      "text/plain": [
       "[(1, 'Harbor', 'HOSPITAL'),\n",
       " (2, 'West Valley', 'FOSTER HOME BOYS OR GIRLS*'),\n",
       " (3, 'Hollywood', 'NAIL SALON'),\n",
       " (4, 'Southeast', 'AUTO SUPPLY STORE*'),\n",
       " (5, 'Wilshire', 'FINANCE COMPANY')]"
      ]
     },
     "execution_count": 34,
     "metadata": {},
     "output_type": "execute_result"
    }
   ],
   "source": [
    "%%sql\n",
    "SELECT *\n",
    "FROM area\n",
    "LIMIT 5"
   ]
  },
  {
   "cell_type": "markdown",
   "metadata": {},
   "source": [
    "Adding the area key to the crime facts table."
   ]
  },
  {
   "cell_type": "code",
   "execution_count": 35,
   "metadata": {},
   "outputs": [
    {
     "name": "stdout",
     "output_type": "stream",
     "text": [
      "1621438 rows affected.\n"
     ]
    },
    {
     "data": {
      "text/plain": [
       "[]"
      ]
     },
     "execution_count": 35,
     "metadata": {},
     "output_type": "execute_result"
    }
   ],
   "source": [
    "%%sql\n",
    "UPDATE crime_facts\n",
    "SET area_key = area.area_key\n",
    "FROM area\n",
    "WHERE crime_facts.area_name = area.area_name\n",
    "AND crime_facts.premise_description = area.premise_description"
   ]
  },
  {
   "cell_type": "code",
   "execution_count": 36,
   "metadata": {},
   "outputs": [
    {
     "name": "stdout",
     "output_type": "stream",
     "text": [
      "Done.\n"
     ]
    },
    {
     "data": {
      "text/plain": [
       "[]"
      ]
     },
     "execution_count": 36,
     "metadata": {},
     "output_type": "execute_result"
    }
   ],
   "source": [
    "%%sql\n",
    "ALTER TABLE crime_facts\n",
    "ADD CONSTRAINT fk_area\n",
    "    FOREIGN KEY (area_key)\n",
    "    REFERENCES area;"
   ]
  },
  {
   "cell_type": "markdown",
   "metadata": {},
   "source": [
    "### Create crime table"
   ]
  },
  {
   "cell_type": "markdown",
   "metadata": {},
   "source": [
    "Creating a table that consists of all the crime data."
   ]
  },
  {
   "cell_type": "code",
   "execution_count": 37,
   "metadata": {},
   "outputs": [
    {
     "name": "stdout",
     "output_type": "stream",
     "text": [
      "Done.\n",
      "Done.\n"
     ]
    },
    {
     "data": {
      "text/plain": [
       "[]"
      ]
     },
     "execution_count": 37,
     "metadata": {},
     "output_type": "execute_result"
    }
   ],
   "source": [
    "%%sql\n",
    "DROP TABLE IF EXISTS crime;\n",
    "\n",
    "CREATE TABLE crime(\n",
    "    crime_key SERIAL PRIMARY KEY,\n",
    "    crime_description VARCHAR(70),\n",
    "    crime_weapon VARCHAR(50))"
   ]
  },
  {
   "cell_type": "markdown",
   "metadata": {},
   "source": [
    "Inserting all of the crime data into the table and verify the input was successful."
   ]
  },
  {
   "cell_type": "code",
   "execution_count": 38,
   "metadata": {},
   "outputs": [
    {
     "name": "stdout",
     "output_type": "stream",
     "text": [
      "2197 rows affected.\n"
     ]
    },
    {
     "data": {
      "text/plain": [
       "[]"
      ]
     },
     "execution_count": 38,
     "metadata": {},
     "output_type": "execute_result"
    }
   ],
   "source": [
    "%%sql\n",
    "INSERT INTO crime (crime_description, crime_weapon)\n",
    "SELECT DISTINCT crime_description, weapon_description\n",
    "FROM crime_facts"
   ]
  },
  {
   "cell_type": "code",
   "execution_count": 39,
   "metadata": {},
   "outputs": [
    {
     "name": "stdout",
     "output_type": "stream",
     "text": [
      "5 rows affected.\n"
     ]
    },
    {
     "data": {
      "text/html": [
       "<table>\n",
       "    <tr>\n",
       "        <th>crime_key</th>\n",
       "        <th>crime_description</th>\n",
       "        <th>crime_weapon</th>\n",
       "    </tr>\n",
       "    <tr>\n",
       "        <td>1</td>\n",
       "        <td>BATTERY - SIMPLE ASSAULT</td>\n",
       "        <td>UNKNOWN WEAPON/OTHER WEAPON</td>\n",
       "    </tr>\n",
       "    <tr>\n",
       "        <td>2</td>\n",
       "        <td>CRIMINAL HOMICIDE</td>\n",
       "        <td>STRONG-ARM (HANDS, FIST, FEET OR BODILY FORCE)</td>\n",
       "    </tr>\n",
       "    <tr>\n",
       "        <td>3</td>\n",
       "        <td>THEFT-GRAND ($950.01 &amp; OVER)EXCPT,GUNS,FOWL,LIVESTK,PROD0036</td>\n",
       "        <td>FOLDING KNIFE</td>\n",
       "    </tr>\n",
       "    <tr>\n",
       "        <td>4</td>\n",
       "        <td>ATTEMPTED ROBBERY</td>\n",
       "        <td>KNIFE WITH BLADE OVER 6 INCHES IN LENGTH</td>\n",
       "    </tr>\n",
       "    <tr>\n",
       "        <td>5</td>\n",
       "        <td>CRIMINAL HOMICIDE</td>\n",
       "        <td>ROCK/THROWN OBJECT</td>\n",
       "    </tr>\n",
       "</table>"
      ],
      "text/plain": [
       "[(1, 'BATTERY - SIMPLE ASSAULT', 'UNKNOWN WEAPON/OTHER WEAPON'),\n",
       " (2, 'CRIMINAL HOMICIDE', 'STRONG-ARM (HANDS, FIST, FEET OR BODILY FORCE)'),\n",
       " (3, 'THEFT-GRAND ($950.01 & OVER)EXCPT,GUNS,FOWL,LIVESTK,PROD0036', 'FOLDING KNIFE'),\n",
       " (4, 'ATTEMPTED ROBBERY', 'KNIFE WITH BLADE OVER 6 INCHES IN LENGTH'),\n",
       " (5, 'CRIMINAL HOMICIDE', 'ROCK/THROWN OBJECT')]"
      ]
     },
     "execution_count": 39,
     "metadata": {},
     "output_type": "execute_result"
    }
   ],
   "source": [
    "%%sql\n",
    "SELECT *\n",
    "FROM crime\n",
    "LIMIT 5"
   ]
  },
  {
   "cell_type": "markdown",
   "metadata": {},
   "source": [
    "Adding crime_key to the crime facts table."
   ]
  },
  {
   "cell_type": "code",
   "execution_count": 40,
   "metadata": {},
   "outputs": [
    {
     "name": "stdout",
     "output_type": "stream",
     "text": [
      "1621438 rows affected.\n"
     ]
    },
    {
     "data": {
      "text/plain": [
       "[]"
      ]
     },
     "execution_count": 40,
     "metadata": {},
     "output_type": "execute_result"
    }
   ],
   "source": [
    "%%sql\n",
    "UPDATE crime_facts\n",
    "SET crime_key = crime.crime_key\n",
    "FROM crime\n",
    "WHERE crime_facts.crime_description = crime.crime_description\n",
    "AND crime_facts.weapon_description = crime.crime_weapon"
   ]
  },
  {
   "cell_type": "code",
   "execution_count": 41,
   "metadata": {},
   "outputs": [
    {
     "name": "stdout",
     "output_type": "stream",
     "text": [
      "Done.\n"
     ]
    },
    {
     "data": {
      "text/plain": [
       "[]"
      ]
     },
     "execution_count": 41,
     "metadata": {},
     "output_type": "execute_result"
    }
   ],
   "source": [
    "%%sql\n",
    "ALTER TABLE crime_facts\n",
    "ADD CONSTRAINT fk_crime\n",
    "    FOREIGN KEY (crime_key)\n",
    "    REFERENCES crime;"
   ]
  },
  {
   "cell_type": "markdown",
   "metadata": {},
   "source": [
    "Verifying the crime input."
   ]
  },
  {
   "cell_type": "code",
   "execution_count": 42,
   "metadata": {},
   "outputs": [
    {
     "name": "stdout",
     "output_type": "stream",
     "text": [
      "5 rows affected.\n"
     ]
    },
    {
     "data": {
      "text/html": [
       "<table>\n",
       "    <tr>\n",
       "        <th>crime_key</th>\n",
       "        <th>crime_description</th>\n",
       "        <th>crime_weapon</th>\n",
       "    </tr>\n",
       "    <tr>\n",
       "        <td>1</td>\n",
       "        <td>BATTERY - SIMPLE ASSAULT</td>\n",
       "        <td>UNKNOWN WEAPON/OTHER WEAPON</td>\n",
       "    </tr>\n",
       "    <tr>\n",
       "        <td>2</td>\n",
       "        <td>CRIMINAL HOMICIDE</td>\n",
       "        <td>STRONG-ARM (HANDS, FIST, FEET OR BODILY FORCE)</td>\n",
       "    </tr>\n",
       "    <tr>\n",
       "        <td>3</td>\n",
       "        <td>THEFT-GRAND ($950.01 &amp; OVER)EXCPT,GUNS,FOWL,LIVESTK,PROD0036</td>\n",
       "        <td>FOLDING KNIFE</td>\n",
       "    </tr>\n",
       "    <tr>\n",
       "        <td>4</td>\n",
       "        <td>ATTEMPTED ROBBERY</td>\n",
       "        <td>KNIFE WITH BLADE OVER 6 INCHES IN LENGTH</td>\n",
       "    </tr>\n",
       "    <tr>\n",
       "        <td>5</td>\n",
       "        <td>CRIMINAL HOMICIDE</td>\n",
       "        <td>ROCK/THROWN OBJECT</td>\n",
       "    </tr>\n",
       "</table>"
      ],
      "text/plain": [
       "[(1, 'BATTERY - SIMPLE ASSAULT', 'UNKNOWN WEAPON/OTHER WEAPON'),\n",
       " (2, 'CRIMINAL HOMICIDE', 'STRONG-ARM (HANDS, FIST, FEET OR BODILY FORCE)'),\n",
       " (3, 'THEFT-GRAND ($950.01 & OVER)EXCPT,GUNS,FOWL,LIVESTK,PROD0036', 'FOLDING KNIFE'),\n",
       " (4, 'ATTEMPTED ROBBERY', 'KNIFE WITH BLADE OVER 6 INCHES IN LENGTH'),\n",
       " (5, 'CRIMINAL HOMICIDE', 'ROCK/THROWN OBJECT')]"
      ]
     },
     "execution_count": 42,
     "metadata": {},
     "output_type": "execute_result"
    }
   ],
   "source": [
    "%%sql\n",
    "SELECT *\n",
    "FROM crime\n",
    "LIMIT 5"
   ]
  },
  {
   "cell_type": "markdown",
   "metadata": {},
   "source": [
    "### Create victim table"
   ]
  },
  {
   "cell_type": "markdown",
   "metadata": {},
   "source": [
    "Creating a victim dimension table containing all of the victim table."
   ]
  },
  {
   "cell_type": "code",
   "execution_count": 43,
   "metadata": {},
   "outputs": [
    {
     "name": "stdout",
     "output_type": "stream",
     "text": [
      "Done.\n",
      "Done.\n"
     ]
    },
    {
     "data": {
      "text/plain": [
       "[]"
      ]
     },
     "execution_count": 43,
     "metadata": {},
     "output_type": "execute_result"
    }
   ],
   "source": [
    "%%sql\n",
    "DROP TABLE IF EXISTS victim;\n",
    "\n",
    "CREATE TABLE victim(\n",
    "    victim_key SERIAL PRIMARY KEY,\n",
    "    victim_age INTEGER,\n",
    "    victim_sex VARCHAR(2),\n",
    "    victim_descent VARCHAR(5))"
   ]
  },
  {
   "cell_type": "code",
   "execution_count": 44,
   "metadata": {},
   "outputs": [
    {
     "name": "stdout",
     "output_type": "stream",
     "text": [
      "2350 rows affected.\n"
     ]
    },
    {
     "data": {
      "text/plain": [
       "[]"
      ]
     },
     "execution_count": 44,
     "metadata": {},
     "output_type": "execute_result"
    }
   ],
   "source": [
    "%%sql\n",
    "INSERT INTO victim (victim_age, victim_sex, victim_descent)\n",
    "SELECT DISTINCT victim_age, victim_sex, victim_descent\n",
    "FROM crime_facts"
   ]
  },
  {
   "cell_type": "markdown",
   "metadata": {},
   "source": [
    "Verifying that all of the victim data was input correctly."
   ]
  },
  {
   "cell_type": "code",
   "execution_count": 45,
   "metadata": {},
   "outputs": [
    {
     "name": "stdout",
     "output_type": "stream",
     "text": [
      "5 rows affected.\n"
     ]
    },
    {
     "data": {
      "text/html": [
       "<table>\n",
       "    <tr>\n",
       "        <th>victim_key</th>\n",
       "        <th>victim_age</th>\n",
       "        <th>victim_sex</th>\n",
       "        <th>victim_descent</th>\n",
       "    </tr>\n",
       "    <tr>\n",
       "        <td>1</td>\n",
       "        <td>None</td>\n",
       "        <td>None</td>\n",
       "        <td>None</td>\n",
       "    </tr>\n",
       "    <tr>\n",
       "        <td>2</td>\n",
       "        <td>68</td>\n",
       "        <td>F</td>\n",
       "        <td>A</td>\n",
       "    </tr>\n",
       "    <tr>\n",
       "        <td>3</td>\n",
       "        <td>14</td>\n",
       "        <td>M</td>\n",
       "        <td>K</td>\n",
       "    </tr>\n",
       "    <tr>\n",
       "        <td>4</td>\n",
       "        <td>15</td>\n",
       "        <td>M</td>\n",
       "        <td>I</td>\n",
       "    </tr>\n",
       "    <tr>\n",
       "        <td>5</td>\n",
       "        <td>54</td>\n",
       "        <td>F</td>\n",
       "        <td>I</td>\n",
       "    </tr>\n",
       "</table>"
      ],
      "text/plain": [
       "[(1, None, None, None),\n",
       " (2, 68, 'F', 'A'),\n",
       " (3, 14, 'M', 'K'),\n",
       " (4, 15, 'M', 'I'),\n",
       " (5, 54, 'F', 'I')]"
      ]
     },
     "execution_count": 45,
     "metadata": {},
     "output_type": "execute_result"
    }
   ],
   "source": [
    "%%sql\n",
    "SELECT *\n",
    "FROM victim\n",
    "LIMIT 5"
   ]
  },
  {
   "cell_type": "markdown",
   "metadata": {},
   "source": [
    "Adding victim_key to the crime facts table."
   ]
  },
  {
   "cell_type": "code",
   "execution_count": 46,
   "metadata": {},
   "outputs": [
    {
     "name": "stdout",
     "output_type": "stream",
     "text": [
      "Done.\n"
     ]
    },
    {
     "data": {
      "text/plain": [
       "[]"
      ]
     },
     "execution_count": 46,
     "metadata": {},
     "output_type": "execute_result"
    }
   ],
   "source": [
    "%%sql\n",
    "ALTER TABLE crime_facts\n",
    "ADD COLUMN victim_key INTEGER,\n",
    "ADD CONSTRAINT fk_victim\n",
    "    FOREIGN KEY (victim_key)\n",
    "    REFERENCES victim;"
   ]
  },
  {
   "cell_type": "code",
   "execution_count": null,
   "metadata": {
    "collapsed": true
   },
   "outputs": [],
   "source": [
    "%%sql\n",
    "UPDATE crime_facts\n",
    "SET victim_key = victim.victim_key\n",
    "FROM victim\n",
    "WHERE (crime_facts.victim_age = victim.victim_age OR (crime_facts.victim_age IS NULL AND victim.victim_age IS NULL))\n",
    "AND (crime_facts.victim_sex = victim.victim_sex OR (crime_facts.victim_sex IS NULL AND victim.victim_sex IS NULL))\n",
    "AND (crime_facts.victim_descent = victim.victim_descent OR (crime_facts.victim_descent IS NULL AND victim.victim_descent IS NULL))"
   ]
  },
  {
   "cell_type": "markdown",
   "metadata": {},
   "source": [
    "Adding a new column 'age_range' to put ages into buckets of 10."
   ]
  },
  {
   "cell_type": "code",
   "execution_count": null,
   "metadata": {
    "collapsed": true
   },
   "outputs": [],
   "source": [
    "%%sql\n",
    "ALTER TABLE victim\n",
    "ADD age_range VARCHAR(10)"
   ]
  },
  {
   "cell_type": "code",
   "execution_count": 44,
   "metadata": {},
   "outputs": [
    {
     "name": "stdout",
     "output_type": "stream",
     "text": [
      "262 rows affected.\n"
     ]
    },
    {
     "data": {
      "text/plain": [
       "[]"
      ]
     },
     "execution_count": 44,
     "metadata": {},
     "output_type": "execute_result"
    }
   ],
   "source": [
    "%%sql\n",
    "UPDATE victim\n",
    "SET age_range = '10-19'\n",
    "WHERE victim_age<20"
   ]
  },
  {
   "cell_type": "code",
   "execution_count": 45,
   "metadata": {},
   "outputs": [
    {
     "name": "stdout",
     "output_type": "stream",
     "text": [
      "338 rows affected.\n"
     ]
    },
    {
     "data": {
      "text/plain": [
       "[]"
      ]
     },
     "execution_count": 45,
     "metadata": {},
     "output_type": "execute_result"
    }
   ],
   "source": [
    "%%sql\n",
    "UPDATE victim\n",
    "SET age_range = '20-29'\n",
    "WHERE victim_age<30\n",
    "AND victim_age>=20"
   ]
  },
  {
   "cell_type": "code",
   "execution_count": 46,
   "metadata": {},
   "outputs": [
    {
     "name": "stdout",
     "output_type": "stream",
     "text": [
      "319 rows affected.\n"
     ]
    },
    {
     "data": {
      "text/plain": [
       "[]"
      ]
     },
     "execution_count": 46,
     "metadata": {},
     "output_type": "execute_result"
    }
   ],
   "source": [
    "%%sql\n",
    "UPDATE victim\n",
    "SET age_range = '30-39'\n",
    "WHERE victim_age<40\n",
    "AND victim_age>=30"
   ]
  },
  {
   "cell_type": "code",
   "execution_count": 47,
   "metadata": {},
   "outputs": [
    {
     "name": "stdout",
     "output_type": "stream",
     "text": [
      "311 rows affected.\n"
     ]
    },
    {
     "data": {
      "text/plain": [
       "[]"
      ]
     },
     "execution_count": 47,
     "metadata": {},
     "output_type": "execute_result"
    }
   ],
   "source": [
    "%%sql\n",
    "UPDATE victim\n",
    "SET age_range = '40-49'\n",
    "WHERE victim_age<50\n",
    "AND victim_age>=40"
   ]
  },
  {
   "cell_type": "code",
   "execution_count": 48,
   "metadata": {},
   "outputs": [
    {
     "name": "stdout",
     "output_type": "stream",
     "text": [
      "304 rows affected.\n"
     ]
    },
    {
     "data": {
      "text/plain": [
       "[]"
      ]
     },
     "execution_count": 48,
     "metadata": {},
     "output_type": "execute_result"
    }
   ],
   "source": [
    "%%sql\n",
    "UPDATE victim\n",
    "SET age_range = '50-59'\n",
    "WHERE victim_age<60\n",
    "AND victim_age>=50"
   ]
  },
  {
   "cell_type": "code",
   "execution_count": 49,
   "metadata": {},
   "outputs": [
    {
     "name": "stdout",
     "output_type": "stream",
     "text": [
      "255 rows affected.\n"
     ]
    },
    {
     "data": {
      "text/plain": [
       "[]"
      ]
     },
     "execution_count": 49,
     "metadata": {},
     "output_type": "execute_result"
    }
   ],
   "source": [
    "%%sql\n",
    "UPDATE victim\n",
    "SET age_range = '60-69'\n",
    "WHERE victim_age<70\n",
    "AND victim_age>=60"
   ]
  },
  {
   "cell_type": "code",
   "execution_count": 50,
   "metadata": {},
   "outputs": [
    {
     "name": "stdout",
     "output_type": "stream",
     "text": [
      "204 rows affected.\n"
     ]
    },
    {
     "data": {
      "text/plain": [
       "[]"
      ]
     },
     "execution_count": 50,
     "metadata": {},
     "output_type": "execute_result"
    }
   ],
   "source": [
    "%%sql\n",
    "UPDATE victim\n",
    "SET age_range = '70-79'\n",
    "WHERE victim_age<80\n",
    "AND victim_age>=70"
   ]
  },
  {
   "cell_type": "code",
   "execution_count": 51,
   "metadata": {},
   "outputs": [
    {
     "name": "stdout",
     "output_type": "stream",
     "text": [
      "291 rows affected.\n"
     ]
    },
    {
     "data": {
      "text/plain": [
       "[]"
      ]
     },
     "execution_count": 51,
     "metadata": {},
     "output_type": "execute_result"
    }
   ],
   "source": [
    "%%sql\n",
    "UPDATE victim\n",
    "SET age_range = 'Over 80'\n",
    "WHERE victim_age>80"
   ]
  },
  {
   "cell_type": "markdown",
   "metadata": {},
   "source": [
    "Verifying the buckets were input."
   ]
  },
  {
   "cell_type": "code",
   "execution_count": 52,
   "metadata": {},
   "outputs": [
    {
     "name": "stdout",
     "output_type": "stream",
     "text": [
      "5 rows affected.\n"
     ]
    },
    {
     "data": {
      "text/html": [
       "<table>\n",
       "    <tr>\n",
       "        <th>victim_key</th>\n",
       "        <th>victim_age</th>\n",
       "        <th>victim_sex</th>\n",
       "        <th>victim_descent</th>\n",
       "        <th>age_range</th>\n",
       "    </tr>\n",
       "    <tr>\n",
       "        <td>1</td>\n",
       "        <td>10</td>\n",
       "        <td>F</td>\n",
       "        <td>A</td>\n",
       "        <td>10-19</td>\n",
       "    </tr>\n",
       "    <tr>\n",
       "        <td>2</td>\n",
       "        <td>10</td>\n",
       "        <td>F</td>\n",
       "        <td>B</td>\n",
       "        <td>10-19</td>\n",
       "    </tr>\n",
       "    <tr>\n",
       "        <td>3</td>\n",
       "        <td>10</td>\n",
       "        <td>F</td>\n",
       "        <td>F</td>\n",
       "        <td>10-19</td>\n",
       "    </tr>\n",
       "    <tr>\n",
       "        <td>4</td>\n",
       "        <td>10</td>\n",
       "        <td>F</td>\n",
       "        <td>H</td>\n",
       "        <td>10-19</td>\n",
       "    </tr>\n",
       "    <tr>\n",
       "        <td>5</td>\n",
       "        <td>10</td>\n",
       "        <td>F</td>\n",
       "        <td>K</td>\n",
       "        <td>10-19</td>\n",
       "    </tr>\n",
       "</table>"
      ],
      "text/plain": [
       "[(1, 10, 'F', 'A', '10-19'),\n",
       " (2, 10, 'F', 'B', '10-19'),\n",
       " (3, 10, 'F', 'F', '10-19'),\n",
       " (4, 10, 'F', 'H', '10-19'),\n",
       " (5, 10, 'F', 'K', '10-19')]"
      ]
     },
     "execution_count": 52,
     "metadata": {},
     "output_type": "execute_result"
    }
   ],
   "source": [
    "%%sql\n",
    "SELECT *\n",
    "FROM victim\n",
    "ORDER BY victim_key\n",
    "LIMIT 5"
   ]
  },
  {
   "cell_type": "markdown",
   "metadata": {},
   "source": [
    "### Create status table"
   ]
  },
  {
   "cell_type": "markdown",
   "metadata": {},
   "source": [
    "Creating a table containing crime status information."
   ]
  },
  {
   "cell_type": "code",
   "execution_count": 53,
   "metadata": {},
   "outputs": [
    {
     "name": "stdout",
     "output_type": "stream",
     "text": [
      "Done.\n",
      "Done.\n"
     ]
    },
    {
     "data": {
      "text/plain": [
       "[]"
      ]
     },
     "execution_count": 53,
     "metadata": {},
     "output_type": "execute_result"
    }
   ],
   "source": [
    "%%sql\n",
    "DROP TABLE IF EXISTS status;\n",
    "\n",
    "CREATE TABLE status(\n",
    "    status_key SERIAL PRIMARY KEY,\n",
    "    status_description VARCHAR(50))"
   ]
  },
  {
   "cell_type": "markdown",
   "metadata": {},
   "source": [
    "Inputting status information into the table."
   ]
  },
  {
   "cell_type": "code",
   "execution_count": null,
   "metadata": {
    "collapsed": true
   },
   "outputs": [],
   "source": [
    "%%sql\n",
    "INSERT INTO status (status_description)\n",
    "SELECT DISTINCT status_description\n",
    "FROM crime_facts"
   ]
  },
  {
   "cell_type": "markdown",
   "metadata": {},
   "source": [
    "Adding new key column 'status_key'."
   ]
  },
  {
   "cell_type": "code",
   "execution_count": 55,
   "metadata": {},
   "outputs": [
    {
     "name": "stdout",
     "output_type": "stream",
     "text": [
      "Done.\n"
     ]
    },
    {
     "data": {
      "text/plain": [
       "[]"
      ]
     },
     "execution_count": 55,
     "metadata": {},
     "output_type": "execute_result"
    }
   ],
   "source": [
    "%%sql\n",
    "ALTER TABLE crime_facts\n",
    "DROP COLUMN status_key,\n",
    "ADD COLUMN status_key INTEGER"
   ]
  },
  {
   "cell_type": "markdown",
   "metadata": {},
   "source": [
    "Verifying status input."
   ]
  },
  {
   "cell_type": "code",
   "execution_count": 56,
   "metadata": {},
   "outputs": [
    {
     "name": "stdout",
     "output_type": "stream",
     "text": [
      "6 rows affected.\n"
     ]
    },
    {
     "data": {
      "text/html": [
       "<table>\n",
       "    <tr>\n",
       "        <th>status_key</th>\n",
       "        <th>status_description</th>\n",
       "    </tr>\n",
       "    <tr>\n",
       "        <td>1</td>\n",
       "        <td>Invest Cont</td>\n",
       "    </tr>\n",
       "    <tr>\n",
       "        <td>2</td>\n",
       "        <td>Juv Other</td>\n",
       "    </tr>\n",
       "    <tr>\n",
       "        <td>3</td>\n",
       "        <td>UNK</td>\n",
       "    </tr>\n",
       "    <tr>\n",
       "        <td>4</td>\n",
       "        <td>Juv Arrest</td>\n",
       "    </tr>\n",
       "    <tr>\n",
       "        <td>5</td>\n",
       "        <td>Adult Arrest</td>\n",
       "    </tr>\n",
       "    <tr>\n",
       "        <td>6</td>\n",
       "        <td>Adult Other</td>\n",
       "    </tr>\n",
       "</table>"
      ],
      "text/plain": [
       "[(1, 'Invest Cont'),\n",
       " (2, 'Juv Other'),\n",
       " (3, 'UNK'),\n",
       " (4, 'Juv Arrest'),\n",
       " (5, 'Adult Arrest'),\n",
       " (6, 'Adult Other')]"
      ]
     },
     "execution_count": 56,
     "metadata": {},
     "output_type": "execute_result"
    }
   ],
   "source": [
    "%%sql\n",
    "SELECT *\n",
    "FROM status"
   ]
  },
  {
   "cell_type": "code",
   "execution_count": 57,
   "metadata": {},
   "outputs": [
    {
     "name": "stdout",
     "output_type": "stream",
     "text": [
      "1621438 rows affected.\n"
     ]
    },
    {
     "data": {
      "text/plain": [
       "[]"
      ]
     },
     "execution_count": 57,
     "metadata": {},
     "output_type": "execute_result"
    }
   ],
   "source": [
    "%%sql\n",
    "UPDATE crime_facts\n",
    "SET status_key = status.status_key\n",
    "FROM status\n",
    "WHERE crime_facts.status_description = status.status_description"
   ]
  },
  {
   "cell_type": "markdown",
   "metadata": {},
   "source": [
    "### Drop columns in fact table"
   ]
  },
  {
   "cell_type": "code",
   "execution_count": 58,
   "metadata": {},
   "outputs": [
    {
     "name": "stdout",
     "output_type": "stream",
     "text": [
      "5 rows affected.\n"
     ]
    },
    {
     "data": {
      "text/html": [
       "<table>\n",
       "    <tr>\n",
       "        <th>dr_number</th>\n",
       "        <th>date_reported</th>\n",
       "        <th>date_occured</th>\n",
       "        <th>time_occured</th>\n",
       "        <th>area_key</th>\n",
       "        <th>area_name</th>\n",
       "        <th>report_district</th>\n",
       "        <th>crime_key</th>\n",
       "        <th>crime_description</th>\n",
       "        <th>mo_code</th>\n",
       "        <th>victim_age</th>\n",
       "        <th>victim_sex</th>\n",
       "        <th>victim_descent</th>\n",
       "        <th>premise_key</th>\n",
       "        <th>premise_description</th>\n",
       "        <th>weapon_key</th>\n",
       "        <th>weapon_description</th>\n",
       "        <th>status_description</th>\n",
       "        <th>address</th>\n",
       "        <th>cross_street</th>\n",
       "        <th>location</th>\n",
       "        <th>occured_time_key</th>\n",
       "        <th>victim_key</th>\n",
       "        <th>status_key</th>\n",
       "    </tr>\n",
       "    <tr>\n",
       "        <td>130100507</td>\n",
       "        <td>2013-01-02</td>\n",
       "        <td>2013-01-02</td>\n",
       "        <td>1420</td>\n",
       "        <td>295</td>\n",
       "        <td>Central</td>\n",
       "        <td>0174</td>\n",
       "        <td>298</td>\n",
       "        <td>BATTERY - SIMPLE ASSAULT</td>\n",
       "        <td>0416 0400 0429</td>\n",
       "        <td>23</td>\n",
       "        <td>M</td>\n",
       "        <td>H</td>\n",
       "        <td>102</td>\n",
       "        <td>SIDEWALK</td>\n",
       "        <td>400</td>\n",
       "        <td>STRONG-ARM (HANDS, FIST, FEET OR BODILY FORCE)</td>\n",
       "        <td>Invest Cont</td>\n",
       "        <td>800 S  SPRING                       ST</td>\n",
       "        <td>None</td>\n",
       "        <td>(34.0431, -118.2536)</td>\n",
       "        <td>42647</td>\n",
       "        <td>380</td>\n",
       "        <td>1</td>\n",
       "    </tr>\n",
       "    <tr>\n",
       "        <td>130100508</td>\n",
       "        <td>2013-01-02</td>\n",
       "        <td>2013-01-02</td>\n",
       "        <td>1430</td>\n",
       "        <td>305</td>\n",
       "        <td>Central</td>\n",
       "        <td>0134</td>\n",
       "        <td>1178</td>\n",
       "        <td>INTIMATE PARTNER - SIMPLE ASSAULT</td>\n",
       "        <td>2004 1218 1813 1814 2002 0444 2000</td>\n",
       "        <td>39</td>\n",
       "        <td>F</td>\n",
       "        <td>H</td>\n",
       "        <td>101</td>\n",
       "        <td>STREET</td>\n",
       "        <td>400</td>\n",
       "        <td>STRONG-ARM (HANDS, FIST, FEET OR BODILY FORCE)</td>\n",
       "        <td>Invest Cont</td>\n",
       "        <td>4TH</td>\n",
       "        <td>HILL</td>\n",
       "        <td>(34.0503, -118.2504)</td>\n",
       "        <td>152508</td>\n",
       "        <td>892</td>\n",
       "        <td>1</td>\n",
       "    </tr>\n",
       "    <tr>\n",
       "        <td>130100509</td>\n",
       "        <td>2013-01-02</td>\n",
       "        <td>2013-01-02</td>\n",
       "        <td>1500</td>\n",
       "        <td>268</td>\n",
       "        <td>Central</td>\n",
       "        <td>0185</td>\n",
       "        <td>298</td>\n",
       "        <td>BATTERY - SIMPLE ASSAULT</td>\n",
       "        <td>0917 0419 0429 0417</td>\n",
       "        <td>18</td>\n",
       "        <td>F</td>\n",
       "        <td>H</td>\n",
       "        <td>406</td>\n",
       "        <td>OTHER STORE</td>\n",
       "        <td>400</td>\n",
       "        <td>STRONG-ARM (HANDS, FIST, FEET OR BODILY FORCE)</td>\n",
       "        <td>Juv Arrest</td>\n",
       "        <td>300 E  PICO                         BL</td>\n",
       "        <td>None</td>\n",
       "        <td>(34.0352, -118.2583)</td>\n",
       "        <td>73010</td>\n",
       "        <td>210</td>\n",
       "        <td>4</td>\n",
       "    </tr>\n",
       "    <tr>\n",
       "        <td>130100518</td>\n",
       "        <td>2013-01-05</td>\n",
       "        <td>2013-01-05</td>\n",
       "        <td>100</td>\n",
       "        <td>256</td>\n",
       "        <td>Central</td>\n",
       "        <td>0171</td>\n",
       "        <td>1178</td>\n",
       "        <td>INTIMATE PARTNER - SIMPLE ASSAULT</td>\n",
       "        <td>2000 0416</td>\n",
       "        <td>34</td>\n",
       "        <td>F</td>\n",
       "        <td>H</td>\n",
       "        <td>735</td>\n",
       "        <td>NIGHT CLUB (OPEN EVENINGS ONLY)</td>\n",
       "        <td>400</td>\n",
       "        <td>STRONG-ARM (HANDS, FIST, FEET OR BODILY FORCE)</td>\n",
       "        <td>Invest Cont</td>\n",
       "        <td>800 W  OLYMPIC                      BL</td>\n",
       "        <td>None</td>\n",
       "        <td>(34.045, -118.264)</td>\n",
       "        <td>201976</td>\n",
       "        <td>727</td>\n",
       "        <td>1</td>\n",
       "    </tr>\n",
       "    <tr>\n",
       "        <td>130100521</td>\n",
       "        <td>2013-01-05</td>\n",
       "        <td>2013-01-05</td>\n",
       "        <td>1600</td>\n",
       "        <td>295</td>\n",
       "        <td>Central</td>\n",
       "        <td>0156</td>\n",
       "        <td>1178</td>\n",
       "        <td>INTIMATE PARTNER - SIMPLE ASSAULT</td>\n",
       "        <td>0305 0400 0429 2000</td>\n",
       "        <td>50</td>\n",
       "        <td>F</td>\n",
       "        <td>B</td>\n",
       "        <td>102</td>\n",
       "        <td>SIDEWALK</td>\n",
       "        <td>400</td>\n",
       "        <td>STRONG-ARM (HANDS, FIST, FEET OR BODILY FORCE)</td>\n",
       "        <td>Adult Other</td>\n",
       "        <td>6TH                          ST</td>\n",
       "        <td>SAN JULIAN                   ST</td>\n",
       "        <td>(34.0423, -118.2452)</td>\n",
       "        <td>41927</td>\n",
       "        <td>1232</td>\n",
       "        <td>6</td>\n",
       "    </tr>\n",
       "</table>"
      ],
      "text/plain": [
       "[('130100507', datetime.date(2013, 1, 2), datetime.date(2013, 1, 2), 1420, 295, 'Central', '0174', 298, 'BATTERY - SIMPLE ASSAULT', '0416 0400 0429', 23, 'M', 'H', 102, 'SIDEWALK', 400, 'STRONG-ARM (HANDS, FIST, FEET OR BODILY FORCE)', 'Invest Cont', '800 S  SPRING                       ST', None, '(34.0431, -118.2536)', 42647, 380, 1),\n",
       " ('130100508', datetime.date(2013, 1, 2), datetime.date(2013, 1, 2), 1430, 305, 'Central', '0134', 1178, 'INTIMATE PARTNER - SIMPLE ASSAULT', '2004 1218 1813 1814 2002 0444 2000', 39, 'F', 'H', 101, 'STREET', 400, 'STRONG-ARM (HANDS, FIST, FEET OR BODILY FORCE)', 'Invest Cont', '4TH', 'HILL', '(34.0503, -118.2504)', 152508, 892, 1),\n",
       " ('130100509', datetime.date(2013, 1, 2), datetime.date(2013, 1, 2), 1500, 268, 'Central', '0185', 298, 'BATTERY - SIMPLE ASSAULT', '0917 0419 0429 0417', 18, 'F', 'H', 406, 'OTHER STORE', 400, 'STRONG-ARM (HANDS, FIST, FEET OR BODILY FORCE)', 'Juv Arrest', '300 E  PICO                         BL', None, '(34.0352, -118.2583)', 73010, 210, 4),\n",
       " ('130100518', datetime.date(2013, 1, 5), datetime.date(2013, 1, 5), 100, 256, 'Central', '0171', 1178, 'INTIMATE PARTNER - SIMPLE ASSAULT', '2000 0416', 34, 'F', 'H', 735, 'NIGHT CLUB (OPEN EVENINGS ONLY)', 400, 'STRONG-ARM (HANDS, FIST, FEET OR BODILY FORCE)', 'Invest Cont', '800 W  OLYMPIC                      BL', None, '(34.045, -118.264)', 201976, 727, 1),\n",
       " ('130100521', datetime.date(2013, 1, 5), datetime.date(2013, 1, 5), 1600, 295, 'Central', '0156', 1178, 'INTIMATE PARTNER - SIMPLE ASSAULT', '0305 0400 0429 2000', 50, 'F', 'B', 102, 'SIDEWALK', 400, 'STRONG-ARM (HANDS, FIST, FEET OR BODILY FORCE)', 'Adult Other', '6TH                          ST', 'SAN JULIAN                   ST', '(34.0423, -118.2452)', 41927, 1232, 6)]"
      ]
     },
     "execution_count": 58,
     "metadata": {},
     "output_type": "execute_result"
    }
   ],
   "source": [
    "%%sql\n",
    "SELECT *\n",
    "FROM crime_facts\n",
    "LIMIT 5"
   ]
  },
  {
   "cell_type": "code",
   "execution_count": 59,
   "metadata": {},
   "outputs": [
    {
     "name": "stdout",
     "output_type": "stream",
     "text": [
      "Done.\n"
     ]
    },
    {
     "data": {
      "text/plain": [
       "[]"
      ]
     },
     "execution_count": 59,
     "metadata": {},
     "output_type": "execute_result"
    }
   ],
   "source": [
    "%%sql\n",
    "ALTER TABLE crime_facts\n",
    "DROP COLUMN dr_number,\n",
    "DROP COLUMN date_reported,\n",
    "DROP COLUMN date_occured,\n",
    "DROP COLUMN time_occured,\n",
    "DROP COLUMN area_name,\n",
    "DROP COLUMN report_district,\n",
    "DROP COLUMN crime_description,\n",
    "DROP COLUMN mo_code,\n",
    "DROP COLUMN victim_age,\n",
    "DROP COLUMN victim_sex,\n",
    "DROP COLUMN victim_descent,\n",
    "DROP COLUMN premise_key,\n",
    "DROP COLUMN premise_description,\n",
    "DROP COLUMN weapon_key,\n",
    "DROP COLUMN weapon_description,\n",
    "DROP COLUMN status_description,\n",
    "DROP COLUMN address,\n",
    "DROP COLUMN cross_street,\n",
    "DROP COLUMN location;"
   ]
  },
  {
   "cell_type": "code",
   "execution_count": 60,
   "metadata": {},
   "outputs": [
    {
     "name": "stdout",
     "output_type": "stream",
     "text": [
      "5 rows affected.\n"
     ]
    },
    {
     "data": {
      "text/html": [
       "<table>\n",
       "    <tr>\n",
       "        <th>area_key</th>\n",
       "        <th>crime_key</th>\n",
       "        <th>occured_time_key</th>\n",
       "        <th>victim_key</th>\n",
       "        <th>status_key</th>\n",
       "    </tr>\n",
       "    <tr>\n",
       "        <td>295</td>\n",
       "        <td>298</td>\n",
       "        <td>42647</td>\n",
       "        <td>380</td>\n",
       "        <td>1</td>\n",
       "    </tr>\n",
       "    <tr>\n",
       "        <td>305</td>\n",
       "        <td>1178</td>\n",
       "        <td>152508</td>\n",
       "        <td>892</td>\n",
       "        <td>1</td>\n",
       "    </tr>\n",
       "    <tr>\n",
       "        <td>268</td>\n",
       "        <td>298</td>\n",
       "        <td>73010</td>\n",
       "        <td>210</td>\n",
       "        <td>4</td>\n",
       "    </tr>\n",
       "    <tr>\n",
       "        <td>256</td>\n",
       "        <td>1178</td>\n",
       "        <td>201976</td>\n",
       "        <td>727</td>\n",
       "        <td>1</td>\n",
       "    </tr>\n",
       "    <tr>\n",
       "        <td>295</td>\n",
       "        <td>1178</td>\n",
       "        <td>41927</td>\n",
       "        <td>1232</td>\n",
       "        <td>6</td>\n",
       "    </tr>\n",
       "</table>"
      ],
      "text/plain": [
       "[(295, 298, 42647, 380, 1),\n",
       " (305, 1178, 152508, 892, 1),\n",
       " (268, 298, 73010, 210, 4),\n",
       " (256, 1178, 201976, 727, 1),\n",
       " (295, 1178, 41927, 1232, 6)]"
      ]
     },
     "execution_count": 60,
     "metadata": {},
     "output_type": "execute_result"
    }
   ],
   "source": [
    "%%sql\n",
    "SELECT *\n",
    "FROM crime_facts\n",
    "LIMIT 5"
   ]
  },
  {
   "cell_type": "markdown",
   "metadata": {},
   "source": [
    "# Part 3 - Analysis"
   ]
  },
  {
   "cell_type": "markdown",
   "metadata": {},
   "source": [
    "### Occured time analysis"
   ]
  },
  {
   "cell_type": "markdown",
   "metadata": {},
   "source": [
    "Here we are looking at the number of crimes per years, and can be seen in the below bar graph. You can see that there is at least 200,000 crimes per year."
   ]
  },
  {
   "cell_type": "code",
   "execution_count": 64,
   "metadata": {},
   "outputs": [
    {
     "name": "stdout",
     "output_type": "stream",
     "text": [
      "8 rows affected.\n"
     ]
    },
    {
     "data": {
      "text/html": [
       "<table>\n",
       "    <tr>\n",
       "        <th>year</th>\n",
       "        <th>count</th>\n",
       "    </tr>\n",
       "    <tr>\n",
       "        <td>2010</td>\n",
       "        <td>208600</td>\n",
       "    </tr>\n",
       "    <tr>\n",
       "        <td>2011</td>\n",
       "        <td>200200</td>\n",
       "    </tr>\n",
       "    <tr>\n",
       "        <td>2012</td>\n",
       "        <td>200826</td>\n",
       "    </tr>\n",
       "    <tr>\n",
       "        <td>2013</td>\n",
       "        <td>191814</td>\n",
       "    </tr>\n",
       "    <tr>\n",
       "        <td>2014</td>\n",
       "        <td>194527</td>\n",
       "    </tr>\n",
       "    <tr>\n",
       "        <td>2015</td>\n",
       "        <td>214037</td>\n",
       "    </tr>\n",
       "    <tr>\n",
       "        <td>2016</td>\n",
       "        <td>223309</td>\n",
       "    </tr>\n",
       "    <tr>\n",
       "        <td>2017</td>\n",
       "        <td>188125</td>\n",
       "    </tr>\n",
       "</table>"
      ],
      "text/plain": [
       "[(2010, 208600),\n",
       " (2011, 200200),\n",
       " (2012, 200826),\n",
       " (2013, 191814),\n",
       " (2014, 194527),\n",
       " (2015, 214037),\n",
       " (2016, 223309),\n",
       " (2017, 188125)]"
      ]
     },
     "execution_count": 64,
     "metadata": {},
     "output_type": "execute_result"
    }
   ],
   "source": [
    "%%sql\n",
    "SELECT year, COUNT(*)\n",
    "FROM crime_facts\n",
    "JOIN occured_time\n",
    "ON crime_facts.occured_time_key = occured_time.occured_time_key\n",
    "GROUP BY year\n",
    "ORDER BY year"
   ]
  },
  {
   "cell_type": "code",
   "execution_count": 65,
   "metadata": {},
   "outputs": [
    {
     "data": {
      "text/plain": [
       "<Container object of 8 artists>"
      ]
     },
     "execution_count": 65,
     "metadata": {},
     "output_type": "execute_result"
    },
    {
     "data": {
      "image/png": "[encoded data removed]",
      "text/plain": [
       "<matplotlib.figure.Figure at 0x7f5e6053bfd0>"
      ]
     },
     "metadata": {},
     "output_type": "display_data"
    }
   ],
   "source": [
    "%matplotlib inline\n",
    "_.bar()"
   ]
  },
  {
   "cell_type": "markdown",
   "metadata": {},
   "source": [
    "We then look at the number of crimes that occur each month in total."
   ]
  },
  {
   "cell_type": "code",
   "execution_count": 66,
   "metadata": {},
   "outputs": [
    {
     "name": "stdout",
     "output_type": "stream",
     "text": [
      "12 rows affected.\n"
     ]
    },
    {
     "data": {
      "text/html": [
       "<table>\n",
       "    <tr>\n",
       "        <th>month</th>\n",
       "        <th>count</th>\n",
       "    </tr>\n",
       "    <tr>\n",
       "        <td>1</td>\n",
       "        <td>142691</td>\n",
       "    </tr>\n",
       "    <tr>\n",
       "        <td>2</td>\n",
       "        <td>123558</td>\n",
       "    </tr>\n",
       "    <tr>\n",
       "        <td>3</td>\n",
       "        <td>138397</td>\n",
       "    </tr>\n",
       "    <tr>\n",
       "        <td>4</td>\n",
       "        <td>135254</td>\n",
       "    </tr>\n",
       "    <tr>\n",
       "        <td>5</td>\n",
       "        <td>141214</td>\n",
       "    </tr>\n",
       "    <tr>\n",
       "        <td>6</td>\n",
       "        <td>138880</td>\n",
       "    </tr>\n",
       "    <tr>\n",
       "        <td>7</td>\n",
       "        <td>143444</td>\n",
       "    </tr>\n",
       "    <tr>\n",
       "        <td>8</td>\n",
       "        <td>143700</td>\n",
       "    </tr>\n",
       "    <tr>\n",
       "        <td>9</td>\n",
       "        <td>137851</td>\n",
       "    </tr>\n",
       "    <tr>\n",
       "        <td>10</td>\n",
       "        <td>142036</td>\n",
       "    </tr>\n",
       "    <tr>\n",
       "        <td>11</td>\n",
       "        <td>115088</td>\n",
       "    </tr>\n",
       "    <tr>\n",
       "        <td>12</td>\n",
       "        <td>119325</td>\n",
       "    </tr>\n",
       "</table>"
      ],
      "text/plain": [
       "[(1, 142691),\n",
       " (2, 123558),\n",
       " (3, 138397),\n",
       " (4, 135254),\n",
       " (5, 141214),\n",
       " (6, 138880),\n",
       " (7, 143444),\n",
       " (8, 143700),\n",
       " (9, 137851),\n",
       " (10, 142036),\n",
       " (11, 115088),\n",
       " (12, 119325)]"
      ]
     },
     "execution_count": 66,
     "metadata": {},
     "output_type": "execute_result"
    }
   ],
   "source": [
    "%%sql\n",
    "SELECT month, COUNT(*)\n",
    "FROM crime_facts\n",
    "JOIN occured_time\n",
    "ON crime_facts.occured_time_key = occured_time.occured_time_key\n",
    "GROUP BY month\n",
    "ORDER BY month"
   ]
  },
  {
   "cell_type": "code",
   "execution_count": 67,
   "metadata": {},
   "outputs": [
    {
     "data": {
      "text/plain": [
       "<Container object of 12 artists>"
      ]
     },
     "execution_count": 67,
     "metadata": {},
     "output_type": "execute_result"
    },
    {
     "data": {
      "image/png": "[encoded data removed]",
      "text/plain": [
       "<matplotlib.figure.Figure at 0x7f5e5e010630>"
      ]
     },
     "metadata": {},
     "output_type": "display_data"
    }
   ],
   "source": [
    "_.bar()"
   ]
  },
  {
   "cell_type": "markdown",
   "metadata": {},
   "source": [
    "Looking at the total number of crimes that occur on different days of the week."
   ]
  },
  {
   "cell_type": "code",
   "execution_count": 68,
   "metadata": {},
   "outputs": [
    {
     "name": "stdout",
     "output_type": "stream",
     "text": [
      "7 rows affected.\n"
     ]
    },
    {
     "data": {
      "text/html": [
       "<table>\n",
       "    <tr>\n",
       "        <th>day_of_week</th>\n",
       "        <th>count</th>\n",
       "    </tr>\n",
       "    <tr>\n",
       "        <td>Sunday   </td>\n",
       "        <td>222240</td>\n",
       "    </tr>\n",
       "    <tr>\n",
       "        <td>Monday   </td>\n",
       "        <td>231016</td>\n",
       "    </tr>\n",
       "    <tr>\n",
       "        <td>Tuesday  </td>\n",
       "        <td>227154</td>\n",
       "    </tr>\n",
       "    <tr>\n",
       "        <td>Wednesday</td>\n",
       "        <td>229454</td>\n",
       "    </tr>\n",
       "    <tr>\n",
       "        <td>Thursday </td>\n",
       "        <td>228069</td>\n",
       "    </tr>\n",
       "    <tr>\n",
       "        <td>Friday   </td>\n",
       "        <td>250234</td>\n",
       "    </tr>\n",
       "    <tr>\n",
       "        <td>Saturday </td>\n",
       "        <td>233271</td>\n",
       "    </tr>\n",
       "</table>"
      ],
      "text/plain": [
       "[('Sunday   ', 222240),\n",
       " ('Monday   ', 231016),\n",
       " ('Tuesday  ', 227154),\n",
       " ('Wednesday', 229454),\n",
       " ('Thursday ', 228069),\n",
       " ('Friday   ', 250234),\n",
       " ('Saturday ', 233271)]"
      ]
     },
     "execution_count": 68,
     "metadata": {},
     "output_type": "execute_result"
    }
   ],
   "source": [
    "%%sql\n",
    "SELECT day_of_week, COUNT(*)\n",
    "FROM crime_facts\n",
    "JOIN occured_time\n",
    "ON crime_facts.occured_time_key = occured_time.occured_time_key\n",
    "GROUP BY day_of_week_num, day_of_week\n",
    "ORDER BY day_of_week_num"
   ]
  },
  {
   "cell_type": "code",
   "execution_count": 69,
   "metadata": {},
   "outputs": [
    {
     "data": {
      "text/plain": [
       "<Container object of 7 artists>"
      ]
     },
     "execution_count": 69,
     "metadata": {},
     "output_type": "execute_result"
    },
    {
     "data": {
      "image/png": "[encoded data removed]",
      "text/plain": [
       "<matplotlib.figure.Figure at 0x7f5e605325c0>"
      ]
     },
     "metadata": {},
     "output_type": "display_data"
    }
   ],
   "source": [
    "_.bar()"
   ]
  },
  {
   "cell_type": "markdown",
   "metadata": {},
   "source": [
    "What we found interesting is we found the day of each year where the most crimes occur, which ended up being New Year's of each each year."
   ]
  },
  {
   "cell_type": "code",
   "execution_count": 70,
   "metadata": {},
   "outputs": [
    {
     "name": "stdout",
     "output_type": "stream",
     "text": [
      "8 rows affected.\n"
     ]
    },
    {
     "data": {
      "text/html": [
       "<table>\n",
       "    <tr>\n",
       "        <th>occured_date</th>\n",
       "        <th>year</th>\n",
       "        <th>count</th>\n",
       "    </tr>\n",
       "    <tr>\n",
       "        <td>2010-01-01</td>\n",
       "        <td>2010</td>\n",
       "        <td>2143</td>\n",
       "    </tr>\n",
       "    <tr>\n",
       "        <td>2011-01-01</td>\n",
       "        <td>2011</td>\n",
       "        <td>2055</td>\n",
       "    </tr>\n",
       "    <tr>\n",
       "        <td>2012-01-01</td>\n",
       "        <td>2012</td>\n",
       "        <td>1647</td>\n",
       "    </tr>\n",
       "    <tr>\n",
       "        <td>2013-01-01</td>\n",
       "        <td>2013</td>\n",
       "        <td>1467</td>\n",
       "    </tr>\n",
       "    <tr>\n",
       "        <td>2014-01-01</td>\n",
       "        <td>2014</td>\n",
       "        <td>1333</td>\n",
       "    </tr>\n",
       "    <tr>\n",
       "        <td>2015-01-01</td>\n",
       "        <td>2015</td>\n",
       "        <td>1271</td>\n",
       "    </tr>\n",
       "    <tr>\n",
       "        <td>2016-01-01</td>\n",
       "        <td>2016</td>\n",
       "        <td>1145</td>\n",
       "    </tr>\n",
       "    <tr>\n",
       "        <td>2017-01-01</td>\n",
       "        <td>2017</td>\n",
       "        <td>913</td>\n",
       "    </tr>\n",
       "</table>"
      ],
      "text/plain": [
       "[(datetime.date(2010, 1, 1), 2010, 2143),\n",
       " (datetime.date(2011, 1, 1), 2011, 2055),\n",
       " (datetime.date(2012, 1, 1), 2012, 1647),\n",
       " (datetime.date(2013, 1, 1), 2013, 1467),\n",
       " (datetime.date(2014, 1, 1), 2014, 1333),\n",
       " (datetime.date(2015, 1, 1), 2015, 1271),\n",
       " (datetime.date(2016, 1, 1), 2016, 1145),\n",
       " (datetime.date(2017, 1, 1), 2017, 913)]"
      ]
     },
     "execution_count": 70,
     "metadata": {},
     "output_type": "execute_result"
    }
   ],
   "source": [
    "%%sql\n",
    "SELECT a.occured_date, a.year, a.count\n",
    "FROM (SELECT COUNT(*) AS count, occured_date, year\n",
    "    FROM crime_facts\n",
    "    JOIN occured_time\n",
    "    ON crime_facts.occured_time_key = occured_time.occured_time_key\n",
    "    GROUP BY occured_date, year) AS a\n",
    "JOIN (SELECT t.year, MAX(count) AS max_count\n",
    "    FROM (SELECT COUNT(*) AS count, occured_date, year\n",
    "        FROM crime_facts\n",
    "        JOIN occured_time\n",
    "        ON crime_facts.occured_time_key = occured_time.occured_time_key\n",
    "        GROUP BY occured_date, year) AS t\n",
    "     GROUP BY t.year) AS b\n",
    "ON a.year = b.year\n",
    "AND a.count = b.max_count\n",
    "ORDER BY year"
   ]
  },
  {
   "cell_type": "code",
   "execution_count": 71,
   "metadata": {},
   "outputs": [
    {
     "data": {
      "text/plain": [
       "<Container object of 8 artists>"
      ]
     },
     "execution_count": 71,
     "metadata": {},
     "output_type": "execute_result"
    },
    {
     "data": {
      "image/png": "[encoded data removed]",
      "text/plain": [
       "<matplotlib.figure.Figure at 0x7f5e5bf99b00>"
      ]
     },
     "metadata": {},
     "output_type": "display_data"
    }
   ],
   "source": [
    "_.bar()"
   ]
  },
  {
   "cell_type": "markdown",
   "metadata": {},
   "source": [
    "We then found out the time that most crimes occur."
   ]
  },
  {
   "cell_type": "code",
   "execution_count": 72,
   "metadata": {},
   "outputs": [
    {
     "name": "stdout",
     "output_type": "stream",
     "text": [
      "24 rows affected.\n"
     ]
    },
    {
     "data": {
      "text/html": [
       "<table>\n",
       "    <tr>\n",
       "        <th>occured_hour</th>\n",
       "        <th>count</th>\n",
       "    </tr>\n",
       "    <tr>\n",
       "        <td>0</td>\n",
       "        <td>66882</td>\n",
       "    </tr>\n",
       "    <tr>\n",
       "        <td>1</td>\n",
       "        <td>46453</td>\n",
       "    </tr>\n",
       "    <tr>\n",
       "        <td>2</td>\n",
       "        <td>39224</td>\n",
       "    </tr>\n",
       "    <tr>\n",
       "        <td>3</td>\n",
       "        <td>28759</td>\n",
       "    </tr>\n",
       "    <tr>\n",
       "        <td>4</td>\n",
       "        <td>21611</td>\n",
       "    </tr>\n",
       "    <tr>\n",
       "        <td>5</td>\n",
       "        <td>19619</td>\n",
       "    </tr>\n",
       "    <tr>\n",
       "        <td>6</td>\n",
       "        <td>27540</td>\n",
       "    </tr>\n",
       "    <tr>\n",
       "        <td>7</td>\n",
       "        <td>41032</td>\n",
       "    </tr>\n",
       "    <tr>\n",
       "        <td>8</td>\n",
       "        <td>69114</td>\n",
       "    </tr>\n",
       "    <tr>\n",
       "        <td>9</td>\n",
       "        <td>61007</td>\n",
       "    </tr>\n",
       "    <tr>\n",
       "        <td>10</td>\n",
       "        <td>68707</td>\n",
       "    </tr>\n",
       "    <tr>\n",
       "        <td>11</td>\n",
       "        <td>64735</td>\n",
       "    </tr>\n",
       "    <tr>\n",
       "        <td>12</td>\n",
       "        <td>130283</td>\n",
       "    </tr>\n",
       "    <tr>\n",
       "        <td>13</td>\n",
       "        <td>70137</td>\n",
       "    </tr>\n",
       "    <tr>\n",
       "        <td>14</td>\n",
       "        <td>77676</td>\n",
       "    </tr>\n",
       "    <tr>\n",
       "        <td>15</td>\n",
       "        <td>84575</td>\n",
       "    </tr>\n",
       "    <tr>\n",
       "        <td>16</td>\n",
       "        <td>83310</td>\n",
       "    </tr>\n",
       "    <tr>\n",
       "        <td>17</td>\n",
       "        <td>89889</td>\n",
       "    </tr>\n",
       "    <tr>\n",
       "        <td>18</td>\n",
       "        <td>96820</td>\n",
       "    </tr>\n",
       "    <tr>\n",
       "        <td>19</td>\n",
       "        <td>91861</td>\n",
       "    </tr>\n",
       "    <tr>\n",
       "        <td>20</td>\n",
       "        <td>93765</td>\n",
       "    </tr>\n",
       "    <tr>\n",
       "        <td>21</td>\n",
       "        <td>88115</td>\n",
       "    </tr>\n",
       "    <tr>\n",
       "        <td>22</td>\n",
       "        <td>85259</td>\n",
       "    </tr>\n",
       "    <tr>\n",
       "        <td>23</td>\n",
       "        <td>75065</td>\n",
       "    </tr>\n",
       "</table>"
      ],
      "text/plain": [
       "[(0, 66882),\n",
       " (1, 46453),\n",
       " (2, 39224),\n",
       " (3, 28759),\n",
       " (4, 21611),\n",
       " (5, 19619),\n",
       " (6, 27540),\n",
       " (7, 41032),\n",
       " (8, 69114),\n",
       " (9, 61007),\n",
       " (10, 68707),\n",
       " (11, 64735),\n",
       " (12, 130283),\n",
       " (13, 70137),\n",
       " (14, 77676),\n",
       " (15, 84575),\n",
       " (16, 83310),\n",
       " (17, 89889),\n",
       " (18, 96820),\n",
       " (19, 91861),\n",
       " (20, 93765),\n",
       " (21, 88115),\n",
       " (22, 85259),\n",
       " (23, 75065)]"
      ]
     },
     "execution_count": 72,
     "metadata": {},
     "output_type": "execute_result"
    }
   ],
   "source": [
    "%%sql\n",
    "SELECT occured_hour, COUNT(*)\n",
    "FROM crime_facts\n",
    "JOIN occured_time\n",
    "ON crime_facts.occured_time_key = occured_time.occured_time_key\n",
    "GROUP BY occured_hour\n",
    "ORDER BY occured_hour"
   ]
  },
  {
   "cell_type": "code",
   "execution_count": 73,
   "metadata": {},
   "outputs": [
    {
     "data": {
      "text/plain": [
       "<Container object of 24 artists>"
      ]
     },
     "execution_count": 73,
     "metadata": {},
     "output_type": "execute_result"
    },
    {
     "data": {
      "image/png": "[encoded data removed]",
      "text/plain": [
       "<matplotlib.figure.Figure at 0x7f5e5becd0b8>"
      ]
     },
     "metadata": {},
     "output_type": "display_data"
    }
   ],
   "source": [
    "_.bar()"
   ]
  },
  {
   "cell_type": "markdown",
   "metadata": {},
   "source": [
    "### Area Analysis"
   ]
  },
  {
   "cell_type": "markdown",
   "metadata": {},
   "source": [
    "Now we want to analyse the crime that occurs in different neighbourhoods in LA."
   ]
  },
  {
   "cell_type": "code",
   "execution_count": 76,
   "metadata": {},
   "outputs": [
    {
     "name": "stdout",
     "output_type": "stream",
     "text": [
      "21 rows affected.\n"
     ]
    },
    {
     "data": {
      "text/html": [
       "<table>\n",
       "    <tr>\n",
       "        <th>area_name</th>\n",
       "        <th>count</th>\n",
       "    </tr>\n",
       "    <tr>\n",
       "        <td>77th Street</td>\n",
       "        <td>113061</td>\n",
       "    </tr>\n",
       "    <tr>\n",
       "        <td>Southwest</td>\n",
       "        <td>104611</td>\n",
       "    </tr>\n",
       "    <tr>\n",
       "        <td>N Hollywood</td>\n",
       "        <td>88374</td>\n",
       "    </tr>\n",
       "    <tr>\n",
       "        <td>Pacific</td>\n",
       "        <td>85692</td>\n",
       "    </tr>\n",
       "    <tr>\n",
       "        <td>Southeast</td>\n",
       "        <td>85452</td>\n",
       "    </tr>\n",
       "    <tr>\n",
       "        <td>Mission</td>\n",
       "        <td>81974</td>\n",
       "    </tr>\n",
       "    <tr>\n",
       "        <td>Northeast</td>\n",
       "        <td>78254</td>\n",
       "    </tr>\n",
       "    <tr>\n",
       "        <td>Van Nuys</td>\n",
       "        <td>77346</td>\n",
       "    </tr>\n",
       "    <tr>\n",
       "        <td>Newton</td>\n",
       "        <td>76283</td>\n",
       "    </tr>\n",
       "    <tr>\n",
       "        <td>Devonshire</td>\n",
       "        <td>75656</td>\n",
       "    </tr>\n",
       "    <tr>\n",
       "        <td>Topanga</td>\n",
       "        <td>75092</td>\n",
       "    </tr>\n",
       "    <tr>\n",
       "        <td>Hollywood</td>\n",
       "        <td>74131</td>\n",
       "    </tr>\n",
       "    <tr>\n",
       "        <td>Harbor</td>\n",
       "        <td>72390</td>\n",
       "    </tr>\n",
       "    <tr>\n",
       "        <td>Olympic</td>\n",
       "        <td>71914</td>\n",
       "    </tr>\n",
       "    <tr>\n",
       "        <td>West Valley</td>\n",
       "        <td>69313</td>\n",
       "    </tr>\n",
       "    <tr>\n",
       "        <td>Central</td>\n",
       "        <td>69031</td>\n",
       "    </tr>\n",
       "    <tr>\n",
       "        <td>Rampart</td>\n",
       "        <td>68525</td>\n",
       "    </tr>\n",
       "    <tr>\n",
       "        <td>West LA</td>\n",
       "        <td>67829</td>\n",
       "    </tr>\n",
       "    <tr>\n",
       "        <td>Wilshire</td>\n",
       "        <td>65212</td>\n",
       "    </tr>\n",
       "    <tr>\n",
       "        <td>Foothill</td>\n",
       "        <td>62291</td>\n",
       "    </tr>\n",
       "    <tr>\n",
       "        <td>Hollenbeck</td>\n",
       "        <td>59007</td>\n",
       "    </tr>\n",
       "</table>"
      ],
      "text/plain": [
       "[('77th Street', 113061),\n",
       " ('Southwest', 104611),\n",
       " ('N Hollywood', 88374),\n",
       " ('Pacific', 85692),\n",
       " ('Southeast', 85452),\n",
       " ('Mission', 81974),\n",
       " ('Northeast', 78254),\n",
       " ('Van Nuys', 77346),\n",
       " ('Newton', 76283),\n",
       " ('Devonshire', 75656),\n",
       " ('Topanga', 75092),\n",
       " ('Hollywood', 74131),\n",
       " ('Harbor', 72390),\n",
       " ('Olympic', 71914),\n",
       " ('West Valley', 69313),\n",
       " ('Central', 69031),\n",
       " ('Rampart', 68525),\n",
       " ('West LA', 67829),\n",
       " ('Wilshire', 65212),\n",
       " ('Foothill', 62291),\n",
       " ('Hollenbeck', 59007)]"
      ]
     },
     "execution_count": 76,
     "metadata": {},
     "output_type": "execute_result"
    }
   ],
   "source": [
    "%%sql\n",
    "SELECT area_name, COUNT(*)\n",
    "FROM crime_facts\n",
    "JOIN area\n",
    "ON crime_facts.area_key = area.area_key\n",
    "GROUP BY area_name\n",
    "ORDER BY count DESC"
   ]
  },
  {
   "cell_type": "markdown",
   "metadata": {},
   "source": [
    "We also created a pie chart to show the percentage of crimes in each neighbourhood."
   ]
  },
  {
   "cell_type": "code",
   "execution_count": 78,
   "metadata": {},
   "outputs": [
    {
     "data": {
      "text/plain": [
       "(-1.1016454048449051,\n",
       " 1.1010994058779995,\n",
       " -1.1010106060424247,\n",
       " 1.1000481240972584)"
      ]
     },
     "execution_count": 78,
     "metadata": {},
     "output_type": "execute_result"
    },
    {
     "data": {
      "image/png": "[encoded data removed]",
      "text/plain": [
       "<matplotlib.figure.Figure at 0x7f5e5bf41390>"
      ]
     },
     "metadata": {},
     "output_type": "display_data"
    }
   ],
   "source": [
    "%matplotlib inline\n",
    "import matplotlib.pyplot as plt\n",
    "_.pie(autopct='%1.1f%%',\n",
    "        shadow=True,startangle=90) \n",
    "plt.axis('equal')"
   ]
  },
  {
   "cell_type": "markdown",
   "metadata": {},
   "source": [
    "Here, we looked at where different crimes occur in these neighbourhoods."
   ]
  },
  {
   "cell_type": "code",
   "execution_count": 79,
   "metadata": {},
   "outputs": [
    {
     "name": "stdout",
     "output_type": "stream",
     "text": [
      "10 rows affected.\n"
     ]
    },
    {
     "data": {
      "text/html": [
       "<table>\n",
       "    <tr>\n",
       "        <th>premise_description</th>\n",
       "        <th>count</th>\n",
       "    </tr>\n",
       "    <tr>\n",
       "        <td>STREET</td>\n",
       "        <td>360799</td>\n",
       "    </tr>\n",
       "    <tr>\n",
       "        <td>SINGLE FAMILY DWELLING</td>\n",
       "        <td>335019</td>\n",
       "    </tr>\n",
       "    <tr>\n",
       "        <td>MULTI-UNIT DWELLING (APARTMENT, DUPLEX, ETC)</td>\n",
       "        <td>209211</td>\n",
       "    </tr>\n",
       "    <tr>\n",
       "        <td>PARKING LOT</td>\n",
       "        <td>115302</td>\n",
       "    </tr>\n",
       "    <tr>\n",
       "        <td>SIDEWALK</td>\n",
       "        <td>81153</td>\n",
       "    </tr>\n",
       "    <tr>\n",
       "        <td>OTHER BUSINESS</td>\n",
       "        <td>72619</td>\n",
       "    </tr>\n",
       "    <tr>\n",
       "        <td>VEHICLE, PASSENGER/TRUCK</td>\n",
       "        <td>61888</td>\n",
       "    </tr>\n",
       "    <tr>\n",
       "        <td>DRIVEWAY</td>\n",
       "        <td>33197</td>\n",
       "    </tr>\n",
       "    <tr>\n",
       "        <td>GARAGE/CARPORT</td>\n",
       "        <td>29017</td>\n",
       "    </tr>\n",
       "    <tr>\n",
       "        <td>DEPARTMENT STORE</td>\n",
       "        <td>22779</td>\n",
       "    </tr>\n",
       "</table>"
      ],
      "text/plain": [
       "[('STREET', 360799),\n",
       " ('SINGLE FAMILY DWELLING', 335019),\n",
       " ('MULTI-UNIT DWELLING (APARTMENT, DUPLEX, ETC)', 209211),\n",
       " ('PARKING LOT', 115302),\n",
       " ('SIDEWALK', 81153),\n",
       " ('OTHER BUSINESS', 72619),\n",
       " ('VEHICLE, PASSENGER/TRUCK', 61888),\n",
       " ('DRIVEWAY', 33197),\n",
       " ('GARAGE/CARPORT', 29017),\n",
       " ('DEPARTMENT STORE', 22779)]"
      ]
     },
     "execution_count": 79,
     "metadata": {},
     "output_type": "execute_result"
    }
   ],
   "source": [
    "%%sql\n",
    "SELECT premise_description, COUNT(*) AS count\n",
    "FROM crime_facts\n",
    "JOIN area\n",
    "ON crime_facts.area_key = area.area_key\n",
    "GROUP BY premise_description\n",
    "ORDER BY count DESC\n",
    "LIMIT 10"
   ]
  },
  {
   "cell_type": "markdown",
   "metadata": {},
   "source": [
    "### Crime analysis"
   ]
  },
  {
   "cell_type": "markdown",
   "metadata": {},
   "source": [
    "We took a look at the different crime statistics starting with which type of crimes occurred in LA. We found that Battery - Simple Assault was the most common crime where they were almost 150,000 incidents."
   ]
  },
  {
   "cell_type": "code",
   "execution_count": 80,
   "metadata": {},
   "outputs": [
    {
     "name": "stdout",
     "output_type": "stream",
     "text": [
      "10 rows affected.\n"
     ]
    },
    {
     "data": {
      "text/html": [
       "<table>\n",
       "    <tr>\n",
       "        <th>crime_description</th>\n",
       "        <th>count</th>\n",
       "    </tr>\n",
       "    <tr>\n",
       "        <td>BATTERY - SIMPLE ASSAULT</td>\n",
       "        <td>148950</td>\n",
       "    </tr>\n",
       "    <tr>\n",
       "        <td>BURGLARY FROM VEHICLE</td>\n",
       "        <td>124315</td>\n",
       "    </tr>\n",
       "    <tr>\n",
       "        <td>VEHICLE - STOLEN</td>\n",
       "        <td>124238</td>\n",
       "    </tr>\n",
       "    <tr>\n",
       "        <td>BURGLARY</td>\n",
       "        <td>117223</td>\n",
       "    </tr>\n",
       "    <tr>\n",
       "        <td>THEFT PLAIN - PETTY ($950 &amp; UNDER)</td>\n",
       "        <td>116109</td>\n",
       "    </tr>\n",
       "    <tr>\n",
       "        <td>THEFT OF IDENTITY</td>\n",
       "        <td>102559</td>\n",
       "    </tr>\n",
       "    <tr>\n",
       "        <td>INTIMATE PARTNER - SIMPLE ASSAULT</td>\n",
       "        <td>87821</td>\n",
       "    </tr>\n",
       "    <tr>\n",
       "        <td>VANDALISM - FELONY ($400 &amp; OVER, ALL CHURCH VANDALISMS) 0114</td>\n",
       "        <td>81523</td>\n",
       "    </tr>\n",
       "    <tr>\n",
       "        <td>VANDALISM - MISDEAMEANOR ($399 OR UNDER)</td>\n",
       "        <td>72862</td>\n",
       "    </tr>\n",
       "    <tr>\n",
       "        <td>ASSAULT WITH DEADLY WEAPON, AGGRAVATED ASSAULT</td>\n",
       "        <td>69395</td>\n",
       "    </tr>\n",
       "</table>"
      ],
      "text/plain": [
       "[('BATTERY - SIMPLE ASSAULT', 148950),\n",
       " ('BURGLARY FROM VEHICLE', 124315),\n",
       " ('VEHICLE - STOLEN', 124238),\n",
       " ('BURGLARY', 117223),\n",
       " ('THEFT PLAIN - PETTY ($950 & UNDER)', 116109),\n",
       " ('THEFT OF IDENTITY', 102559),\n",
       " ('INTIMATE PARTNER - SIMPLE ASSAULT', 87821),\n",
       " ('VANDALISM - FELONY ($400 & OVER, ALL CHURCH VANDALISMS) 0114', 81523),\n",
       " ('VANDALISM - MISDEAMEANOR ($399 OR UNDER)', 72862),\n",
       " ('ASSAULT WITH DEADLY WEAPON, AGGRAVATED ASSAULT', 69395)]"
      ]
     },
     "execution_count": 80,
     "metadata": {},
     "output_type": "execute_result"
    }
   ],
   "source": [
    "%%sql\n",
    "SELECT crime_description, COUNT(*)\n",
    "FROM crime_facts\n",
    "JOIN crime\n",
    "ON crime_facts.crime_key = crime.crime_key\n",
    "GROUP BY crime_description\n",
    "ORDER BY count DESC\n",
    "LIMIT 10"
   ]
  },
  {
   "cell_type": "markdown",
   "metadata": {},
   "source": [
    "We then looked at the weapons the criminals use during their crimes."
   ]
  },
  {
   "cell_type": "code",
   "execution_count": 82,
   "metadata": {},
   "outputs": [
    {
     "name": "stdout",
     "output_type": "stream",
     "text": [
      "10 rows affected.\n"
     ]
    },
    {
     "data": {
      "text/html": [
       "<table>\n",
       "    <tr>\n",
       "        <th>crime_weapon</th>\n",
       "        <th>count</th>\n",
       "    </tr>\n",
       "    <tr>\n",
       "        <td>STRONG-ARM (HANDS, FIST, FEET OR BODILY FORCE)</td>\n",
       "        <td>327235</td>\n",
       "    </tr>\n",
       "    <tr>\n",
       "        <td>VERBAL THREAT</td>\n",
       "        <td>44761</td>\n",
       "    </tr>\n",
       "    <tr>\n",
       "        <td>UNKNOWN WEAPON/OTHER WEAPON</td>\n",
       "        <td>41917</td>\n",
       "    </tr>\n",
       "    <tr>\n",
       "        <td>HAND GUN</td>\n",
       "        <td>25897</td>\n",
       "    </tr>\n",
       "    <tr>\n",
       "        <td>SEMI-AUTOMATIC PISTOL</td>\n",
       "        <td>10266</td>\n",
       "    </tr>\n",
       "    <tr>\n",
       "        <td>KNIFE WITH BLADE 6INCHES OR LESS</td>\n",
       "        <td>9587</td>\n",
       "    </tr>\n",
       "    <tr>\n",
       "        <td>OTHER KNIFE</td>\n",
       "        <td>7112</td>\n",
       "    </tr>\n",
       "    <tr>\n",
       "        <td>UNKNOWN FIREARM</td>\n",
       "        <td>6151</td>\n",
       "    </tr>\n",
       "    <tr>\n",
       "        <td>VEHICLE</td>\n",
       "        <td>5475</td>\n",
       "    </tr>\n",
       "    <tr>\n",
       "        <td>REVOLVER</td>\n",
       "        <td>4627</td>\n",
       "    </tr>\n",
       "</table>"
      ],
      "text/plain": [
       "[('STRONG-ARM (HANDS, FIST, FEET OR BODILY FORCE)', 327235),\n",
       " ('VERBAL THREAT', 44761),\n",
       " ('UNKNOWN WEAPON/OTHER WEAPON', 41917),\n",
       " ('HAND GUN', 25897),\n",
       " ('SEMI-AUTOMATIC PISTOL', 10266),\n",
       " ('KNIFE WITH BLADE 6INCHES OR LESS', 9587),\n",
       " ('OTHER KNIFE', 7112),\n",
       " ('UNKNOWN FIREARM', 6151),\n",
       " ('VEHICLE', 5475),\n",
       " ('REVOLVER', 4627)]"
      ]
     },
     "execution_count": 82,
     "metadata": {},
     "output_type": "execute_result"
    }
   ],
   "source": [
    "%%sql\n",
    "SELECT crime_weapon, COUNT(*)\n",
    "FROM crime_facts\n",
    "JOIN crime\n",
    "ON crime_facts.crime_key = crime.crime_key\n",
    "WHERE crime_weapon != 'MISSING'\n",
    "GROUP BY crime_weapon\n",
    "ORDER BY count DESC\n",
    "LIMIT 10"
   ]
  },
  {
   "cell_type": "markdown",
   "metadata": {},
   "source": [
    "We also looked at the type of premises that crimes occurred in each neighbourhood."
   ]
  },
  {
   "cell_type": "code",
   "execution_count": 83,
   "metadata": {},
   "outputs": [
    {
     "name": "stdout",
     "output_type": "stream",
     "text": [
      "21 rows affected.\n"
     ]
    },
    {
     "data": {
      "text/html": [
       "<table>\n",
       "    <tr>\n",
       "        <th>area_name</th>\n",
       "        <th>premise_description</th>\n",
       "        <th>count</th>\n",
       "    </tr>\n",
       "    <tr>\n",
       "        <td>77th Street</td>\n",
       "        <td>SINGLE FAMILY DWELLING</td>\n",
       "        <td>32430</td>\n",
       "    </tr>\n",
       "    <tr>\n",
       "        <td>Southwest</td>\n",
       "        <td>STREET</td>\n",
       "        <td>24875</td>\n",
       "    </tr>\n",
       "    <tr>\n",
       "        <td>Southeast</td>\n",
       "        <td>SINGLE FAMILY DWELLING</td>\n",
       "        <td>24538</td>\n",
       "    </tr>\n",
       "    <tr>\n",
       "        <td>Newton</td>\n",
       "        <td>STREET</td>\n",
       "        <td>24239</td>\n",
       "    </tr>\n",
       "    <tr>\n",
       "        <td>Devonshire</td>\n",
       "        <td>SINGLE FAMILY DWELLING</td>\n",
       "        <td>22760</td>\n",
       "    </tr>\n",
       "    <tr>\n",
       "        <td>West Valley</td>\n",
       "        <td>SINGLE FAMILY DWELLING</td>\n",
       "        <td>20568</td>\n",
       "    </tr>\n",
       "    <tr>\n",
       "        <td>Northeast</td>\n",
       "        <td>STREET</td>\n",
       "        <td>20452</td>\n",
       "    </tr>\n",
       "    <tr>\n",
       "        <td>Mission</td>\n",
       "        <td>SINGLE FAMILY DWELLING</td>\n",
       "        <td>20289</td>\n",
       "    </tr>\n",
       "    <tr>\n",
       "        <td>Topanga</td>\n",
       "        <td>SINGLE FAMILY DWELLING</td>\n",
       "        <td>19314</td>\n",
       "    </tr>\n",
       "    <tr>\n",
       "        <td>Hollenbeck</td>\n",
       "        <td>STREET</td>\n",
       "        <td>18981</td>\n",
       "    </tr>\n",
       "    <tr>\n",
       "        <td>Olympic</td>\n",
       "        <td>MULTI-UNIT DWELLING (APARTMENT, DUPLEX, ETC)</td>\n",
       "        <td>18849</td>\n",
       "    </tr>\n",
       "    <tr>\n",
       "        <td>Foothill</td>\n",
       "        <td>SINGLE FAMILY DWELLING</td>\n",
       "        <td>18063</td>\n",
       "    </tr>\n",
       "    <tr>\n",
       "        <td>Rampart</td>\n",
       "        <td>MULTI-UNIT DWELLING (APARTMENT, DUPLEX, ETC)</td>\n",
       "        <td>17692</td>\n",
       "    </tr>\n",
       "    <tr>\n",
       "        <td>Pacific</td>\n",
       "        <td>STREET</td>\n",
       "        <td>17548</td>\n",
       "    </tr>\n",
       "    <tr>\n",
       "        <td>N Hollywood</td>\n",
       "        <td>STREET</td>\n",
       "        <td>17082</td>\n",
       "    </tr>\n",
       "    <tr>\n",
       "        <td>Hollywood</td>\n",
       "        <td>STREET</td>\n",
       "        <td>16355</td>\n",
       "    </tr>\n",
       "    <tr>\n",
       "        <td>Harbor</td>\n",
       "        <td>STREET</td>\n",
       "        <td>15787</td>\n",
       "    </tr>\n",
       "    <tr>\n",
       "        <td>West LA</td>\n",
       "        <td>SINGLE FAMILY DWELLING</td>\n",
       "        <td>15714</td>\n",
       "    </tr>\n",
       "    <tr>\n",
       "        <td>Van Nuys</td>\n",
       "        <td>STREET</td>\n",
       "        <td>15006</td>\n",
       "    </tr>\n",
       "    <tr>\n",
       "        <td>Wilshire</td>\n",
       "        <td>STREET</td>\n",
       "        <td>14699</td>\n",
       "    </tr>\n",
       "    <tr>\n",
       "        <td>Central</td>\n",
       "        <td>STREET</td>\n",
       "        <td>12613</td>\n",
       "    </tr>\n",
       "</table>"
      ],
      "text/plain": [
       "[('77th Street', 'SINGLE FAMILY DWELLING', 32430),\n",
       " ('Southwest', 'STREET', 24875),\n",
       " ('Southeast', 'SINGLE FAMILY DWELLING', 24538),\n",
       " ('Newton', 'STREET', 24239),\n",
       " ('Devonshire', 'SINGLE FAMILY DWELLING', 22760),\n",
       " ('West Valley', 'SINGLE FAMILY DWELLING', 20568),\n",
       " ('Northeast', 'STREET', 20452),\n",
       " ('Mission', 'SINGLE FAMILY DWELLING', 20289),\n",
       " ('Topanga', 'SINGLE FAMILY DWELLING', 19314),\n",
       " ('Hollenbeck', 'STREET', 18981),\n",
       " ('Olympic', 'MULTI-UNIT DWELLING (APARTMENT, DUPLEX, ETC)', 18849),\n",
       " ('Foothill', 'SINGLE FAMILY DWELLING', 18063),\n",
       " ('Rampart', 'MULTI-UNIT DWELLING (APARTMENT, DUPLEX, ETC)', 17692),\n",
       " ('Pacific', 'STREET', 17548),\n",
       " ('N Hollywood', 'STREET', 17082),\n",
       " ('Hollywood', 'STREET', 16355),\n",
       " ('Harbor', 'STREET', 15787),\n",
       " ('West LA', 'SINGLE FAMILY DWELLING', 15714),\n",
       " ('Van Nuys', 'STREET', 15006),\n",
       " ('Wilshire', 'STREET', 14699),\n",
       " ('Central', 'STREET', 12613)]"
      ]
     },
     "execution_count": 83,
     "metadata": {},
     "output_type": "execute_result"
    }
   ],
   "source": [
    "%%sql\n",
    "SELECT a.area_name, a.premise_description, count\n",
    "FROM(SELECT area_name, premise_description, COUNT(*)\n",
    "    FROM crime_facts\n",
    "    JOIN area\n",
    "    ON crime_facts.area_key = area.area_key\n",
    "    GROUP BY area_name, premise_description) AS a\n",
    "JOIN(SELECT b.area_name, MAX(count) AS max_count\n",
    "    FROM(SELECT area_name, premise_description, COUNT(*)\n",
    "        FROM crime_facts\n",
    "        JOIN area\n",
    "        ON crime_facts.area_key = area.area_key\n",
    "        GROUP BY area_name, premise_description) AS b\n",
    "    GROUP BY b.area_name) AS c\n",
    "ON a.area_name  =c.area_name\n",
    "AND a.count = c.max_count\n",
    "ORDER BY count DESC"
   ]
  },
  {
   "cell_type": "markdown",
   "metadata": {},
   "source": [
    "### Victim analysis"
   ]
  },
  {
   "cell_type": "markdown",
   "metadata": {},
   "source": [
    "Here we look at who are the victims of these crimes. The following victim_sex denotes as M as male, F as female, X as Unknown, H as Unknown."
   ]
  },
  {
   "cell_type": "markdown",
   "metadata": {},
   "source": [
    "#### Victim sex"
   ]
  },
  {
   "cell_type": "code",
   "execution_count": 65,
   "metadata": {},
   "outputs": [
    {
     "name": "stdout",
     "output_type": "stream",
     "text": [
      "4 rows affected.\n"
     ]
    },
    {
     "data": {
      "text/html": [
       "<table>\n",
       "    <tr>\n",
       "        <th>victim_sex</th>\n",
       "        <th>count</th>\n",
       "    </tr>\n",
       "    <tr>\n",
       "        <td>M</td>\n",
       "        <td>756300</td>\n",
       "    </tr>\n",
       "    <tr>\n",
       "        <td>F</td>\n",
       "        <td>690610</td>\n",
       "    </tr>\n",
       "    <tr>\n",
       "        <td>X</td>\n",
       "        <td>25625</td>\n",
       "    </tr>\n",
       "    <tr>\n",
       "        <td>H</td>\n",
       "        <td>54</td>\n",
       "    </tr>\n",
       "</table>"
      ],
      "text/plain": [
       "[('M', 756300), ('F', 690610), ('X', 25625), ('H', 54)]"
      ]
     },
     "execution_count": 65,
     "metadata": {},
     "output_type": "execute_result"
    }
   ],
   "source": [
    "%%sql\n",
    "SELECT victim_sex, COUNT(*)\n",
    "FROM crime_facts\n",
    "JOIN victim\n",
    "ON crime_facts.victim_key = victim.victim_key\n",
    "WHERE victim_sex IS NOT NULL\n",
    "AND victim_sex !='-'\n",
    "GROUP BY victim_sex\n",
    "ORDER BY COUNT(*) DESC"
   ]
  },
  {
   "cell_type": "markdown",
   "metadata": {},
   "source": [
    "The following pie chart dictates that crimes happened to almost an equal percentage of males and females."
   ]
  },
  {
   "cell_type": "code",
   "execution_count": 66,
   "metadata": {},
   "outputs": [
    {
     "data": {
      "text/plain": [
       "(-1.1052343941820006,\n",
       " 1.1033208585152967,\n",
       " -1.108254007972977,\n",
       " 1.1003930479987674)"
      ]
     },
     "execution_count": 66,
     "metadata": {},
     "output_type": "execute_result"
    },
    {
     "data": {
      "image/png": "[encoded data removed]",
      "text/plain": [
       "<matplotlib.figure.Figure at 0x7ffad16e4fd0>"
      ]
     },
     "metadata": {},
     "output_type": "display_data"
    }
   ],
   "source": [
    "%matplotlib inline\n",
    "import matplotlib.pyplot as plt\n",
    "_.pie(autopct='%1.1f%%',\n",
    "        shadow=True,startangle=90) \n",
    "plt.axis('equal')"
   ]
  },
  {
   "cell_type": "markdown",
   "metadata": {},
   "source": [
    "#### Victim age"
   ]
  },
  {
   "cell_type": "markdown",
   "metadata": {},
   "source": [
    "We looked at the different ages of the victims. The different amount of ages created an illegible bar graph so we placed them in buckets and created another bar graph."
   ]
  },
  {
   "cell_type": "code",
   "execution_count": 75,
   "metadata": {},
   "outputs": [
    {
     "name": "stdout",
     "output_type": "stream",
     "text": [
      "90 rows affected.\n"
     ]
    },
    {
     "data": {
      "text/html": [
       "<table>\n",
       "    <tr>\n",
       "        <th>victim_age</th>\n",
       "        <th>count</th>\n",
       "    </tr>\n",
       "    <tr>\n",
       "        <td>10</td>\n",
       "        <td>24911</td>\n",
       "    </tr>\n",
       "    <tr>\n",
       "        <td>11</td>\n",
       "        <td>25900</td>\n",
       "    </tr>\n",
       "    <tr>\n",
       "        <td>12</td>\n",
       "        <td>25818</td>\n",
       "    </tr>\n",
       "    <tr>\n",
       "        <td>13</td>\n",
       "        <td>27973</td>\n",
       "    </tr>\n",
       "    <tr>\n",
       "        <td>14</td>\n",
       "        <td>32991</td>\n",
       "    </tr>\n",
       "    <tr>\n",
       "        <td>15</td>\n",
       "        <td>38449</td>\n",
       "    </tr>\n",
       "    <tr>\n",
       "        <td>16</td>\n",
       "        <td>37000</td>\n",
       "    </tr>\n",
       "    <tr>\n",
       "        <td>17</td>\n",
       "        <td>13085</td>\n",
       "    </tr>\n",
       "    <tr>\n",
       "        <td>18</td>\n",
       "        <td>17540</td>\n",
       "    </tr>\n",
       "    <tr>\n",
       "        <td>19</td>\n",
       "        <td>23034</td>\n",
       "    </tr>\n",
       "    <tr>\n",
       "        <td>20</td>\n",
       "        <td>27380</td>\n",
       "    </tr>\n",
       "    <tr>\n",
       "        <td>21</td>\n",
       "        <td>30699</td>\n",
       "    </tr>\n",
       "    <tr>\n",
       "        <td>22</td>\n",
       "        <td>33291</td>\n",
       "    </tr>\n",
       "    <tr>\n",
       "        <td>23</td>\n",
       "        <td>35846</td>\n",
       "    </tr>\n",
       "    <tr>\n",
       "        <td>24</td>\n",
       "        <td>36889</td>\n",
       "    </tr>\n",
       "    <tr>\n",
       "        <td>25</td>\n",
       "        <td>37790</td>\n",
       "    </tr>\n",
       "    <tr>\n",
       "        <td>26</td>\n",
       "        <td>36529</td>\n",
       "    </tr>\n",
       "    <tr>\n",
       "        <td>27</td>\n",
       "        <td>35948</td>\n",
       "    </tr>\n",
       "    <tr>\n",
       "        <td>28</td>\n",
       "        <td>35312</td>\n",
       "    </tr>\n",
       "    <tr>\n",
       "        <td>29</td>\n",
       "        <td>35121</td>\n",
       "    </tr>\n",
       "    <tr>\n",
       "        <td>30</td>\n",
       "        <td>34484</td>\n",
       "    </tr>\n",
       "    <tr>\n",
       "        <td>31</td>\n",
       "        <td>32422</td>\n",
       "    </tr>\n",
       "    <tr>\n",
       "        <td>32</td>\n",
       "        <td>31911</td>\n",
       "    </tr>\n",
       "    <tr>\n",
       "        <td>33</td>\n",
       "        <td>30970</td>\n",
       "    </tr>\n",
       "    <tr>\n",
       "        <td>34</td>\n",
       "        <td>30717</td>\n",
       "    </tr>\n",
       "    <tr>\n",
       "        <td>35</td>\n",
       "        <td>31137</td>\n",
       "    </tr>\n",
       "    <tr>\n",
       "        <td>36</td>\n",
       "        <td>28684</td>\n",
       "    </tr>\n",
       "    <tr>\n",
       "        <td>37</td>\n",
       "        <td>27256</td>\n",
       "    </tr>\n",
       "    <tr>\n",
       "        <td>38</td>\n",
       "        <td>26699</td>\n",
       "    </tr>\n",
       "    <tr>\n",
       "        <td>39</td>\n",
       "        <td>26498</td>\n",
       "    </tr>\n",
       "    <tr>\n",
       "        <td>40</td>\n",
       "        <td>27432</td>\n",
       "    </tr>\n",
       "    <tr>\n",
       "        <td>41</td>\n",
       "        <td>25296</td>\n",
       "    </tr>\n",
       "    <tr>\n",
       "        <td>42</td>\n",
       "        <td>25333</td>\n",
       "    </tr>\n",
       "    <tr>\n",
       "        <td>43</td>\n",
       "        <td>25212</td>\n",
       "    </tr>\n",
       "    <tr>\n",
       "        <td>44</td>\n",
       "        <td>24483</td>\n",
       "    </tr>\n",
       "    <tr>\n",
       "        <td>45</td>\n",
       "        <td>24765</td>\n",
       "    </tr>\n",
       "    <tr>\n",
       "        <td>46</td>\n",
       "        <td>24497</td>\n",
       "    </tr>\n",
       "    <tr>\n",
       "        <td>47</td>\n",
       "        <td>24034</td>\n",
       "    </tr>\n",
       "    <tr>\n",
       "        <td>48</td>\n",
       "        <td>23077</td>\n",
       "    </tr>\n",
       "    <tr>\n",
       "        <td>49</td>\n",
       "        <td>22656</td>\n",
       "    </tr>\n",
       "    <tr>\n",
       "        <td>50</td>\n",
       "        <td>23400</td>\n",
       "    </tr>\n",
       "    <tr>\n",
       "        <td>51</td>\n",
       "        <td>21641</td>\n",
       "    </tr>\n",
       "    <tr>\n",
       "        <td>52</td>\n",
       "        <td>21332</td>\n",
       "    </tr>\n",
       "    <tr>\n",
       "        <td>53</td>\n",
       "        <td>20533</td>\n",
       "    </tr>\n",
       "    <tr>\n",
       "        <td>54</td>\n",
       "        <td>19371</td>\n",
       "    </tr>\n",
       "    <tr>\n",
       "        <td>55</td>\n",
       "        <td>18621</td>\n",
       "    </tr>\n",
       "    <tr>\n",
       "        <td>56</td>\n",
       "        <td>17688</td>\n",
       "    </tr>\n",
       "    <tr>\n",
       "        <td>57</td>\n",
       "        <td>16380</td>\n",
       "    </tr>\n",
       "    <tr>\n",
       "        <td>58</td>\n",
       "        <td>15273</td>\n",
       "    </tr>\n",
       "    <tr>\n",
       "        <td>59</td>\n",
       "        <td>14482</td>\n",
       "    </tr>\n",
       "    <tr>\n",
       "        <td>60</td>\n",
       "        <td>13182</td>\n",
       "    </tr>\n",
       "    <tr>\n",
       "        <td>61</td>\n",
       "        <td>11864</td>\n",
       "    </tr>\n",
       "    <tr>\n",
       "        <td>62</td>\n",
       "        <td>11182</td>\n",
       "    </tr>\n",
       "    <tr>\n",
       "        <td>63</td>\n",
       "        <td>10203</td>\n",
       "    </tr>\n",
       "    <tr>\n",
       "        <td>64</td>\n",
       "        <td>9399</td>\n",
       "    </tr>\n",
       "    <tr>\n",
       "        <td>65</td>\n",
       "        <td>8801</td>\n",
       "    </tr>\n",
       "    <tr>\n",
       "        <td>66</td>\n",
       "        <td>7743</td>\n",
       "    </tr>\n",
       "    <tr>\n",
       "        <td>67</td>\n",
       "        <td>7093</td>\n",
       "    </tr>\n",
       "    <tr>\n",
       "        <td>68</td>\n",
       "        <td>6219</td>\n",
       "    </tr>\n",
       "    <tr>\n",
       "        <td>69</td>\n",
       "        <td>5898</td>\n",
       "    </tr>\n",
       "    <tr>\n",
       "        <td>70</td>\n",
       "        <td>5273</td>\n",
       "    </tr>\n",
       "    <tr>\n",
       "        <td>71</td>\n",
       "        <td>4515</td>\n",
       "    </tr>\n",
       "    <tr>\n",
       "        <td>72</td>\n",
       "        <td>4275</td>\n",
       "    </tr>\n",
       "    <tr>\n",
       "        <td>73</td>\n",
       "        <td>3689</td>\n",
       "    </tr>\n",
       "    <tr>\n",
       "        <td>74</td>\n",
       "        <td>3350</td>\n",
       "    </tr>\n",
       "    <tr>\n",
       "        <td>75</td>\n",
       "        <td>3298</td>\n",
       "    </tr>\n",
       "    <tr>\n",
       "        <td>76</td>\n",
       "        <td>2815</td>\n",
       "    </tr>\n",
       "    <tr>\n",
       "        <td>77</td>\n",
       "        <td>2620</td>\n",
       "    </tr>\n",
       "    <tr>\n",
       "        <td>78</td>\n",
       "        <td>2421</td>\n",
       "    </tr>\n",
       "    <tr>\n",
       "        <td>79</td>\n",
       "        <td>2228</td>\n",
       "    </tr>\n",
       "    <tr>\n",
       "        <td>80</td>\n",
       "        <td>2141</td>\n",
       "    </tr>\n",
       "    <tr>\n",
       "        <td>81</td>\n",
       "        <td>1790</td>\n",
       "    </tr>\n",
       "    <tr>\n",
       "        <td>82</td>\n",
       "        <td>1675</td>\n",
       "    </tr>\n",
       "    <tr>\n",
       "        <td>83</td>\n",
       "        <td>1521</td>\n",
       "    </tr>\n",
       "    <tr>\n",
       "        <td>84</td>\n",
       "        <td>1406</td>\n",
       "    </tr>\n",
       "    <tr>\n",
       "        <td>85</td>\n",
       "        <td>1236</td>\n",
       "    </tr>\n",
       "    <tr>\n",
       "        <td>86</td>\n",
       "        <td>1092</td>\n",
       "    </tr>\n",
       "    <tr>\n",
       "        <td>87</td>\n",
       "        <td>943</td>\n",
       "    </tr>\n",
       "    <tr>\n",
       "        <td>88</td>\n",
       "        <td>876</td>\n",
       "    </tr>\n",
       "    <tr>\n",
       "        <td>89</td>\n",
       "        <td>711</td>\n",
       "    </tr>\n",
       "    <tr>\n",
       "        <td>90</td>\n",
       "        <td>638</td>\n",
       "    </tr>\n",
       "    <tr>\n",
       "        <td>91</td>\n",
       "        <td>491</td>\n",
       "    </tr>\n",
       "    <tr>\n",
       "        <td>92</td>\n",
       "        <td>387</td>\n",
       "    </tr>\n",
       "    <tr>\n",
       "        <td>93</td>\n",
       "        <td>346</td>\n",
       "    </tr>\n",
       "    <tr>\n",
       "        <td>94</td>\n",
       "        <td>269</td>\n",
       "    </tr>\n",
       "    <tr>\n",
       "        <td>95</td>\n",
       "        <td>185</td>\n",
       "    </tr>\n",
       "    <tr>\n",
       "        <td>96</td>\n",
       "        <td>131</td>\n",
       "    </tr>\n",
       "    <tr>\n",
       "        <td>97</td>\n",
       "        <td>100</td>\n",
       "    </tr>\n",
       "    <tr>\n",
       "        <td>98</td>\n",
       "        <td>69</td>\n",
       "    </tr>\n",
       "    <tr>\n",
       "        <td>99</td>\n",
       "        <td>360</td>\n",
       "    </tr>\n",
       "</table>"
      ],
      "text/plain": [
       "[(10, 24911),\n",
       " (11, 25900),\n",
       " (12, 25818),\n",
       " (13, 27973),\n",
       " (14, 32991),\n",
       " (15, 38449),\n",
       " (16, 37000),\n",
       " (17, 13085),\n",
       " (18, 17540),\n",
       " (19, 23034),\n",
       " (20, 27380),\n",
       " (21, 30699),\n",
       " (22, 33291),\n",
       " (23, 35846),\n",
       " (24, 36889),\n",
       " (25, 37790),\n",
       " (26, 36529),\n",
       " (27, 35948),\n",
       " (28, 35312),\n",
       " (29, 35121),\n",
       " (30, 34484),\n",
       " (31, 32422),\n",
       " (32, 31911),\n",
       " (33, 30970),\n",
       " (34, 30717),\n",
       " (35, 31137),\n",
       " (36, 28684),\n",
       " (37, 27256),\n",
       " (38, 26699),\n",
       " (39, 26498),\n",
       " (40, 27432),\n",
       " (41, 25296),\n",
       " (42, 25333),\n",
       " (43, 25212),\n",
       " (44, 24483),\n",
       " (45, 24765),\n",
       " (46, 24497),\n",
       " (47, 24034),\n",
       " (48, 23077),\n",
       " (49, 22656),\n",
       " (50, 23400),\n",
       " (51, 21641),\n",
       " (52, 21332),\n",
       " (53, 20533),\n",
       " (54, 19371),\n",
       " (55, 18621),\n",
       " (56, 17688),\n",
       " (57, 16380),\n",
       " (58, 15273),\n",
       " (59, 14482),\n",
       " (60, 13182),\n",
       " (61, 11864),\n",
       " (62, 11182),\n",
       " (63, 10203),\n",
       " (64, 9399),\n",
       " (65, 8801),\n",
       " (66, 7743),\n",
       " (67, 7093),\n",
       " (68, 6219),\n",
       " (69, 5898),\n",
       " (70, 5273),\n",
       " (71, 4515),\n",
       " (72, 4275),\n",
       " (73, 3689),\n",
       " (74, 3350),\n",
       " (75, 3298),\n",
       " (76, 2815),\n",
       " (77, 2620),\n",
       " (78, 2421),\n",
       " (79, 2228),\n",
       " (80, 2141),\n",
       " (81, 1790),\n",
       " (82, 1675),\n",
       " (83, 1521),\n",
       " (84, 1406),\n",
       " (85, 1236),\n",
       " (86, 1092),\n",
       " (87, 943),\n",
       " (88, 876),\n",
       " (89, 711),\n",
       " (90, 638),\n",
       " (91, 491),\n",
       " (92, 387),\n",
       " (93, 346),\n",
       " (94, 269),\n",
       " (95, 185),\n",
       " (96, 131),\n",
       " (97, 100),\n",
       " (98, 69),\n",
       " (99, 360)]"
      ]
     },
     "execution_count": 75,
     "metadata": {},
     "output_type": "execute_result"
    }
   ],
   "source": [
    "%%sql\n",
    "SELECT victim_age, COUNT(*)\n",
    "FROM crime_facts\n",
    "JOIN victim\n",
    "ON crime_facts.victim_key = victim.victim_key\n",
    "WHERE victim_age IS NOT NULL\n",
    "GROUP BY victim_age\n",
    "ORDER BY victim_age"
   ]
  },
  {
   "cell_type": "code",
   "execution_count": 76,
   "metadata": {},
   "outputs": [
    {
     "data": {
      "text/plain": [
       "<Container object of 90 artists>"
      ]
     },
     "execution_count": 76,
     "metadata": {},
     "output_type": "execute_result"
    },
    {
     "data": {
      "image/png": "[encoded data removed]",
      "text/plain": [
       "<matplotlib.figure.Figure at 0x7ffacf485400>"
      ]
     },
     "metadata": {},
     "output_type": "display_data"
    }
   ],
   "source": [
    "_.bar()"
   ]
  },
  {
   "cell_type": "code",
   "execution_count": 69,
   "metadata": {},
   "outputs": [
    {
     "name": "stdout",
     "output_type": "stream",
     "text": [
      "8 rows affected.\n"
     ]
    },
    {
     "data": {
      "text/html": [
       "<table>\n",
       "    <tr>\n",
       "        <th>age_range</th>\n",
       "        <th>count</th>\n",
       "    </tr>\n",
       "    <tr>\n",
       "        <td>10-19</td>\n",
       "        <td>266701</td>\n",
       "    </tr>\n",
       "    <tr>\n",
       "        <td>20-29</td>\n",
       "        <td>344805</td>\n",
       "    </tr>\n",
       "    <tr>\n",
       "        <td>30-39</td>\n",
       "        <td>300778</td>\n",
       "    </tr>\n",
       "    <tr>\n",
       "        <td>40-49</td>\n",
       "        <td>246785</td>\n",
       "    </tr>\n",
       "    <tr>\n",
       "        <td>50-59</td>\n",
       "        <td>188721</td>\n",
       "    </tr>\n",
       "    <tr>\n",
       "        <td>60-69</td>\n",
       "        <td>91584</td>\n",
       "    </tr>\n",
       "    <tr>\n",
       "        <td>70-79</td>\n",
       "        <td>34484</td>\n",
       "    </tr>\n",
       "    <tr>\n",
       "        <td>Over 80</td>\n",
       "        <td>14226</td>\n",
       "    </tr>\n",
       "</table>"
      ],
      "text/plain": [
       "[('10-19', 266701),\n",
       " ('20-29', 344805),\n",
       " ('30-39', 300778),\n",
       " ('40-49', 246785),\n",
       " ('50-59', 188721),\n",
       " ('60-69', 91584),\n",
       " ('70-79', 34484),\n",
       " ('Over 80', 14226)]"
      ]
     },
     "execution_count": 69,
     "metadata": {},
     "output_type": "execute_result"
    }
   ],
   "source": [
    "%%sql\n",
    "SELECT age_range, COUNT(*)\n",
    "FROM crime_facts\n",
    "JOIN victim\n",
    "ON crime_facts.victim_key = victim.victim_key\n",
    "WHERE age_range IS NOT NULL\n",
    "GROUP BY age_range\n",
    "ORDER BY age_range"
   ]
  },
  {
   "cell_type": "markdown",
   "metadata": {},
   "source": [
    "Here we can see the biggest victims are between the ages of 20-29."
   ]
  },
  {
   "cell_type": "code",
   "execution_count": 70,
   "metadata": {},
   "outputs": [
    {
     "data": {
      "text/plain": [
       "<Container object of 8 artists>"
      ]
     },
     "execution_count": 70,
     "metadata": {},
     "output_type": "execute_result"
    },
    {
     "data": {
      "image/png": "[encoded data removed]",
      "text/plain": [
       "<matplotlib.figure.Figure at 0x7ffad170ca20>"
      ]
     },
     "metadata": {},
     "output_type": "display_data"
    }
   ],
   "source": [
    "_.bar()"
   ]
  },
  {
   "cell_type": "markdown",
   "metadata": {},
   "source": [
    "We looked at the neighbourhoods where victims were under the age of 18."
   ]
  },
  {
   "cell_type": "code",
   "execution_count": 71,
   "metadata": {},
   "outputs": [
    {
     "name": "stdout",
     "output_type": "stream",
     "text": [
      "5 rows affected.\n"
     ]
    },
    {
     "data": {
      "text/html": [
       "<table>\n",
       "    <tr>\n",
       "        <th>area_name</th>\n",
       "        <th>count</th>\n",
       "    </tr>\n",
       "    <tr>\n",
       "        <td>77th Street</td>\n",
       "        <td>19689</td>\n",
       "    </tr>\n",
       "    <tr>\n",
       "        <td>N Hollywood</td>\n",
       "        <td>15796</td>\n",
       "    </tr>\n",
       "    <tr>\n",
       "        <td>Newton</td>\n",
       "        <td>15067</td>\n",
       "    </tr>\n",
       "    <tr>\n",
       "        <td>Harbor</td>\n",
       "        <td>14833</td>\n",
       "    </tr>\n",
       "    <tr>\n",
       "        <td>Southeast</td>\n",
       "        <td>14799</td>\n",
       "    </tr>\n",
       "</table>"
      ],
      "text/plain": [
       "[('77th Street', 19689),\n",
       " ('N Hollywood', 15796),\n",
       " ('Newton', 15067),\n",
       " ('Harbor', 14833),\n",
       " ('Southeast', 14799)]"
      ]
     },
     "execution_count": 71,
     "metadata": {},
     "output_type": "execute_result"
    }
   ],
   "source": [
    "%%sql\n",
    "SELECT area_name, COUNT(*)\n",
    "FROM crime_facts\n",
    "Join area\n",
    "ON crime_facts.area_key = area.area_key\n",
    "JOIN victim\n",
    "ON crime_facts.victim_key = victim.victim_key\n",
    "WHERE victim_age<18\n",
    "GROUP BY area_name\n",
    "ORDER BY COUNT(*) DESC\n",
    "LIMIT 5"
   ]
  },
  {
   "cell_type": "code",
   "execution_count": 72,
   "metadata": {},
   "outputs": [
    {
     "data": {
      "text/plain": [
       "<Container object of 5 artists>"
      ]
     },
     "execution_count": 72,
     "metadata": {},
     "output_type": "execute_result"
    },
    {
     "data": {
      "image/png": "[encoded data removed]",
      "text/plain": [
       "<matplotlib.figure.Figure at 0x7ffacf544320>"
      ]
     },
     "metadata": {},
     "output_type": "display_data"
    }
   ],
   "source": [
    "_.bar()"
   ]
  },
  {
   "cell_type": "markdown",
   "metadata": {},
   "source": [
    "Find out what's the most frequent kind of crime occured on each age group."
   ]
  },
  {
   "cell_type": "code",
   "execution_count": 74,
   "metadata": {},
   "outputs": [
    {
     "name": "stdout",
     "output_type": "stream",
     "text": [
      "8 rows affected.\n"
     ]
    },
    {
     "data": {
      "text/html": [
       "<table>\n",
       "    <tr>\n",
       "        <th>crime_description</th>\n",
       "        <th>age_range</th>\n",
       "        <th>count</th>\n",
       "    </tr>\n",
       "    <tr>\n",
       "        <td>VEHICLE - STOLEN</td>\n",
       "        <td>10-19</td>\n",
       "        <td>107455</td>\n",
       "    </tr>\n",
       "    <tr>\n",
       "        <td>BATTERY - SIMPLE ASSAULT</td>\n",
       "        <td>20-29</td>\n",
       "        <td>40587</td>\n",
       "    </tr>\n",
       "    <tr>\n",
       "        <td>BURGLARY FROM VEHICLE</td>\n",
       "        <td>30-39</td>\n",
       "        <td>33307</td>\n",
       "    </tr>\n",
       "    <tr>\n",
       "        <td>BATTERY - SIMPLE ASSAULT</td>\n",
       "        <td>40-49</td>\n",
       "        <td>25317</td>\n",
       "    </tr>\n",
       "    <tr>\n",
       "        <td>BATTERY - SIMPLE ASSAULT</td>\n",
       "        <td>50-59</td>\n",
       "        <td>20422</td>\n",
       "    </tr>\n",
       "    <tr>\n",
       "        <td>BURGLARY</td>\n",
       "        <td>60-69</td>\n",
       "        <td>11931</td>\n",
       "    </tr>\n",
       "    <tr>\n",
       "        <td>BURGLARY</td>\n",
       "        <td>70-79</td>\n",
       "        <td>5380</td>\n",
       "    </tr>\n",
       "    <tr>\n",
       "        <td>BURGLARY</td>\n",
       "        <td>Over 80</td>\n",
       "        <td>2812</td>\n",
       "    </tr>\n",
       "</table>"
      ],
      "text/plain": [
       "[('VEHICLE - STOLEN', '10-19', 107455),\n",
       " ('BATTERY - SIMPLE ASSAULT', '20-29', 40587),\n",
       " ('BURGLARY FROM VEHICLE', '30-39', 33307),\n",
       " ('BATTERY - SIMPLE ASSAULT', '40-49', 25317),\n",
       " ('BATTERY - SIMPLE ASSAULT', '50-59', 20422),\n",
       " ('BURGLARY', '60-69', 11931),\n",
       " ('BURGLARY', '70-79', 5380),\n",
       " ('BURGLARY', 'Over 80', 2812)]"
      ]
     },
     "execution_count": 74,
     "metadata": {},
     "output_type": "execute_result"
    }
   ],
   "source": [
    "%%sql\n",
    "SELECT a.crime_description, a.age_range, a.count\n",
    "FROM (SELECT COUNT(*) AS count, crime_description, age_range\n",
    "    FROM crime_facts\n",
    "    JOIN crime\n",
    "    ON crime_facts.crime_key = crime.crime_key\n",
    "    JOIN victim\n",
    "    ON crime_facts.victim_key = victim.victim_key\n",
    "    GROUP BY crime_description, age_range) AS a\n",
    "JOIN (SELECT t.age_range, MAX(count) AS max_count\n",
    "    FROM (SELECT COUNT(*) AS count, crime_description, age_range\n",
    "        FROM crime_facts\n",
    "        JOIN crime\n",
    "        ON crime_facts.crime_key = crime.crime_key\n",
    "        JOIN victim\n",
    "        ON crime_facts.victim_key = victim.victim_key\n",
    "        GROUP BY crime_description, age_range) AS t\n",
    "     GROUP BY t.age_range) AS b\n",
    "ON a.age_range = b.age_range\n",
    "AND a.count = b.max_count\n",
    "ORDER BY age_range"
   ]
  },
  {
   "cell_type": "markdown",
   "metadata": {},
   "source": [
    "#### Victim descent"
   ]
  },
  {
   "cell_type": "markdown",
   "metadata": {},
   "source": [
    "Here we wanted to look at the difference in victim descent. The following descents are denoted as:\n",
    "* H - Hispanic\n",
    "* W - White\n",
    "* B - Black\n",
    "* O - Other\n",
    "* X - Unknown"
   ]
  },
  {
   "cell_type": "code",
   "execution_count": 73,
   "metadata": {},
   "outputs": [
    {
     "name": "stdout",
     "output_type": "stream",
     "text": [
      "5 rows affected.\n"
     ]
    },
    {
     "data": {
      "text/html": [
       "<table>\n",
       "    <tr>\n",
       "        <th>victim_descent</th>\n",
       "        <th>count</th>\n",
       "    </tr>\n",
       "    <tr>\n",
       "        <td>H</td>\n",
       "        <td>562195</td>\n",
       "    </tr>\n",
       "    <tr>\n",
       "        <td>W</td>\n",
       "        <td>400222</td>\n",
       "    </tr>\n",
       "    <tr>\n",
       "        <td>B</td>\n",
       "        <td>260574</td>\n",
       "    </tr>\n",
       "    <tr>\n",
       "        <td>O</td>\n",
       "        <td>156489</td>\n",
       "    </tr>\n",
       "    <tr>\n",
       "        <td>X</td>\n",
       "        <td>43590</td>\n",
       "    </tr>\n",
       "</table>"
      ],
      "text/plain": [
       "[('H', 562195), ('W', 400222), ('B', 260574), ('O', 156489), ('X', 43590)]"
      ]
     },
     "execution_count": 73,
     "metadata": {},
     "output_type": "execute_result"
    }
   ],
   "source": [
    "%%sql\n",
    "SELECT victim_descent, COUNT(*)\n",
    "FROM crime_facts\n",
    "JOIN victim\n",
    "ON crime_facts.victim_key = victim.victim_key\n",
    "WHERE victim_descent IS NOT NULL\n",
    "GROUP BY victim_descent\n",
    "ORDER BY COUNT(*) DESC\n",
    "LIMIT 5"
   ]
  },
  {
   "cell_type": "markdown",
   "metadata": {},
   "source": [
    "### Dangerous neighborhood for female and male"
   ]
  },
  {
   "cell_type": "markdown",
   "metadata": {},
   "source": [
    "Here we are looking at the distinct neighbourhoods that are the most dangerous for males and females."
   ]
  },
  {
   "cell_type": "code",
   "execution_count": 77,
   "metadata": {},
   "outputs": [
    {
     "name": "stdout",
     "output_type": "stream",
     "text": [
      "5 rows affected.\n"
     ]
    },
    {
     "data": {
      "text/html": [
       "<table>\n",
       "    <tr>\n",
       "        <th>area_name</th>\n",
       "        <th>female_count</th>\n",
       "        <th>count</th>\n",
       "        <th>female_percentage</th>\n",
       "    </tr>\n",
       "    <tr>\n",
       "        <td>Southeast</td>\n",
       "        <td>44394</td>\n",
       "        <td>85452</td>\n",
       "        <td>51</td>\n",
       "    </tr>\n",
       "    <tr>\n",
       "        <td>77th Street</td>\n",
       "        <td>56462</td>\n",
       "        <td>113061</td>\n",
       "        <td>49</td>\n",
       "    </tr>\n",
       "    <tr>\n",
       "        <td>Southwest</td>\n",
       "        <td>49990</td>\n",
       "        <td>104611</td>\n",
       "        <td>47</td>\n",
       "    </tr>\n",
       "    <tr>\n",
       "        <td>Rampart</td>\n",
       "        <td>29249</td>\n",
       "        <td>68525</td>\n",
       "        <td>42</td>\n",
       "    </tr>\n",
       "    <tr>\n",
       "        <td>West LA</td>\n",
       "        <td>28946</td>\n",
       "        <td>67829</td>\n",
       "        <td>42</td>\n",
       "    </tr>\n",
       "</table>"
      ],
      "text/plain": [
       "[('Southeast', 44394, 85452, 51),\n",
       " ('77th Street', 56462, 113061, 49),\n",
       " ('Southwest', 49990, 104611, 47),\n",
       " ('Rampart', 29249, 68525, 42),\n",
       " ('West LA', 28946, 67829, 42)]"
      ]
     },
     "execution_count": 77,
     "metadata": {},
     "output_type": "execute_result"
    }
   ],
   "source": [
    "%%sql\n",
    "SELECT a.area_name, a.female_count, b.count, (100*female_count/count) AS female_percentage\n",
    "FROM(SELECT area.area_name, COUNT(*) AS female_count\n",
    "    FROM crime_facts\n",
    "    JOIN area\n",
    "    ON crime_facts.area_key = area.area_key\n",
    "    JOIN victim\n",
    "    ON crime_facts.victim_key = victim.victim_key\n",
    "    WHERE victim.victim_sex = 'F'\n",
    "    GROUP BY area_name) AS a\n",
    "JOIN(SELECT area.area_name, COUNT(*)\n",
    "    FROM crime_facts\n",
    "    JOIN area\n",
    "    ON crime_facts.area_key = area.area_key\n",
    "    JOIN victim\n",
    "    ON crime_facts.victim_key = victim.victim_key\n",
    "    GROUP BY area_name) AS b\n",
    "ON a.area_name = b.area_name\n",
    "ORDER by female_percentage DESC\n",
    "LIMIT 5"
   ]
  },
  {
   "cell_type": "markdown",
   "metadata": {},
   "source": [
    "Southeast is the most dangerous neighbourhood for females. Yikes!"
   ]
  },
  {
   "cell_type": "code",
   "execution_count": 78,
   "metadata": {},
   "outputs": [
    {
     "data": {
      "text/plain": [
       "<Container object of 5 artists>"
      ]
     },
     "execution_count": 78,
     "metadata": {},
     "output_type": "execute_result"
    },
    {
     "data": {
      "image/png": "[encoded data removed]",
      "text/plain": [
       "<matplotlib.figure.Figure at 0x7ffacf353ef0>"
      ]
     },
     "metadata": {},
     "output_type": "display_data"
    }
   ],
   "source": [
    "_.bar()"
   ]
  },
  {
   "cell_type": "code",
   "execution_count": 79,
   "metadata": {},
   "outputs": [
    {
     "name": "stdout",
     "output_type": "stream",
     "text": [
      "5 rows affected.\n"
     ]
    },
    {
     "data": {
      "text/html": [
       "<table>\n",
       "    <tr>\n",
       "        <th>area_name</th>\n",
       "        <th>male_count</th>\n",
       "        <th>count</th>\n",
       "        <th>male_percentage</th>\n",
       "    </tr>\n",
       "    <tr>\n",
       "        <td>Central</td>\n",
       "        <td>39567</td>\n",
       "        <td>69031</td>\n",
       "        <td>57</td>\n",
       "    </tr>\n",
       "    <tr>\n",
       "        <td>Hollywood</td>\n",
       "        <td>39212</td>\n",
       "        <td>74131</td>\n",
       "        <td>52</td>\n",
       "    </tr>\n",
       "    <tr>\n",
       "        <td>Topanga</td>\n",
       "        <td>38710</td>\n",
       "        <td>75092</td>\n",
       "        <td>51</td>\n",
       "    </tr>\n",
       "    <tr>\n",
       "        <td>N Hollywood</td>\n",
       "        <td>45129</td>\n",
       "        <td>88374</td>\n",
       "        <td>51</td>\n",
       "    </tr>\n",
       "    <tr>\n",
       "        <td>West Valley</td>\n",
       "        <td>35079</td>\n",
       "        <td>69313</td>\n",
       "        <td>50</td>\n",
       "    </tr>\n",
       "</table>"
      ],
      "text/plain": [
       "[('Central', 39567, 69031, 57),\n",
       " ('Hollywood', 39212, 74131, 52),\n",
       " ('Topanga', 38710, 75092, 51),\n",
       " ('N Hollywood', 45129, 88374, 51),\n",
       " ('West Valley', 35079, 69313, 50)]"
      ]
     },
     "execution_count": 79,
     "metadata": {},
     "output_type": "execute_result"
    }
   ],
   "source": [
    "%%sql\n",
    "SELECT a.area_name, a.male_count, b.count, (100*male_count/count) AS male_percentage\n",
    "FROM(SELECT area.area_name, COUNT(*) AS male_count\n",
    "    FROM crime_facts\n",
    "    JOIN area\n",
    "    ON crime_facts.area_key = area.area_key\n",
    "    JOIN victim\n",
    "    ON crime_facts.victim_key = victim.victim_key\n",
    "    WHERE victim.victim_sex = 'M'\n",
    "    GROUP BY area_name) AS a\n",
    "JOIN(SELECT area.area_name, COUNT(*)\n",
    "    FROM crime_facts\n",
    "    JOIN area\n",
    "    ON crime_facts.area_key = area.area_key\n",
    "    JOIN victim\n",
    "    ON crime_facts.victim_key = victim.victim_key\n",
    "    GROUP BY area_name) AS b\n",
    "ON a.area_name = b.area_name\n",
    "ORDER by male_percentage DESC\n",
    "LIMIT 5"
   ]
  },
  {
   "cell_type": "markdown",
   "metadata": {},
   "source": [
    "The most dangerous neighbourhood for guys is the Central neighbourhood."
   ]
  },
  {
   "cell_type": "code",
   "execution_count": 80,
   "metadata": {},
   "outputs": [
    {
     "data": {
      "text/plain": [
       "<Container object of 5 artists>"
      ]
     },
     "execution_count": 80,
     "metadata": {},
     "output_type": "execute_result"
    },
    {
     "data": {
      "image/png": "[encoded data removed]",
      "text/plain": [
       "<matplotlib.figure.Figure at 0x7ffacf53e7f0>"
      ]
     },
     "metadata": {},
     "output_type": "display_data"
    }
   ],
   "source": [
    "%matplotlib inline\n",
    "_.bar()"
   ]
  },
  {
   "cell_type": "markdown",
   "metadata": {},
   "source": [
    "### Crime frequently occured on female and male"
   ]
  },
  {
   "cell_type": "markdown",
   "metadata": {},
   "source": [
    "We decided to look at the crimes that occur the most against males and females.\n",
    "\n",
    "* The most common crime to occur against females is rape and purse snatching.\n",
    "* The most common crime to occur against males is assault with a deadly weapon."
   ]
  },
  {
   "cell_type": "code",
   "execution_count": 91,
   "metadata": {},
   "outputs": [
    {
     "name": "stdout",
     "output_type": "stream",
     "text": [
      "10 rows affected.\n"
     ]
    },
    {
     "data": {
      "text/html": [
       "<table>\n",
       "    <tr>\n",
       "        <th>crime_description</th>\n",
       "        <th>female_count</th>\n",
       "        <th>count</th>\n",
       "        <th>female_percentage</th>\n",
       "    </tr>\n",
       "    <tr>\n",
       "        <td>RAPE, FORCIBLE</td>\n",
       "        <td>7448</td>\n",
       "        <td>7512</td>\n",
       "        <td>99</td>\n",
       "    </tr>\n",
       "    <tr>\n",
       "        <td>RAPE, ATTEMPTED</td>\n",
       "        <td>884</td>\n",
       "        <td>895</td>\n",
       "        <td>98</td>\n",
       "    </tr>\n",
       "    <tr>\n",
       "        <td>PURSE SNATCHING</td>\n",
       "        <td>925</td>\n",
       "        <td>982</td>\n",
       "        <td>94</td>\n",
       "    </tr>\n",
       "    <tr>\n",
       "        <td>BATTERY WITH SEXUAL CONTACT</td>\n",
       "        <td>7576</td>\n",
       "        <td>8249</td>\n",
       "        <td>91</td>\n",
       "    </tr>\n",
       "    <tr>\n",
       "        <td>SEXUAL PENTRATION WITH A FOREIGN OBJECT</td>\n",
       "        <td>1491</td>\n",
       "        <td>1641</td>\n",
       "        <td>90</td>\n",
       "    </tr>\n",
       "    <tr>\n",
       "        <td>PEEPING TOM</td>\n",
       "        <td>821</td>\n",
       "        <td>908</td>\n",
       "        <td>90</td>\n",
       "    </tr>\n",
       "    <tr>\n",
       "        <td>SEX, UNLAWFUL</td>\n",
       "        <td>3193</td>\n",
       "        <td>3517</td>\n",
       "        <td>90</td>\n",
       "    </tr>\n",
       "    <tr>\n",
       "        <td>STALKING</td>\n",
       "        <td>1288</td>\n",
       "        <td>1510</td>\n",
       "        <td>85</td>\n",
       "    </tr>\n",
       "    <tr>\n",
       "        <td>CHILD ANNOYING (17YRS &amp; UNDER)</td>\n",
       "        <td>3530</td>\n",
       "        <td>4249</td>\n",
       "        <td>83</td>\n",
       "    </tr>\n",
       "    <tr>\n",
       "        <td>INDECENT EXPOSURE</td>\n",
       "        <td>2159</td>\n",
       "        <td>2650</td>\n",
       "        <td>81</td>\n",
       "    </tr>\n",
       "</table>"
      ],
      "text/plain": [
       "[('RAPE, FORCIBLE', 7448, 7512, 99),\n",
       " ('RAPE, ATTEMPTED', 884, 895, 98),\n",
       " ('PURSE SNATCHING', 925, 982, 94),\n",
       " ('BATTERY WITH SEXUAL CONTACT', 7576, 8249, 91),\n",
       " ('SEXUAL PENTRATION WITH A FOREIGN OBJECT', 1491, 1641, 90),\n",
       " ('PEEPING TOM', 821, 908, 90),\n",
       " ('SEX, UNLAWFUL', 3193, 3517, 90),\n",
       " ('STALKING', 1288, 1510, 85),\n",
       " ('CHILD ANNOYING (17YRS & UNDER)', 3530, 4249, 83),\n",
       " ('INDECENT EXPOSURE', 2159, 2650, 81)]"
      ]
     },
     "execution_count": 91,
     "metadata": {},
     "output_type": "execute_result"
    }
   ],
   "source": [
    "%%sql\n",
    "SELECT a.crime_description, a.female_count, b.count, (100*female_count/count) AS female_percentage\n",
    "FROM(SELECT crime.crime_description, COUNT(*) AS female_count\n",
    "    FROM crime_facts\n",
    "    JOIN crime\n",
    "    ON crime_facts.crime_key = crime.crime_key\n",
    "    JOIN victim\n",
    "    ON crime_facts.victim_key = victim.victim_key\n",
    "    WHERE victim.victim_sex = 'F'\n",
    "    GROUP BY crime_description) AS a\n",
    "JOIN(SELECT crime.crime_description, COUNT(*)\n",
    "    FROM crime_facts\n",
    "    JOIN crime\n",
    "    ON crime_facts.crime_key = crime.crime_key\n",
    "    JOIN victim\n",
    "    ON crime_facts.victim_key = victim.victim_key\n",
    "    GROUP BY crime_description) AS b\n",
    "ON a.crime_description = b.crime_description\n",
    "WHERE count > 800\n",
    "ORDER by female_percentage DESC\n",
    "LIMIT 10"
   ]
  },
  {
   "cell_type": "code",
   "execution_count": 94,
   "metadata": {},
   "outputs": [
    {
     "name": "stdout",
     "output_type": "stream",
     "text": [
      "10 rows affected.\n"
     ]
    },
    {
     "data": {
      "text/html": [
       "<table>\n",
       "    <tr>\n",
       "        <th>crime_description</th>\n",
       "        <th>male_count</th>\n",
       "        <th>count</th>\n",
       "        <th>male_percentage</th>\n",
       "    </tr>\n",
       "    <tr>\n",
       "        <td>ASSAULT WITH DEADLY WEAPON ON POLICE OFFICER</td>\n",
       "        <td>1112</td>\n",
       "        <td>1281</td>\n",
       "        <td>86</td>\n",
       "    </tr>\n",
       "    <tr>\n",
       "        <td>CRIMINAL HOMICIDE</td>\n",
       "        <td>1904</td>\n",
       "        <td>2205</td>\n",
       "        <td>86</td>\n",
       "    </tr>\n",
       "    <tr>\n",
       "        <td>RESISTING ARREST</td>\n",
       "        <td>2278</td>\n",
       "        <td>2653</td>\n",
       "        <td>85</td>\n",
       "    </tr>\n",
       "    <tr>\n",
       "        <td>BATTERY POLICE (SIMPLE)</td>\n",
       "        <td>2842</td>\n",
       "        <td>3531</td>\n",
       "        <td>80</td>\n",
       "    </tr>\n",
       "    <tr>\n",
       "        <td>DISCHARGE FIREARMS/SHOTS FIRED</td>\n",
       "        <td>2150</td>\n",
       "        <td>2884</td>\n",
       "        <td>74</td>\n",
       "    </tr>\n",
       "    <tr>\n",
       "        <td>SHOPLIFTING - PETTY THEFT ($950 &amp; UNDER)</td>\n",
       "        <td>26318</td>\n",
       "        <td>35910</td>\n",
       "        <td>73</td>\n",
       "    </tr>\n",
       "    <tr>\n",
       "        <td>ASSAULT WITH DEADLY WEAPON, AGGRAVATED ASSAULT</td>\n",
       "        <td>50312</td>\n",
       "        <td>69395</td>\n",
       "        <td>72</td>\n",
       "    </tr>\n",
       "    <tr>\n",
       "        <td>BIKE - STOLEN</td>\n",
       "        <td>6414</td>\n",
       "        <td>9013</td>\n",
       "        <td>71</td>\n",
       "    </tr>\n",
       "    <tr>\n",
       "        <td>DEFRAUDING INNKEEPER/THEFT OF SERVICES, $400 &amp; UNDER</td>\n",
       "        <td>1250</td>\n",
       "        <td>1738</td>\n",
       "        <td>71</td>\n",
       "    </tr>\n",
       "    <tr>\n",
       "        <td>ATTEMPTED ROBBERY</td>\n",
       "        <td>6519</td>\n",
       "        <td>9217</td>\n",
       "        <td>70</td>\n",
       "    </tr>\n",
       "</table>"
      ],
      "text/plain": [
       "[('ASSAULT WITH DEADLY WEAPON ON POLICE OFFICER', 1112, 1281, 86),\n",
       " ('CRIMINAL HOMICIDE', 1904, 2205, 86),\n",
       " ('RESISTING ARREST', 2278, 2653, 85),\n",
       " ('BATTERY POLICE (SIMPLE)', 2842, 3531, 80),\n",
       " ('DISCHARGE FIREARMS/SHOTS FIRED', 2150, 2884, 74),\n",
       " ('SHOPLIFTING - PETTY THEFT ($950 & UNDER)', 26318, 35910, 73),\n",
       " ('ASSAULT WITH DEADLY WEAPON, AGGRAVATED ASSAULT', 50312, 69395, 72),\n",
       " ('BIKE - STOLEN', 6414, 9013, 71),\n",
       " ('DEFRAUDING INNKEEPER/THEFT OF SERVICES, $400 & UNDER', 1250, 1738, 71),\n",
       " ('ATTEMPTED ROBBERY', 6519, 9217, 70)]"
      ]
     },
     "execution_count": 94,
     "metadata": {},
     "output_type": "execute_result"
    }
   ],
   "source": [
    "%%sql\n",
    "SELECT a.crime_description, a.male_count, b.count, (100*male_count/count) AS male_percentage\n",
    "FROM(SELECT crime.crime_description, COUNT(*) AS male_count\n",
    "    FROM crime_facts\n",
    "    JOIN crime\n",
    "    ON crime_facts.crime_key = crime.crime_key\n",
    "    JOIN victim\n",
    "    ON crime_facts.victim_key = victim.victim_key\n",
    "    WHERE victim.victim_sex = 'M'\n",
    "    GROUP BY crime_description) AS a\n",
    "JOIN(SELECT crime.crime_description, COUNT(*)\n",
    "    FROM crime_facts\n",
    "    JOIN crime\n",
    "    ON crime_facts.crime_key = crime.crime_key\n",
    "    JOIN victim\n",
    "    ON crime_facts.victim_key = victim.victim_key\n",
    "    GROUP BY crime_description) AS b\n",
    "ON a.crime_description = b.crime_description\n",
    "WHERE count > 800\n",
    "ORDER by male_percentage DESC\n",
    "LIMIT 10"
   ]
  },
  {
   "cell_type": "markdown",
   "metadata": {},
   "source": [
    "### Crime frequently occured on youngs and olds"
   ]
  },
  {
   "cell_type": "markdown",
   "metadata": {},
   "source": [
    "We looked at the crimes that occured to minors and seniors. Here we looked at anyone under the age of 20 were minors, and above 60, seniors.\n",
    "\n",
    "Minors stole cars, and committed unlawful sexual activities."
   ]
  },
  {
   "cell_type": "code",
   "execution_count": 95,
   "metadata": {},
   "outputs": [
    {
     "name": "stdout",
     "output_type": "stream",
     "text": [
      "10 rows affected.\n"
     ]
    },
    {
     "data": {
      "text/html": [
       "<table>\n",
       "    <tr>\n",
       "        <th>crime_description</th>\n",
       "        <th>young_count</th>\n",
       "        <th>count</th>\n",
       "        <th>young_percentage</th>\n",
       "    </tr>\n",
       "    <tr>\n",
       "        <td>SEX, UNLAWFUL</td>\n",
       "        <td>3406</td>\n",
       "        <td>3517</td>\n",
       "        <td>96</td>\n",
       "    </tr>\n",
       "    <tr>\n",
       "        <td>VEHICLE - STOLEN</td>\n",
       "        <td>107458</td>\n",
       "        <td>124238</td>\n",
       "        <td>86</td>\n",
       "    </tr>\n",
       "    <tr>\n",
       "        <td>CHILD ANNOYING (17YRS &amp; UNDER)</td>\n",
       "        <td>3605</td>\n",
       "        <td>4249</td>\n",
       "        <td>84</td>\n",
       "    </tr>\n",
       "    <tr>\n",
       "        <td>CRM AGNST CHLD (13 OR UNDER) (14-15 &amp; SUSP 10 YRS OLDER)0060</td>\n",
       "        <td>3548</td>\n",
       "        <td>6560</td>\n",
       "        <td>54</td>\n",
       "    </tr>\n",
       "    <tr>\n",
       "        <td>CHILD ABUSE (PHYSICAL) - SIMPLE ASSAULT</td>\n",
       "        <td>3637</td>\n",
       "        <td>6981</td>\n",
       "        <td>52</td>\n",
       "    </tr>\n",
       "    <tr>\n",
       "        <td>ORAL COPULATION</td>\n",
       "        <td>527</td>\n",
       "        <td>1289</td>\n",
       "        <td>40</td>\n",
       "    </tr>\n",
       "    <tr>\n",
       "        <td>CHILD ABUSE (PHYSICAL) - AGGRAVATED ASSAULT</td>\n",
       "        <td>533</td>\n",
       "        <td>1315</td>\n",
       "        <td>40</td>\n",
       "    </tr>\n",
       "    <tr>\n",
       "        <td>BATTERY WITH SEXUAL CONTACT</td>\n",
       "        <td>3069</td>\n",
       "        <td>8249</td>\n",
       "        <td>37</td>\n",
       "    </tr>\n",
       "    <tr>\n",
       "        <td>RAPE, FORCIBLE</td>\n",
       "        <td>2570</td>\n",
       "        <td>7512</td>\n",
       "        <td>34</td>\n",
       "    </tr>\n",
       "    <tr>\n",
       "        <td>THEFT FROM MOTOR VEHICLE - PETTY ($950 &amp; UNDER)</td>\n",
       "        <td>21891</td>\n",
       "        <td>65721</td>\n",
       "        <td>33</td>\n",
       "    </tr>\n",
       "</table>"
      ],
      "text/plain": [
       "[('SEX, UNLAWFUL', 3406, 3517, 96),\n",
       " ('VEHICLE - STOLEN', 107458, 124238, 86),\n",
       " ('CHILD ANNOYING (17YRS & UNDER)', 3605, 4249, 84),\n",
       " ('CRM AGNST CHLD (13 OR UNDER) (14-15 & SUSP 10 YRS OLDER)0060', 3548, 6560, 54),\n",
       " ('CHILD ABUSE (PHYSICAL) - SIMPLE ASSAULT', 3637, 6981, 52),\n",
       " ('ORAL COPULATION', 527, 1289, 40),\n",
       " ('CHILD ABUSE (PHYSICAL) - AGGRAVATED ASSAULT', 533, 1315, 40),\n",
       " ('BATTERY WITH SEXUAL CONTACT', 3069, 8249, 37),\n",
       " ('RAPE, FORCIBLE', 2570, 7512, 34),\n",
       " ('THEFT FROM MOTOR VEHICLE - PETTY ($950 & UNDER)', 21891, 65721, 33)]"
      ]
     },
     "execution_count": 95,
     "metadata": {},
     "output_type": "execute_result"
    }
   ],
   "source": [
    "%%sql\n",
    "SELECT a.crime_description, a.young_count, b.count, (100*young_count/count) AS young_percentage\n",
    "FROM(SELECT crime.crime_description, COUNT(*) AS young_count\n",
    "    FROM crime_facts\n",
    "    JOIN crime\n",
    "    ON crime_facts.crime_key = crime.crime_key\n",
    "    JOIN victim\n",
    "    ON crime_facts.victim_key = victim.victim_key\n",
    "    WHERE victim.victim_age <= 20\n",
    "    GROUP BY crime_description) AS a\n",
    "JOIN(SELECT crime.crime_description, COUNT(*)\n",
    "    FROM crime_facts\n",
    "    JOIN crime\n",
    "    ON crime_facts.crime_key = crime.crime_key\n",
    "    JOIN victim\n",
    "    ON crime_facts.victim_key = victim.victim_key\n",
    "    GROUP BY crime_description) AS b\n",
    "ON a.crime_description = b.crime_description\n",
    "WHERE count > 800\n",
    "ORDER by young_percentage DESC\n",
    "LIMIT 10"
   ]
  },
  {
   "cell_type": "markdown",
   "metadata": {},
   "source": [
    "Seniors stole and committed identity theft - go figure."
   ]
  },
  {
   "cell_type": "code",
   "execution_count": 96,
   "metadata": {},
   "outputs": [
    {
     "name": "stdout",
     "output_type": "stream",
     "text": [
      "10 rows affected.\n"
     ]
    },
    {
     "data": {
      "text/html": [
       "<table>\n",
       "    <tr>\n",
       "        <th>crime_description</th>\n",
       "        <th>old_count</th>\n",
       "        <th>count</th>\n",
       "        <th>old_percentage</th>\n",
       "    </tr>\n",
       "    <tr>\n",
       "        <td>BUNCO, GRAND THEFT</td>\n",
       "        <td>1439</td>\n",
       "        <td>5318</td>\n",
       "        <td>27</td>\n",
       "    </tr>\n",
       "    <tr>\n",
       "        <td>BURGLARY, ATTEMPTED</td>\n",
       "        <td>1953</td>\n",
       "        <td>10136</td>\n",
       "        <td>19</td>\n",
       "    </tr>\n",
       "    <tr>\n",
       "        <td>DOCUMENT FORGERY / STOLEN FELONY</td>\n",
       "        <td>3702</td>\n",
       "        <td>19174</td>\n",
       "        <td>19</td>\n",
       "    </tr>\n",
       "    <tr>\n",
       "        <td>THEFT OF IDENTITY</td>\n",
       "        <td>19453</td>\n",
       "        <td>102559</td>\n",
       "        <td>18</td>\n",
       "    </tr>\n",
       "    <tr>\n",
       "        <td>PURSE SNATCHING</td>\n",
       "        <td>182</td>\n",
       "        <td>982</td>\n",
       "        <td>18</td>\n",
       "    </tr>\n",
       "    <tr>\n",
       "        <td>BURGLARY</td>\n",
       "        <td>20512</td>\n",
       "        <td>117223</td>\n",
       "        <td>17</td>\n",
       "    </tr>\n",
       "    <tr>\n",
       "        <td>SHOTS FIRED AT INHABITED DWELLING</td>\n",
       "        <td>318</td>\n",
       "        <td>2051</td>\n",
       "        <td>15</td>\n",
       "    </tr>\n",
       "    <tr>\n",
       "        <td>BUNCO, PETTY THEFT</td>\n",
       "        <td>528</td>\n",
       "        <td>3302</td>\n",
       "        <td>15</td>\n",
       "    </tr>\n",
       "    <tr>\n",
       "        <td>DISTURBING THE PEACE</td>\n",
       "        <td>398</td>\n",
       "        <td>2828</td>\n",
       "        <td>14</td>\n",
       "    </tr>\n",
       "    <tr>\n",
       "        <td>THEFT FROM MOTOR VEHICLE - ATTEMPT</td>\n",
       "        <td>124</td>\n",
       "        <td>951</td>\n",
       "        <td>13</td>\n",
       "    </tr>\n",
       "</table>"
      ],
      "text/plain": [
       "[('BUNCO, GRAND THEFT', 1439, 5318, 27),\n",
       " ('BURGLARY, ATTEMPTED', 1953, 10136, 19),\n",
       " ('DOCUMENT FORGERY / STOLEN FELONY', 3702, 19174, 19),\n",
       " ('THEFT OF IDENTITY', 19453, 102559, 18),\n",
       " ('PURSE SNATCHING', 182, 982, 18),\n",
       " ('BURGLARY', 20512, 117223, 17),\n",
       " ('SHOTS FIRED AT INHABITED DWELLING', 318, 2051, 15),\n",
       " ('BUNCO, PETTY THEFT', 528, 3302, 15),\n",
       " ('DISTURBING THE PEACE', 398, 2828, 14),\n",
       " ('THEFT FROM MOTOR VEHICLE - ATTEMPT', 124, 951, 13)]"
      ]
     },
     "execution_count": 96,
     "metadata": {},
     "output_type": "execute_result"
    }
   ],
   "source": [
    "%%sql\n",
    "SELECT a.crime_description, a.old_count, b.count, (100*old_count/count) AS old_percentage\n",
    "FROM(SELECT crime.crime_description, COUNT(*) AS old_count\n",
    "    FROM crime_facts\n",
    "    JOIN crime\n",
    "    ON crime_facts.crime_key = crime.crime_key\n",
    "    JOIN victim\n",
    "    ON crime_facts.victim_key = victim.victim_key\n",
    "    WHERE victim.victim_age >= 60\n",
    "    GROUP BY crime_description) AS a\n",
    "JOIN(SELECT crime.crime_description, COUNT(*)\n",
    "    FROM crime_facts\n",
    "    JOIN crime\n",
    "    ON crime_facts.crime_key = crime.crime_key\n",
    "    JOIN victim\n",
    "    ON crime_facts.victim_key = victim.victim_key\n",
    "    GROUP BY crime_description) AS b\n",
    "ON a.crime_description = b.crime_description\n",
    "WHERE count > 800\n",
    "ORDER by old_percentage DESC\n",
    "LIMIT 10"
   ]
  },
  {
   "cell_type": "markdown",
   "metadata": {},
   "source": [
    "### Analysis on time pattern - focus on the top 3 crime\n",
    "\n",
    "We wanted to look at the number of crimes committed each year for the top three crimes:\n",
    "\n",
    "* BATTERY - SIMPLE ASSAULT\n",
    "* BURGLARY FROM VEHICLE\n",
    "* VEHICLE - STOLEN"
   ]
  },
  {
   "cell_type": "markdown",
   "metadata": {},
   "source": [
    "#### Year analysis"
   ]
  },
  {
   "cell_type": "code",
   "execution_count": 81,
   "metadata": {},
   "outputs": [
    {
     "name": "stdout",
     "output_type": "stream",
     "text": [
      "8 rows affected.\n"
     ]
    },
    {
     "data": {
      "text/html": [
       "<table>\n",
       "    <tr>\n",
       "        <th>crime_description</th>\n",
       "        <th>year</th>\n",
       "        <th>count</th>\n",
       "    </tr>\n",
       "    <tr>\n",
       "        <td>BATTERY - SIMPLE ASSAULT</td>\n",
       "        <td>2010</td>\n",
       "        <td>20519</td>\n",
       "    </tr>\n",
       "    <tr>\n",
       "        <td>BATTERY - SIMPLE ASSAULT</td>\n",
       "        <td>2011</td>\n",
       "        <td>19902</td>\n",
       "    </tr>\n",
       "    <tr>\n",
       "        <td>BATTERY - SIMPLE ASSAULT</td>\n",
       "        <td>2012</td>\n",
       "        <td>19815</td>\n",
       "    </tr>\n",
       "    <tr>\n",
       "        <td>BATTERY - SIMPLE ASSAULT</td>\n",
       "        <td>2013</td>\n",
       "        <td>18924</td>\n",
       "    </tr>\n",
       "    <tr>\n",
       "        <td>BATTERY - SIMPLE ASSAULT</td>\n",
       "        <td>2014</td>\n",
       "        <td>18403</td>\n",
       "    </tr>\n",
       "    <tr>\n",
       "        <td>BATTERY - SIMPLE ASSAULT</td>\n",
       "        <td>2015</td>\n",
       "        <td>17583</td>\n",
       "    </tr>\n",
       "    <tr>\n",
       "        <td>BATTERY - SIMPLE ASSAULT</td>\n",
       "        <td>2016</td>\n",
       "        <td>17915</td>\n",
       "    </tr>\n",
       "    <tr>\n",
       "        <td>BATTERY - SIMPLE ASSAULT</td>\n",
       "        <td>2017</td>\n",
       "        <td>15889</td>\n",
       "    </tr>\n",
       "</table>"
      ],
      "text/plain": [
       "[('BATTERY - SIMPLE ASSAULT', 2010, 20519),\n",
       " ('BATTERY - SIMPLE ASSAULT', 2011, 19902),\n",
       " ('BATTERY - SIMPLE ASSAULT', 2012, 19815),\n",
       " ('BATTERY - SIMPLE ASSAULT', 2013, 18924),\n",
       " ('BATTERY - SIMPLE ASSAULT', 2014, 18403),\n",
       " ('BATTERY - SIMPLE ASSAULT', 2015, 17583),\n",
       " ('BATTERY - SIMPLE ASSAULT', 2016, 17915),\n",
       " ('BATTERY - SIMPLE ASSAULT', 2017, 15889)]"
      ]
     },
     "execution_count": 81,
     "metadata": {},
     "output_type": "execute_result"
    }
   ],
   "source": [
    "%%sql\n",
    "SELECT crime_description, year, COUNT(crime_description)\n",
    "FROM crime_facts\n",
    "JOIN crime\n",
    "ON crime_facts.crime_key = crime.crime_key\n",
    "JOIN occured_time\n",
    "ON crime_facts.occured_time_key = occured_time.occured_time_key\n",
    "WHERE crime_description = 'BATTERY - SIMPLE ASSAULT'\n",
    "GROUP BY year, crime_description\n",
    "ORDER BY year "
   ]
  },
  {
   "cell_type": "code",
   "execution_count": 82,
   "metadata": {},
   "outputs": [
    {
     "data": {
      "text/plain": [
       "<Container object of 8 artists>"
      ]
     },
     "execution_count": 82,
     "metadata": {},
     "output_type": "execute_result"
    },
    {
     "data": {
      "image/png": "[encoded data removed]",
      "text/plain": [
       "<matplotlib.figure.Figure at 0x7ffacf39e1d0>"
      ]
     },
     "metadata": {},
     "output_type": "display_data"
    }
   ],
   "source": [
    "%matplotlib inline\n",
    "_.bar()"
   ]
  },
  {
   "cell_type": "code",
   "execution_count": 97,
   "metadata": {},
   "outputs": [
    {
     "name": "stdout",
     "output_type": "stream",
     "text": [
      "8 rows affected.\n"
     ]
    },
    {
     "data": {
      "text/html": [
       "<table>\n",
       "    <tr>\n",
       "        <th>crime_description</th>\n",
       "        <th>year</th>\n",
       "        <th>count</th>\n",
       "    </tr>\n",
       "    <tr>\n",
       "        <td>BURGLARY FROM VEHICLE</td>\n",
       "        <td>2010</td>\n",
       "        <td>17684</td>\n",
       "    </tr>\n",
       "    <tr>\n",
       "        <td>BURGLARY FROM VEHICLE</td>\n",
       "        <td>2011</td>\n",
       "        <td>15883</td>\n",
       "    </tr>\n",
       "    <tr>\n",
       "        <td>BURGLARY FROM VEHICLE</td>\n",
       "        <td>2012</td>\n",
       "        <td>15911</td>\n",
       "    </tr>\n",
       "    <tr>\n",
       "        <td>BURGLARY FROM VEHICLE</td>\n",
       "        <td>2013</td>\n",
       "        <td>15500</td>\n",
       "    </tr>\n",
       "    <tr>\n",
       "        <td>BURGLARY FROM VEHICLE</td>\n",
       "        <td>2014</td>\n",
       "        <td>13074</td>\n",
       "    </tr>\n",
       "    <tr>\n",
       "        <td>BURGLARY FROM VEHICLE</td>\n",
       "        <td>2015</td>\n",
       "        <td>14464</td>\n",
       "    </tr>\n",
       "    <tr>\n",
       "        <td>BURGLARY FROM VEHICLE</td>\n",
       "        <td>2016</td>\n",
       "        <td>16750</td>\n",
       "    </tr>\n",
       "    <tr>\n",
       "        <td>BURGLARY FROM VEHICLE</td>\n",
       "        <td>2017</td>\n",
       "        <td>15049</td>\n",
       "    </tr>\n",
       "</table>"
      ],
      "text/plain": [
       "[('BURGLARY FROM VEHICLE', 2010, 17684),\n",
       " ('BURGLARY FROM VEHICLE', 2011, 15883),\n",
       " ('BURGLARY FROM VEHICLE', 2012, 15911),\n",
       " ('BURGLARY FROM VEHICLE', 2013, 15500),\n",
       " ('BURGLARY FROM VEHICLE', 2014, 13074),\n",
       " ('BURGLARY FROM VEHICLE', 2015, 14464),\n",
       " ('BURGLARY FROM VEHICLE', 2016, 16750),\n",
       " ('BURGLARY FROM VEHICLE', 2017, 15049)]"
      ]
     },
     "execution_count": 97,
     "metadata": {},
     "output_type": "execute_result"
    }
   ],
   "source": [
    "%%sql\n",
    "SELECT crime_description, year, COUNT(crime_description)\n",
    "FROM crime_facts\n",
    "JOIN crime\n",
    "ON crime_facts.crime_key = crime.crime_key\n",
    "JOIN occured_time\n",
    "ON crime_facts.occured_time_key = occured_time.occured_time_key\n",
    "WHERE crime_description = 'BURGLARY FROM VEHICLE'\n",
    "GROUP BY year, crime_description\n",
    "ORDER BY year "
   ]
  },
  {
   "cell_type": "code",
   "execution_count": 98,
   "metadata": {},
   "outputs": [
    {
     "data": {
      "text/plain": [
       "<Container object of 8 artists>"
      ]
     },
     "execution_count": 98,
     "metadata": {},
     "output_type": "execute_result"
    },
    {
     "data": {
      "image/png": "[encoded data removed]",
      "text/plain": [
       "<matplotlib.figure.Figure at 0x7ffacf00c7f0>"
      ]
     },
     "metadata": {},
     "output_type": "display_data"
    }
   ],
   "source": [
    "%matplotlib inline\n",
    "_.bar()"
   ]
  },
  {
   "cell_type": "code",
   "execution_count": 99,
   "metadata": {},
   "outputs": [
    {
     "name": "stdout",
     "output_type": "stream",
     "text": [
      "8 rows affected.\n"
     ]
    },
    {
     "data": {
      "text/html": [
       "<table>\n",
       "    <tr>\n",
       "        <th>crime_description</th>\n",
       "        <th>year</th>\n",
       "        <th>count</th>\n",
       "    </tr>\n",
       "    <tr>\n",
       "        <td>VEHICLE - STOLEN</td>\n",
       "        <td>2010</td>\n",
       "        <td>16656</td>\n",
       "    </tr>\n",
       "    <tr>\n",
       "        <td>VEHICLE - STOLEN</td>\n",
       "        <td>2011</td>\n",
       "        <td>15164</td>\n",
       "    </tr>\n",
       "    <tr>\n",
       "        <td>VEHICLE - STOLEN</td>\n",
       "        <td>2012</td>\n",
       "        <td>14821</td>\n",
       "    </tr>\n",
       "    <tr>\n",
       "        <td>VEHICLE - STOLEN</td>\n",
       "        <td>2013</td>\n",
       "        <td>13938</td>\n",
       "    </tr>\n",
       "    <tr>\n",
       "        <td>VEHICLE - STOLEN</td>\n",
       "        <td>2014</td>\n",
       "        <td>13693</td>\n",
       "    </tr>\n",
       "    <tr>\n",
       "        <td>VEHICLE - STOLEN</td>\n",
       "        <td>2015</td>\n",
       "        <td>16049</td>\n",
       "    </tr>\n",
       "    <tr>\n",
       "        <td>VEHICLE - STOLEN</td>\n",
       "        <td>2016</td>\n",
       "        <td>18299</td>\n",
       "    </tr>\n",
       "    <tr>\n",
       "        <td>VEHICLE - STOLEN</td>\n",
       "        <td>2017</td>\n",
       "        <td>15618</td>\n",
       "    </tr>\n",
       "</table>"
      ],
      "text/plain": [
       "[('VEHICLE - STOLEN', 2010, 16656),\n",
       " ('VEHICLE - STOLEN', 2011, 15164),\n",
       " ('VEHICLE - STOLEN', 2012, 14821),\n",
       " ('VEHICLE - STOLEN', 2013, 13938),\n",
       " ('VEHICLE - STOLEN', 2014, 13693),\n",
       " ('VEHICLE - STOLEN', 2015, 16049),\n",
       " ('VEHICLE - STOLEN', 2016, 18299),\n",
       " ('VEHICLE - STOLEN', 2017, 15618)]"
      ]
     },
     "execution_count": 99,
     "metadata": {},
     "output_type": "execute_result"
    }
   ],
   "source": [
    "%%sql\n",
    "SELECT crime_description, year, COUNT(crime_description)\n",
    "FROM crime_facts\n",
    "JOIN crime\n",
    "ON crime_facts.crime_key = crime.crime_key\n",
    "JOIN occured_time\n",
    "ON crime_facts.occured_time_key = occured_time.occured_time_key\n",
    "WHERE crime_description = 'VEHICLE - STOLEN'\n",
    "GROUP BY year, crime_description\n",
    "ORDER BY year "
   ]
  },
  {
   "cell_type": "code",
   "execution_count": 100,
   "metadata": {},
   "outputs": [
    {
     "data": {
      "text/plain": [
       "<Container object of 8 artists>"
      ]
     },
     "execution_count": 100,
     "metadata": {},
     "output_type": "execute_result"
    },
    {
     "data": {
      "image/png": "[encoded data removed]",
      "text/plain": [
       "<matplotlib.figure.Figure at 0x7ffacf00e9e8>"
      ]
     },
     "metadata": {},
     "output_type": "display_data"
    }
   ],
   "source": [
    "_.bar()"
   ]
  },
  {
   "cell_type": "markdown",
   "metadata": {},
   "source": [
    "#### Month analysis"
   ]
  },
  {
   "cell_type": "markdown",
   "metadata": {},
   "source": [
    "We continued to do this analysis with these crimes each month."
   ]
  },
  {
   "cell_type": "code",
   "execution_count": 83,
   "metadata": {},
   "outputs": [
    {
     "name": "stdout",
     "output_type": "stream",
     "text": [
      "12 rows affected.\n"
     ]
    },
    {
     "data": {
      "text/html": [
       "<table>\n",
       "    <tr>\n",
       "        <th>crime_description</th>\n",
       "        <th>month</th>\n",
       "        <th>count</th>\n",
       "    </tr>\n",
       "    <tr>\n",
       "        <td>BATTERY - SIMPLE ASSAULT</td>\n",
       "        <td>1</td>\n",
       "        <td>11678</td>\n",
       "    </tr>\n",
       "    <tr>\n",
       "        <td>BATTERY - SIMPLE ASSAULT</td>\n",
       "        <td>2</td>\n",
       "        <td>10988</td>\n",
       "    </tr>\n",
       "    <tr>\n",
       "        <td>BATTERY - SIMPLE ASSAULT</td>\n",
       "        <td>3</td>\n",
       "        <td>12829</td>\n",
       "    </tr>\n",
       "    <tr>\n",
       "        <td>BATTERY - SIMPLE ASSAULT</td>\n",
       "        <td>4</td>\n",
       "        <td>12626</td>\n",
       "    </tr>\n",
       "    <tr>\n",
       "        <td>BATTERY - SIMPLE ASSAULT</td>\n",
       "        <td>5</td>\n",
       "        <td>13697</td>\n",
       "    </tr>\n",
       "    <tr>\n",
       "        <td>BATTERY - SIMPLE ASSAULT</td>\n",
       "        <td>6</td>\n",
       "        <td>13069</td>\n",
       "    </tr>\n",
       "    <tr>\n",
       "        <td>BATTERY - SIMPLE ASSAULT</td>\n",
       "        <td>7</td>\n",
       "        <td>13509</td>\n",
       "    </tr>\n",
       "    <tr>\n",
       "        <td>BATTERY - SIMPLE ASSAULT</td>\n",
       "        <td>8</td>\n",
       "        <td>13546</td>\n",
       "    </tr>\n",
       "    <tr>\n",
       "        <td>BATTERY - SIMPLE ASSAULT</td>\n",
       "        <td>9</td>\n",
       "        <td>13221</td>\n",
       "    </tr>\n",
       "    <tr>\n",
       "        <td>BATTERY - SIMPLE ASSAULT</td>\n",
       "        <td>10</td>\n",
       "        <td>13526</td>\n",
       "    </tr>\n",
       "    <tr>\n",
       "        <td>BATTERY - SIMPLE ASSAULT</td>\n",
       "        <td>11</td>\n",
       "        <td>10178</td>\n",
       "    </tr>\n",
       "    <tr>\n",
       "        <td>BATTERY - SIMPLE ASSAULT</td>\n",
       "        <td>12</td>\n",
       "        <td>10083</td>\n",
       "    </tr>\n",
       "</table>"
      ],
      "text/plain": [
       "[('BATTERY - SIMPLE ASSAULT', 1, 11678),\n",
       " ('BATTERY - SIMPLE ASSAULT', 2, 10988),\n",
       " ('BATTERY - SIMPLE ASSAULT', 3, 12829),\n",
       " ('BATTERY - SIMPLE ASSAULT', 4, 12626),\n",
       " ('BATTERY - SIMPLE ASSAULT', 5, 13697),\n",
       " ('BATTERY - SIMPLE ASSAULT', 6, 13069),\n",
       " ('BATTERY - SIMPLE ASSAULT', 7, 13509),\n",
       " ('BATTERY - SIMPLE ASSAULT', 8, 13546),\n",
       " ('BATTERY - SIMPLE ASSAULT', 9, 13221),\n",
       " ('BATTERY - SIMPLE ASSAULT', 10, 13526),\n",
       " ('BATTERY - SIMPLE ASSAULT', 11, 10178),\n",
       " ('BATTERY - SIMPLE ASSAULT', 12, 10083)]"
      ]
     },
     "execution_count": 83,
     "metadata": {},
     "output_type": "execute_result"
    }
   ],
   "source": [
    "%%sql\n",
    "SELECT crime_description, month, COUNT(crime_description)\n",
    "FROM crime_facts\n",
    "JOIN crime\n",
    "ON crime_facts.crime_key = crime.crime_key\n",
    "JOIN occured_time\n",
    "ON crime_facts.occured_time_key = occured_time.occured_time_key\n",
    "WHERE crime_description = 'BATTERY - SIMPLE ASSAULT'\n",
    "GROUP BY month, crime_description\n",
    "ORDER BY month "
   ]
  },
  {
   "cell_type": "code",
   "execution_count": 84,
   "metadata": {},
   "outputs": [
    {
     "data": {
      "text/plain": [
       "<Container object of 12 artists>"
      ]
     },
     "execution_count": 84,
     "metadata": {},
     "output_type": "execute_result"
    },
    {
     "data": {
      "image/png": "[encoded data removed]",
      "text/plain": [
       "<matplotlib.figure.Figure at 0x7ffad16880b8>"
      ]
     },
     "metadata": {},
     "output_type": "display_data"
    }
   ],
   "source": [
    "%matplotlib inline\n",
    "_.bar()"
   ]
  },
  {
   "cell_type": "code",
   "execution_count": 101,
   "metadata": {},
   "outputs": [
    {
     "name": "stdout",
     "output_type": "stream",
     "text": [
      "12 rows affected.\n"
     ]
    },
    {
     "data": {
      "text/html": [
       "<table>\n",
       "    <tr>\n",
       "        <th>crime_description</th>\n",
       "        <th>month</th>\n",
       "        <th>count</th>\n",
       "    </tr>\n",
       "    <tr>\n",
       "        <td>BURGLARY FROM VEHICLE</td>\n",
       "        <td>1</td>\n",
       "        <td>11621</td>\n",
       "    </tr>\n",
       "    <tr>\n",
       "        <td>BURGLARY FROM VEHICLE</td>\n",
       "        <td>2</td>\n",
       "        <td>10116</td>\n",
       "    </tr>\n",
       "    <tr>\n",
       "        <td>BURGLARY FROM VEHICLE</td>\n",
       "        <td>3</td>\n",
       "        <td>10631</td>\n",
       "    </tr>\n",
       "    <tr>\n",
       "        <td>BURGLARY FROM VEHICLE</td>\n",
       "        <td>4</td>\n",
       "        <td>10535</td>\n",
       "    </tr>\n",
       "    <tr>\n",
       "        <td>BURGLARY FROM VEHICLE</td>\n",
       "        <td>5</td>\n",
       "        <td>10636</td>\n",
       "    </tr>\n",
       "    <tr>\n",
       "        <td>BURGLARY FROM VEHICLE</td>\n",
       "        <td>6</td>\n",
       "        <td>10197</td>\n",
       "    </tr>\n",
       "    <tr>\n",
       "        <td>BURGLARY FROM VEHICLE</td>\n",
       "        <td>7</td>\n",
       "        <td>10587</td>\n",
       "    </tr>\n",
       "    <tr>\n",
       "        <td>BURGLARY FROM VEHICLE</td>\n",
       "        <td>8</td>\n",
       "        <td>10313</td>\n",
       "    </tr>\n",
       "    <tr>\n",
       "        <td>BURGLARY FROM VEHICLE</td>\n",
       "        <td>9</td>\n",
       "        <td>10049</td>\n",
       "    </tr>\n",
       "    <tr>\n",
       "        <td>BURGLARY FROM VEHICLE</td>\n",
       "        <td>10</td>\n",
       "        <td>10701</td>\n",
       "    </tr>\n",
       "    <tr>\n",
       "        <td>BURGLARY FROM VEHICLE</td>\n",
       "        <td>11</td>\n",
       "        <td>8904</td>\n",
       "    </tr>\n",
       "    <tr>\n",
       "        <td>BURGLARY FROM VEHICLE</td>\n",
       "        <td>12</td>\n",
       "        <td>10025</td>\n",
       "    </tr>\n",
       "</table>"
      ],
      "text/plain": [
       "[('BURGLARY FROM VEHICLE', 1, 11621),\n",
       " ('BURGLARY FROM VEHICLE', 2, 10116),\n",
       " ('BURGLARY FROM VEHICLE', 3, 10631),\n",
       " ('BURGLARY FROM VEHICLE', 4, 10535),\n",
       " ('BURGLARY FROM VEHICLE', 5, 10636),\n",
       " ('BURGLARY FROM VEHICLE', 6, 10197),\n",
       " ('BURGLARY FROM VEHICLE', 7, 10587),\n",
       " ('BURGLARY FROM VEHICLE', 8, 10313),\n",
       " ('BURGLARY FROM VEHICLE', 9, 10049),\n",
       " ('BURGLARY FROM VEHICLE', 10, 10701),\n",
       " ('BURGLARY FROM VEHICLE', 11, 8904),\n",
       " ('BURGLARY FROM VEHICLE', 12, 10025)]"
      ]
     },
     "execution_count": 101,
     "metadata": {},
     "output_type": "execute_result"
    }
   ],
   "source": [
    "%%sql\n",
    "SELECT crime_description, month, COUNT(crime_description)\n",
    "FROM crime_facts\n",
    "JOIN crime\n",
    "ON crime_facts.crime_key = crime.crime_key\n",
    "JOIN occured_time\n",
    "ON crime_facts.occured_time_key = occured_time.occured_time_key\n",
    "WHERE crime_description = 'BURGLARY FROM VEHICLE'\n",
    "GROUP BY month, crime_description\n",
    "ORDER BY month "
   ]
  },
  {
   "cell_type": "code",
   "execution_count": 102,
   "metadata": {},
   "outputs": [
    {
     "data": {
      "text/plain": [
       "<Container object of 12 artists>"
      ]
     },
     "execution_count": 102,
     "metadata": {},
     "output_type": "execute_result"
    },
    {
     "data": {
      "image/png": "[encoded data removed]",
      "text/plain": [
       "<matplotlib.figure.Figure at 0x7ffacee78588>"
      ]
     },
     "metadata": {},
     "output_type": "display_data"
    }
   ],
   "source": [
    "_.bar()"
   ]
  },
  {
   "cell_type": "code",
   "execution_count": 103,
   "metadata": {},
   "outputs": [
    {
     "name": "stdout",
     "output_type": "stream",
     "text": [
      "12 rows affected.\n"
     ]
    },
    {
     "data": {
      "text/html": [
       "<table>\n",
       "    <tr>\n",
       "        <th>crime_description</th>\n",
       "        <th>month</th>\n",
       "        <th>count</th>\n",
       "    </tr>\n",
       "    <tr>\n",
       "        <td>VEHICLE - STOLEN</td>\n",
       "        <td>1</td>\n",
       "        <td>11214</td>\n",
       "    </tr>\n",
       "    <tr>\n",
       "        <td>VEHICLE - STOLEN</td>\n",
       "        <td>2</td>\n",
       "        <td>9506</td>\n",
       "    </tr>\n",
       "    <tr>\n",
       "        <td>VEHICLE - STOLEN</td>\n",
       "        <td>3</td>\n",
       "        <td>10225</td>\n",
       "    </tr>\n",
       "    <tr>\n",
       "        <td>VEHICLE - STOLEN</td>\n",
       "        <td>4</td>\n",
       "        <td>9962</td>\n",
       "    </tr>\n",
       "    <tr>\n",
       "        <td>VEHICLE - STOLEN</td>\n",
       "        <td>5</td>\n",
       "        <td>10441</td>\n",
       "    </tr>\n",
       "    <tr>\n",
       "        <td>VEHICLE - STOLEN</td>\n",
       "        <td>6</td>\n",
       "        <td>10366</td>\n",
       "    </tr>\n",
       "    <tr>\n",
       "        <td>VEHICLE - STOLEN</td>\n",
       "        <td>7</td>\n",
       "        <td>10699</td>\n",
       "    </tr>\n",
       "    <tr>\n",
       "        <td>VEHICLE - STOLEN</td>\n",
       "        <td>8</td>\n",
       "        <td>10790</td>\n",
       "    </tr>\n",
       "    <tr>\n",
       "        <td>VEHICLE - STOLEN</td>\n",
       "        <td>9</td>\n",
       "        <td>10283</td>\n",
       "    </tr>\n",
       "    <tr>\n",
       "        <td>VEHICLE - STOLEN</td>\n",
       "        <td>10</td>\n",
       "        <td>11367</td>\n",
       "    </tr>\n",
       "    <tr>\n",
       "        <td>VEHICLE - STOLEN</td>\n",
       "        <td>11</td>\n",
       "        <td>9560</td>\n",
       "    </tr>\n",
       "    <tr>\n",
       "        <td>VEHICLE - STOLEN</td>\n",
       "        <td>12</td>\n",
       "        <td>9825</td>\n",
       "    </tr>\n",
       "</table>"
      ],
      "text/plain": [
       "[('VEHICLE - STOLEN', 1, 11214),\n",
       " ('VEHICLE - STOLEN', 2, 9506),\n",
       " ('VEHICLE - STOLEN', 3, 10225),\n",
       " ('VEHICLE - STOLEN', 4, 9962),\n",
       " ('VEHICLE - STOLEN', 5, 10441),\n",
       " ('VEHICLE - STOLEN', 6, 10366),\n",
       " ('VEHICLE - STOLEN', 7, 10699),\n",
       " ('VEHICLE - STOLEN', 8, 10790),\n",
       " ('VEHICLE - STOLEN', 9, 10283),\n",
       " ('VEHICLE - STOLEN', 10, 11367),\n",
       " ('VEHICLE - STOLEN', 11, 9560),\n",
       " ('VEHICLE - STOLEN', 12, 9825)]"
      ]
     },
     "execution_count": 103,
     "metadata": {},
     "output_type": "execute_result"
    }
   ],
   "source": [
    "%%sql\n",
    "SELECT crime_description, month, COUNT(crime_description)\n",
    "FROM crime_facts\n",
    "JOIN crime\n",
    "ON crime_facts.crime_key = crime.crime_key\n",
    "JOIN occured_time\n",
    "ON crime_facts.occured_time_key = occured_time.occured_time_key\n",
    "WHERE crime_description = 'VEHICLE - STOLEN'\n",
    "GROUP BY month, crime_description\n",
    "ORDER BY month "
   ]
  },
  {
   "cell_type": "code",
   "execution_count": 104,
   "metadata": {},
   "outputs": [
    {
     "data": {
      "text/plain": [
       "<Container object of 12 artists>"
      ]
     },
     "execution_count": 104,
     "metadata": {},
     "output_type": "execute_result"
    },
    {
     "data": {
      "image/png": "[encoded data removed]",
      "text/plain": [
       "<matplotlib.figure.Figure at 0x7ffacf00e748>"
      ]
     },
     "metadata": {},
     "output_type": "display_data"
    }
   ],
   "source": [
    "_.bar()"
   ]
  },
  {
   "cell_type": "markdown",
   "metadata": {},
   "source": [
    "#### Weekday analysis"
   ]
  },
  {
   "cell_type": "markdown",
   "metadata": {},
   "source": [
    "Following months, we did the same crime analysis for each day of the week."
   ]
  },
  {
   "cell_type": "code",
   "execution_count": 85,
   "metadata": {},
   "outputs": [
    {
     "name": "stdout",
     "output_type": "stream",
     "text": [
      "7 rows affected.\n"
     ]
    },
    {
     "data": {
      "text/html": [
       "<table>\n",
       "    <tr>\n",
       "        <th>crime_description</th>\n",
       "        <th>day_of_week</th>\n",
       "        <th>count</th>\n",
       "    </tr>\n",
       "    <tr>\n",
       "        <td>BATTERY - SIMPLE ASSAULT</td>\n",
       "        <td>Sunday   </td>\n",
       "        <td>23914</td>\n",
       "    </tr>\n",
       "    <tr>\n",
       "        <td>BATTERY - SIMPLE ASSAULT</td>\n",
       "        <td>Monday   </td>\n",
       "        <td>20421</td>\n",
       "    </tr>\n",
       "    <tr>\n",
       "        <td>BATTERY - SIMPLE ASSAULT</td>\n",
       "        <td>Tuesday  </td>\n",
       "        <td>19969</td>\n",
       "    </tr>\n",
       "    <tr>\n",
       "        <td>BATTERY - SIMPLE ASSAULT</td>\n",
       "        <td>Wednesday</td>\n",
       "        <td>20364</td>\n",
       "    </tr>\n",
       "    <tr>\n",
       "        <td>BATTERY - SIMPLE ASSAULT</td>\n",
       "        <td>Thursday </td>\n",
       "        <td>19967</td>\n",
       "    </tr>\n",
       "    <tr>\n",
       "        <td>BATTERY - SIMPLE ASSAULT</td>\n",
       "        <td>Friday   </td>\n",
       "        <td>21498</td>\n",
       "    </tr>\n",
       "    <tr>\n",
       "        <td>BATTERY - SIMPLE ASSAULT</td>\n",
       "        <td>Saturday </td>\n",
       "        <td>22817</td>\n",
       "    </tr>\n",
       "</table>"
      ],
      "text/plain": [
       "[('BATTERY - SIMPLE ASSAULT', 'Sunday   ', 23914),\n",
       " ('BATTERY - SIMPLE ASSAULT', 'Monday   ', 20421),\n",
       " ('BATTERY - SIMPLE ASSAULT', 'Tuesday  ', 19969),\n",
       " ('BATTERY - SIMPLE ASSAULT', 'Wednesday', 20364),\n",
       " ('BATTERY - SIMPLE ASSAULT', 'Thursday ', 19967),\n",
       " ('BATTERY - SIMPLE ASSAULT', 'Friday   ', 21498),\n",
       " ('BATTERY - SIMPLE ASSAULT', 'Saturday ', 22817)]"
      ]
     },
     "execution_count": 85,
     "metadata": {},
     "output_type": "execute_result"
    }
   ],
   "source": [
    "%%sql\n",
    "SELECT crime_description, day_of_week, COUNT(crime_description)\n",
    "FROM crime_facts\n",
    "JOIN crime\n",
    "ON crime_facts.crime_key = crime.crime_key\n",
    "JOIN occured_time\n",
    "ON crime_facts.occured_time_key = occured_time.occured_time_key\n",
    "WHERE crime_description = 'BATTERY - SIMPLE ASSAULT'\n",
    "GROUP BY day_of_week_num, day_of_week, crime_description\n",
    "ORDER BY day_of_week_num"
   ]
  },
  {
   "cell_type": "code",
   "execution_count": 86,
   "metadata": {},
   "outputs": [
    {
     "data": {
      "text/plain": [
       "<Container object of 7 artists>"
      ]
     },
     "execution_count": 86,
     "metadata": {},
     "output_type": "execute_result"
    },
    {
     "data": {
      "image/png": "[encoded data removed]",
      "text/plain": [
       "<matplotlib.figure.Figure at 0x7ffacf1374a8>"
      ]
     },
     "metadata": {},
     "output_type": "display_data"
    }
   ],
   "source": [
    "%matplotlib inline\n",
    "_.bar()"
   ]
  },
  {
   "cell_type": "code",
   "execution_count": 105,
   "metadata": {},
   "outputs": [
    {
     "name": "stdout",
     "output_type": "stream",
     "text": [
      "7 rows affected.\n"
     ]
    },
    {
     "data": {
      "text/html": [
       "<table>\n",
       "    <tr>\n",
       "        <th>crime_description</th>\n",
       "        <th>day_of_week</th>\n",
       "        <th>count</th>\n",
       "    </tr>\n",
       "    <tr>\n",
       "        <td>BURGLARY FROM VEHICLE</td>\n",
       "        <td>Sunday   </td>\n",
       "        <td>17691</td>\n",
       "    </tr>\n",
       "    <tr>\n",
       "        <td>BURGLARY FROM VEHICLE</td>\n",
       "        <td>Monday   </td>\n",
       "        <td>17039</td>\n",
       "    </tr>\n",
       "    <tr>\n",
       "        <td>BURGLARY FROM VEHICLE</td>\n",
       "        <td>Tuesday  </td>\n",
       "        <td>17489</td>\n",
       "    </tr>\n",
       "    <tr>\n",
       "        <td>BURGLARY FROM VEHICLE</td>\n",
       "        <td>Wednesday</td>\n",
       "        <td>17629</td>\n",
       "    </tr>\n",
       "    <tr>\n",
       "        <td>BURGLARY FROM VEHICLE</td>\n",
       "        <td>Thursday </td>\n",
       "        <td>17421</td>\n",
       "    </tr>\n",
       "    <tr>\n",
       "        <td>BURGLARY FROM VEHICLE</td>\n",
       "        <td>Friday   </td>\n",
       "        <td>18436</td>\n",
       "    </tr>\n",
       "    <tr>\n",
       "        <td>BURGLARY FROM VEHICLE</td>\n",
       "        <td>Saturday </td>\n",
       "        <td>18610</td>\n",
       "    </tr>\n",
       "</table>"
      ],
      "text/plain": [
       "[('BURGLARY FROM VEHICLE', 'Sunday   ', 17691),\n",
       " ('BURGLARY FROM VEHICLE', 'Monday   ', 17039),\n",
       " ('BURGLARY FROM VEHICLE', 'Tuesday  ', 17489),\n",
       " ('BURGLARY FROM VEHICLE', 'Wednesday', 17629),\n",
       " ('BURGLARY FROM VEHICLE', 'Thursday ', 17421),\n",
       " ('BURGLARY FROM VEHICLE', 'Friday   ', 18436),\n",
       " ('BURGLARY FROM VEHICLE', 'Saturday ', 18610)]"
      ]
     },
     "execution_count": 105,
     "metadata": {},
     "output_type": "execute_result"
    }
   ],
   "source": [
    "%%sql\n",
    "SELECT crime_description, day_of_week, COUNT(crime_description)\n",
    "FROM crime_facts\n",
    "JOIN crime\n",
    "ON crime_facts.crime_key = crime.crime_key\n",
    "JOIN occured_time\n",
    "ON crime_facts.occured_time_key = occured_time.occured_time_key\n",
    "WHERE crime_description = 'BURGLARY FROM VEHICLE'\n",
    "GROUP BY day_of_week_num, day_of_week, crime_description\n",
    "ORDER BY day_of_week_num"
   ]
  },
  {
   "cell_type": "code",
   "execution_count": 106,
   "metadata": {},
   "outputs": [
    {
     "data": {
      "text/plain": [
       "<Container object of 7 artists>"
      ]
     },
     "execution_count": 106,
     "metadata": {},
     "output_type": "execute_result"
    },
    {
     "data": {
      "image/png": "[encoded data removed]",
      "text/plain": [
       "<matplotlib.figure.Figure at 0x7ffaced38be0>"
      ]
     },
     "metadata": {},
     "output_type": "display_data"
    }
   ],
   "source": [
    "_.bar()"
   ]
  },
  {
   "cell_type": "code",
   "execution_count": 107,
   "metadata": {},
   "outputs": [
    {
     "name": "stdout",
     "output_type": "stream",
     "text": [
      "7 rows affected.\n"
     ]
    },
    {
     "data": {
      "text/html": [
       "<table>\n",
       "    <tr>\n",
       "        <th>crime_description</th>\n",
       "        <th>day_of_week</th>\n",
       "        <th>count</th>\n",
       "    </tr>\n",
       "    <tr>\n",
       "        <td>VEHICLE - STOLEN</td>\n",
       "        <td>Sunday   </td>\n",
       "        <td>17392</td>\n",
       "    </tr>\n",
       "    <tr>\n",
       "        <td>VEHICLE - STOLEN</td>\n",
       "        <td>Monday   </td>\n",
       "        <td>17227</td>\n",
       "    </tr>\n",
       "    <tr>\n",
       "        <td>VEHICLE - STOLEN</td>\n",
       "        <td>Tuesday  </td>\n",
       "        <td>17124</td>\n",
       "    </tr>\n",
       "    <tr>\n",
       "        <td>VEHICLE - STOLEN</td>\n",
       "        <td>Wednesday</td>\n",
       "        <td>17536</td>\n",
       "    </tr>\n",
       "    <tr>\n",
       "        <td>VEHICLE - STOLEN</td>\n",
       "        <td>Thursday </td>\n",
       "        <td>17364</td>\n",
       "    </tr>\n",
       "    <tr>\n",
       "        <td>VEHICLE - STOLEN</td>\n",
       "        <td>Friday   </td>\n",
       "        <td>18934</td>\n",
       "    </tr>\n",
       "    <tr>\n",
       "        <td>VEHICLE - STOLEN</td>\n",
       "        <td>Saturday </td>\n",
       "        <td>18661</td>\n",
       "    </tr>\n",
       "</table>"
      ],
      "text/plain": [
       "[('VEHICLE - STOLEN', 'Sunday   ', 17392),\n",
       " ('VEHICLE - STOLEN', 'Monday   ', 17227),\n",
       " ('VEHICLE - STOLEN', 'Tuesday  ', 17124),\n",
       " ('VEHICLE - STOLEN', 'Wednesday', 17536),\n",
       " ('VEHICLE - STOLEN', 'Thursday ', 17364),\n",
       " ('VEHICLE - STOLEN', 'Friday   ', 18934),\n",
       " ('VEHICLE - STOLEN', 'Saturday ', 18661)]"
      ]
     },
     "execution_count": 107,
     "metadata": {},
     "output_type": "execute_result"
    }
   ],
   "source": [
    "%%sql\n",
    "SELECT crime_description, day_of_week, COUNT(crime_description)\n",
    "FROM crime_facts\n",
    "JOIN crime\n",
    "ON crime_facts.crime_key = crime.crime_key\n",
    "JOIN occured_time\n",
    "ON crime_facts.occured_time_key = occured_time.occured_time_key\n",
    "WHERE crime_description = 'VEHICLE - STOLEN'\n",
    "GROUP BY day_of_week_num, day_of_week, crime_description\n",
    "ORDER BY day_of_week_num"
   ]
  },
  {
   "cell_type": "code",
   "execution_count": 108,
   "metadata": {},
   "outputs": [
    {
     "data": {
      "text/plain": [
       "<Container object of 7 artists>"
      ]
     },
     "execution_count": 108,
     "metadata": {},
     "output_type": "execute_result"
    },
    {
     "data": {
      "image/png": "[encoded data removed]",
      "text/plain": [
       "<matplotlib.figure.Figure at 0x7ffaced81780>"
      ]
     },
     "metadata": {},
     "output_type": "display_data"
    }
   ],
   "source": [
    "_.bar()"
   ]
  },
  {
   "cell_type": "markdown",
   "metadata": {},
   "source": [
    "#### Hour analysis"
   ]
  },
  {
   "cell_type": "markdown",
   "metadata": {},
   "source": [
    "We even took it down to the hour - most crimes occurred in the evening."
   ]
  },
  {
   "cell_type": "code",
   "execution_count": 87,
   "metadata": {},
   "outputs": [
    {
     "name": "stdout",
     "output_type": "stream",
     "text": [
      "24 rows affected.\n"
     ]
    },
    {
     "data": {
      "text/html": [
       "<table>\n",
       "    <tr>\n",
       "        <th>crime_description</th>\n",
       "        <th>occured_hour</th>\n",
       "        <th>count</th>\n",
       "    </tr>\n",
       "    <tr>\n",
       "        <td>BATTERY - SIMPLE ASSAULT</td>\n",
       "        <td>0</td>\n",
       "        <td>5290</td>\n",
       "    </tr>\n",
       "    <tr>\n",
       "        <td>BATTERY - SIMPLE ASSAULT</td>\n",
       "        <td>1</td>\n",
       "        <td>5760</td>\n",
       "    </tr>\n",
       "    <tr>\n",
       "        <td>BATTERY - SIMPLE ASSAULT</td>\n",
       "        <td>2</td>\n",
       "        <td>5023</td>\n",
       "    </tr>\n",
       "    <tr>\n",
       "        <td>BATTERY - SIMPLE ASSAULT</td>\n",
       "        <td>3</td>\n",
       "        <td>2679</td>\n",
       "    </tr>\n",
       "    <tr>\n",
       "        <td>BATTERY - SIMPLE ASSAULT</td>\n",
       "        <td>4</td>\n",
       "        <td>1657</td>\n",
       "    </tr>\n",
       "    <tr>\n",
       "        <td>BATTERY - SIMPLE ASSAULT</td>\n",
       "        <td>5</td>\n",
       "        <td>1346</td>\n",
       "    </tr>\n",
       "    <tr>\n",
       "        <td>BATTERY - SIMPLE ASSAULT</td>\n",
       "        <td>6</td>\n",
       "        <td>1792</td>\n",
       "    </tr>\n",
       "    <tr>\n",
       "        <td>BATTERY - SIMPLE ASSAULT</td>\n",
       "        <td>7</td>\n",
       "        <td>3328</td>\n",
       "    </tr>\n",
       "    <tr>\n",
       "        <td>BATTERY - SIMPLE ASSAULT</td>\n",
       "        <td>8</td>\n",
       "        <td>4782</td>\n",
       "    </tr>\n",
       "    <tr>\n",
       "        <td>BATTERY - SIMPLE ASSAULT</td>\n",
       "        <td>9</td>\n",
       "        <td>5229</td>\n",
       "    </tr>\n",
       "    <tr>\n",
       "        <td>BATTERY - SIMPLE ASSAULT</td>\n",
       "        <td>10</td>\n",
       "        <td>6474</td>\n",
       "    </tr>\n",
       "    <tr>\n",
       "        <td>BATTERY - SIMPLE ASSAULT</td>\n",
       "        <td>11</td>\n",
       "        <td>6985</td>\n",
       "    </tr>\n",
       "    <tr>\n",
       "        <td>BATTERY - SIMPLE ASSAULT</td>\n",
       "        <td>12</td>\n",
       "        <td>8161</td>\n",
       "    </tr>\n",
       "    <tr>\n",
       "        <td>BATTERY - SIMPLE ASSAULT</td>\n",
       "        <td>13</td>\n",
       "        <td>7492</td>\n",
       "    </tr>\n",
       "    <tr>\n",
       "        <td>BATTERY - SIMPLE ASSAULT</td>\n",
       "        <td>14</td>\n",
       "        <td>8150</td>\n",
       "    </tr>\n",
       "    <tr>\n",
       "        <td>BATTERY - SIMPLE ASSAULT</td>\n",
       "        <td>15</td>\n",
       "        <td>8972</td>\n",
       "    </tr>\n",
       "    <tr>\n",
       "        <td>BATTERY - SIMPLE ASSAULT</td>\n",
       "        <td>16</td>\n",
       "        <td>8317</td>\n",
       "    </tr>\n",
       "    <tr>\n",
       "        <td>BATTERY - SIMPLE ASSAULT</td>\n",
       "        <td>17</td>\n",
       "        <td>8412</td>\n",
       "    </tr>\n",
       "    <tr>\n",
       "        <td>BATTERY - SIMPLE ASSAULT</td>\n",
       "        <td>18</td>\n",
       "        <td>8661</td>\n",
       "    </tr>\n",
       "    <tr>\n",
       "        <td>BATTERY - SIMPLE ASSAULT</td>\n",
       "        <td>19</td>\n",
       "        <td>8696</td>\n",
       "    </tr>\n",
       "    <tr>\n",
       "        <td>BATTERY - SIMPLE ASSAULT</td>\n",
       "        <td>20</td>\n",
       "        <td>8835</td>\n",
       "    </tr>\n",
       "    <tr>\n",
       "        <td>BATTERY - SIMPLE ASSAULT</td>\n",
       "        <td>21</td>\n",
       "        <td>8442</td>\n",
       "    </tr>\n",
       "    <tr>\n",
       "        <td>BATTERY - SIMPLE ASSAULT</td>\n",
       "        <td>22</td>\n",
       "        <td>7586</td>\n",
       "    </tr>\n",
       "    <tr>\n",
       "        <td>BATTERY - SIMPLE ASSAULT</td>\n",
       "        <td>23</td>\n",
       "        <td>6881</td>\n",
       "    </tr>\n",
       "</table>"
      ],
      "text/plain": [
       "[('BATTERY - SIMPLE ASSAULT', 0, 5290),\n",
       " ('BATTERY - SIMPLE ASSAULT', 1, 5760),\n",
       " ('BATTERY - SIMPLE ASSAULT', 2, 5023),\n",
       " ('BATTERY - SIMPLE ASSAULT', 3, 2679),\n",
       " ('BATTERY - SIMPLE ASSAULT', 4, 1657),\n",
       " ('BATTERY - SIMPLE ASSAULT', 5, 1346),\n",
       " ('BATTERY - SIMPLE ASSAULT', 6, 1792),\n",
       " ('BATTERY - SIMPLE ASSAULT', 7, 3328),\n",
       " ('BATTERY - SIMPLE ASSAULT', 8, 4782),\n",
       " ('BATTERY - SIMPLE ASSAULT', 9, 5229),\n",
       " ('BATTERY - SIMPLE ASSAULT', 10, 6474),\n",
       " ('BATTERY - SIMPLE ASSAULT', 11, 6985),\n",
       " ('BATTERY - SIMPLE ASSAULT', 12, 8161),\n",
       " ('BATTERY - SIMPLE ASSAULT', 13, 7492),\n",
       " ('BATTERY - SIMPLE ASSAULT', 14, 8150),\n",
       " ('BATTERY - SIMPLE ASSAULT', 15, 8972),\n",
       " ('BATTERY - SIMPLE ASSAULT', 16, 8317),\n",
       " ('BATTERY - SIMPLE ASSAULT', 17, 8412),\n",
       " ('BATTERY - SIMPLE ASSAULT', 18, 8661),\n",
       " ('BATTERY - SIMPLE ASSAULT', 19, 8696),\n",
       " ('BATTERY - SIMPLE ASSAULT', 20, 8835),\n",
       " ('BATTERY - SIMPLE ASSAULT', 21, 8442),\n",
       " ('BATTERY - SIMPLE ASSAULT', 22, 7586),\n",
       " ('BATTERY - SIMPLE ASSAULT', 23, 6881)]"
      ]
     },
     "execution_count": 87,
     "metadata": {},
     "output_type": "execute_result"
    }
   ],
   "source": [
    "%%sql\n",
    "SELECT crime_description, occured_hour, COUNT(crime_description)\n",
    "FROM crime_facts\n",
    "JOIN crime\n",
    "ON crime_facts.crime_key = crime.crime_key\n",
    "JOIN occured_time\n",
    "ON crime_facts.occured_time_key = occured_time.occured_time_key\n",
    "WHERE crime_description = 'BATTERY - SIMPLE ASSAULT'\n",
    "GROUP BY occured_hour, crime_description\n",
    "ORDER BY occured_hour"
   ]
  },
  {
   "cell_type": "code",
   "execution_count": 88,
   "metadata": {},
   "outputs": [
    {
     "data": {
      "text/plain": [
       "<Container object of 24 artists>"
      ]
     },
     "execution_count": 88,
     "metadata": {},
     "output_type": "execute_result"
    },
    {
     "data": {
      "image/png": "[encoded data removed]",
      "text/plain": [
       "<matplotlib.figure.Figure at 0x7ffacf1dc048>"
      ]
     },
     "metadata": {},
     "output_type": "display_data"
    }
   ],
   "source": [
    "%matplotlib inline\n",
    "_.bar()"
   ]
  },
  {
   "cell_type": "code",
   "execution_count": 109,
   "metadata": {},
   "outputs": [
    {
     "name": "stdout",
     "output_type": "stream",
     "text": [
      "24 rows affected.\n"
     ]
    },
    {
     "data": {
      "text/html": [
       "<table>\n",
       "    <tr>\n",
       "        <th>crime_description</th>\n",
       "        <th>occured_hour</th>\n",
       "        <th>count</th>\n",
       "    </tr>\n",
       "    <tr>\n",
       "        <td>BURGLARY FROM VEHICLE</td>\n",
       "        <td>0</td>\n",
       "        <td>5118</td>\n",
       "    </tr>\n",
       "    <tr>\n",
       "        <td>BURGLARY FROM VEHICLE</td>\n",
       "        <td>1</td>\n",
       "        <td>3963</td>\n",
       "    </tr>\n",
       "    <tr>\n",
       "        <td>BURGLARY FROM VEHICLE</td>\n",
       "        <td>2</td>\n",
       "        <td>3109</td>\n",
       "    </tr>\n",
       "    <tr>\n",
       "        <td>BURGLARY FROM VEHICLE</td>\n",
       "        <td>3</td>\n",
       "        <td>2275</td>\n",
       "    </tr>\n",
       "    <tr>\n",
       "        <td>BURGLARY FROM VEHICLE</td>\n",
       "        <td>4</td>\n",
       "        <td>1581</td>\n",
       "    </tr>\n",
       "    <tr>\n",
       "        <td>BURGLARY FROM VEHICLE</td>\n",
       "        <td>5</td>\n",
       "        <td>1512</td>\n",
       "    </tr>\n",
       "    <tr>\n",
       "        <td>BURGLARY FROM VEHICLE</td>\n",
       "        <td>6</td>\n",
       "        <td>1813</td>\n",
       "    </tr>\n",
       "    <tr>\n",
       "        <td>BURGLARY FROM VEHICLE</td>\n",
       "        <td>7</td>\n",
       "        <td>2376</td>\n",
       "    </tr>\n",
       "    <tr>\n",
       "        <td>BURGLARY FROM VEHICLE</td>\n",
       "        <td>8</td>\n",
       "        <td>3212</td>\n",
       "    </tr>\n",
       "    <tr>\n",
       "        <td>BURGLARY FROM VEHICLE</td>\n",
       "        <td>9</td>\n",
       "        <td>3124</td>\n",
       "    </tr>\n",
       "    <tr>\n",
       "        <td>BURGLARY FROM VEHICLE</td>\n",
       "        <td>10</td>\n",
       "        <td>3591</td>\n",
       "    </tr>\n",
       "    <tr>\n",
       "        <td>BURGLARY FROM VEHICLE</td>\n",
       "        <td>11</td>\n",
       "        <td>3338</td>\n",
       "    </tr>\n",
       "    <tr>\n",
       "        <td>BURGLARY FROM VEHICLE</td>\n",
       "        <td>12</td>\n",
       "        <td>4438</td>\n",
       "    </tr>\n",
       "    <tr>\n",
       "        <td>BURGLARY FROM VEHICLE</td>\n",
       "        <td>13</td>\n",
       "        <td>3504</td>\n",
       "    </tr>\n",
       "    <tr>\n",
       "        <td>BURGLARY FROM VEHICLE</td>\n",
       "        <td>14</td>\n",
       "        <td>3929</td>\n",
       "    </tr>\n",
       "    <tr>\n",
       "        <td>BURGLARY FROM VEHICLE</td>\n",
       "        <td>15</td>\n",
       "        <td>4500</td>\n",
       "    </tr>\n",
       "    <tr>\n",
       "        <td>BURGLARY FROM VEHICLE</td>\n",
       "        <td>16</td>\n",
       "        <td>5490</td>\n",
       "    </tr>\n",
       "    <tr>\n",
       "        <td>BURGLARY FROM VEHICLE</td>\n",
       "        <td>17</td>\n",
       "        <td>7287</td>\n",
       "    </tr>\n",
       "    <tr>\n",
       "        <td>BURGLARY FROM VEHICLE</td>\n",
       "        <td>18</td>\n",
       "        <td>9669</td>\n",
       "    </tr>\n",
       "    <tr>\n",
       "        <td>BURGLARY FROM VEHICLE</td>\n",
       "        <td>19</td>\n",
       "        <td>9851</td>\n",
       "    </tr>\n",
       "    <tr>\n",
       "        <td>BURGLARY FROM VEHICLE</td>\n",
       "        <td>20</td>\n",
       "        <td>10485</td>\n",
       "    </tr>\n",
       "    <tr>\n",
       "        <td>BURGLARY FROM VEHICLE</td>\n",
       "        <td>21</td>\n",
       "        <td>10227</td>\n",
       "    </tr>\n",
       "    <tr>\n",
       "        <td>BURGLARY FROM VEHICLE</td>\n",
       "        <td>22</td>\n",
       "        <td>10745</td>\n",
       "    </tr>\n",
       "    <tr>\n",
       "        <td>BURGLARY FROM VEHICLE</td>\n",
       "        <td>23</td>\n",
       "        <td>9178</td>\n",
       "    </tr>\n",
       "</table>"
      ],
      "text/plain": [
       "[('BURGLARY FROM VEHICLE', 0, 5118),\n",
       " ('BURGLARY FROM VEHICLE', 1, 3963),\n",
       " ('BURGLARY FROM VEHICLE', 2, 3109),\n",
       " ('BURGLARY FROM VEHICLE', 3, 2275),\n",
       " ('BURGLARY FROM VEHICLE', 4, 1581),\n",
       " ('BURGLARY FROM VEHICLE', 5, 1512),\n",
       " ('BURGLARY FROM VEHICLE', 6, 1813),\n",
       " ('BURGLARY FROM VEHICLE', 7, 2376),\n",
       " ('BURGLARY FROM VEHICLE', 8, 3212),\n",
       " ('BURGLARY FROM VEHICLE', 9, 3124),\n",
       " ('BURGLARY FROM VEHICLE', 10, 3591),\n",
       " ('BURGLARY FROM VEHICLE', 11, 3338),\n",
       " ('BURGLARY FROM VEHICLE', 12, 4438),\n",
       " ('BURGLARY FROM VEHICLE', 13, 3504),\n",
       " ('BURGLARY FROM VEHICLE', 14, 3929),\n",
       " ('BURGLARY FROM VEHICLE', 15, 4500),\n",
       " ('BURGLARY FROM VEHICLE', 16, 5490),\n",
       " ('BURGLARY FROM VEHICLE', 17, 7287),\n",
       " ('BURGLARY FROM VEHICLE', 18, 9669),\n",
       " ('BURGLARY FROM VEHICLE', 19, 9851),\n",
       " ('BURGLARY FROM VEHICLE', 20, 10485),\n",
       " ('BURGLARY FROM VEHICLE', 21, 10227),\n",
       " ('BURGLARY FROM VEHICLE', 22, 10745),\n",
       " ('BURGLARY FROM VEHICLE', 23, 9178)]"
      ]
     },
     "execution_count": 109,
     "metadata": {},
     "output_type": "execute_result"
    }
   ],
   "source": [
    "%%sql\n",
    "SELECT crime_description, occured_hour, COUNT(crime_description)\n",
    "FROM crime_facts\n",
    "JOIN crime\n",
    "ON crime_facts.crime_key = crime.crime_key\n",
    "JOIN occured_time\n",
    "ON crime_facts.occured_time_key = occured_time.occured_time_key\n",
    "WHERE crime_description = 'BURGLARY FROM VEHICLE'\n",
    "GROUP BY occured_hour, crime_description\n",
    "ORDER BY occured_hour"
   ]
  },
  {
   "cell_type": "code",
   "execution_count": 110,
   "metadata": {},
   "outputs": [
    {
     "data": {
      "text/plain": [
       "<Container object of 24 artists>"
      ]
     },
     "execution_count": 110,
     "metadata": {},
     "output_type": "execute_result"
    },
    {
     "data": {
      "image/png": "[encoded data removed]",
      "text/plain": [
       "<matplotlib.figure.Figure at 0x7ffacef39c88>"
      ]
     },
     "metadata": {},
     "output_type": "display_data"
    }
   ],
   "source": [
    "_.bar()"
   ]
  },
  {
   "cell_type": "code",
   "execution_count": 111,
   "metadata": {},
   "outputs": [
    {
     "name": "stdout",
     "output_type": "stream",
     "text": [
      "24 rows affected.\n"
     ]
    },
    {
     "data": {
      "text/html": [
       "<table>\n",
       "    <tr>\n",
       "        <th>crime_description</th>\n",
       "        <th>occured_hour</th>\n",
       "        <th>count</th>\n",
       "    </tr>\n",
       "    <tr>\n",
       "        <td>VEHICLE - STOLEN</td>\n",
       "        <td>0</td>\n",
       "        <td>4255</td>\n",
       "    </tr>\n",
       "    <tr>\n",
       "        <td>VEHICLE - STOLEN</td>\n",
       "        <td>1</td>\n",
       "        <td>3559</td>\n",
       "    </tr>\n",
       "    <tr>\n",
       "        <td>VEHICLE - STOLEN</td>\n",
       "        <td>2</td>\n",
       "        <td>2722</td>\n",
       "    </tr>\n",
       "    <tr>\n",
       "        <td>VEHICLE - STOLEN</td>\n",
       "        <td>3</td>\n",
       "        <td>1961</td>\n",
       "    </tr>\n",
       "    <tr>\n",
       "        <td>VEHICLE - STOLEN</td>\n",
       "        <td>4</td>\n",
       "        <td>1618</td>\n",
       "    </tr>\n",
       "    <tr>\n",
       "        <td>VEHICLE - STOLEN</td>\n",
       "        <td>5</td>\n",
       "        <td>1856</td>\n",
       "    </tr>\n",
       "    <tr>\n",
       "        <td>VEHICLE - STOLEN</td>\n",
       "        <td>6</td>\n",
       "        <td>2689</td>\n",
       "    </tr>\n",
       "    <tr>\n",
       "        <td>VEHICLE - STOLEN</td>\n",
       "        <td>7</td>\n",
       "        <td>3235</td>\n",
       "    </tr>\n",
       "    <tr>\n",
       "        <td>VEHICLE - STOLEN</td>\n",
       "        <td>8</td>\n",
       "        <td>3958</td>\n",
       "    </tr>\n",
       "    <tr>\n",
       "        <td>VEHICLE - STOLEN</td>\n",
       "        <td>9</td>\n",
       "        <td>3154</td>\n",
       "    </tr>\n",
       "    <tr>\n",
       "        <td>VEHICLE - STOLEN</td>\n",
       "        <td>10</td>\n",
       "        <td>3564</td>\n",
       "    </tr>\n",
       "    <tr>\n",
       "        <td>VEHICLE - STOLEN</td>\n",
       "        <td>11</td>\n",
       "        <td>3174</td>\n",
       "    </tr>\n",
       "    <tr>\n",
       "        <td>VEHICLE - STOLEN</td>\n",
       "        <td>12</td>\n",
       "        <td>4826</td>\n",
       "    </tr>\n",
       "    <tr>\n",
       "        <td>VEHICLE - STOLEN</td>\n",
       "        <td>13</td>\n",
       "        <td>3330</td>\n",
       "    </tr>\n",
       "    <tr>\n",
       "        <td>VEHICLE - STOLEN</td>\n",
       "        <td>14</td>\n",
       "        <td>4070</td>\n",
       "    </tr>\n",
       "    <tr>\n",
       "        <td>VEHICLE - STOLEN</td>\n",
       "        <td>15</td>\n",
       "        <td>4863</td>\n",
       "    </tr>\n",
       "    <tr>\n",
       "        <td>VEHICLE - STOLEN</td>\n",
       "        <td>16</td>\n",
       "        <td>5412</td>\n",
       "    </tr>\n",
       "    <tr>\n",
       "        <td>VEHICLE - STOLEN</td>\n",
       "        <td>17</td>\n",
       "        <td>7211</td>\n",
       "    </tr>\n",
       "    <tr>\n",
       "        <td>VEHICLE - STOLEN</td>\n",
       "        <td>18</td>\n",
       "        <td>9217</td>\n",
       "    </tr>\n",
       "    <tr>\n",
       "        <td>VEHICLE - STOLEN</td>\n",
       "        <td>19</td>\n",
       "        <td>9414</td>\n",
       "    </tr>\n",
       "    <tr>\n",
       "        <td>VEHICLE - STOLEN</td>\n",
       "        <td>20</td>\n",
       "        <td>10259</td>\n",
       "    </tr>\n",
       "    <tr>\n",
       "        <td>VEHICLE - STOLEN</td>\n",
       "        <td>21</td>\n",
       "        <td>10325</td>\n",
       "    </tr>\n",
       "    <tr>\n",
       "        <td>VEHICLE - STOLEN</td>\n",
       "        <td>22</td>\n",
       "        <td>10765</td>\n",
       "    </tr>\n",
       "    <tr>\n",
       "        <td>VEHICLE - STOLEN</td>\n",
       "        <td>23</td>\n",
       "        <td>8801</td>\n",
       "    </tr>\n",
       "</table>"
      ],
      "text/plain": [
       "[('VEHICLE - STOLEN', 0, 4255),\n",
       " ('VEHICLE - STOLEN', 1, 3559),\n",
       " ('VEHICLE - STOLEN', 2, 2722),\n",
       " ('VEHICLE - STOLEN', 3, 1961),\n",
       " ('VEHICLE - STOLEN', 4, 1618),\n",
       " ('VEHICLE - STOLEN', 5, 1856),\n",
       " ('VEHICLE - STOLEN', 6, 2689),\n",
       " ('VEHICLE - STOLEN', 7, 3235),\n",
       " ('VEHICLE - STOLEN', 8, 3958),\n",
       " ('VEHICLE - STOLEN', 9, 3154),\n",
       " ('VEHICLE - STOLEN', 10, 3564),\n",
       " ('VEHICLE - STOLEN', 11, 3174),\n",
       " ('VEHICLE - STOLEN', 12, 4826),\n",
       " ('VEHICLE - STOLEN', 13, 3330),\n",
       " ('VEHICLE - STOLEN', 14, 4070),\n",
       " ('VEHICLE - STOLEN', 15, 4863),\n",
       " ('VEHICLE - STOLEN', 16, 5412),\n",
       " ('VEHICLE - STOLEN', 17, 7211),\n",
       " ('VEHICLE - STOLEN', 18, 9217),\n",
       " ('VEHICLE - STOLEN', 19, 9414),\n",
       " ('VEHICLE - STOLEN', 20, 10259),\n",
       " ('VEHICLE - STOLEN', 21, 10325),\n",
       " ('VEHICLE - STOLEN', 22, 10765),\n",
       " ('VEHICLE - STOLEN', 23, 8801)]"
      ]
     },
     "execution_count": 111,
     "metadata": {},
     "output_type": "execute_result"
    }
   ],
   "source": [
    "%%sql\n",
    "SELECT crime_description, occured_hour, COUNT(crime_description)\n",
    "FROM crime_facts\n",
    "JOIN crime\n",
    "ON crime_facts.crime_key = crime.crime_key\n",
    "JOIN occured_time\n",
    "ON crime_facts.occured_time_key = occured_time.occured_time_key\n",
    "WHERE crime_description = 'VEHICLE - STOLEN'\n",
    "GROUP BY occured_hour, crime_description\n",
    "ORDER BY occured_hour"
   ]
  },
  {
   "cell_type": "code",
   "execution_count": 112,
   "metadata": {},
   "outputs": [
    {
     "data": {
      "text/plain": [
       "<Container object of 24 artists>"
      ]
     },
     "execution_count": 112,
     "metadata": {},
     "output_type": "execute_result"
    },
    {
     "data": {
      "image/png": "[encoded data removed]",
      "text/plain": [
       "<matplotlib.figure.Figure at 0x7ffaceb74a90>"
      ]
     },
     "metadata": {},
     "output_type": "display_data"
    }
   ],
   "source": [
    "_.bar()"
   ]
  },
  {
   "cell_type": "markdown",
   "metadata": {},
   "source": [
    "# Part 3 - Augmentation\n",
    "## Comparison of LA Crime to Chicago Crime\n"
   ]
  },
  {
   "cell_type": "markdown",
   "metadata": {},
   "source": [
    "I decided to compare our analysis of LA crime to Chicago Crime to see if there were any similarities between the two cities.\n",
    "\n",
    "First  download the data and begin to analyse it."
   ]
  },
  {
   "cell_type": "code",
   "execution_count": 1,
   "metadata": {},
   "outputs": [
    {
     "name": "stdout",
     "output_type": "stream",
     "text": [
      "--2017-12-06 01:31:13--  https://data.cityofchicago.org/api/views/ijzp-q8t2/rows.csv\n",
      "Resolving data.cityofchicago.org (data.cityofchicago.org)... 52.206.140.199\n",
      "Connecting to data.cityofchicago.org (data.cityofchicago.org)|52.206.140.199|:443... connected.\n",
      "HTTP request sent, awaiting response... 200 OK\n",
      "Length: unspecified [text/csv]\n",
      "Saving to: ‘rows.csv.1’\n",
      "\n",
      "rows.csv.1              [       <=>          ]   1.42G  2.07MB/s    in 12m 1s  \n",
      "\n",
      "Last-modified header invalid -- time-stamp ignored.\n",
      "2017-12-06 01:43:13 (2.02 MB/s) - ‘rows.csv.1’ saved [1526979194]\n",
      "\n"
     ]
    }
   ],
   "source": [
    "!wget https://data.cityofchicago.org/api/views/ijzp-q8t2/rows.csv"
   ]
  },
  {
   "cell_type": "markdown",
   "metadata": {},
   "source": [
    "Renaming the csv file to chicago.csv for easier use."
   ]
  },
  {
   "cell_type": "code",
   "execution_count": 2,
   "metadata": {
    "collapsed": true
   },
   "outputs": [],
   "source": [
    "!mv rows.csv.1 chicago.csv"
   ]
  },
  {
   "cell_type": "markdown",
   "metadata": {},
   "source": [
    "Take a look of at the ID, Date, Primary Type, Location, and Year Columns."
   ]
  },
  {
   "cell_type": "code",
   "execution_count": null,
   "metadata": {
    "collapsed": true
   },
   "outputs": [],
   "source": []
  },
  {
   "cell_type": "code",
   "execution_count": 3,
   "metadata": {},
   "outputs": [
    {
     "name": "stdout",
     "output_type": "stream",
     "text": [
      "|-----------+------------------------+-----------------------------------+-------------------------------------------------+-------|\r\n",
      "|  ID       | Date                   | Primary Type                      | Location Description                            | Year  |\r\n",
      "|-----------+------------------------+-----------------------------------+-------------------------------------------------+-------|\r\n",
      "|  4647369  | 01/31/2006 12:13:05 PM | NARCOTICS                         | SCHOOL, PUBLIC, BUILDING                        | 2006  |\r\n",
      "|  4647370  | 03/21/2006 07:00:00 PM | CRIMINAL TRESPASS                 | PARKING LOT/GARAGE(NON.RESID.)                  | 2006  |\r\n"
     ]
    }
   ],
   "source": [
    "!csvcut -c1,3,6,8,18 chicago.csv | csvlook | head -5"
   ]
  },
  {
   "cell_type": "markdown",
   "metadata": {},
   "source": [
    "We then took these columns and placed them into a new csv file called chicago2.csv"
   ]
  },
  {
   "cell_type": "code",
   "execution_count": 11,
   "metadata": {
    "collapsed": true
   },
   "outputs": [],
   "source": [
    "!csvcut -c1,3,6,8,18 chicago.csv > chicago2.csv"
   ]
  },
  {
   "cell_type": "markdown",
   "metadata": {},
   "source": [
    "## Wrangling and Table Creation"
   ]
  },
  {
   "cell_type": "markdown",
   "metadata": {},
   "source": [
    "Now we go ahead and build a new database with the chicago information to begin our comparison."
   ]
  },
  {
   "cell_type": "code",
   "execution_count": 1,
   "metadata": {
    "collapsed": true
   },
   "outputs": [],
   "source": [
    "%load_ext sql"
   ]
  },
  {
   "cell_type": "code",
   "execution_count": 2,
   "metadata": {},
   "outputs": [
    {
     "data": {
      "text/plain": [
       "'Connected: student@project4'"
      ]
     },
     "execution_count": 2,
     "metadata": {},
     "output_type": "execute_result"
    }
   ],
   "source": [
    "%sql postgresql://student@/project4"
   ]
  },
  {
   "cell_type": "markdown",
   "metadata": {},
   "source": [
    "### chicago_crime Fact Table Creation"
   ]
  },
  {
   "cell_type": "code",
   "execution_count": 3,
   "metadata": {},
   "outputs": [
    {
     "name": "stdout",
     "output_type": "stream",
     "text": [
      "Done.\n",
      "Done.\n"
     ]
    },
    {
     "data": {
      "text/plain": [
       "[]"
      ]
     },
     "execution_count": 3,
     "metadata": {},
     "output_type": "execute_result"
    }
   ],
   "source": [
    "%%sql\n",
    "DROP TABLE IF EXISTS chicago_crime;\n",
    "\n",
    "CREATE TABLE chicago_crime(\n",
    "    id INTEGER,\n",
    "    date TIMESTAMP,\n",
    "    type VARCHAR(500),\n",
    "    location VARCHAR(500),\n",
    "    year INTEGER)\n"
   ]
  },
  {
   "cell_type": "markdown",
   "metadata": {},
   "source": [
    "Inserting the data into our newly made chicago_crime table."
   ]
  },
  {
   "cell_type": "code",
   "execution_count": 4,
   "metadata": {
    "collapsed": true
   },
   "outputs": [],
   "source": [
    "!cp chicago2.csv /tmp/chicago.csv"
   ]
  },
  {
   "cell_type": "code",
   "execution_count": 5,
   "metadata": {},
   "outputs": [
    {
     "name": "stdout",
     "output_type": "stream",
     "text": [
      "6488956 rows affected.\n"
     ]
    },
    {
     "data": {
      "text/plain": [
       "[]"
      ]
     },
     "execution_count": 5,
     "metadata": {},
     "output_type": "execute_result"
    }
   ],
   "source": [
    "%%sql\n",
    "COPY chicago_crime FROM '/tmp/chicago.csv'\n",
    "CSV\n",
    "HEADER;"
   ]
  },
  {
   "cell_type": "markdown",
   "metadata": {},
   "source": [
    "Verifying that input into the table was successful."
   ]
  },
  {
   "cell_type": "code",
   "execution_count": 6,
   "metadata": {},
   "outputs": [
    {
     "name": "stdout",
     "output_type": "stream",
     "text": [
      "10 rows affected.\n"
     ]
    },
    {
     "data": {
      "text/html": [
       "<table>\n",
       "    <tr>\n",
       "        <th>id</th>\n",
       "        <th>date</th>\n",
       "        <th>type</th>\n",
       "        <th>location</th>\n",
       "        <th>year</th>\n",
       "    </tr>\n",
       "    <tr>\n",
       "        <td>4647369</td>\n",
       "        <td>2006-01-31 12:13:05</td>\n",
       "        <td>NARCOTICS</td>\n",
       "        <td>SCHOOL, PUBLIC, BUILDING</td>\n",
       "        <td>2006</td>\n",
       "    </tr>\n",
       "    <tr>\n",
       "        <td>4647370</td>\n",
       "        <td>2006-03-21 19:00:00</td>\n",
       "        <td>CRIMINAL TRESPASS</td>\n",
       "        <td>PARKING LOT/GARAGE(NON.RESID.)</td>\n",
       "        <td>2006</td>\n",
       "    </tr>\n",
       "    <tr>\n",
       "        <td>4647372</td>\n",
       "        <td>2006-02-09 01:44:41</td>\n",
       "        <td>NARCOTICS</td>\n",
       "        <td>STREET</td>\n",
       "        <td>2006</td>\n",
       "    </tr>\n",
       "    <tr>\n",
       "        <td>4647373</td>\n",
       "        <td>2006-03-21 16:45:00</td>\n",
       "        <td>THEFT</td>\n",
       "        <td>CHURCH/SYNAGOGUE/PLACE OF WORSHIP</td>\n",
       "        <td>2006</td>\n",
       "    </tr>\n",
       "    <tr>\n",
       "        <td>4647374</td>\n",
       "        <td>2006-03-21 22:00:00</td>\n",
       "        <td>THEFT</td>\n",
       "        <td>STREET</td>\n",
       "        <td>2006</td>\n",
       "    </tr>\n",
       "    <tr>\n",
       "        <td>4647375</td>\n",
       "        <td>2006-03-20 23:00:00</td>\n",
       "        <td>MOTOR VEHICLE THEFT</td>\n",
       "        <td>STREET</td>\n",
       "        <td>2006</td>\n",
       "    </tr>\n",
       "    <tr>\n",
       "        <td>4647377</td>\n",
       "        <td>2006-02-01 23:25:00</td>\n",
       "        <td>NARCOTICS</td>\n",
       "        <td>SIDEWALK</td>\n",
       "        <td>2006</td>\n",
       "    </tr>\n",
       "    <tr>\n",
       "        <td>4647378</td>\n",
       "        <td>2006-03-21 14:37:00</td>\n",
       "        <td>CRIMINAL DAMAGE</td>\n",
       "        <td>SCHOOL, PUBLIC, BUILDING</td>\n",
       "        <td>2006</td>\n",
       "    </tr>\n",
       "    <tr>\n",
       "        <td>4647379</td>\n",
       "        <td>2006-02-09 05:38:07</td>\n",
       "        <td>PROSTITUTION</td>\n",
       "        <td>STREET</td>\n",
       "        <td>2006</td>\n",
       "    </tr>\n",
       "    <tr>\n",
       "        <td>4647380</td>\n",
       "        <td>2005-11-29 15:10:00</td>\n",
       "        <td>CRIMINAL DAMAGE</td>\n",
       "        <td>SCHOOL, PUBLIC, BUILDING</td>\n",
       "        <td>2005</td>\n",
       "    </tr>\n",
       "</table>"
      ],
      "text/plain": [
       "[(4647369, datetime.datetime(2006, 1, 31, 12, 13, 5), 'NARCOTICS', 'SCHOOL, PUBLIC, BUILDING', 2006),\n",
       " (4647370, datetime.datetime(2006, 3, 21, 19, 0), 'CRIMINAL TRESPASS', 'PARKING LOT/GARAGE(NON.RESID.)', 2006),\n",
       " (4647372, datetime.datetime(2006, 2, 9, 1, 44, 41), 'NARCOTICS', 'STREET', 2006),\n",
       " (4647373, datetime.datetime(2006, 3, 21, 16, 45), 'THEFT', 'CHURCH/SYNAGOGUE/PLACE OF WORSHIP', 2006),\n",
       " (4647374, datetime.datetime(2006, 3, 21, 22, 0), 'THEFT', 'STREET', 2006),\n",
       " (4647375, datetime.datetime(2006, 3, 20, 23, 0), 'MOTOR VEHICLE THEFT', 'STREET', 2006),\n",
       " (4647377, datetime.datetime(2006, 2, 1, 23, 25), 'NARCOTICS', 'SIDEWALK', 2006),\n",
       " (4647378, datetime.datetime(2006, 3, 21, 14, 37), 'CRIMINAL DAMAGE', 'SCHOOL, PUBLIC, BUILDING', 2006),\n",
       " (4647379, datetime.datetime(2006, 2, 9, 5, 38, 7), 'PROSTITUTION', 'STREET', 2006),\n",
       " (4647380, datetime.datetime(2005, 11, 29, 15, 10), 'CRIMINAL DAMAGE', 'SCHOOL, PUBLIC, BUILDING', 2005)]"
      ]
     },
     "execution_count": 6,
     "metadata": {},
     "output_type": "execute_result"
    }
   ],
   "source": [
    "%%sql\n",
    "SELECT*\n",
    "FROM chicago_crime\n",
    "LIMIT 10"
   ]
  },
  {
   "cell_type": "markdown",
   "metadata": {},
   "source": [
    "### Hour Table Creation"
   ]
  },
  {
   "cell_type": "code",
   "execution_count": 7,
   "metadata": {},
   "outputs": [
    {
     "name": "stdout",
     "output_type": "stream",
     "text": [
      "Done.\n",
      "Done.\n"
     ]
    },
    {
     "data": {
      "text/plain": [
       "[]"
      ]
     },
     "execution_count": 7,
     "metadata": {},
     "output_type": "execute_result"
    }
   ],
   "source": [
    "%%sql\n",
    "DROP TABLE IF EXISTS hour;\n",
    "\n",
    "CREATE TABLE hour (\n",
    "    key SERIAL PRIMARY KEY,\n",
    "    hour CHAR(19),\n",
    "    day CHAR(10),\n",
    "    year INTEGER,\n",
    "    month_of_year_str VARCHAR(12),\n",
    "    month_of_year INTEGER,\n",
    "    day_of_month INTEGER,\n",
    "    day_of_week_str CHAR(9),\n",
    "    day_of_week INTEGER,\n",
    "    is_weekend BOOLEAN,\n",
    "    is_weekday BOOLEAN,\n",
    "    hour_of_day INTEGER,\n",
    "    quarter_of_year INTEGER\n",
    ");"
   ]
  },
  {
   "cell_type": "markdown",
   "metadata": {},
   "source": [
    "Adding extra columns to identify hour, day, month, and year."
   ]
  },
  {
   "cell_type": "code",
   "execution_count": 8,
   "metadata": {},
   "outputs": [
    {
     "name": "stdout",
     "output_type": "stream",
     "text": [
      "148200 rows affected.\n"
     ]
    },
    {
     "data": {
      "text/plain": [
       "[]"
      ]
     },
     "execution_count": 8,
     "metadata": {},
     "output_type": "execute_result"
    }
   ],
   "source": [
    "%%sql\n",
    "INSERT INTO hour (hour, day, year, month_of_year_str, month_of_year, day_of_month, \n",
    "                  day_of_week_str, day_of_week, is_weekend, is_weekday, \n",
    "                  hour_of_day, quarter_of_year)\n",
    "SELECT DISTINCT TO_CHAR(date, 'YYYY-MM-DD HH24:00:00') AS hour,\n",
    "    TO_CHAR(date, 'YYYY-MM-DD') AS day, \n",
    "    CAST(TO_CHAR(date, 'YYYY') AS INTEGER) AS year,\n",
    "    TO_CHAR(date, 'Month') AS month_of_year_str,\n",
    "    CAST(TO_CHAR(date, 'MM') AS INTEGER) AS month_of_year,\n",
    "    CAST(TO_CHAR(date, 'DD') AS INTEGER) AS day_of_month,\n",
    "    TO_CHAR(date, 'Day') AS day_of_week_str,\n",
    "    CAST(TO_CHAR(date, 'D') AS INTEGER) AS day_of_week,\n",
    "    CASE WHEN CAST(TO_CHAR(date, 'D') AS INTEGER) IN (1, 7) \n",
    "        THEN TRUE\n",
    "        ELSE FALSE\n",
    "    END AS is_weekend,\n",
    "    CASE WHEN CAST(TO_CHAR(date, 'D') AS INTEGER) NOT IN (1, 7) \n",
    "        THEN TRUE\n",
    "        ELSE FALSE\n",
    "    END AS is_weekday,\n",
    "    CAST(TO_CHAR(date, 'HH24') AS INTEGER) AS hour_of_day,\n",
    "    CAST(TO_CHAR(date, 'Q') AS INTEGER) AS quarter_of_year\n",
    "FROM chicago_crime\n",
    "UNION\n",
    "SELECT DISTINCT TO_CHAR(date, 'YYYY-MM-DD HH24:00:00') AS hour,\n",
    "    TO_CHAR(date, 'YYYY-MM-DD') AS day, \n",
    "    CAST(TO_CHAR(date, 'YYYY') AS INTEGER) AS year,\n",
    "    TO_CHAR(date, 'Month') AS month_of_year_str,\n",
    "    CAST(TO_CHAR(date, 'MM') AS INTEGER) AS month_of_year,\n",
    "    CAST(TO_CHAR(date, 'DD') AS INTEGER) AS day_of_month,\n",
    "    TO_CHAR(date, 'Day') AS day_of_week_str,\n",
    "    CAST(TO_CHAR(date, 'D') AS INTEGER) AS day_of_week,\n",
    "    CASE WHEN CAST(TO_CHAR(date, 'D') AS INTEGER) IN (1, 7) \n",
    "        THEN TRUE\n",
    "        ELSE FALSE\n",
    "    END AS is_weekend,\n",
    "    CASE WHEN CAST(TO_CHAR(date, 'D') AS INTEGER) NOT IN (1, 7) \n",
    "        THEN TRUE\n",
    "        ELSE FALSE\n",
    "    END AS is_weekday,\n",
    "    CAST(TO_CHAR(date, 'HH24') AS INTEGER) AS hour_of_day,\n",
    "    CAST(TO_CHAR(date, 'Q') AS INTEGER) AS quarter_of_year\n",
    "FROM chicago_crime;"
   ]
  },
  {
   "cell_type": "markdown",
   "metadata": {},
   "source": [
    "Here we verify that the input was successful."
   ]
  },
  {
   "cell_type": "code",
   "execution_count": 9,
   "metadata": {},
   "outputs": [
    {
     "name": "stdout",
     "output_type": "stream",
     "text": [
      "10 rows affected.\n"
     ]
    },
    {
     "data": {
      "text/html": [
       "<table>\n",
       "    <tr>\n",
       "        <th>key</th>\n",
       "        <th>hour</th>\n",
       "        <th>day</th>\n",
       "        <th>year</th>\n",
       "        <th>month_of_year_str</th>\n",
       "        <th>month_of_year</th>\n",
       "        <th>day_of_month</th>\n",
       "        <th>day_of_week_str</th>\n",
       "        <th>day_of_week</th>\n",
       "        <th>is_weekend</th>\n",
       "        <th>is_weekday</th>\n",
       "        <th>hour_of_day</th>\n",
       "        <th>quarter_of_year</th>\n",
       "    </tr>\n",
       "    <tr>\n",
       "        <td>1</td>\n",
       "        <td>2012-05-17 07:00:00</td>\n",
       "        <td>2012-05-17</td>\n",
       "        <td>2012</td>\n",
       "        <td>May      </td>\n",
       "        <td>5</td>\n",
       "        <td>17</td>\n",
       "        <td>Thursday </td>\n",
       "        <td>5</td>\n",
       "        <td>False</td>\n",
       "        <td>True</td>\n",
       "        <td>7</td>\n",
       "        <td>2</td>\n",
       "    </tr>\n",
       "    <tr>\n",
       "        <td>2</td>\n",
       "        <td>2014-01-26 16:00:00</td>\n",
       "        <td>2014-01-26</td>\n",
       "        <td>2014</td>\n",
       "        <td>January  </td>\n",
       "        <td>1</td>\n",
       "        <td>26</td>\n",
       "        <td>Sunday   </td>\n",
       "        <td>1</td>\n",
       "        <td>True</td>\n",
       "        <td>False</td>\n",
       "        <td>16</td>\n",
       "        <td>1</td>\n",
       "    </tr>\n",
       "    <tr>\n",
       "        <td>3</td>\n",
       "        <td>2009-02-15 11:00:00</td>\n",
       "        <td>2009-02-15</td>\n",
       "        <td>2009</td>\n",
       "        <td>February </td>\n",
       "        <td>2</td>\n",
       "        <td>15</td>\n",
       "        <td>Sunday   </td>\n",
       "        <td>1</td>\n",
       "        <td>True</td>\n",
       "        <td>False</td>\n",
       "        <td>11</td>\n",
       "        <td>1</td>\n",
       "    </tr>\n",
       "    <tr>\n",
       "        <td>4</td>\n",
       "        <td>2012-01-14 12:00:00</td>\n",
       "        <td>2012-01-14</td>\n",
       "        <td>2012</td>\n",
       "        <td>January  </td>\n",
       "        <td>1</td>\n",
       "        <td>14</td>\n",
       "        <td>Saturday </td>\n",
       "        <td>7</td>\n",
       "        <td>True</td>\n",
       "        <td>False</td>\n",
       "        <td>12</td>\n",
       "        <td>1</td>\n",
       "    </tr>\n",
       "    <tr>\n",
       "        <td>5</td>\n",
       "        <td>2003-12-15 22:00:00</td>\n",
       "        <td>2003-12-15</td>\n",
       "        <td>2003</td>\n",
       "        <td>December </td>\n",
       "        <td>12</td>\n",
       "        <td>15</td>\n",
       "        <td>Monday   </td>\n",
       "        <td>2</td>\n",
       "        <td>False</td>\n",
       "        <td>True</td>\n",
       "        <td>22</td>\n",
       "        <td>4</td>\n",
       "    </tr>\n",
       "    <tr>\n",
       "        <td>6</td>\n",
       "        <td>2008-07-29 17:00:00</td>\n",
       "        <td>2008-07-29</td>\n",
       "        <td>2008</td>\n",
       "        <td>July     </td>\n",
       "        <td>7</td>\n",
       "        <td>29</td>\n",
       "        <td>Tuesday  </td>\n",
       "        <td>3</td>\n",
       "        <td>False</td>\n",
       "        <td>True</td>\n",
       "        <td>17</td>\n",
       "        <td>3</td>\n",
       "    </tr>\n",
       "    <tr>\n",
       "        <td>7</td>\n",
       "        <td>2001-12-20 07:00:00</td>\n",
       "        <td>2001-12-20</td>\n",
       "        <td>2001</td>\n",
       "        <td>December </td>\n",
       "        <td>12</td>\n",
       "        <td>20</td>\n",
       "        <td>Thursday </td>\n",
       "        <td>5</td>\n",
       "        <td>False</td>\n",
       "        <td>True</td>\n",
       "        <td>7</td>\n",
       "        <td>4</td>\n",
       "    </tr>\n",
       "    <tr>\n",
       "        <td>8</td>\n",
       "        <td>2016-05-21 11:00:00</td>\n",
       "        <td>2016-05-21</td>\n",
       "        <td>2016</td>\n",
       "        <td>May      </td>\n",
       "        <td>5</td>\n",
       "        <td>21</td>\n",
       "        <td>Saturday </td>\n",
       "        <td>7</td>\n",
       "        <td>True</td>\n",
       "        <td>False</td>\n",
       "        <td>11</td>\n",
       "        <td>2</td>\n",
       "    </tr>\n",
       "    <tr>\n",
       "        <td>9</td>\n",
       "        <td>2011-08-02 11:00:00</td>\n",
       "        <td>2011-08-02</td>\n",
       "        <td>2011</td>\n",
       "        <td>August   </td>\n",
       "        <td>8</td>\n",
       "        <td>2</td>\n",
       "        <td>Tuesday  </td>\n",
       "        <td>3</td>\n",
       "        <td>False</td>\n",
       "        <td>True</td>\n",
       "        <td>11</td>\n",
       "        <td>3</td>\n",
       "    </tr>\n",
       "    <tr>\n",
       "        <td>10</td>\n",
       "        <td>2007-08-04 22:00:00</td>\n",
       "        <td>2007-08-04</td>\n",
       "        <td>2007</td>\n",
       "        <td>August   </td>\n",
       "        <td>8</td>\n",
       "        <td>4</td>\n",
       "        <td>Saturday </td>\n",
       "        <td>7</td>\n",
       "        <td>True</td>\n",
       "        <td>False</td>\n",
       "        <td>22</td>\n",
       "        <td>3</td>\n",
       "    </tr>\n",
       "</table>"
      ],
      "text/plain": [
       "[(1, '2012-05-17 07:00:00', '2012-05-17', 2012, 'May      ', 5, 17, 'Thursday ', 5, False, True, 7, 2),\n",
       " (2, '2014-01-26 16:00:00', '2014-01-26', 2014, 'January  ', 1, 26, 'Sunday   ', 1, True, False, 16, 1),\n",
       " (3, '2009-02-15 11:00:00', '2009-02-15', 2009, 'February ', 2, 15, 'Sunday   ', 1, True, False, 11, 1),\n",
       " (4, '2012-01-14 12:00:00', '2012-01-14', 2012, 'January  ', 1, 14, 'Saturday ', 7, True, False, 12, 1),\n",
       " (5, '2003-12-15 22:00:00', '2003-12-15', 2003, 'December ', 12, 15, 'Monday   ', 2, False, True, 22, 4),\n",
       " (6, '2008-07-29 17:00:00', '2008-07-29', 2008, 'July     ', 7, 29, 'Tuesday  ', 3, False, True, 17, 3),\n",
       " (7, '2001-12-20 07:00:00', '2001-12-20', 2001, 'December ', 12, 20, 'Thursday ', 5, False, True, 7, 4),\n",
       " (8, '2016-05-21 11:00:00', '2016-05-21', 2016, 'May      ', 5, 21, 'Saturday ', 7, True, False, 11, 2),\n",
       " (9, '2011-08-02 11:00:00', '2011-08-02', 2011, 'August   ', 8, 2, 'Tuesday  ', 3, False, True, 11, 3),\n",
       " (10, '2007-08-04 22:00:00', '2007-08-04', 2007, 'August   ', 8, 4, 'Saturday ', 7, True, False, 22, 3)]"
      ]
     },
     "execution_count": 9,
     "metadata": {},
     "output_type": "execute_result"
    }
   ],
   "source": [
    "%%sql\n",
    "SELECT *\n",
    "FROM hour\n",
    "LIMIT 10"
   ]
  },
  {
   "cell_type": "markdown",
   "metadata": {},
   "source": [
    "Adding the hour_key to the chicago_crime fact table."
   ]
  },
  {
   "cell_type": "code",
   "execution_count": 10,
   "metadata": {},
   "outputs": [
    {
     "name": "stdout",
     "output_type": "stream",
     "text": [
      "Done.\n"
     ]
    },
    {
     "data": {
      "text/plain": [
       "[]"
      ]
     },
     "execution_count": 10,
     "metadata": {},
     "output_type": "execute_result"
    }
   ],
   "source": [
    "%%sql\n",
    "ALTER TABLE chicago_crime \n",
    "ADD COLUMN hour_key INTEGER,\n",
    "ADD CONSTRAINT fk_hour\n",
    "    FOREIGN KEY (hour_key)\n",
    "    REFERENCES hour (key);"
   ]
  },
  {
   "cell_type": "code",
   "execution_count": 11,
   "metadata": {},
   "outputs": [
    {
     "name": "stdout",
     "output_type": "stream",
     "text": [
      "6488956 rows affected.\n"
     ]
    },
    {
     "data": {
      "text/plain": [
       "[]"
      ]
     },
     "execution_count": 11,
     "metadata": {},
     "output_type": "execute_result"
    }
   ],
   "source": [
    "%%sql\n",
    "UPDATE chicago_crime\n",
    "SET hour_key = hour.key\n",
    "FROM hour\n",
    "WHERE TO_CHAR(chicago_crime.date, 'YYYY-MM-DD HH24:00:00') = hour.hour;"
   ]
  },
  {
   "cell_type": "markdown",
   "metadata": {},
   "source": [
    "## Comparative Analysis to Crime in LA"
   ]
  },
  {
   "cell_type": "markdown",
   "metadata": {},
   "source": [
    "### Time\n",
    "\n",
    "From this first analysis we can see that there are almost double the amount of crimes each year than LA, an average of 400,000 to 200,000!"
   ]
  },
  {
   "cell_type": "code",
   "execution_count": 12,
   "metadata": {},
   "outputs": [
    {
     "name": "stdout",
     "output_type": "stream",
     "text": [
      "17 rows affected.\n"
     ]
    },
    {
     "data": {
      "text/html": [
       "<table>\n",
       "    <tr>\n",
       "        <th>year</th>\n",
       "        <th>count</th>\n",
       "    </tr>\n",
       "    <tr>\n",
       "        <td>2001</td>\n",
       "        <td>485736</td>\n",
       "    </tr>\n",
       "    <tr>\n",
       "        <td>2002</td>\n",
       "        <td>486744</td>\n",
       "    </tr>\n",
       "    <tr>\n",
       "        <td>2003</td>\n",
       "        <td>475921</td>\n",
       "    </tr>\n",
       "    <tr>\n",
       "        <td>2004</td>\n",
       "        <td>469362</td>\n",
       "    </tr>\n",
       "    <tr>\n",
       "        <td>2005</td>\n",
       "        <td>453687</td>\n",
       "    </tr>\n",
       "    <tr>\n",
       "        <td>2006</td>\n",
       "        <td>448066</td>\n",
       "    </tr>\n",
       "    <tr>\n",
       "        <td>2007</td>\n",
       "        <td>436969</td>\n",
       "    </tr>\n",
       "    <tr>\n",
       "        <td>2008</td>\n",
       "        <td>427002</td>\n",
       "    </tr>\n",
       "    <tr>\n",
       "        <td>2009</td>\n",
       "        <td>392601</td>\n",
       "    </tr>\n",
       "    <tr>\n",
       "        <td>2010</td>\n",
       "        <td>370232</td>\n",
       "    </tr>\n",
       "    <tr>\n",
       "        <td>2011</td>\n",
       "        <td>351656</td>\n",
       "    </tr>\n",
       "    <tr>\n",
       "        <td>2012</td>\n",
       "        <td>335800</td>\n",
       "    </tr>\n",
       "    <tr>\n",
       "        <td>2013</td>\n",
       "        <td>306851</td>\n",
       "    </tr>\n",
       "    <tr>\n",
       "        <td>2014</td>\n",
       "        <td>274847</td>\n",
       "    </tr>\n",
       "    <tr>\n",
       "        <td>2015</td>\n",
       "        <td>263509</td>\n",
       "    </tr>\n",
       "    <tr>\n",
       "        <td>2016</td>\n",
       "        <td>268196</td>\n",
       "    </tr>\n",
       "    <tr>\n",
       "        <td>2017</td>\n",
       "        <td>241777</td>\n",
       "    </tr>\n",
       "</table>"
      ],
      "text/plain": [
       "[(2001, 485736),\n",
       " (2002, 486744),\n",
       " (2003, 475921),\n",
       " (2004, 469362),\n",
       " (2005, 453687),\n",
       " (2006, 448066),\n",
       " (2007, 436969),\n",
       " (2008, 427002),\n",
       " (2009, 392601),\n",
       " (2010, 370232),\n",
       " (2011, 351656),\n",
       " (2012, 335800),\n",
       " (2013, 306851),\n",
       " (2014, 274847),\n",
       " (2015, 263509),\n",
       " (2016, 268196),\n",
       " (2017, 241777)]"
      ]
     },
     "execution_count": 12,
     "metadata": {},
     "output_type": "execute_result"
    }
   ],
   "source": [
    "%%sql\n",
    "SELECT hour.year, COUNT(*)\n",
    "FROM chicago_crime\n",
    "JOIN hour\n",
    "ON chicago_crime.hour_key = hour.key\n",
    "GROUP BY hour.year\n",
    "ORDER BY hour.year"
   ]
  },
  {
   "cell_type": "code",
   "execution_count": 13,
   "metadata": {},
   "outputs": [
    {
     "data": {
      "text/plain": [
       "<Container object of 17 artists>"
      ]
     },
     "execution_count": 13,
     "metadata": {},
     "output_type": "execute_result"
    },
    {
     "data": {
      "image/png": "[encoded data removed]",
      "text/plain": [
       "<matplotlib.figure.Figure at 0x7f16785246a0>"
      ]
     },
     "metadata": {},
     "output_type": "display_data"
    }
   ],
   "source": [
    "%matplotlib inline\n",
    "_.bar()"
   ]
  },
  {
   "cell_type": "markdown",
   "metadata": {},
   "source": [
    "Here we are looking at the total amount of crimes per month."
   ]
  },
  {
   "cell_type": "code",
   "execution_count": 14,
   "metadata": {},
   "outputs": [
    {
     "name": "stdout",
     "output_type": "stream",
     "text": [
      "12 rows affected.\n"
     ]
    },
    {
     "data": {
      "text/html": [
       "<table>\n",
       "    <tr>\n",
       "        <th>month_of_year</th>\n",
       "        <th>count</th>\n",
       "    </tr>\n",
       "    <tr>\n",
       "        <td>1</td>\n",
       "        <td>507475</td>\n",
       "    </tr>\n",
       "    <tr>\n",
       "        <td>2</td>\n",
       "        <td>446449</td>\n",
       "    </tr>\n",
       "    <tr>\n",
       "        <td>3</td>\n",
       "        <td>536089</td>\n",
       "    </tr>\n",
       "    <tr>\n",
       "        <td>4</td>\n",
       "        <td>537774</td>\n",
       "    </tr>\n",
       "    <tr>\n",
       "        <td>5</td>\n",
       "        <td>578227</td>\n",
       "    </tr>\n",
       "    <tr>\n",
       "        <td>6</td>\n",
       "        <td>575722</td>\n",
       "    </tr>\n",
       "    <tr>\n",
       "        <td>7</td>\n",
       "        <td>605146</td>\n",
       "    </tr>\n",
       "    <tr>\n",
       "        <td>8</td>\n",
       "        <td>598956</td>\n",
       "    </tr>\n",
       "    <tr>\n",
       "        <td>9</td>\n",
       "        <td>562182</td>\n",
       "    </tr>\n",
       "    <tr>\n",
       "        <td>10</td>\n",
       "        <td>569547</td>\n",
       "    </tr>\n",
       "    <tr>\n",
       "        <td>11</td>\n",
       "        <td>509768</td>\n",
       "    </tr>\n",
       "    <tr>\n",
       "        <td>12</td>\n",
       "        <td>461621</td>\n",
       "    </tr>\n",
       "</table>"
      ],
      "text/plain": [
       "[(1, 507475),\n",
       " (2, 446449),\n",
       " (3, 536089),\n",
       " (4, 537774),\n",
       " (5, 578227),\n",
       " (6, 575722),\n",
       " (7, 605146),\n",
       " (8, 598956),\n",
       " (9, 562182),\n",
       " (10, 569547),\n",
       " (11, 509768),\n",
       " (12, 461621)]"
      ]
     },
     "execution_count": 14,
     "metadata": {},
     "output_type": "execute_result"
    }
   ],
   "source": [
    "%%sql\n",
    "SELECT hour.month_of_year, COUNT(*)\n",
    "FROM chicago_crime\n",
    "JOIN hour\n",
    "ON chicago_crime.hour_key = hour.key\n",
    "GROUP BY hour.month_of_year\n",
    "ORDER BY hour.month_of_year"
   ]
  },
  {
   "cell_type": "code",
   "execution_count": 15,
   "metadata": {},
   "outputs": [
    {
     "data": {
      "text/plain": [
       "<Container object of 12 artists>"
      ]
     },
     "execution_count": 15,
     "metadata": {},
     "output_type": "execute_result"
    },
    {
     "data": {
      "image/png": "[encoded data removed]",
      "text/plain": [
       "<matplotlib.figure.Figure at 0x7f1673fa4cc0>"
      ]
     },
     "metadata": {},
     "output_type": "display_data"
    }
   ],
   "source": [
    "%matplotlib inline\n",
    "_.bar()"
   ]
  },
  {
   "cell_type": "markdown",
   "metadata": {},
   "source": [
    "The total amount of crime that occurs on a particular weekday. Fridays are not safe."
   ]
  },
  {
   "cell_type": "code",
   "execution_count": 16,
   "metadata": {},
   "outputs": [
    {
     "name": "stdout",
     "output_type": "stream",
     "text": [
      "7 rows affected.\n"
     ]
    },
    {
     "data": {
      "text/html": [
       "<table>\n",
       "    <tr>\n",
       "        <th>day_of_week_str</th>\n",
       "        <th>count</th>\n",
       "    </tr>\n",
       "    <tr>\n",
       "        <td>Sunday   </td>\n",
       "        <td>876030</td>\n",
       "    </tr>\n",
       "    <tr>\n",
       "        <td>Monday   </td>\n",
       "        <td>915620</td>\n",
       "    </tr>\n",
       "    <tr>\n",
       "        <td>Tuesday  </td>\n",
       "        <td>930330</td>\n",
       "    </tr>\n",
       "    <tr>\n",
       "        <td>Wednesday</td>\n",
       "        <td>935978</td>\n",
       "    </tr>\n",
       "    <tr>\n",
       "        <td>Thursday </td>\n",
       "        <td>926718</td>\n",
       "    </tr>\n",
       "    <tr>\n",
       "        <td>Friday   </td>\n",
       "        <td>977472</td>\n",
       "    </tr>\n",
       "    <tr>\n",
       "        <td>Saturday </td>\n",
       "        <td>926808</td>\n",
       "    </tr>\n",
       "</table>"
      ],
      "text/plain": [
       "[('Sunday   ', 876030),\n",
       " ('Monday   ', 915620),\n",
       " ('Tuesday  ', 930330),\n",
       " ('Wednesday', 935978),\n",
       " ('Thursday ', 926718),\n",
       " ('Friday   ', 977472),\n",
       " ('Saturday ', 926808)]"
      ]
     },
     "execution_count": 16,
     "metadata": {},
     "output_type": "execute_result"
    }
   ],
   "source": [
    "%%sql\n",
    "SELECT hour.day_of_week_str, COUNT(*)\n",
    "FROM chicago_crime\n",
    "JOIN hour\n",
    "ON chicago_crime.hour_key = hour.key\n",
    "GROUP BY hour.day_of_week, day_of_week_str \n",
    "ORDER BY hour.day_of_week"
   ]
  },
  {
   "cell_type": "code",
   "execution_count": 17,
   "metadata": {},
   "outputs": [
    {
     "data": {
      "text/plain": [
       "<Container object of 7 artists>"
      ]
     },
     "execution_count": 17,
     "metadata": {},
     "output_type": "execute_result"
    },
    {
     "data": {
      "image/png": "[encoded data removed]",
      "text/plain": [
       "<matplotlib.figure.Figure at 0x7f1673f40c50>"
      ]
     },
     "metadata": {},
     "output_type": "display_data"
    }
   ],
   "source": [
    "%matplotlib inline\n",
    "_.bar()"
   ]
  },
  {
   "cell_type": "markdown",
   "metadata": {},
   "source": [
    "Looking at the time of day - I would consider anything after noon quite dangerous. This is similar to the analysis of LA - anything noon and beyond were much more dangerous."
   ]
  },
  {
   "cell_type": "code",
   "execution_count": 18,
   "metadata": {},
   "outputs": [
    {
     "name": "stdout",
     "output_type": "stream",
     "text": [
      "24 rows affected.\n"
     ]
    },
    {
     "data": {
      "text/html": [
       "<table>\n",
       "    <tr>\n",
       "        <th>hour_of_day</th>\n",
       "        <th>count</th>\n",
       "    </tr>\n",
       "    <tr>\n",
       "        <td>0</td>\n",
       "        <td>360738</td>\n",
       "    </tr>\n",
       "    <tr>\n",
       "        <td>1</td>\n",
       "        <td>206442</td>\n",
       "    </tr>\n",
       "    <tr>\n",
       "        <td>2</td>\n",
       "        <td>173180</td>\n",
       "    </tr>\n",
       "    <tr>\n",
       "        <td>3</td>\n",
       "        <td>139348</td>\n",
       "    </tr>\n",
       "    <tr>\n",
       "        <td>4</td>\n",
       "        <td>104494</td>\n",
       "    </tr>\n",
       "    <tr>\n",
       "        <td>5</td>\n",
       "        <td>86331</td>\n",
       "    </tr>\n",
       "    <tr>\n",
       "        <td>6</td>\n",
       "        <td>101940</td>\n",
       "    </tr>\n",
       "    <tr>\n",
       "        <td>7</td>\n",
       "        <td>146904</td>\n",
       "    </tr>\n",
       "    <tr>\n",
       "        <td>8</td>\n",
       "        <td>219154</td>\n",
       "    </tr>\n",
       "    <tr>\n",
       "        <td>9</td>\n",
       "        <td>277756</td>\n",
       "    </tr>\n",
       "    <tr>\n",
       "        <td>10</td>\n",
       "        <td>271597</td>\n",
       "    </tr>\n",
       "    <tr>\n",
       "        <td>11</td>\n",
       "        <td>286084</td>\n",
       "    </tr>\n",
       "    <tr>\n",
       "        <td>12</td>\n",
       "        <td>368140</td>\n",
       "    </tr>\n",
       "    <tr>\n",
       "        <td>13</td>\n",
       "        <td>308324</td>\n",
       "    </tr>\n",
       "    <tr>\n",
       "        <td>14</td>\n",
       "        <td>328276</td>\n",
       "    </tr>\n",
       "    <tr>\n",
       "        <td>15</td>\n",
       "        <td>344172</td>\n",
       "    </tr>\n",
       "    <tr>\n",
       "        <td>16</td>\n",
       "        <td>324742</td>\n",
       "    </tr>\n",
       "    <tr>\n",
       "        <td>17</td>\n",
       "        <td>329960</td>\n",
       "    </tr>\n",
       "    <tr>\n",
       "        <td>18</td>\n",
       "        <td>355622</td>\n",
       "    </tr>\n",
       "    <tr>\n",
       "        <td>19</td>\n",
       "        <td>369566</td>\n",
       "    </tr>\n",
       "    <tr>\n",
       "        <td>20</td>\n",
       "        <td>370454</td>\n",
       "    </tr>\n",
       "    <tr>\n",
       "        <td>21</td>\n",
       "        <td>362810</td>\n",
       "    </tr>\n",
       "    <tr>\n",
       "        <td>22</td>\n",
       "        <td>357680</td>\n",
       "    </tr>\n",
       "    <tr>\n",
       "        <td>23</td>\n",
       "        <td>295242</td>\n",
       "    </tr>\n",
       "</table>"
      ],
      "text/plain": [
       "[(0, 360738),\n",
       " (1, 206442),\n",
       " (2, 173180),\n",
       " (3, 139348),\n",
       " (4, 104494),\n",
       " (5, 86331),\n",
       " (6, 101940),\n",
       " (7, 146904),\n",
       " (8, 219154),\n",
       " (9, 277756),\n",
       " (10, 271597),\n",
       " (11, 286084),\n",
       " (12, 368140),\n",
       " (13, 308324),\n",
       " (14, 328276),\n",
       " (15, 344172),\n",
       " (16, 324742),\n",
       " (17, 329960),\n",
       " (18, 355622),\n",
       " (19, 369566),\n",
       " (20, 370454),\n",
       " (21, 362810),\n",
       " (22, 357680),\n",
       " (23, 295242)]"
      ]
     },
     "execution_count": 18,
     "metadata": {},
     "output_type": "execute_result"
    }
   ],
   "source": [
    "%%sql\n",
    "SELECT hour_of_day, COUNT(*)\n",
    "FROM chicago_crime\n",
    "JOIN hour\n",
    "ON chicago_crime.hour_key = hour.key\n",
    "GROUP BY hour_of_day\n",
    "ORDER BY hour_of_day"
   ]
  },
  {
   "cell_type": "code",
   "execution_count": 19,
   "metadata": {},
   "outputs": [
    {
     "data": {
      "text/plain": [
       "<Container object of 24 artists>"
      ]
     },
     "execution_count": 19,
     "metadata": {},
     "output_type": "execute_result"
    },
    {
     "data": {
      "image/png": "[encoded data removed]",
      "text/plain": [
       "<matplotlib.figure.Figure at 0x7f167851ccf8>"
      ]
     },
     "metadata": {},
     "output_type": "display_data"
    }
   ],
   "source": [
    "%matplotlib inline\n",
    "_.bar()"
   ]
  },
  {
   "cell_type": "markdown",
   "metadata": {},
   "source": [
    "However, our comparison to which day in the year the most crime is committed is also the same, however LA commits almost twice as much crime on New Year's than Chicago does."
   ]
  },
  {
   "cell_type": "code",
   "execution_count": 20,
   "metadata": {},
   "outputs": [
    {
     "name": "stdout",
     "output_type": "stream",
     "text": [
      "17 rows affected.\n"
     ]
    },
    {
     "data": {
      "text/html": [
       "<table>\n",
       "    <tr>\n",
       "        <th>day</th>\n",
       "        <th>year</th>\n",
       "        <th>count</th>\n",
       "    </tr>\n",
       "    <tr>\n",
       "        <td>2001-01-01</td>\n",
       "        <td>2001</td>\n",
       "        <td>1810</td>\n",
       "    </tr>\n",
       "    <tr>\n",
       "        <td>2002-01-01</td>\n",
       "        <td>2002</td>\n",
       "        <td>1853</td>\n",
       "    </tr>\n",
       "    <tr>\n",
       "        <td>2003-01-01</td>\n",
       "        <td>2003</td>\n",
       "        <td>2021</td>\n",
       "    </tr>\n",
       "    <tr>\n",
       "        <td>2004-01-01</td>\n",
       "        <td>2004</td>\n",
       "        <td>1884</td>\n",
       "    </tr>\n",
       "    <tr>\n",
       "        <td>2005-01-01</td>\n",
       "        <td>2005</td>\n",
       "        <td>1955</td>\n",
       "    </tr>\n",
       "    <tr>\n",
       "        <td>2006-01-01</td>\n",
       "        <td>2006</td>\n",
       "        <td>1897</td>\n",
       "    </tr>\n",
       "    <tr>\n",
       "        <td>2007-01-01</td>\n",
       "        <td>2007</td>\n",
       "        <td>1933</td>\n",
       "    </tr>\n",
       "    <tr>\n",
       "        <td>2008-01-01</td>\n",
       "        <td>2008</td>\n",
       "        <td>1795</td>\n",
       "    </tr>\n",
       "    <tr>\n",
       "        <td>2009-01-01</td>\n",
       "        <td>2009</td>\n",
       "        <td>1803</td>\n",
       "    </tr>\n",
       "    <tr>\n",
       "        <td>2010-01-01</td>\n",
       "        <td>2010</td>\n",
       "        <td>1404</td>\n",
       "    </tr>\n",
       "    <tr>\n",
       "        <td>2011-01-01</td>\n",
       "        <td>2011</td>\n",
       "        <td>1515</td>\n",
       "    </tr>\n",
       "    <tr>\n",
       "        <td>2012-01-01</td>\n",
       "        <td>2012</td>\n",
       "        <td>1473</td>\n",
       "    </tr>\n",
       "    <tr>\n",
       "        <td>2013-01-01</td>\n",
       "        <td>2013</td>\n",
       "        <td>1327</td>\n",
       "    </tr>\n",
       "    <tr>\n",
       "        <td>2014-01-01</td>\n",
       "        <td>2014</td>\n",
       "        <td>1112</td>\n",
       "    </tr>\n",
       "    <tr>\n",
       "        <td>2015-01-01</td>\n",
       "        <td>2015</td>\n",
       "        <td>1100</td>\n",
       "    </tr>\n",
       "    <tr>\n",
       "        <td>2016-01-01</td>\n",
       "        <td>2016</td>\n",
       "        <td>1004</td>\n",
       "    </tr>\n",
       "    <tr>\n",
       "        <td>2017-01-01</td>\n",
       "        <td>2017</td>\n",
       "        <td>1020</td>\n",
       "    </tr>\n",
       "</table>"
      ],
      "text/plain": [
       "[('2001-01-01', 2001, 1810),\n",
       " ('2002-01-01', 2002, 1853),\n",
       " ('2003-01-01', 2003, 2021),\n",
       " ('2004-01-01', 2004, 1884),\n",
       " ('2005-01-01', 2005, 1955),\n",
       " ('2006-01-01', 2006, 1897),\n",
       " ('2007-01-01', 2007, 1933),\n",
       " ('2008-01-01', 2008, 1795),\n",
       " ('2009-01-01', 2009, 1803),\n",
       " ('2010-01-01', 2010, 1404),\n",
       " ('2011-01-01', 2011, 1515),\n",
       " ('2012-01-01', 2012, 1473),\n",
       " ('2013-01-01', 2013, 1327),\n",
       " ('2014-01-01', 2014, 1112),\n",
       " ('2015-01-01', 2015, 1100),\n",
       " ('2016-01-01', 2016, 1004),\n",
       " ('2017-01-01', 2017, 1020)]"
      ]
     },
     "execution_count": 20,
     "metadata": {},
     "output_type": "execute_result"
    }
   ],
   "source": [
    "%%sql\n",
    "SELECT a.day, a.year, a.count\n",
    "FROM (SELECT COUNT(*) AS count, day, hour.year\n",
    "    FROM chicago_crime\n",
    "    JOIN hour\n",
    "    ON chicago_crime.hour_key = hour.key\n",
    "    GROUP BY day, hour.year) AS a\n",
    "JOIN (SELECT t.year, MAX(count) AS max_count\n",
    "    FROM (SELECT COUNT(*) AS count, day, hour.year\n",
    "        FROM chicago_crime\n",
    "        JOIN hour\n",
    "        ON chicago_crime.hour_key = hour.key\n",
    "        GROUP BY day, hour.year) AS t\n",
    "     GROUP BY t.year) AS b\n",
    "ON a.year = b.year\n",
    "AND a.count = b.max_count\n",
    "ORDER BY a.year"
   ]
  },
  {
   "cell_type": "markdown",
   "metadata": {},
   "source": [
    "### Type\n",
    "Here we are looking at the different types of crime committed in Chicago. Where Battery was the number one crime in LA, Theft followed by Battery are the top two crimes in Chicago.\n",
    "\n",
    "The number of battery crimes in Chicago is almost 10x more than the battery crimes in LA."
   ]
  },
  {
   "cell_type": "code",
   "execution_count": 21,
   "metadata": {},
   "outputs": [
    {
     "name": "stdout",
     "output_type": "stream",
     "text": [
      "10 rows affected.\n"
     ]
    },
    {
     "data": {
      "text/html": [
       "<table>\n",
       "    <tr>\n",
       "        <th>type</th>\n",
       "        <th>count</th>\n",
       "    </tr>\n",
       "    <tr>\n",
       "        <td>THEFT</td>\n",
       "        <td>1355568</td>\n",
       "    </tr>\n",
       "    <tr>\n",
       "        <td>BATTERY</td>\n",
       "        <td>1184458</td>\n",
       "    </tr>\n",
       "    <tr>\n",
       "        <td>CRIMINAL DAMAGE</td>\n",
       "        <td>744690</td>\n",
       "    </tr>\n",
       "    <tr>\n",
       "        <td>NARCOTICS</td>\n",
       "        <td>698473</td>\n",
       "    </tr>\n",
       "    <tr>\n",
       "        <td>OTHER OFFENSE</td>\n",
       "        <td>402013</td>\n",
       "    </tr>\n",
       "    <tr>\n",
       "        <td>ASSAULT</td>\n",
       "        <td>399086</td>\n",
       "    </tr>\n",
       "    <tr>\n",
       "        <td>BURGLARY</td>\n",
       "        <td>376661</td>\n",
       "    </tr>\n",
       "    <tr>\n",
       "        <td>MOTOR VEHICLE THEFT</td>\n",
       "        <td>304544</td>\n",
       "    </tr>\n",
       "    <tr>\n",
       "        <td>ROBBERY</td>\n",
       "        <td>246085</td>\n",
       "    </tr>\n",
       "    <tr>\n",
       "        <td>DECEPTIVE PRACTICE</td>\n",
       "        <td>242619</td>\n",
       "    </tr>\n",
       "</table>"
      ],
      "text/plain": [
       "[('THEFT', 1355568),\n",
       " ('BATTERY', 1184458),\n",
       " ('CRIMINAL DAMAGE', 744690),\n",
       " ('NARCOTICS', 698473),\n",
       " ('OTHER OFFENSE', 402013),\n",
       " ('ASSAULT', 399086),\n",
       " ('BURGLARY', 376661),\n",
       " ('MOTOR VEHICLE THEFT', 304544),\n",
       " ('ROBBERY', 246085),\n",
       " ('DECEPTIVE PRACTICE', 242619)]"
      ]
     },
     "execution_count": 21,
     "metadata": {},
     "output_type": "execute_result"
    }
   ],
   "source": [
    "%%sql\n",
    "SELECT type, COUNT(*)\n",
    "FROM chicago_crime\n",
    "GROUP BY type\n",
    "ORDER BY count DESC\n",
    "LIMIT 10"
   ]
  },
  {
   "cell_type": "markdown",
   "metadata": {},
   "source": [
    "Here we are looking at how theft and battery has changed throughout the years."
   ]
  },
  {
   "cell_type": "code",
   "execution_count": 22,
   "metadata": {},
   "outputs": [
    {
     "name": "stdout",
     "output_type": "stream",
     "text": [
      "10 rows affected.\n"
     ]
    },
    {
     "data": {
      "text/html": [
       "<table>\n",
       "    <tr>\n",
       "        <th>type</th>\n",
       "        <th>year</th>\n",
       "        <th>count</th>\n",
       "    </tr>\n",
       "    <tr>\n",
       "        <td>THEFT</td>\n",
       "        <td>2001</td>\n",
       "        <td>99264</td>\n",
       "    </tr>\n",
       "    <tr>\n",
       "        <td>THEFT</td>\n",
       "        <td>2003</td>\n",
       "        <td>98875</td>\n",
       "    </tr>\n",
       "    <tr>\n",
       "        <td>THEFT</td>\n",
       "        <td>2002</td>\n",
       "        <td>98327</td>\n",
       "    </tr>\n",
       "    <tr>\n",
       "        <td>THEFT</td>\n",
       "        <td>2004</td>\n",
       "        <td>95463</td>\n",
       "    </tr>\n",
       "    <tr>\n",
       "        <td>BATTERY</td>\n",
       "        <td>2002</td>\n",
       "        <td>94152</td>\n",
       "    </tr>\n",
       "    <tr>\n",
       "        <td>BATTERY</td>\n",
       "        <td>2001</td>\n",
       "        <td>93447</td>\n",
       "    </tr>\n",
       "    <tr>\n",
       "        <td>THEFT</td>\n",
       "        <td>2008</td>\n",
       "        <td>88431</td>\n",
       "    </tr>\n",
       "    <tr>\n",
       "        <td>BATTERY</td>\n",
       "        <td>2003</td>\n",
       "        <td>88377</td>\n",
       "    </tr>\n",
       "    <tr>\n",
       "        <td>BATTERY</td>\n",
       "        <td>2004</td>\n",
       "        <td>87134</td>\n",
       "    </tr>\n",
       "    <tr>\n",
       "        <td>THEFT</td>\n",
       "        <td>2006</td>\n",
       "        <td>86240</td>\n",
       "    </tr>\n",
       "</table>"
      ],
      "text/plain": [
       "[('THEFT', 2001, 99264),\n",
       " ('THEFT', 2003, 98875),\n",
       " ('THEFT', 2002, 98327),\n",
       " ('THEFT', 2004, 95463),\n",
       " ('BATTERY', 2002, 94152),\n",
       " ('BATTERY', 2001, 93447),\n",
       " ('THEFT', 2008, 88431),\n",
       " ('BATTERY', 2003, 88377),\n",
       " ('BATTERY', 2004, 87134),\n",
       " ('THEFT', 2006, 86240)]"
      ]
     },
     "execution_count": 22,
     "metadata": {},
     "output_type": "execute_result"
    }
   ],
   "source": [
    "%%sql\n",
    "SELECT chicago_crime.type, hour.year, COUNT(type)\n",
    "FROM chicago_crime\n",
    "JOIN hour\n",
    "ON chicago_crime.hour_key = hour.key\n",
    "GROUP BY type, hour.year\n",
    "ORDER BY COUNT(type) DESC\n",
    "LIMIT 10"
   ]
  },
  {
   "cell_type": "code",
   "execution_count": 23,
   "metadata": {},
   "outputs": [
    {
     "data": {
      "text/plain": [
       "<Container object of 10 artists>"
      ]
     },
     "execution_count": 23,
     "metadata": {},
     "output_type": "execute_result"
    },
    {
     "data": {
      "image/png": "[encoded data removed]",
      "text/plain": [
       "<matplotlib.figure.Figure at 0x7f1673e67e80>"
      ]
     },
     "metadata": {},
     "output_type": "display_data"
    }
   ],
   "source": [
    "%matplotlib inline\n",
    "_.bar()"
   ]
  },
  {
   "cell_type": "markdown",
   "metadata": {},
   "source": [
    "**Focus on Battery**\n",
    "\n",
    "Here we wanted to compare battery crimes during the week."
   ]
  },
  {
   "cell_type": "code",
   "execution_count": 24,
   "metadata": {},
   "outputs": [
    {
     "name": "stdout",
     "output_type": "stream",
     "text": [
      "7 rows affected.\n"
     ]
    },
    {
     "data": {
      "text/html": [
       "<table>\n",
       "    <tr>\n",
       "        <th>type</th>\n",
       "        <th>day_of_week_str</th>\n",
       "        <th>count</th>\n",
       "    </tr>\n",
       "    <tr>\n",
       "        <td>BATTERY</td>\n",
       "        <td>Sunday   </td>\n",
       "        <td>194705</td>\n",
       "    </tr>\n",
       "    <tr>\n",
       "        <td>BATTERY</td>\n",
       "        <td>Monday   </td>\n",
       "        <td>159201</td>\n",
       "    </tr>\n",
       "    <tr>\n",
       "        <td>BATTERY</td>\n",
       "        <td>Tuesday  </td>\n",
       "        <td>158800</td>\n",
       "    </tr>\n",
       "    <tr>\n",
       "        <td>BATTERY</td>\n",
       "        <td>Wednesday</td>\n",
       "        <td>159473</td>\n",
       "    </tr>\n",
       "    <tr>\n",
       "        <td>BATTERY</td>\n",
       "        <td>Thursday </td>\n",
       "        <td>159881</td>\n",
       "    </tr>\n",
       "    <tr>\n",
       "        <td>BATTERY</td>\n",
       "        <td>Friday   </td>\n",
       "        <td>167118</td>\n",
       "    </tr>\n",
       "    <tr>\n",
       "        <td>BATTERY</td>\n",
       "        <td>Saturday </td>\n",
       "        <td>185280</td>\n",
       "    </tr>\n",
       "</table>"
      ],
      "text/plain": [
       "[('BATTERY', 'Sunday   ', 194705),\n",
       " ('BATTERY', 'Monday   ', 159201),\n",
       " ('BATTERY', 'Tuesday  ', 158800),\n",
       " ('BATTERY', 'Wednesday', 159473),\n",
       " ('BATTERY', 'Thursday ', 159881),\n",
       " ('BATTERY', 'Friday   ', 167118),\n",
       " ('BATTERY', 'Saturday ', 185280)]"
      ]
     },
     "execution_count": 24,
     "metadata": {},
     "output_type": "execute_result"
    }
   ],
   "source": [
    "%%sql\n",
    "SELECT type, day_of_week_str, COUNT(type)\n",
    "FROM chicago_crime\n",
    "JOIN hour\n",
    "ON chicago_crime.hour_key = hour.key\n",
    "WHERE type = 'BATTERY'\n",
    "GROUP BY day_of_week, day_of_week_str, type\n",
    "ORDER BY day_of_week"
   ]
  },
  {
   "cell_type": "code",
   "execution_count": 25,
   "metadata": {},
   "outputs": [
    {
     "data": {
      "text/plain": [
       "<Container object of 7 artists>"
      ]
     },
     "execution_count": 25,
     "metadata": {},
     "output_type": "execute_result"
    },
    {
     "data": {
      "image/png": "[encoded data removed]",
      "text/plain": [
       "<matplotlib.figure.Figure at 0x7f1673d82748>"
      ]
     },
     "metadata": {},
     "output_type": "display_data"
    }
   ],
   "source": [
    "%matplotlib inline\n",
    "_.bar()"
   ]
  },
  {
   "cell_type": "markdown",
   "metadata": {},
   "source": [
    "Looking at the time battery crimes occur."
   ]
  },
  {
   "cell_type": "code",
   "execution_count": 26,
   "metadata": {},
   "outputs": [
    {
     "name": "stdout",
     "output_type": "stream",
     "text": [
      "24 rows affected.\n"
     ]
    },
    {
     "data": {
      "text/html": [
       "<table>\n",
       "    <tr>\n",
       "        <th>type</th>\n",
       "        <th>hour_of_day</th>\n",
       "        <th>count</th>\n",
       "    </tr>\n",
       "    <tr>\n",
       "        <td>BATTERY</td>\n",
       "        <td>0</td>\n",
       "        <td>58892</td>\n",
       "    </tr>\n",
       "    <tr>\n",
       "        <td>BATTERY</td>\n",
       "        <td>1</td>\n",
       "        <td>56774</td>\n",
       "    </tr>\n",
       "    <tr>\n",
       "        <td>BATTERY</td>\n",
       "        <td>2</td>\n",
       "        <td>50718</td>\n",
       "    </tr>\n",
       "    <tr>\n",
       "        <td>BATTERY</td>\n",
       "        <td>3</td>\n",
       "        <td>41074</td>\n",
       "    </tr>\n",
       "    <tr>\n",
       "        <td>BATTERY</td>\n",
       "        <td>4</td>\n",
       "        <td>28743</td>\n",
       "    </tr>\n",
       "    <tr>\n",
       "        <td>BATTERY</td>\n",
       "        <td>5</td>\n",
       "        <td>19278</td>\n",
       "    </tr>\n",
       "    <tr>\n",
       "        <td>BATTERY</td>\n",
       "        <td>6</td>\n",
       "        <td>16215</td>\n",
       "    </tr>\n",
       "    <tr>\n",
       "        <td>BATTERY</td>\n",
       "        <td>7</td>\n",
       "        <td>20408</td>\n",
       "    </tr>\n",
       "    <tr>\n",
       "        <td>BATTERY</td>\n",
       "        <td>8</td>\n",
       "        <td>31125</td>\n",
       "    </tr>\n",
       "    <tr>\n",
       "        <td>BATTERY</td>\n",
       "        <td>9</td>\n",
       "        <td>36646</td>\n",
       "    </tr>\n",
       "    <tr>\n",
       "        <td>BATTERY</td>\n",
       "        <td>10</td>\n",
       "        <td>41439</td>\n",
       "    </tr>\n",
       "    <tr>\n",
       "        <td>BATTERY</td>\n",
       "        <td>11</td>\n",
       "        <td>46887</td>\n",
       "    </tr>\n",
       "    <tr>\n",
       "        <td>BATTERY</td>\n",
       "        <td>12</td>\n",
       "        <td>51619</td>\n",
       "    </tr>\n",
       "    <tr>\n",
       "        <td>BATTERY</td>\n",
       "        <td>13</td>\n",
       "        <td>51462</td>\n",
       "    </tr>\n",
       "    <tr>\n",
       "        <td>BATTERY</td>\n",
       "        <td>14</td>\n",
       "        <td>60337</td>\n",
       "    </tr>\n",
       "    <tr>\n",
       "        <td>BATTERY</td>\n",
       "        <td>15</td>\n",
       "        <td>65137</td>\n",
       "    </tr>\n",
       "    <tr>\n",
       "        <td>BATTERY</td>\n",
       "        <td>16</td>\n",
       "        <td>58861</td>\n",
       "    </tr>\n",
       "    <tr>\n",
       "        <td>BATTERY</td>\n",
       "        <td>17</td>\n",
       "        <td>58501</td>\n",
       "    </tr>\n",
       "    <tr>\n",
       "        <td>BATTERY</td>\n",
       "        <td>18</td>\n",
       "        <td>61439</td>\n",
       "    </tr>\n",
       "    <tr>\n",
       "        <td>BATTERY</td>\n",
       "        <td>19</td>\n",
       "        <td>63575</td>\n",
       "    </tr>\n",
       "    <tr>\n",
       "        <td>BATTERY</td>\n",
       "        <td>20</td>\n",
       "        <td>65533</td>\n",
       "    </tr>\n",
       "    <tr>\n",
       "        <td>BATTERY</td>\n",
       "        <td>21</td>\n",
       "        <td>67811</td>\n",
       "    </tr>\n",
       "    <tr>\n",
       "        <td>BATTERY</td>\n",
       "        <td>22</td>\n",
       "        <td>67953</td>\n",
       "    </tr>\n",
       "    <tr>\n",
       "        <td>BATTERY</td>\n",
       "        <td>23</td>\n",
       "        <td>64031</td>\n",
       "    </tr>\n",
       "</table>"
      ],
      "text/plain": [
       "[('BATTERY', 0, 58892),\n",
       " ('BATTERY', 1, 56774),\n",
       " ('BATTERY', 2, 50718),\n",
       " ('BATTERY', 3, 41074),\n",
       " ('BATTERY', 4, 28743),\n",
       " ('BATTERY', 5, 19278),\n",
       " ('BATTERY', 6, 16215),\n",
       " ('BATTERY', 7, 20408),\n",
       " ('BATTERY', 8, 31125),\n",
       " ('BATTERY', 9, 36646),\n",
       " ('BATTERY', 10, 41439),\n",
       " ('BATTERY', 11, 46887),\n",
       " ('BATTERY', 12, 51619),\n",
       " ('BATTERY', 13, 51462),\n",
       " ('BATTERY', 14, 60337),\n",
       " ('BATTERY', 15, 65137),\n",
       " ('BATTERY', 16, 58861),\n",
       " ('BATTERY', 17, 58501),\n",
       " ('BATTERY', 18, 61439),\n",
       " ('BATTERY', 19, 63575),\n",
       " ('BATTERY', 20, 65533),\n",
       " ('BATTERY', 21, 67811),\n",
       " ('BATTERY', 22, 67953),\n",
       " ('BATTERY', 23, 64031)]"
      ]
     },
     "execution_count": 26,
     "metadata": {},
     "output_type": "execute_result"
    }
   ],
   "source": [
    "%%sql\n",
    "SELECT type, hour_of_day, COUNT(type)\n",
    "FROM chicago_crime\n",
    "JOIN hour\n",
    "ON chicago_crime.hour_key = hour.key\n",
    "WHERE type = 'BATTERY'\n",
    "GROUP BY hour_of_day, type\n",
    "ORDER BY hour_of_day"
   ]
  },
  {
   "cell_type": "code",
   "execution_count": 27,
   "metadata": {},
   "outputs": [
    {
     "data": {
      "text/plain": [
       "<Container object of 24 artists>"
      ]
     },
     "execution_count": 27,
     "metadata": {},
     "output_type": "execute_result"
    },
    {
     "data": {
      "image/png": "[encoded data removed]",
      "text/plain": [
       "<matplotlib.figure.Figure at 0x7f1673daa3c8>"
      ]
     },
     "metadata": {},
     "output_type": "display_data"
    }
   ],
   "source": [
    "%matplotlib inline\n",
    "_.bar()"
   ]
  },
  {
   "cell_type": "markdown",
   "metadata": {},
   "source": [
    "Here we look at where battery crimes occur which is mostly Residences and Apartments, which is similar to LA."
   ]
  },
  {
   "cell_type": "code",
   "execution_count": 28,
   "metadata": {},
   "outputs": [
    {
     "name": "stdout",
     "output_type": "stream",
     "text": [
      "10 rows affected.\n"
     ]
    },
    {
     "data": {
      "text/html": [
       "<table>\n",
       "    <tr>\n",
       "        <th>type</th>\n",
       "        <th>location</th>\n",
       "        <th>count</th>\n",
       "    </tr>\n",
       "    <tr>\n",
       "        <td>BATTERY</td>\n",
       "        <td>RESIDENCE</td>\n",
       "        <td>247733</td>\n",
       "    </tr>\n",
       "    <tr>\n",
       "        <td>BATTERY</td>\n",
       "        <td>APARTMENT</td>\n",
       "        <td>231556</td>\n",
       "    </tr>\n",
       "    <tr>\n",
       "        <td>BATTERY</td>\n",
       "        <td>STREET</td>\n",
       "        <td>212282</td>\n",
       "    </tr>\n",
       "    <tr>\n",
       "        <td>BATTERY</td>\n",
       "        <td>SIDEWALK</td>\n",
       "        <td>176332</td>\n",
       "    </tr>\n",
       "    <tr>\n",
       "        <td>BATTERY</td>\n",
       "        <td>SCHOOL, PUBLIC, BUILDING</td>\n",
       "        <td>48685</td>\n",
       "    </tr>\n",
       "    <tr>\n",
       "        <td>BATTERY</td>\n",
       "        <td>RESIDENCE PORCH/HALLWAY</td>\n",
       "        <td>29555</td>\n",
       "    </tr>\n",
       "    <tr>\n",
       "        <td>BATTERY</td>\n",
       "        <td>ALLEY</td>\n",
       "        <td>26292</td>\n",
       "    </tr>\n",
       "    <tr>\n",
       "        <td>BATTERY</td>\n",
       "        <td>OTHER</td>\n",
       "        <td>25862</td>\n",
       "    </tr>\n",
       "    <tr>\n",
       "        <td>BATTERY</td>\n",
       "        <td>PARKING LOT/GARAGE(NON.RESID.)</td>\n",
       "        <td>15612</td>\n",
       "    </tr>\n",
       "    <tr>\n",
       "        <td>BATTERY</td>\n",
       "        <td>CHA APARTMENT</td>\n",
       "        <td>12895</td>\n",
       "    </tr>\n",
       "</table>"
      ],
      "text/plain": [
       "[('BATTERY', 'RESIDENCE', 247733),\n",
       " ('BATTERY', 'APARTMENT', 231556),\n",
       " ('BATTERY', 'STREET', 212282),\n",
       " ('BATTERY', 'SIDEWALK', 176332),\n",
       " ('BATTERY', 'SCHOOL, PUBLIC, BUILDING', 48685),\n",
       " ('BATTERY', 'RESIDENCE PORCH/HALLWAY', 29555),\n",
       " ('BATTERY', 'ALLEY', 26292),\n",
       " ('BATTERY', 'OTHER', 25862),\n",
       " ('BATTERY', 'PARKING LOT/GARAGE(NON.RESID.)', 15612),\n",
       " ('BATTERY', 'CHA APARTMENT', 12895)]"
      ]
     },
     "execution_count": 28,
     "metadata": {},
     "output_type": "execute_result"
    }
   ],
   "source": [
    "%%sql\n",
    "SELECT type, location, COUNT(type)\n",
    "FROM chicago_crime\n",
    "WHERE type = 'BATTERY'\n",
    "GROUP BY location, type\n",
    "ORDER BY COUNT(chicago_crime) DESC\n",
    "LIMIT 10"
   ]
  },
  {
   "cell_type": "markdown",
   "metadata": {},
   "source": [
    "**Location**\n",
    "\n",
    "However, the majority of crimes occurred on the street followed by residences which is the same as in LA."
   ]
  },
  {
   "cell_type": "code",
   "execution_count": 29,
   "metadata": {},
   "outputs": [
    {
     "name": "stdout",
     "output_type": "stream",
     "text": [
      "5 rows affected.\n"
     ]
    },
    {
     "data": {
      "text/html": [
       "<table>\n",
       "    <tr>\n",
       "        <th>location</th>\n",
       "        <th>count</th>\n",
       "    </tr>\n",
       "    <tr>\n",
       "        <td>STREET</td>\n",
       "        <td>1714062</td>\n",
       "    </tr>\n",
       "    <tr>\n",
       "        <td>RESIDENCE</td>\n",
       "        <td>1098570</td>\n",
       "    </tr>\n",
       "    <tr>\n",
       "        <td>APARTMENT</td>\n",
       "        <td>664071</td>\n",
       "    </tr>\n",
       "    <tr>\n",
       "        <td>SIDEWALK</td>\n",
       "        <td>645248</td>\n",
       "    </tr>\n",
       "    <tr>\n",
       "        <td>OTHER</td>\n",
       "        <td>245749</td>\n",
       "    </tr>\n",
       "</table>"
      ],
      "text/plain": [
       "[('STREET', 1714062),\n",
       " ('RESIDENCE', 1098570),\n",
       " ('APARTMENT', 664071),\n",
       " ('SIDEWALK', 645248),\n",
       " ('OTHER', 245749)]"
      ]
     },
     "execution_count": 29,
     "metadata": {},
     "output_type": "execute_result"
    }
   ],
   "source": [
    "%%sql\n",
    "SELECT location, COUNT(*)\n",
    "FROM chicago_crime\n",
    "GROUP BY location\n",
    "ORDER BY count DESC\n",
    "LIMIT 5"
   ]
  },
  {
   "cell_type": "markdown",
   "metadata": {},
   "source": [
    "Lastly, we wanted to check what type of crime occurred where. Theft occurred mostly on the street, whilst battery occurred mostly within a household."
   ]
  },
  {
   "cell_type": "code",
   "execution_count": 39,
   "metadata": {},
   "outputs": [
    {
     "name": "stdout",
     "output_type": "stream",
     "text": [
      "10 rows affected.\n"
     ]
    },
    {
     "data": {
      "text/html": [
       "<table>\n",
       "    <tr>\n",
       "        <th>location</th>\n",
       "        <th>type</th>\n",
       "        <th>count</th>\n",
       "    </tr>\n",
       "    <tr>\n",
       "        <td>STREET</td>\n",
       "        <td>THEFT</td>\n",
       "        <td>373890</td>\n",
       "    </tr>\n",
       "    <tr>\n",
       "        <td>STREET</td>\n",
       "        <td>CRIMINAL DAMAGE</td>\n",
       "        <td>269179</td>\n",
       "    </tr>\n",
       "    <tr>\n",
       "        <td>STREET</td>\n",
       "        <td>NARCOTICS</td>\n",
       "        <td>248823</td>\n",
       "    </tr>\n",
       "    <tr>\n",
       "        <td>RESIDENCE</td>\n",
       "        <td>BATTERY</td>\n",
       "        <td>247733</td>\n",
       "    </tr>\n",
       "    <tr>\n",
       "        <td>STREET</td>\n",
       "        <td>MOTOR VEHICLE THEFT</td>\n",
       "        <td>241136</td>\n",
       "    </tr>\n",
       "    <tr>\n",
       "        <td>RESIDENCE</td>\n",
       "        <td>OTHER OFFENSE</td>\n",
       "        <td>186784</td>\n",
       "    </tr>\n",
       "    <tr>\n",
       "        <td>RESIDENCE</td>\n",
       "        <td>BURGLARY</td>\n",
       "        <td>129213</td>\n",
       "    </tr>\n",
       "    <tr>\n",
       "        <td>STREET</td>\n",
       "        <td>ASSAULT</td>\n",
       "        <td>83187</td>\n",
       "    </tr>\n",
       "    <tr>\n",
       "        <td>STREET</td>\n",
       "        <td>ROBBERY</td>\n",
       "        <td>75977</td>\n",
       "    </tr>\n",
       "    <tr>\n",
       "        <td>RESIDENCE</td>\n",
       "        <td>DECEPTIVE PRACTICE</td>\n",
       "        <td>66578</td>\n",
       "    </tr>\n",
       "</table>"
      ],
      "text/plain": [
       "[('STREET', 'THEFT', 373890),\n",
       " ('STREET', 'CRIMINAL DAMAGE', 269179),\n",
       " ('STREET', 'NARCOTICS', 248823),\n",
       " ('RESIDENCE', 'BATTERY', 247733),\n",
       " ('STREET', 'MOTOR VEHICLE THEFT', 241136),\n",
       " ('RESIDENCE', 'OTHER OFFENSE', 186784),\n",
       " ('RESIDENCE', 'BURGLARY', 129213),\n",
       " ('STREET', 'ASSAULT', 83187),\n",
       " ('STREET', 'ROBBERY', 75977),\n",
       " ('RESIDENCE', 'DECEPTIVE PRACTICE', 66578)]"
      ]
     },
     "execution_count": 39,
     "metadata": {},
     "output_type": "execute_result"
    }
   ],
   "source": [
    "%%sql\n",
    "SELECT a.location, a.type, count\n",
    "FROM (SELECT COUNT(type) AS count, location, type\n",
    "    FROM chicago_crime\n",
    "    GROUP BY location, type) AS a\n",
    "JOIN (SELECT type, MAX(count) AS max_count\n",
    "    FROM (SELECT COUNT(type) AS count, location, type\n",
    "        FROM chicago_crime\n",
    "        GROUP BY location, type) AS t\n",
    "     GROUP BY t.type) AS b\n",
    "ON a.type = b.type\n",
    "AND a.count = b.max_count\n",
    "ORDER BY count DESC\n",
    "LIMIT 10"
   ]
  },
  {
   "cell_type": "markdown",
   "metadata": {
    "collapsed": true
   },
   "source": [
    "## Conclusion\n",
    "In conclusion, although the population of LA is bigger than Chicago, the amount of crime in Chicago is much greater than LA. We would prefer to stay in LA."
   ]
  },
  {
   "cell_type": "markdown",
   "metadata": {},
   "source": []
  }
 ],
 "metadata": {
  "kernelspec": {
   "display_name": "Python 3",
   "language": "python",
   "name": "python3"
  },
  "language_info": {
   "codemirror_mode": {
    "name": "ipython",
    "version": 3
   },
   "file_extension": ".py",
   "mimetype": "text/x-python",
   "name": "python",
   "nbconvert_exporter": "python",
   "pygments_lexer": "ipython3",
   "version": "3.6.4"
  }
 },
 "nbformat": 4,
 "nbformat_minor": 2
}
