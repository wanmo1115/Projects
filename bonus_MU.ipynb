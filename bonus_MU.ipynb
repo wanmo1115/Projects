{
 "cells": [
  {
   "cell_type": "markdown",
   "metadata": {},
   "source": [
    "# Part 3 - Augmentation\n",
    "## Comparison of LA Crime to Chicago Crime\n",
    "#### Lauren Sands, Bonnie Zhang, Yizi Li, Wanmo Chen"
   ]
  },
  {
   "cell_type": "markdown",
   "metadata": {},
   "source": [
    "We decided to compare our analysis of LA crime to Chicago Crime to see if there were any similarities between the two cities.\n",
    "\n",
    "First we download the data and begin to analyse it."
   ]
  },
  {
   "cell_type": "code",
   "execution_count": 1,
   "metadata": {},
   "outputs": [
    {
     "name": "stdout",
     "output_type": "stream",
     "text": [
      "--2017-12-06 01:31:13--  https://data.cityofchicago.org/api/views/ijzp-q8t2/rows.csv\n",
      "Resolving data.cityofchicago.org (data.cityofchicago.org)... 52.206.140.199\n",
      "Connecting to data.cityofchicago.org (data.cityofchicago.org)|52.206.140.199|:443... connected.\n",
      "HTTP request sent, awaiting response... 200 OK\n",
      "Length: unspecified [text/csv]\n",
      "Saving to: ‘rows.csv.1’\n",
      "\n",
      "rows.csv.1              [       <=>          ]   1.42G  2.07MB/s    in 12m 1s  \n",
      "\n",
      "Last-modified header invalid -- time-stamp ignored.\n",
      "2017-12-06 01:43:13 (2.02 MB/s) - ‘rows.csv.1’ saved [1526979194]\n",
      "\n"
     ]
    }
   ],
   "source": [
    "!wget https://data.cityofchicago.org/api/views/ijzp-q8t2/rows.csv"
   ]
  },
  {
   "cell_type": "markdown",
   "metadata": {},
   "source": [
    "Renaming the csv file to chicago.csv for easier use."
   ]
  },
  {
   "cell_type": "code",
   "execution_count": 2,
   "metadata": {
    "collapsed": true
   },
   "outputs": [],
   "source": [
    "!mv rows.csv.1 chicago.csv"
   ]
  },
  {
   "cell_type": "markdown",
   "metadata": {},
   "source": [
    "Take a look of at the ID, Date, Primary Type, Location, and Year Columns."
   ]
  },
  {
   "cell_type": "code",
   "execution_count": null,
   "metadata": {
    "collapsed": true
   },
   "outputs": [],
   "source": []
  },
  {
   "cell_type": "code",
   "execution_count": 3,
   "metadata": {},
   "outputs": [
    {
     "name": "stdout",
     "output_type": "stream",
     "text": [
      "|-----------+------------------------+-----------------------------------+-------------------------------------------------+-------|\r\n",
      "|  ID       | Date                   | Primary Type                      | Location Description                            | Year  |\r\n",
      "|-----------+------------------------+-----------------------------------+-------------------------------------------------+-------|\r\n",
      "|  4647369  | 01/31/2006 12:13:05 PM | NARCOTICS                         | SCHOOL, PUBLIC, BUILDING                        | 2006  |\r\n",
      "|  4647370  | 03/21/2006 07:00:00 PM | CRIMINAL TRESPASS                 | PARKING LOT/GARAGE(NON.RESID.)                  | 2006  |\r\n"
     ]
    }
   ],
   "source": [
    "!csvcut -c1,3,6,8,18 chicago.csv | csvlook | head -5"
   ]
  },
  {
   "cell_type": "markdown",
   "metadata": {},
   "source": [
    "We then took these columns and placed them into a new csv file called chicago2.csv"
   ]
  },
  {
   "cell_type": "code",
   "execution_count": 11,
   "metadata": {
    "collapsed": true
   },
   "outputs": [],
   "source": [
    "!csvcut -c1,3,6,8,18 chicago.csv > chicago2.csv"
   ]
  },
  {
   "cell_type": "markdown",
   "metadata": {},
   "source": [
    "## Wrangling and Table Creation"
   ]
  },
  {
   "cell_type": "markdown",
   "metadata": {},
   "source": [
    "Now we go ahead and build a new database with the chicago information to begin our comparison."
   ]
  },
  {
   "cell_type": "code",
   "execution_count": 1,
   "metadata": {
    "collapsed": true
   },
   "outputs": [],
   "source": [
    "%load_ext sql"
   ]
  },
  {
   "cell_type": "code",
   "execution_count": 2,
   "metadata": {},
   "outputs": [
    {
     "data": {
      "text/plain": [
       "'Connected: student@project4'"
      ]
     },
     "execution_count": 2,
     "metadata": {},
     "output_type": "execute_result"
    }
   ],
   "source": [
    "%sql postgresql://student@/project4"
   ]
  },
  {
   "cell_type": "markdown",
   "metadata": {},
   "source": [
    "### chicago_crime Fact Table Creation"
   ]
  },
  {
   "cell_type": "code",
   "execution_count": 3,
   "metadata": {},
   "outputs": [
    {
     "name": "stdout",
     "output_type": "stream",
     "text": [
      "Done.\n",
      "Done.\n"
     ]
    },
    {
     "data": {
      "text/plain": [
       "[]"
      ]
     },
     "execution_count": 3,
     "metadata": {},
     "output_type": "execute_result"
    }
   ],
   "source": [
    "%%sql\n",
    "DROP TABLE IF EXISTS chicago_crime;\n",
    "\n",
    "CREATE TABLE chicago_crime(\n",
    "    id INTEGER,\n",
    "    date TIMESTAMP,\n",
    "    type VARCHAR(500),\n",
    "    location VARCHAR(500),\n",
    "    year INTEGER)\n"
   ]
  },
  {
   "cell_type": "markdown",
   "metadata": {},
   "source": [
    "Inserting the data into our newly made chicago_crime table."
   ]
  },
  {
   "cell_type": "code",
   "execution_count": 4,
   "metadata": {
    "collapsed": true
   },
   "outputs": [],
   "source": [
    "!cp chicago2.csv /tmp/chicago.csv"
   ]
  },
  {
   "cell_type": "code",
   "execution_count": 5,
   "metadata": {},
   "outputs": [
    {
     "name": "stdout",
     "output_type": "stream",
     "text": [
      "6488956 rows affected.\n"
     ]
    },
    {
     "data": {
      "text/plain": [
       "[]"
      ]
     },
     "execution_count": 5,
     "metadata": {},
     "output_type": "execute_result"
    }
   ],
   "source": [
    "%%sql\n",
    "COPY chicago_crime FROM '/tmp/chicago.csv'\n",
    "CSV\n",
    "HEADER;"
   ]
  },
  {
   "cell_type": "markdown",
   "metadata": {},
   "source": [
    "Verifying that input into the table was successful."
   ]
  },
  {
   "cell_type": "code",
   "execution_count": 6,
   "metadata": {},
   "outputs": [
    {
     "name": "stdout",
     "output_type": "stream",
     "text": [
      "10 rows affected.\n"
     ]
    },
    {
     "data": {
      "text/html": [
       "<table>\n",
       "    <tr>\n",
       "        <th>id</th>\n",
       "        <th>date</th>\n",
       "        <th>type</th>\n",
       "        <th>location</th>\n",
       "        <th>year</th>\n",
       "    </tr>\n",
       "    <tr>\n",
       "        <td>4647369</td>\n",
       "        <td>2006-01-31 12:13:05</td>\n",
       "        <td>NARCOTICS</td>\n",
       "        <td>SCHOOL, PUBLIC, BUILDING</td>\n",
       "        <td>2006</td>\n",
       "    </tr>\n",
       "    <tr>\n",
       "        <td>4647370</td>\n",
       "        <td>2006-03-21 19:00:00</td>\n",
       "        <td>CRIMINAL TRESPASS</td>\n",
       "        <td>PARKING LOT/GARAGE(NON.RESID.)</td>\n",
       "        <td>2006</td>\n",
       "    </tr>\n",
       "    <tr>\n",
       "        <td>4647372</td>\n",
       "        <td>2006-02-09 01:44:41</td>\n",
       "        <td>NARCOTICS</td>\n",
       "        <td>STREET</td>\n",
       "        <td>2006</td>\n",
       "    </tr>\n",
       "    <tr>\n",
       "        <td>4647373</td>\n",
       "        <td>2006-03-21 16:45:00</td>\n",
       "        <td>THEFT</td>\n",
       "        <td>CHURCH/SYNAGOGUE/PLACE OF WORSHIP</td>\n",
       "        <td>2006</td>\n",
       "    </tr>\n",
       "    <tr>\n",
       "        <td>4647374</td>\n",
       "        <td>2006-03-21 22:00:00</td>\n",
       "        <td>THEFT</td>\n",
       "        <td>STREET</td>\n",
       "        <td>2006</td>\n",
       "    </tr>\n",
       "    <tr>\n",
       "        <td>4647375</td>\n",
       "        <td>2006-03-20 23:00:00</td>\n",
       "        <td>MOTOR VEHICLE THEFT</td>\n",
       "        <td>STREET</td>\n",
       "        <td>2006</td>\n",
       "    </tr>\n",
       "    <tr>\n",
       "        <td>4647377</td>\n",
       "        <td>2006-02-01 23:25:00</td>\n",
       "        <td>NARCOTICS</td>\n",
       "        <td>SIDEWALK</td>\n",
       "        <td>2006</td>\n",
       "    </tr>\n",
       "    <tr>\n",
       "        <td>4647378</td>\n",
       "        <td>2006-03-21 14:37:00</td>\n",
       "        <td>CRIMINAL DAMAGE</td>\n",
       "        <td>SCHOOL, PUBLIC, BUILDING</td>\n",
       "        <td>2006</td>\n",
       "    </tr>\n",
       "    <tr>\n",
       "        <td>4647379</td>\n",
       "        <td>2006-02-09 05:38:07</td>\n",
       "        <td>PROSTITUTION</td>\n",
       "        <td>STREET</td>\n",
       "        <td>2006</td>\n",
       "    </tr>\n",
       "    <tr>\n",
       "        <td>4647380</td>\n",
       "        <td>2005-11-29 15:10:00</td>\n",
       "        <td>CRIMINAL DAMAGE</td>\n",
       "        <td>SCHOOL, PUBLIC, BUILDING</td>\n",
       "        <td>2005</td>\n",
       "    </tr>\n",
       "</table>"
      ],
      "text/plain": [
       "[(4647369, datetime.datetime(2006, 1, 31, 12, 13, 5), 'NARCOTICS', 'SCHOOL, PUBLIC, BUILDING', 2006),\n",
       " (4647370, datetime.datetime(2006, 3, 21, 19, 0), 'CRIMINAL TRESPASS', 'PARKING LOT/GARAGE(NON.RESID.)', 2006),\n",
       " (4647372, datetime.datetime(2006, 2, 9, 1, 44, 41), 'NARCOTICS', 'STREET', 2006),\n",
       " (4647373, datetime.datetime(2006, 3, 21, 16, 45), 'THEFT', 'CHURCH/SYNAGOGUE/PLACE OF WORSHIP', 2006),\n",
       " (4647374, datetime.datetime(2006, 3, 21, 22, 0), 'THEFT', 'STREET', 2006),\n",
       " (4647375, datetime.datetime(2006, 3, 20, 23, 0), 'MOTOR VEHICLE THEFT', 'STREET', 2006),\n",
       " (4647377, datetime.datetime(2006, 2, 1, 23, 25), 'NARCOTICS', 'SIDEWALK', 2006),\n",
       " (4647378, datetime.datetime(2006, 3, 21, 14, 37), 'CRIMINAL DAMAGE', 'SCHOOL, PUBLIC, BUILDING', 2006),\n",
       " (4647379, datetime.datetime(2006, 2, 9, 5, 38, 7), 'PROSTITUTION', 'STREET', 2006),\n",
       " (4647380, datetime.datetime(2005, 11, 29, 15, 10), 'CRIMINAL DAMAGE', 'SCHOOL, PUBLIC, BUILDING', 2005)]"
      ]
     },
     "execution_count": 6,
     "metadata": {},
     "output_type": "execute_result"
    }
   ],
   "source": [
    "%%sql\n",
    "SELECT*\n",
    "FROM chicago_crime\n",
    "LIMIT 10"
   ]
  },
  {
   "cell_type": "markdown",
   "metadata": {},
   "source": [
    "### Hour Table Creation"
   ]
  },
  {
   "cell_type": "code",
   "execution_count": 7,
   "metadata": {},
   "outputs": [
    {
     "name": "stdout",
     "output_type": "stream",
     "text": [
      "Done.\n",
      "Done.\n"
     ]
    },
    {
     "data": {
      "text/plain": [
       "[]"
      ]
     },
     "execution_count": 7,
     "metadata": {},
     "output_type": "execute_result"
    }
   ],
   "source": [
    "%%sql\n",
    "DROP TABLE IF EXISTS hour;\n",
    "\n",
    "CREATE TABLE hour (\n",
    "    key SERIAL PRIMARY KEY,\n",
    "    hour CHAR(19),\n",
    "    day CHAR(10),\n",
    "    year INTEGER,\n",
    "    month_of_year_str VARCHAR(12),\n",
    "    month_of_year INTEGER,\n",
    "    day_of_month INTEGER,\n",
    "    day_of_week_str CHAR(9),\n",
    "    day_of_week INTEGER,\n",
    "    is_weekend BOOLEAN,\n",
    "    is_weekday BOOLEAN,\n",
    "    hour_of_day INTEGER,\n",
    "    quarter_of_year INTEGER\n",
    ");"
   ]
  },
  {
   "cell_type": "markdown",
   "metadata": {},
   "source": [
    "Adding extra columns to identify hour, day, month, and year."
   ]
  },
  {
   "cell_type": "code",
   "execution_count": 8,
   "metadata": {},
   "outputs": [
    {
     "name": "stdout",
     "output_type": "stream",
     "text": [
      "148200 rows affected.\n"
     ]
    },
    {
     "data": {
      "text/plain": [
       "[]"
      ]
     },
     "execution_count": 8,
     "metadata": {},
     "output_type": "execute_result"
    }
   ],
   "source": [
    "%%sql\n",
    "INSERT INTO hour (hour, day, year, month_of_year_str, month_of_year, day_of_month, \n",
    "                  day_of_week_str, day_of_week, is_weekend, is_weekday, \n",
    "                  hour_of_day, quarter_of_year)\n",
    "SELECT DISTINCT TO_CHAR(date, 'YYYY-MM-DD HH24:00:00') AS hour,\n",
    "    TO_CHAR(date, 'YYYY-MM-DD') AS day, \n",
    "    CAST(TO_CHAR(date, 'YYYY') AS INTEGER) AS year,\n",
    "    TO_CHAR(date, 'Month') AS month_of_year_str,\n",
    "    CAST(TO_CHAR(date, 'MM') AS INTEGER) AS month_of_year,\n",
    "    CAST(TO_CHAR(date, 'DD') AS INTEGER) AS day_of_month,\n",
    "    TO_CHAR(date, 'Day') AS day_of_week_str,\n",
    "    CAST(TO_CHAR(date, 'D') AS INTEGER) AS day_of_week,\n",
    "    CASE WHEN CAST(TO_CHAR(date, 'D') AS INTEGER) IN (1, 7) \n",
    "        THEN TRUE\n",
    "        ELSE FALSE\n",
    "    END AS is_weekend,\n",
    "    CASE WHEN CAST(TO_CHAR(date, 'D') AS INTEGER) NOT IN (1, 7) \n",
    "        THEN TRUE\n",
    "        ELSE FALSE\n",
    "    END AS is_weekday,\n",
    "    CAST(TO_CHAR(date, 'HH24') AS INTEGER) AS hour_of_day,\n",
    "    CAST(TO_CHAR(date, 'Q') AS INTEGER) AS quarter_of_year\n",
    "FROM chicago_crime\n",
    "UNION\n",
    "SELECT DISTINCT TO_CHAR(date, 'YYYY-MM-DD HH24:00:00') AS hour,\n",
    "    TO_CHAR(date, 'YYYY-MM-DD') AS day, \n",
    "    CAST(TO_CHAR(date, 'YYYY') AS INTEGER) AS year,\n",
    "    TO_CHAR(date, 'Month') AS month_of_year_str,\n",
    "    CAST(TO_CHAR(date, 'MM') AS INTEGER) AS month_of_year,\n",
    "    CAST(TO_CHAR(date, 'DD') AS INTEGER) AS day_of_month,\n",
    "    TO_CHAR(date, 'Day') AS day_of_week_str,\n",
    "    CAST(TO_CHAR(date, 'D') AS INTEGER) AS day_of_week,\n",
    "    CASE WHEN CAST(TO_CHAR(date, 'D') AS INTEGER) IN (1, 7) \n",
    "        THEN TRUE\n",
    "        ELSE FALSE\n",
    "    END AS is_weekend,\n",
    "    CASE WHEN CAST(TO_CHAR(date, 'D') AS INTEGER) NOT IN (1, 7) \n",
    "        THEN TRUE\n",
    "        ELSE FALSE\n",
    "    END AS is_weekday,\n",
    "    CAST(TO_CHAR(date, 'HH24') AS INTEGER) AS hour_of_day,\n",
    "    CAST(TO_CHAR(date, 'Q') AS INTEGER) AS quarter_of_year\n",
    "FROM chicago_crime;"
   ]
  },
  {
   "cell_type": "markdown",
   "metadata": {},
   "source": [
    "Here we verify that the input was successful."
   ]
  },
  {
   "cell_type": "code",
   "execution_count": 9,
   "metadata": {},
   "outputs": [
    {
     "name": "stdout",
     "output_type": "stream",
     "text": [
      "10 rows affected.\n"
     ]
    },
    {
     "data": {
      "text/html": [
       "<table>\n",
       "    <tr>\n",
       "        <th>key</th>\n",
       "        <th>hour</th>\n",
       "        <th>day</th>\n",
       "        <th>year</th>\n",
       "        <th>month_of_year_str</th>\n",
       "        <th>month_of_year</th>\n",
       "        <th>day_of_month</th>\n",
       "        <th>day_of_week_str</th>\n",
       "        <th>day_of_week</th>\n",
       "        <th>is_weekend</th>\n",
       "        <th>is_weekday</th>\n",
       "        <th>hour_of_day</th>\n",
       "        <th>quarter_of_year</th>\n",
       "    </tr>\n",
       "    <tr>\n",
       "        <td>1</td>\n",
       "        <td>2012-05-17 07:00:00</td>\n",
       "        <td>2012-05-17</td>\n",
       "        <td>2012</td>\n",
       "        <td>May      </td>\n",
       "        <td>5</td>\n",
       "        <td>17</td>\n",
       "        <td>Thursday </td>\n",
       "        <td>5</td>\n",
       "        <td>False</td>\n",
       "        <td>True</td>\n",
       "        <td>7</td>\n",
       "        <td>2</td>\n",
       "    </tr>\n",
       "    <tr>\n",
       "        <td>2</td>\n",
       "        <td>2014-01-26 16:00:00</td>\n",
       "        <td>2014-01-26</td>\n",
       "        <td>2014</td>\n",
       "        <td>January  </td>\n",
       "        <td>1</td>\n",
       "        <td>26</td>\n",
       "        <td>Sunday   </td>\n",
       "        <td>1</td>\n",
       "        <td>True</td>\n",
       "        <td>False</td>\n",
       "        <td>16</td>\n",
       "        <td>1</td>\n",
       "    </tr>\n",
       "    <tr>\n",
       "        <td>3</td>\n",
       "        <td>2009-02-15 11:00:00</td>\n",
       "        <td>2009-02-15</td>\n",
       "        <td>2009</td>\n",
       "        <td>February </td>\n",
       "        <td>2</td>\n",
       "        <td>15</td>\n",
       "        <td>Sunday   </td>\n",
       "        <td>1</td>\n",
       "        <td>True</td>\n",
       "        <td>False</td>\n",
       "        <td>11</td>\n",
       "        <td>1</td>\n",
       "    </tr>\n",
       "    <tr>\n",
       "        <td>4</td>\n",
       "        <td>2012-01-14 12:00:00</td>\n",
       "        <td>2012-01-14</td>\n",
       "        <td>2012</td>\n",
       "        <td>January  </td>\n",
       "        <td>1</td>\n",
       "        <td>14</td>\n",
       "        <td>Saturday </td>\n",
       "        <td>7</td>\n",
       "        <td>True</td>\n",
       "        <td>False</td>\n",
       "        <td>12</td>\n",
       "        <td>1</td>\n",
       "    </tr>\n",
       "    <tr>\n",
       "        <td>5</td>\n",
       "        <td>2003-12-15 22:00:00</td>\n",
       "        <td>2003-12-15</td>\n",
       "        <td>2003</td>\n",
       "        <td>December </td>\n",
       "        <td>12</td>\n",
       "        <td>15</td>\n",
       "        <td>Monday   </td>\n",
       "        <td>2</td>\n",
       "        <td>False</td>\n",
       "        <td>True</td>\n",
       "        <td>22</td>\n",
       "        <td>4</td>\n",
       "    </tr>\n",
       "    <tr>\n",
       "        <td>6</td>\n",
       "        <td>2008-07-29 17:00:00</td>\n",
       "        <td>2008-07-29</td>\n",
       "        <td>2008</td>\n",
       "        <td>July     </td>\n",
       "        <td>7</td>\n",
       "        <td>29</td>\n",
       "        <td>Tuesday  </td>\n",
       "        <td>3</td>\n",
       "        <td>False</td>\n",
       "        <td>True</td>\n",
       "        <td>17</td>\n",
       "        <td>3</td>\n",
       "    </tr>\n",
       "    <tr>\n",
       "        <td>7</td>\n",
       "        <td>2001-12-20 07:00:00</td>\n",
       "        <td>2001-12-20</td>\n",
       "        <td>2001</td>\n",
       "        <td>December </td>\n",
       "        <td>12</td>\n",
       "        <td>20</td>\n",
       "        <td>Thursday </td>\n",
       "        <td>5</td>\n",
       "        <td>False</td>\n",
       "        <td>True</td>\n",
       "        <td>7</td>\n",
       "        <td>4</td>\n",
       "    </tr>\n",
       "    <tr>\n",
       "        <td>8</td>\n",
       "        <td>2016-05-21 11:00:00</td>\n",
       "        <td>2016-05-21</td>\n",
       "        <td>2016</td>\n",
       "        <td>May      </td>\n",
       "        <td>5</td>\n",
       "        <td>21</td>\n",
       "        <td>Saturday </td>\n",
       "        <td>7</td>\n",
       "        <td>True</td>\n",
       "        <td>False</td>\n",
       "        <td>11</td>\n",
       "        <td>2</td>\n",
       "    </tr>\n",
       "    <tr>\n",
       "        <td>9</td>\n",
       "        <td>2011-08-02 11:00:00</td>\n",
       "        <td>2011-08-02</td>\n",
       "        <td>2011</td>\n",
       "        <td>August   </td>\n",
       "        <td>8</td>\n",
       "        <td>2</td>\n",
       "        <td>Tuesday  </td>\n",
       "        <td>3</td>\n",
       "        <td>False</td>\n",
       "        <td>True</td>\n",
       "        <td>11</td>\n",
       "        <td>3</td>\n",
       "    </tr>\n",
       "    <tr>\n",
       "        <td>10</td>\n",
       "        <td>2007-08-04 22:00:00</td>\n",
       "        <td>2007-08-04</td>\n",
       "        <td>2007</td>\n",
       "        <td>August   </td>\n",
       "        <td>8</td>\n",
       "        <td>4</td>\n",
       "        <td>Saturday </td>\n",
       "        <td>7</td>\n",
       "        <td>True</td>\n",
       "        <td>False</td>\n",
       "        <td>22</td>\n",
       "        <td>3</td>\n",
       "    </tr>\n",
       "</table>"
      ],
      "text/plain": [
       "[(1, '2012-05-17 07:00:00', '2012-05-17', 2012, 'May      ', 5, 17, 'Thursday ', 5, False, True, 7, 2),\n",
       " (2, '2014-01-26 16:00:00', '2014-01-26', 2014, 'January  ', 1, 26, 'Sunday   ', 1, True, False, 16, 1),\n",
       " (3, '2009-02-15 11:00:00', '2009-02-15', 2009, 'February ', 2, 15, 'Sunday   ', 1, True, False, 11, 1),\n",
       " (4, '2012-01-14 12:00:00', '2012-01-14', 2012, 'January  ', 1, 14, 'Saturday ', 7, True, False, 12, 1),\n",
       " (5, '2003-12-15 22:00:00', '2003-12-15', 2003, 'December ', 12, 15, 'Monday   ', 2, False, True, 22, 4),\n",
       " (6, '2008-07-29 17:00:00', '2008-07-29', 2008, 'July     ', 7, 29, 'Tuesday  ', 3, False, True, 17, 3),\n",
       " (7, '2001-12-20 07:00:00', '2001-12-20', 2001, 'December ', 12, 20, 'Thursday ', 5, False, True, 7, 4),\n",
       " (8, '2016-05-21 11:00:00', '2016-05-21', 2016, 'May      ', 5, 21, 'Saturday ', 7, True, False, 11, 2),\n",
       " (9, '2011-08-02 11:00:00', '2011-08-02', 2011, 'August   ', 8, 2, 'Tuesday  ', 3, False, True, 11, 3),\n",
       " (10, '2007-08-04 22:00:00', '2007-08-04', 2007, 'August   ', 8, 4, 'Saturday ', 7, True, False, 22, 3)]"
      ]
     },
     "execution_count": 9,
     "metadata": {},
     "output_type": "execute_result"
    }
   ],
   "source": [
    "%%sql\n",
    "SELECT *\n",
    "FROM hour\n",
    "LIMIT 10"
   ]
  },
  {
   "cell_type": "markdown",
   "metadata": {},
   "source": [
    "Adding the hour_key to the chicago_crime fact table."
   ]
  },
  {
   "cell_type": "code",
   "execution_count": 10,
   "metadata": {},
   "outputs": [
    {
     "name": "stdout",
     "output_type": "stream",
     "text": [
      "Done.\n"
     ]
    },
    {
     "data": {
      "text/plain": [
       "[]"
      ]
     },
     "execution_count": 10,
     "metadata": {},
     "output_type": "execute_result"
    }
   ],
   "source": [
    "%%sql\n",
    "ALTER TABLE chicago_crime \n",
    "ADD COLUMN hour_key INTEGER,\n",
    "ADD CONSTRAINT fk_hour\n",
    "    FOREIGN KEY (hour_key)\n",
    "    REFERENCES hour (key);"
   ]
  },
  {
   "cell_type": "code",
   "execution_count": 11,
   "metadata": {},
   "outputs": [
    {
     "name": "stdout",
     "output_type": "stream",
     "text": [
      "6488956 rows affected.\n"
     ]
    },
    {
     "data": {
      "text/plain": [
       "[]"
      ]
     },
     "execution_count": 11,
     "metadata": {},
     "output_type": "execute_result"
    }
   ],
   "source": [
    "%%sql\n",
    "UPDATE chicago_crime\n",
    "SET hour_key = hour.key\n",
    "FROM hour\n",
    "WHERE TO_CHAR(chicago_crime.date, 'YYYY-MM-DD HH24:00:00') = hour.hour;"
   ]
  },
  {
   "cell_type": "markdown",
   "metadata": {},
   "source": [
    "## Comparative Analysis to Crime in LA"
   ]
  },
  {
   "cell_type": "markdown",
   "metadata": {},
   "source": [
    "### Time\n",
    "\n",
    "From this first analysis we can see that there are almost double the amount of crimes each year than LA, an average of 400,000 to 200,000!"
   ]
  },
  {
   "cell_type": "code",
   "execution_count": 12,
   "metadata": {},
   "outputs": [
    {
     "name": "stdout",
     "output_type": "stream",
     "text": [
      "17 rows affected.\n"
     ]
    },
    {
     "data": {
      "text/html": [
       "<table>\n",
       "    <tr>\n",
       "        <th>year</th>\n",
       "        <th>count</th>\n",
       "    </tr>\n",
       "    <tr>\n",
       "        <td>2001</td>\n",
       "        <td>485736</td>\n",
       "    </tr>\n",
       "    <tr>\n",
       "        <td>2002</td>\n",
       "        <td>486744</td>\n",
       "    </tr>\n",
       "    <tr>\n",
       "        <td>2003</td>\n",
       "        <td>475921</td>\n",
       "    </tr>\n",
       "    <tr>\n",
       "        <td>2004</td>\n",
       "        <td>469362</td>\n",
       "    </tr>\n",
       "    <tr>\n",
       "        <td>2005</td>\n",
       "        <td>453687</td>\n",
       "    </tr>\n",
       "    <tr>\n",
       "        <td>2006</td>\n",
       "        <td>448066</td>\n",
       "    </tr>\n",
       "    <tr>\n",
       "        <td>2007</td>\n",
       "        <td>436969</td>\n",
       "    </tr>\n",
       "    <tr>\n",
       "        <td>2008</td>\n",
       "        <td>427002</td>\n",
       "    </tr>\n",
       "    <tr>\n",
       "        <td>2009</td>\n",
       "        <td>392601</td>\n",
       "    </tr>\n",
       "    <tr>\n",
       "        <td>2010</td>\n",
       "        <td>370232</td>\n",
       "    </tr>\n",
       "    <tr>\n",
       "        <td>2011</td>\n",
       "        <td>351656</td>\n",
       "    </tr>\n",
       "    <tr>\n",
       "        <td>2012</td>\n",
       "        <td>335800</td>\n",
       "    </tr>\n",
       "    <tr>\n",
       "        <td>2013</td>\n",
       "        <td>306851</td>\n",
       "    </tr>\n",
       "    <tr>\n",
       "        <td>2014</td>\n",
       "        <td>274847</td>\n",
       "    </tr>\n",
       "    <tr>\n",
       "        <td>2015</td>\n",
       "        <td>263509</td>\n",
       "    </tr>\n",
       "    <tr>\n",
       "        <td>2016</td>\n",
       "        <td>268196</td>\n",
       "    </tr>\n",
       "    <tr>\n",
       "        <td>2017</td>\n",
       "        <td>241777</td>\n",
       "    </tr>\n",
       "</table>"
      ],
      "text/plain": [
       "[(2001, 485736),\n",
       " (2002, 486744),\n",
       " (2003, 475921),\n",
       " (2004, 469362),\n",
       " (2005, 453687),\n",
       " (2006, 448066),\n",
       " (2007, 436969),\n",
       " (2008, 427002),\n",
       " (2009, 392601),\n",
       " (2010, 370232),\n",
       " (2011, 351656),\n",
       " (2012, 335800),\n",
       " (2013, 306851),\n",
       " (2014, 274847),\n",
       " (2015, 263509),\n",
       " (2016, 268196),\n",
       " (2017, 241777)]"
      ]
     },
     "execution_count": 12,
     "metadata": {},
     "output_type": "execute_result"
    }
   ],
   "source": [
    "%%sql\n",
    "SELECT hour.year, COUNT(*)\n",
    "FROM chicago_crime\n",
    "JOIN hour\n",
    "ON chicago_crime.hour_key = hour.key\n",
    "GROUP BY hour.year\n",
    "ORDER BY hour.year"
   ]
  },
  {
   "cell_type": "code",
   "execution_count": 13,
   "metadata": {},
   "outputs": [
    {
     "data": {
      "text/plain": [
       "<Container object of 17 artists>"
      ]
     },
     "execution_count": 13,
     "metadata": {},
     "output_type": "execute_result"
    },
    {
     "data": {
      "image/png": "[encoded data removed]",
      "text/plain": [
       "<matplotlib.figure.Figure at 0x7f16785246a0>"
      ]
     },
     "metadata": {},
     "output_type": "display_data"
    }
   ],
   "source": [
    "%matplotlib inline\n",
    "_.bar()"
   ]
  },
  {
   "cell_type": "markdown",
   "metadata": {},
   "source": [
    "Here we are looking at the total amount of crimes per month."
   ]
  },
  {
   "cell_type": "code",
   "execution_count": 14,
   "metadata": {},
   "outputs": [
    {
     "name": "stdout",
     "output_type": "stream",
     "text": [
      "12 rows affected.\n"
     ]
    },
    {
     "data": {
      "text/html": [
       "<table>\n",
       "    <tr>\n",
       "        <th>month_of_year</th>\n",
       "        <th>count</th>\n",
       "    </tr>\n",
       "    <tr>\n",
       "        <td>1</td>\n",
       "        <td>507475</td>\n",
       "    </tr>\n",
       "    <tr>\n",
       "        <td>2</td>\n",
       "        <td>446449</td>\n",
       "    </tr>\n",
       "    <tr>\n",
       "        <td>3</td>\n",
       "        <td>536089</td>\n",
       "    </tr>\n",
       "    <tr>\n",
       "        <td>4</td>\n",
       "        <td>537774</td>\n",
       "    </tr>\n",
       "    <tr>\n",
       "        <td>5</td>\n",
       "        <td>578227</td>\n",
       "    </tr>\n",
       "    <tr>\n",
       "        <td>6</td>\n",
       "        <td>575722</td>\n",
       "    </tr>\n",
       "    <tr>\n",
       "        <td>7</td>\n",
       "        <td>605146</td>\n",
       "    </tr>\n",
       "    <tr>\n",
       "        <td>8</td>\n",
       "        <td>598956</td>\n",
       "    </tr>\n",
       "    <tr>\n",
       "        <td>9</td>\n",
       "        <td>562182</td>\n",
       "    </tr>\n",
       "    <tr>\n",
       "        <td>10</td>\n",
       "        <td>569547</td>\n",
       "    </tr>\n",
       "    <tr>\n",
       "        <td>11</td>\n",
       "        <td>509768</td>\n",
       "    </tr>\n",
       "    <tr>\n",
       "        <td>12</td>\n",
       "        <td>461621</td>\n",
       "    </tr>\n",
       "</table>"
      ],
      "text/plain": [
       "[(1, 507475),\n",
       " (2, 446449),\n",
       " (3, 536089),\n",
       " (4, 537774),\n",
       " (5, 578227),\n",
       " (6, 575722),\n",
       " (7, 605146),\n",
       " (8, 598956),\n",
       " (9, 562182),\n",
       " (10, 569547),\n",
       " (11, 509768),\n",
       " (12, 461621)]"
      ]
     },
     "execution_count": 14,
     "metadata": {},
     "output_type": "execute_result"
    }
   ],
   "source": [
    "%%sql\n",
    "SELECT hour.month_of_year, COUNT(*)\n",
    "FROM chicago_crime\n",
    "JOIN hour\n",
    "ON chicago_crime.hour_key = hour.key\n",
    "GROUP BY hour.month_of_year\n",
    "ORDER BY hour.month_of_year"
   ]
  },
  {
   "cell_type": "code",
   "execution_count": 15,
   "metadata": {},
   "outputs": [
    {
     "data": {
      "text/plain": [
       "<Container object of 12 artists>"
      ]
     },
     "execution_count": 15,
     "metadata": {},
     "output_type": "execute_result"
    },
    {
     "data": {
      "image/png": "[encoded data removed]",
      "text/plain": [
       "<matplotlib.figure.Figure at 0x7f1673fa4cc0>"
      ]
     },
     "metadata": {},
     "output_type": "display_data"
    }
   ],
   "source": [
    "%matplotlib inline\n",
    "_.bar()"
   ]
  },
  {
   "cell_type": "markdown",
   "metadata": {},
   "source": [
    "The total amount of crime that occurs on a particular weekday. Fridays are not safe."
   ]
  },
  {
   "cell_type": "code",
   "execution_count": 16,
   "metadata": {},
   "outputs": [
    {
     "name": "stdout",
     "output_type": "stream",
     "text": [
      "7 rows affected.\n"
     ]
    },
    {
     "data": {
      "text/html": [
       "<table>\n",
       "    <tr>\n",
       "        <th>day_of_week_str</th>\n",
       "        <th>count</th>\n",
       "    </tr>\n",
       "    <tr>\n",
       "        <td>Sunday   </td>\n",
       "        <td>876030</td>\n",
       "    </tr>\n",
       "    <tr>\n",
       "        <td>Monday   </td>\n",
       "        <td>915620</td>\n",
       "    </tr>\n",
       "    <tr>\n",
       "        <td>Tuesday  </td>\n",
       "        <td>930330</td>\n",
       "    </tr>\n",
       "    <tr>\n",
       "        <td>Wednesday</td>\n",
       "        <td>935978</td>\n",
       "    </tr>\n",
       "    <tr>\n",
       "        <td>Thursday </td>\n",
       "        <td>926718</td>\n",
       "    </tr>\n",
       "    <tr>\n",
       "        <td>Friday   </td>\n",
       "        <td>977472</td>\n",
       "    </tr>\n",
       "    <tr>\n",
       "        <td>Saturday </td>\n",
       "        <td>926808</td>\n",
       "    </tr>\n",
       "</table>"
      ],
      "text/plain": [
       "[('Sunday   ', 876030),\n",
       " ('Monday   ', 915620),\n",
       " ('Tuesday  ', 930330),\n",
       " ('Wednesday', 935978),\n",
       " ('Thursday ', 926718),\n",
       " ('Friday   ', 977472),\n",
       " ('Saturday ', 926808)]"
      ]
     },
     "execution_count": 16,
     "metadata": {},
     "output_type": "execute_result"
    }
   ],
   "source": [
    "%%sql\n",
    "SELECT hour.day_of_week_str, COUNT(*)\n",
    "FROM chicago_crime\n",
    "JOIN hour\n",
    "ON chicago_crime.hour_key = hour.key\n",
    "GROUP BY hour.day_of_week, day_of_week_str \n",
    "ORDER BY hour.day_of_week"
   ]
  },
  {
   "cell_type": "code",
   "execution_count": 17,
   "metadata": {},
   "outputs": [
    {
     "data": {
      "text/plain": [
       "<Container object of 7 artists>"
      ]
     },
     "execution_count": 17,
     "metadata": {},
     "output_type": "execute_result"
    },
    {
     "data": {
      "image/png": "[encoded data removed]",
      "text/plain": [
       "<matplotlib.figure.Figure at 0x7f1673f40c50>"
      ]
     },
     "metadata": {},
     "output_type": "display_data"
    }
   ],
   "source": [
    "%matplotlib inline\n",
    "_.bar()"
   ]
  },
  {
   "cell_type": "markdown",
   "metadata": {},
   "source": [
    "Looking at the time of day - I would consider anything after noon quite dangerous. This is similar to the analysis of LA - anything noon and beyond were much more dangerous."
   ]
  },
  {
   "cell_type": "code",
   "execution_count": 18,
   "metadata": {},
   "outputs": [
    {
     "name": "stdout",
     "output_type": "stream",
     "text": [
      "24 rows affected.\n"
     ]
    },
    {
     "data": {
      "text/html": [
       "<table>\n",
       "    <tr>\n",
       "        <th>hour_of_day</th>\n",
       "        <th>count</th>\n",
       "    </tr>\n",
       "    <tr>\n",
       "        <td>0</td>\n",
       "        <td>360738</td>\n",
       "    </tr>\n",
       "    <tr>\n",
       "        <td>1</td>\n",
       "        <td>206442</td>\n",
       "    </tr>\n",
       "    <tr>\n",
       "        <td>2</td>\n",
       "        <td>173180</td>\n",
       "    </tr>\n",
       "    <tr>\n",
       "        <td>3</td>\n",
       "        <td>139348</td>\n",
       "    </tr>\n",
       "    <tr>\n",
       "        <td>4</td>\n",
       "        <td>104494</td>\n",
       "    </tr>\n",
       "    <tr>\n",
       "        <td>5</td>\n",
       "        <td>86331</td>\n",
       "    </tr>\n",
       "    <tr>\n",
       "        <td>6</td>\n",
       "        <td>101940</td>\n",
       "    </tr>\n",
       "    <tr>\n",
       "        <td>7</td>\n",
       "        <td>146904</td>\n",
       "    </tr>\n",
       "    <tr>\n",
       "        <td>8</td>\n",
       "        <td>219154</td>\n",
       "    </tr>\n",
       "    <tr>\n",
       "        <td>9</td>\n",
       "        <td>277756</td>\n",
       "    </tr>\n",
       "    <tr>\n",
       "        <td>10</td>\n",
       "        <td>271597</td>\n",
       "    </tr>\n",
       "    <tr>\n",
       "        <td>11</td>\n",
       "        <td>286084</td>\n",
       "    </tr>\n",
       "    <tr>\n",
       "        <td>12</td>\n",
       "        <td>368140</td>\n",
       "    </tr>\n",
       "    <tr>\n",
       "        <td>13</td>\n",
       "        <td>308324</td>\n",
       "    </tr>\n",
       "    <tr>\n",
       "        <td>14</td>\n",
       "        <td>328276</td>\n",
       "    </tr>\n",
       "    <tr>\n",
       "        <td>15</td>\n",
       "        <td>344172</td>\n",
       "    </tr>\n",
       "    <tr>\n",
       "        <td>16</td>\n",
       "        <td>324742</td>\n",
       "    </tr>\n",
       "    <tr>\n",
       "        <td>17</td>\n",
       "        <td>329960</td>\n",
       "    </tr>\n",
       "    <tr>\n",
       "        <td>18</td>\n",
       "        <td>355622</td>\n",
       "    </tr>\n",
       "    <tr>\n",
       "        <td>19</td>\n",
       "        <td>369566</td>\n",
       "    </tr>\n",
       "    <tr>\n",
       "        <td>20</td>\n",
       "        <td>370454</td>\n",
       "    </tr>\n",
       "    <tr>\n",
       "        <td>21</td>\n",
       "        <td>362810</td>\n",
       "    </tr>\n",
       "    <tr>\n",
       "        <td>22</td>\n",
       "        <td>357680</td>\n",
       "    </tr>\n",
       "    <tr>\n",
       "        <td>23</td>\n",
       "        <td>295242</td>\n",
       "    </tr>\n",
       "</table>"
      ],
      "text/plain": [
       "[(0, 360738),\n",
       " (1, 206442),\n",
       " (2, 173180),\n",
       " (3, 139348),\n",
       " (4, 104494),\n",
       " (5, 86331),\n",
       " (6, 101940),\n",
       " (7, 146904),\n",
       " (8, 219154),\n",
       " (9, 277756),\n",
       " (10, 271597),\n",
       " (11, 286084),\n",
       " (12, 368140),\n",
       " (13, 308324),\n",
       " (14, 328276),\n",
       " (15, 344172),\n",
       " (16, 324742),\n",
       " (17, 329960),\n",
       " (18, 355622),\n",
       " (19, 369566),\n",
       " (20, 370454),\n",
       " (21, 362810),\n",
       " (22, 357680),\n",
       " (23, 295242)]"
      ]
     },
     "execution_count": 18,
     "metadata": {},
     "output_type": "execute_result"
    }
   ],
   "source": [
    "%%sql\n",
    "SELECT hour_of_day, COUNT(*)\n",
    "FROM chicago_crime\n",
    "JOIN hour\n",
    "ON chicago_crime.hour_key = hour.key\n",
    "GROUP BY hour_of_day\n",
    "ORDER BY hour_of_day"
   ]
  },
  {
   "cell_type": "code",
   "execution_count": 19,
   "metadata": {},
   "outputs": [
    {
     "data": {
      "text/plain": [
       "<Container object of 24 artists>"
      ]
     },
     "execution_count": 19,
     "metadata": {},
     "output_type": "execute_result"
    },
    {
     "data": {
      "image/png": "[encoded data removed]",
      "text/plain": [
       "<matplotlib.figure.Figure at 0x7f167851ccf8>"
      ]
     },
     "metadata": {},
     "output_type": "display_data"
    }
   ],
   "source": [
    "%matplotlib inline\n",
    "_.bar()"
   ]
  },
  {
   "cell_type": "markdown",
   "metadata": {},
   "source": [
    "However, our comparison to which day in the year the most crime is committed is also the same, however LA commits almost twice as much crime on New Year's than Chicago does."
   ]
  },
  {
   "cell_type": "code",
   "execution_count": 20,
   "metadata": {},
   "outputs": [
    {
     "name": "stdout",
     "output_type": "stream",
     "text": [
      "17 rows affected.\n"
     ]
    },
    {
     "data": {
      "text/html": [
       "<table>\n",
       "    <tr>\n",
       "        <th>day</th>\n",
       "        <th>year</th>\n",
       "        <th>count</th>\n",
       "    </tr>\n",
       "    <tr>\n",
       "        <td>2001-01-01</td>\n",
       "        <td>2001</td>\n",
       "        <td>1810</td>\n",
       "    </tr>\n",
       "    <tr>\n",
       "        <td>2002-01-01</td>\n",
       "        <td>2002</td>\n",
       "        <td>1853</td>\n",
       "    </tr>\n",
       "    <tr>\n",
       "        <td>2003-01-01</td>\n",
       "        <td>2003</td>\n",
       "        <td>2021</td>\n",
       "    </tr>\n",
       "    <tr>\n",
       "        <td>2004-01-01</td>\n",
       "        <td>2004</td>\n",
       "        <td>1884</td>\n",
       "    </tr>\n",
       "    <tr>\n",
       "        <td>2005-01-01</td>\n",
       "        <td>2005</td>\n",
       "        <td>1955</td>\n",
       "    </tr>\n",
       "    <tr>\n",
       "        <td>2006-01-01</td>\n",
       "        <td>2006</td>\n",
       "        <td>1897</td>\n",
       "    </tr>\n",
       "    <tr>\n",
       "        <td>2007-01-01</td>\n",
       "        <td>2007</td>\n",
       "        <td>1933</td>\n",
       "    </tr>\n",
       "    <tr>\n",
       "        <td>2008-01-01</td>\n",
       "        <td>2008</td>\n",
       "        <td>1795</td>\n",
       "    </tr>\n",
       "    <tr>\n",
       "        <td>2009-01-01</td>\n",
       "        <td>2009</td>\n",
       "        <td>1803</td>\n",
       "    </tr>\n",
       "    <tr>\n",
       "        <td>2010-01-01</td>\n",
       "        <td>2010</td>\n",
       "        <td>1404</td>\n",
       "    </tr>\n",
       "    <tr>\n",
       "        <td>2011-01-01</td>\n",
       "        <td>2011</td>\n",
       "        <td>1515</td>\n",
       "    </tr>\n",
       "    <tr>\n",
       "        <td>2012-01-01</td>\n",
       "        <td>2012</td>\n",
       "        <td>1473</td>\n",
       "    </tr>\n",
       "    <tr>\n",
       "        <td>2013-01-01</td>\n",
       "        <td>2013</td>\n",
       "        <td>1327</td>\n",
       "    </tr>\n",
       "    <tr>\n",
       "        <td>2014-01-01</td>\n",
       "        <td>2014</td>\n",
       "        <td>1112</td>\n",
       "    </tr>\n",
       "    <tr>\n",
       "        <td>2015-01-01</td>\n",
       "        <td>2015</td>\n",
       "        <td>1100</td>\n",
       "    </tr>\n",
       "    <tr>\n",
       "        <td>2016-01-01</td>\n",
       "        <td>2016</td>\n",
       "        <td>1004</td>\n",
       "    </tr>\n",
       "    <tr>\n",
       "        <td>2017-01-01</td>\n",
       "        <td>2017</td>\n",
       "        <td>1020</td>\n",
       "    </tr>\n",
       "</table>"
      ],
      "text/plain": [
       "[('2001-01-01', 2001, 1810),\n",
       " ('2002-01-01', 2002, 1853),\n",
       " ('2003-01-01', 2003, 2021),\n",
       " ('2004-01-01', 2004, 1884),\n",
       " ('2005-01-01', 2005, 1955),\n",
       " ('2006-01-01', 2006, 1897),\n",
       " ('2007-01-01', 2007, 1933),\n",
       " ('2008-01-01', 2008, 1795),\n",
       " ('2009-01-01', 2009, 1803),\n",
       " ('2010-01-01', 2010, 1404),\n",
       " ('2011-01-01', 2011, 1515),\n",
       " ('2012-01-01', 2012, 1473),\n",
       " ('2013-01-01', 2013, 1327),\n",
       " ('2014-01-01', 2014, 1112),\n",
       " ('2015-01-01', 2015, 1100),\n",
       " ('2016-01-01', 2016, 1004),\n",
       " ('2017-01-01', 2017, 1020)]"
      ]
     },
     "execution_count": 20,
     "metadata": {},
     "output_type": "execute_result"
    }
   ],
   "source": [
    "%%sql\n",
    "SELECT a.day, a.year, a.count\n",
    "FROM (SELECT COUNT(*) AS count, day, hour.year\n",
    "    FROM chicago_crime\n",
    "    JOIN hour\n",
    "    ON chicago_crime.hour_key = hour.key\n",
    "    GROUP BY day, hour.year) AS a\n",
    "JOIN (SELECT t.year, MAX(count) AS max_count\n",
    "    FROM (SELECT COUNT(*) AS count, day, hour.year\n",
    "        FROM chicago_crime\n",
    "        JOIN hour\n",
    "        ON chicago_crime.hour_key = hour.key\n",
    "        GROUP BY day, hour.year) AS t\n",
    "     GROUP BY t.year) AS b\n",
    "ON a.year = b.year\n",
    "AND a.count = b.max_count\n",
    "ORDER BY a.year"
   ]
  },
  {
   "cell_type": "markdown",
   "metadata": {},
   "source": [
    "### Type\n",
    "Here we are looking at the different types of crime committed in Chicago. Where Battery was the number one crime in LA, Theft followed by Battery are the top two crimes in Chicago.\n",
    "\n",
    "The number of battery crimes in Chicago is almost 10x more than the battery crimes in LA."
   ]
  },
  {
   "cell_type": "code",
   "execution_count": 21,
   "metadata": {},
   "outputs": [
    {
     "name": "stdout",
     "output_type": "stream",
     "text": [
      "10 rows affected.\n"
     ]
    },
    {
     "data": {
      "text/html": [
       "<table>\n",
       "    <tr>\n",
       "        <th>type</th>\n",
       "        <th>count</th>\n",
       "    </tr>\n",
       "    <tr>\n",
       "        <td>THEFT</td>\n",
       "        <td>1355568</td>\n",
       "    </tr>\n",
       "    <tr>\n",
       "        <td>BATTERY</td>\n",
       "        <td>1184458</td>\n",
       "    </tr>\n",
       "    <tr>\n",
       "        <td>CRIMINAL DAMAGE</td>\n",
       "        <td>744690</td>\n",
       "    </tr>\n",
       "    <tr>\n",
       "        <td>NARCOTICS</td>\n",
       "        <td>698473</td>\n",
       "    </tr>\n",
       "    <tr>\n",
       "        <td>OTHER OFFENSE</td>\n",
       "        <td>402013</td>\n",
       "    </tr>\n",
       "    <tr>\n",
       "        <td>ASSAULT</td>\n",
       "        <td>399086</td>\n",
       "    </tr>\n",
       "    <tr>\n",
       "        <td>BURGLARY</td>\n",
       "        <td>376661</td>\n",
       "    </tr>\n",
       "    <tr>\n",
       "        <td>MOTOR VEHICLE THEFT</td>\n",
       "        <td>304544</td>\n",
       "    </tr>\n",
       "    <tr>\n",
       "        <td>ROBBERY</td>\n",
       "        <td>246085</td>\n",
       "    </tr>\n",
       "    <tr>\n",
       "        <td>DECEPTIVE PRACTICE</td>\n",
       "        <td>242619</td>\n",
       "    </tr>\n",
       "</table>"
      ],
      "text/plain": [
       "[('THEFT', 1355568),\n",
       " ('BATTERY', 1184458),\n",
       " ('CRIMINAL DAMAGE', 744690),\n",
       " ('NARCOTICS', 698473),\n",
       " ('OTHER OFFENSE', 402013),\n",
       " ('ASSAULT', 399086),\n",
       " ('BURGLARY', 376661),\n",
       " ('MOTOR VEHICLE THEFT', 304544),\n",
       " ('ROBBERY', 246085),\n",
       " ('DECEPTIVE PRACTICE', 242619)]"
      ]
     },
     "execution_count": 21,
     "metadata": {},
     "output_type": "execute_result"
    }
   ],
   "source": [
    "%%sql\n",
    "SELECT type, COUNT(*)\n",
    "FROM chicago_crime\n",
    "GROUP BY type\n",
    "ORDER BY count DESC\n",
    "LIMIT 10"
   ]
  },
  {
   "cell_type": "markdown",
   "metadata": {},
   "source": [
    "Here we are looking at how theft and battery has changed throughout the years."
   ]
  },
  {
   "cell_type": "code",
   "execution_count": 22,
   "metadata": {},
   "outputs": [
    {
     "name": "stdout",
     "output_type": "stream",
     "text": [
      "10 rows affected.\n"
     ]
    },
    {
     "data": {
      "text/html": [
       "<table>\n",
       "    <tr>\n",
       "        <th>type</th>\n",
       "        <th>year</th>\n",
       "        <th>count</th>\n",
       "    </tr>\n",
       "    <tr>\n",
       "        <td>THEFT</td>\n",
       "        <td>2001</td>\n",
       "        <td>99264</td>\n",
       "    </tr>\n",
       "    <tr>\n",
       "        <td>THEFT</td>\n",
       "        <td>2003</td>\n",
       "        <td>98875</td>\n",
       "    </tr>\n",
       "    <tr>\n",
       "        <td>THEFT</td>\n",
       "        <td>2002</td>\n",
       "        <td>98327</td>\n",
       "    </tr>\n",
       "    <tr>\n",
       "        <td>THEFT</td>\n",
       "        <td>2004</td>\n",
       "        <td>95463</td>\n",
       "    </tr>\n",
       "    <tr>\n",
       "        <td>BATTERY</td>\n",
       "        <td>2002</td>\n",
       "        <td>94152</td>\n",
       "    </tr>\n",
       "    <tr>\n",
       "        <td>BATTERY</td>\n",
       "        <td>2001</td>\n",
       "        <td>93447</td>\n",
       "    </tr>\n",
       "    <tr>\n",
       "        <td>THEFT</td>\n",
       "        <td>2008</td>\n",
       "        <td>88431</td>\n",
       "    </tr>\n",
       "    <tr>\n",
       "        <td>BATTERY</td>\n",
       "        <td>2003</td>\n",
       "        <td>88377</td>\n",
       "    </tr>\n",
       "    <tr>\n",
       "        <td>BATTERY</td>\n",
       "        <td>2004</td>\n",
       "        <td>87134</td>\n",
       "    </tr>\n",
       "    <tr>\n",
       "        <td>THEFT</td>\n",
       "        <td>2006</td>\n",
       "        <td>86240</td>\n",
       "    </tr>\n",
       "</table>"
      ],
      "text/plain": [
       "[('THEFT', 2001, 99264),\n",
       " ('THEFT', 2003, 98875),\n",
       " ('THEFT', 2002, 98327),\n",
       " ('THEFT', 2004, 95463),\n",
       " ('BATTERY', 2002, 94152),\n",
       " ('BATTERY', 2001, 93447),\n",
       " ('THEFT', 2008, 88431),\n",
       " ('BATTERY', 2003, 88377),\n",
       " ('BATTERY', 2004, 87134),\n",
       " ('THEFT', 2006, 86240)]"
      ]
     },
     "execution_count": 22,
     "metadata": {},
     "output_type": "execute_result"
    }
   ],
   "source": [
    "%%sql\n",
    "SELECT chicago_crime.type, hour.year, COUNT(type)\n",
    "FROM chicago_crime\n",
    "JOIN hour\n",
    "ON chicago_crime.hour_key = hour.key\n",
    "GROUP BY type, hour.year\n",
    "ORDER BY COUNT(type) DESC\n",
    "LIMIT 10"
   ]
  },
  {
   "cell_type": "code",
   "execution_count": 23,
   "metadata": {},
   "outputs": [
    {
     "data": {
      "text/plain": [
       "<Container object of 10 artists>"
      ]
     },
     "execution_count": 23,
     "metadata": {},
     "output_type": "execute_result"
    },
    {
     "data": {
      "image/png": "[encoded data removed]",
      "text/plain": [
       "<matplotlib.figure.Figure at 0x7f1673e67e80>"
      ]
     },
     "metadata": {},
     "output_type": "display_data"
    }
   ],
   "source": [
    "%matplotlib inline\n",
    "_.bar()"
   ]
  },
  {
   "cell_type": "markdown",
   "metadata": {},
   "source": [
    "**Focus on Battery**\n",
    "\n",
    "Here we wanted to compare battery crimes during the week."
   ]
  },
  {
   "cell_type": "code",
   "execution_count": 24,
   "metadata": {},
   "outputs": [
    {
     "name": "stdout",
     "output_type": "stream",
     "text": [
      "7 rows affected.\n"
     ]
    },
    {
     "data": {
      "text/html": [
       "<table>\n",
       "    <tr>\n",
       "        <th>type</th>\n",
       "        <th>day_of_week_str</th>\n",
       "        <th>count</th>\n",
       "    </tr>\n",
       "    <tr>\n",
       "        <td>BATTERY</td>\n",
       "        <td>Sunday   </td>\n",
       "        <td>194705</td>\n",
       "    </tr>\n",
       "    <tr>\n",
       "        <td>BATTERY</td>\n",
       "        <td>Monday   </td>\n",
       "        <td>159201</td>\n",
       "    </tr>\n",
       "    <tr>\n",
       "        <td>BATTERY</td>\n",
       "        <td>Tuesday  </td>\n",
       "        <td>158800</td>\n",
       "    </tr>\n",
       "    <tr>\n",
       "        <td>BATTERY</td>\n",
       "        <td>Wednesday</td>\n",
       "        <td>159473</td>\n",
       "    </tr>\n",
       "    <tr>\n",
       "        <td>BATTERY</td>\n",
       "        <td>Thursday </td>\n",
       "        <td>159881</td>\n",
       "    </tr>\n",
       "    <tr>\n",
       "        <td>BATTERY</td>\n",
       "        <td>Friday   </td>\n",
       "        <td>167118</td>\n",
       "    </tr>\n",
       "    <tr>\n",
       "        <td>BATTERY</td>\n",
       "        <td>Saturday </td>\n",
       "        <td>185280</td>\n",
       "    </tr>\n",
       "</table>"
      ],
      "text/plain": [
       "[('BATTERY', 'Sunday   ', 194705),\n",
       " ('BATTERY', 'Monday   ', 159201),\n",
       " ('BATTERY', 'Tuesday  ', 158800),\n",
       " ('BATTERY', 'Wednesday', 159473),\n",
       " ('BATTERY', 'Thursday ', 159881),\n",
       " ('BATTERY', 'Friday   ', 167118),\n",
       " ('BATTERY', 'Saturday ', 185280)]"
      ]
     },
     "execution_count": 24,
     "metadata": {},
     "output_type": "execute_result"
    }
   ],
   "source": [
    "%%sql\n",
    "SELECT type, day_of_week_str, COUNT(type)\n",
    "FROM chicago_crime\n",
    "JOIN hour\n",
    "ON chicago_crime.hour_key = hour.key\n",
    "WHERE type = 'BATTERY'\n",
    "GROUP BY day_of_week, day_of_week_str, type\n",
    "ORDER BY day_of_week"
   ]
  },
  {
   "cell_type": "code",
   "execution_count": 25,
   "metadata": {},
   "outputs": [
    {
     "data": {
      "text/plain": [
       "<Container object of 7 artists>"
      ]
     },
     "execution_count": 25,
     "metadata": {},
     "output_type": "execute_result"
    },
    {
     "data": {
      "image/png": "[encoded data removed]",
      "text/plain": [
       "<matplotlib.figure.Figure at 0x7f1673d82748>"
      ]
     },
     "metadata": {},
     "output_type": "display_data"
    }
   ],
   "source": [
    "%matplotlib inline\n",
    "_.bar()"
   ]
  },
  {
   "cell_type": "markdown",
   "metadata": {},
   "source": [
    "Looking at the time battery crimes occur."
   ]
  },
  {
   "cell_type": "code",
   "execution_count": 26,
   "metadata": {},
   "outputs": [
    {
     "name": "stdout",
     "output_type": "stream",
     "text": [
      "24 rows affected.\n"
     ]
    },
    {
     "data": {
      "text/html": [
       "<table>\n",
       "    <tr>\n",
       "        <th>type</th>\n",
       "        <th>hour_of_day</th>\n",
       "        <th>count</th>\n",
       "    </tr>\n",
       "    <tr>\n",
       "        <td>BATTERY</td>\n",
       "        <td>0</td>\n",
       "        <td>58892</td>\n",
       "    </tr>\n",
       "    <tr>\n",
       "        <td>BATTERY</td>\n",
       "        <td>1</td>\n",
       "        <td>56774</td>\n",
       "    </tr>\n",
       "    <tr>\n",
       "        <td>BATTERY</td>\n",
       "        <td>2</td>\n",
       "        <td>50718</td>\n",
       "    </tr>\n",
       "    <tr>\n",
       "        <td>BATTERY</td>\n",
       "        <td>3</td>\n",
       "        <td>41074</td>\n",
       "    </tr>\n",
       "    <tr>\n",
       "        <td>BATTERY</td>\n",
       "        <td>4</td>\n",
       "        <td>28743</td>\n",
       "    </tr>\n",
       "    <tr>\n",
       "        <td>BATTERY</td>\n",
       "        <td>5</td>\n",
       "        <td>19278</td>\n",
       "    </tr>\n",
       "    <tr>\n",
       "        <td>BATTERY</td>\n",
       "        <td>6</td>\n",
       "        <td>16215</td>\n",
       "    </tr>\n",
       "    <tr>\n",
       "        <td>BATTERY</td>\n",
       "        <td>7</td>\n",
       "        <td>20408</td>\n",
       "    </tr>\n",
       "    <tr>\n",
       "        <td>BATTERY</td>\n",
       "        <td>8</td>\n",
       "        <td>31125</td>\n",
       "    </tr>\n",
       "    <tr>\n",
       "        <td>BATTERY</td>\n",
       "        <td>9</td>\n",
       "        <td>36646</td>\n",
       "    </tr>\n",
       "    <tr>\n",
       "        <td>BATTERY</td>\n",
       "        <td>10</td>\n",
       "        <td>41439</td>\n",
       "    </tr>\n",
       "    <tr>\n",
       "        <td>BATTERY</td>\n",
       "        <td>11</td>\n",
       "        <td>46887</td>\n",
       "    </tr>\n",
       "    <tr>\n",
       "        <td>BATTERY</td>\n",
       "        <td>12</td>\n",
       "        <td>51619</td>\n",
       "    </tr>\n",
       "    <tr>\n",
       "        <td>BATTERY</td>\n",
       "        <td>13</td>\n",
       "        <td>51462</td>\n",
       "    </tr>\n",
       "    <tr>\n",
       "        <td>BATTERY</td>\n",
       "        <td>14</td>\n",
       "        <td>60337</td>\n",
       "    </tr>\n",
       "    <tr>\n",
       "        <td>BATTERY</td>\n",
       "        <td>15</td>\n",
       "        <td>65137</td>\n",
       "    </tr>\n",
       "    <tr>\n",
       "        <td>BATTERY</td>\n",
       "        <td>16</td>\n",
       "        <td>58861</td>\n",
       "    </tr>\n",
       "    <tr>\n",
       "        <td>BATTERY</td>\n",
       "        <td>17</td>\n",
       "        <td>58501</td>\n",
       "    </tr>\n",
       "    <tr>\n",
       "        <td>BATTERY</td>\n",
       "        <td>18</td>\n",
       "        <td>61439</td>\n",
       "    </tr>\n",
       "    <tr>\n",
       "        <td>BATTERY</td>\n",
       "        <td>19</td>\n",
       "        <td>63575</td>\n",
       "    </tr>\n",
       "    <tr>\n",
       "        <td>BATTERY</td>\n",
       "        <td>20</td>\n",
       "        <td>65533</td>\n",
       "    </tr>\n",
       "    <tr>\n",
       "        <td>BATTERY</td>\n",
       "        <td>21</td>\n",
       "        <td>67811</td>\n",
       "    </tr>\n",
       "    <tr>\n",
       "        <td>BATTERY</td>\n",
       "        <td>22</td>\n",
       "        <td>67953</td>\n",
       "    </tr>\n",
       "    <tr>\n",
       "        <td>BATTERY</td>\n",
       "        <td>23</td>\n",
       "        <td>64031</td>\n",
       "    </tr>\n",
       "</table>"
      ],
      "text/plain": [
       "[('BATTERY', 0, 58892),\n",
       " ('BATTERY', 1, 56774),\n",
       " ('BATTERY', 2, 50718),\n",
       " ('BATTERY', 3, 41074),\n",
       " ('BATTERY', 4, 28743),\n",
       " ('BATTERY', 5, 19278),\n",
       " ('BATTERY', 6, 16215),\n",
       " ('BATTERY', 7, 20408),\n",
       " ('BATTERY', 8, 31125),\n",
       " ('BATTERY', 9, 36646),\n",
       " ('BATTERY', 10, 41439),\n",
       " ('BATTERY', 11, 46887),\n",
       " ('BATTERY', 12, 51619),\n",
       " ('BATTERY', 13, 51462),\n",
       " ('BATTERY', 14, 60337),\n",
       " ('BATTERY', 15, 65137),\n",
       " ('BATTERY', 16, 58861),\n",
       " ('BATTERY', 17, 58501),\n",
       " ('BATTERY', 18, 61439),\n",
       " ('BATTERY', 19, 63575),\n",
       " ('BATTERY', 20, 65533),\n",
       " ('BATTERY', 21, 67811),\n",
       " ('BATTERY', 22, 67953),\n",
       " ('BATTERY', 23, 64031)]"
      ]
     },
     "execution_count": 26,
     "metadata": {},
     "output_type": "execute_result"
    }
   ],
   "source": [
    "%%sql\n",
    "SELECT type, hour_of_day, COUNT(type)\n",
    "FROM chicago_crime\n",
    "JOIN hour\n",
    "ON chicago_crime.hour_key = hour.key\n",
    "WHERE type = 'BATTERY'\n",
    "GROUP BY hour_of_day, type\n",
    "ORDER BY hour_of_day"
   ]
  },
  {
   "cell_type": "code",
   "execution_count": 27,
   "metadata": {},
   "outputs": [
    {
     "data": {
      "text/plain": [
       "<Container object of 24 artists>"
      ]
     },
     "execution_count": 27,
     "metadata": {},
     "output_type": "execute_result"
    },
    {
     "data": {
      "image/png": "[encoded data removed]",
      "text/plain": [
       "<matplotlib.figure.Figure at 0x7f1673daa3c8>"
      ]
     },
     "metadata": {},
     "output_type": "display_data"
    }
   ],
   "source": [
    "%matplotlib inline\n",
    "_.bar()"
   ]
  },
  {
   "cell_type": "markdown",
   "metadata": {},
   "source": [
    "Here we look at where battery crimes occur which is mostly Residences and Apartments, which is similar to LA."
   ]
  },
  {
   "cell_type": "code",
   "execution_count": 28,
   "metadata": {},
   "outputs": [
    {
     "name": "stdout",
     "output_type": "stream",
     "text": [
      "10 rows affected.\n"
     ]
    },
    {
     "data": {
      "text/html": [
       "<table>\n",
       "    <tr>\n",
       "        <th>type</th>\n",
       "        <th>location</th>\n",
       "        <th>count</th>\n",
       "    </tr>\n",
       "    <tr>\n",
       "        <td>BATTERY</td>\n",
       "        <td>RESIDENCE</td>\n",
       "        <td>247733</td>\n",
       "    </tr>\n",
       "    <tr>\n",
       "        <td>BATTERY</td>\n",
       "        <td>APARTMENT</td>\n",
       "        <td>231556</td>\n",
       "    </tr>\n",
       "    <tr>\n",
       "        <td>BATTERY</td>\n",
       "        <td>STREET</td>\n",
       "        <td>212282</td>\n",
       "    </tr>\n",
       "    <tr>\n",
       "        <td>BATTERY</td>\n",
       "        <td>SIDEWALK</td>\n",
       "        <td>176332</td>\n",
       "    </tr>\n",
       "    <tr>\n",
       "        <td>BATTERY</td>\n",
       "        <td>SCHOOL, PUBLIC, BUILDING</td>\n",
       "        <td>48685</td>\n",
       "    </tr>\n",
       "    <tr>\n",
       "        <td>BATTERY</td>\n",
       "        <td>RESIDENCE PORCH/HALLWAY</td>\n",
       "        <td>29555</td>\n",
       "    </tr>\n",
       "    <tr>\n",
       "        <td>BATTERY</td>\n",
       "        <td>ALLEY</td>\n",
       "        <td>26292</td>\n",
       "    </tr>\n",
       "    <tr>\n",
       "        <td>BATTERY</td>\n",
       "        <td>OTHER</td>\n",
       "        <td>25862</td>\n",
       "    </tr>\n",
       "    <tr>\n",
       "        <td>BATTERY</td>\n",
       "        <td>PARKING LOT/GARAGE(NON.RESID.)</td>\n",
       "        <td>15612</td>\n",
       "    </tr>\n",
       "    <tr>\n",
       "        <td>BATTERY</td>\n",
       "        <td>CHA APARTMENT</td>\n",
       "        <td>12895</td>\n",
       "    </tr>\n",
       "</table>"
      ],
      "text/plain": [
       "[('BATTERY', 'RESIDENCE', 247733),\n",
       " ('BATTERY', 'APARTMENT', 231556),\n",
       " ('BATTERY', 'STREET', 212282),\n",
       " ('BATTERY', 'SIDEWALK', 176332),\n",
       " ('BATTERY', 'SCHOOL, PUBLIC, BUILDING', 48685),\n",
       " ('BATTERY', 'RESIDENCE PORCH/HALLWAY', 29555),\n",
       " ('BATTERY', 'ALLEY', 26292),\n",
       " ('BATTERY', 'OTHER', 25862),\n",
       " ('BATTERY', 'PARKING LOT/GARAGE(NON.RESID.)', 15612),\n",
       " ('BATTERY', 'CHA APARTMENT', 12895)]"
      ]
     },
     "execution_count": 28,
     "metadata": {},
     "output_type": "execute_result"
    }
   ],
   "source": [
    "%%sql\n",
    "SELECT type, location, COUNT(type)\n",
    "FROM chicago_crime\n",
    "WHERE type = 'BATTERY'\n",
    "GROUP BY location, type\n",
    "ORDER BY COUNT(chicago_crime) DESC\n",
    "LIMIT 10"
   ]
  },
  {
   "cell_type": "markdown",
   "metadata": {},
   "source": [
    "**Location**\n",
    "\n",
    "However, the majority of crimes occurred on the street followed by residences which is the same as in LA."
   ]
  },
  {
   "cell_type": "code",
   "execution_count": 29,
   "metadata": {},
   "outputs": [
    {
     "name": "stdout",
     "output_type": "stream",
     "text": [
      "5 rows affected.\n"
     ]
    },
    {
     "data": {
      "text/html": [
       "<table>\n",
       "    <tr>\n",
       "        <th>location</th>\n",
       "        <th>count</th>\n",
       "    </tr>\n",
       "    <tr>\n",
       "        <td>STREET</td>\n",
       "        <td>1714062</td>\n",
       "    </tr>\n",
       "    <tr>\n",
       "        <td>RESIDENCE</td>\n",
       "        <td>1098570</td>\n",
       "    </tr>\n",
       "    <tr>\n",
       "        <td>APARTMENT</td>\n",
       "        <td>664071</td>\n",
       "    </tr>\n",
       "    <tr>\n",
       "        <td>SIDEWALK</td>\n",
       "        <td>645248</td>\n",
       "    </tr>\n",
       "    <tr>\n",
       "        <td>OTHER</td>\n",
       "        <td>245749</td>\n",
       "    </tr>\n",
       "</table>"
      ],
      "text/plain": [
       "[('STREET', 1714062),\n",
       " ('RESIDENCE', 1098570),\n",
       " ('APARTMENT', 664071),\n",
       " ('SIDEWALK', 645248),\n",
       " ('OTHER', 245749)]"
      ]
     },
     "execution_count": 29,
     "metadata": {},
     "output_type": "execute_result"
    }
   ],
   "source": [
    "%%sql\n",
    "SELECT location, COUNT(*)\n",
    "FROM chicago_crime\n",
    "GROUP BY location\n",
    "ORDER BY count DESC\n",
    "LIMIT 5"
   ]
  },
  {
   "cell_type": "markdown",
   "metadata": {},
   "source": [
    "Lastly, we wanted to check what type of crime occurred where. Theft occurred mostly on the street, whilst battery occurred mostly within a household."
   ]
  },
  {
   "cell_type": "code",
   "execution_count": 39,
   "metadata": {},
   "outputs": [
    {
     "name": "stdout",
     "output_type": "stream",
     "text": [
      "10 rows affected.\n"
     ]
    },
    {
     "data": {
      "text/html": [
       "<table>\n",
       "    <tr>\n",
       "        <th>location</th>\n",
       "        <th>type</th>\n",
       "        <th>count</th>\n",
       "    </tr>\n",
       "    <tr>\n",
       "        <td>STREET</td>\n",
       "        <td>THEFT</td>\n",
       "        <td>373890</td>\n",
       "    </tr>\n",
       "    <tr>\n",
       "        <td>STREET</td>\n",
       "        <td>CRIMINAL DAMAGE</td>\n",
       "        <td>269179</td>\n",
       "    </tr>\n",
       "    <tr>\n",
       "        <td>STREET</td>\n",
       "        <td>NARCOTICS</td>\n",
       "        <td>248823</td>\n",
       "    </tr>\n",
       "    <tr>\n",
       "        <td>RESIDENCE</td>\n",
       "        <td>BATTERY</td>\n",
       "        <td>247733</td>\n",
       "    </tr>\n",
       "    <tr>\n",
       "        <td>STREET</td>\n",
       "        <td>MOTOR VEHICLE THEFT</td>\n",
       "        <td>241136</td>\n",
       "    </tr>\n",
       "    <tr>\n",
       "        <td>RESIDENCE</td>\n",
       "        <td>OTHER OFFENSE</td>\n",
       "        <td>186784</td>\n",
       "    </tr>\n",
       "    <tr>\n",
       "        <td>RESIDENCE</td>\n",
       "        <td>BURGLARY</td>\n",
       "        <td>129213</td>\n",
       "    </tr>\n",
       "    <tr>\n",
       "        <td>STREET</td>\n",
       "        <td>ASSAULT</td>\n",
       "        <td>83187</td>\n",
       "    </tr>\n",
       "    <tr>\n",
       "        <td>STREET</td>\n",
       "        <td>ROBBERY</td>\n",
       "        <td>75977</td>\n",
       "    </tr>\n",
       "    <tr>\n",
       "        <td>RESIDENCE</td>\n",
       "        <td>DECEPTIVE PRACTICE</td>\n",
       "        <td>66578</td>\n",
       "    </tr>\n",
       "</table>"
      ],
      "text/plain": [
       "[('STREET', 'THEFT', 373890),\n",
       " ('STREET', 'CRIMINAL DAMAGE', 269179),\n",
       " ('STREET', 'NARCOTICS', 248823),\n",
       " ('RESIDENCE', 'BATTERY', 247733),\n",
       " ('STREET', 'MOTOR VEHICLE THEFT', 241136),\n",
       " ('RESIDENCE', 'OTHER OFFENSE', 186784),\n",
       " ('RESIDENCE', 'BURGLARY', 129213),\n",
       " ('STREET', 'ASSAULT', 83187),\n",
       " ('STREET', 'ROBBERY', 75977),\n",
       " ('RESIDENCE', 'DECEPTIVE PRACTICE', 66578)]"
      ]
     },
     "execution_count": 39,
     "metadata": {},
     "output_type": "execute_result"
    }
   ],
   "source": [
    "%%sql\n",
    "SELECT a.location, a.type, count\n",
    "FROM (SELECT COUNT(type) AS count, location, type\n",
    "    FROM chicago_crime\n",
    "    GROUP BY location, type) AS a\n",
    "JOIN (SELECT type, MAX(count) AS max_count\n",
    "    FROM (SELECT COUNT(type) AS count, location, type\n",
    "        FROM chicago_crime\n",
    "        GROUP BY location, type) AS t\n",
    "     GROUP BY t.type) AS b\n",
    "ON a.type = b.type\n",
    "AND a.count = b.max_count\n",
    "ORDER BY count DESC\n",
    "LIMIT 10"
   ]
  },
  {
   "cell_type": "markdown",
   "metadata": {
    "collapsed": true
   },
   "source": [
    "## Conclusion\n",
    "In conclusion, although the population of LA is bigger than Chicago, the amount of crime in Chicago is much greater than LA. We would prefer to stay in LA."
   ]
  }
 ],
 "metadata": {
  "kernelspec": {
   "display_name": "Python 3",
   "language": "python",
   "name": "python3"
  },
  "language_info": {
   "codemirror_mode": {
    "name": "ipython",
    "version": 3
   },
   "file_extension": ".py",
   "mimetype": "text/x-python",
   "name": "python",
   "nbconvert_exporter": "python",
   "pygments_lexer": "ipython3",
   "version": "3.5.3"
  }
 },
 "nbformat": 4,
 "nbformat_minor": 2
}
