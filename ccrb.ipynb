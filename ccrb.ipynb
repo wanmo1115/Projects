{
 "cells": [
  {
   "cell_type": "code",
   "execution_count": 1,
   "metadata": {},
   "outputs": [],
   "source": [
    "import pandas as pd\n",
    "import numpy as np"
   ]
  },
  {
   "cell_type": "code",
   "execution_count": 2,
   "metadata": {},
   "outputs": [],
   "source": [
    "file='ccrb_datatransparencyinitiative_20170207.xlsx'"
   ]
  },
  {
   "cell_type": "code",
   "execution_count": 3,
   "metadata": {},
   "outputs": [],
   "source": [
    "data = pd.ExcelFile(file)"
   ]
  },
  {
   "cell_type": "code",
   "execution_count": 4,
   "metadata": {},
   "outputs": [
    {
     "name": "stdout",
     "output_type": "stream",
     "text": [
      "['Data Notes', 'Complaints_Allegations', 'Sheet3']\n"
     ]
    }
   ],
   "source": [
    "print(data.sheet_names)"
   ]
  },
  {
   "cell_type": "code",
   "execution_count": 5,
   "metadata": {},
   "outputs": [],
   "source": [
    "ccrb = data.parse('Complaints_Allegations')"
   ]
  },
  {
   "cell_type": "code",
   "execution_count": 6,
   "metadata": {},
   "outputs": [
    {
     "data": {
      "text/plain": [
       "(206718, 16)"
      ]
     },
     "execution_count": 6,
     "metadata": {},
     "output_type": "execute_result"
    }
   ],
   "source": [
    "ccrb.shape"
   ]
  },
  {
   "cell_type": "code",
   "execution_count": 7,
   "metadata": {},
   "outputs": [
    {
     "data": {
      "text/plain": [
       "Index(['DateStamp', 'UniqueComplaintId', 'Close Year', 'Received Year',\n",
       "       'Borough of Occurrence', 'Is Full Investigation',\n",
       "       'Complaint Has Video Evidence', 'Complaint Filed Mode',\n",
       "       'Complaint Filed Place', 'Complaint Contains Stop & Frisk Allegations',\n",
       "       'Incident Location', 'Incident Year', 'Encounter Outcome',\n",
       "       'Reason For Initial Contact', 'Allegation FADO Type',\n",
       "       'Allegation Description'],\n",
       "      dtype='object')"
      ]
     },
     "execution_count": 7,
     "metadata": {},
     "output_type": "execute_result"
    }
   ],
   "source": [
    "ccrb.columns"
   ]
  },
  {
   "cell_type": "code",
   "execution_count": 8,
   "metadata": {},
   "outputs": [
    {
     "data": {
      "text/html": [
       "<div>\n",
       "<style scoped>\n",
       "    .dataframe tbody tr th:only-of-type {\n",
       "        vertical-align: middle;\n",
       "    }\n",
       "\n",
       "    .dataframe tbody tr th {\n",
       "        vertical-align: top;\n",
       "    }\n",
       "\n",
       "    .dataframe thead th {\n",
       "        text-align: right;\n",
       "    }\n",
       "</style>\n",
       "<table border=\"1\" class=\"dataframe\">\n",
       "  <thead>\n",
       "    <tr style=\"text-align: right;\">\n",
       "      <th></th>\n",
       "      <th>DateStamp</th>\n",
       "      <th>UniqueComplaintId</th>\n",
       "      <th>Close Year</th>\n",
       "      <th>Received Year</th>\n",
       "      <th>Borough of Occurrence</th>\n",
       "      <th>Is Full Investigation</th>\n",
       "      <th>Complaint Has Video Evidence</th>\n",
       "      <th>Complaint Filed Mode</th>\n",
       "      <th>Complaint Filed Place</th>\n",
       "      <th>Complaint Contains Stop &amp; Frisk Allegations</th>\n",
       "      <th>Incident Location</th>\n",
       "      <th>Incident Year</th>\n",
       "      <th>Encounter Outcome</th>\n",
       "      <th>Reason For Initial Contact</th>\n",
       "      <th>Allegation FADO Type</th>\n",
       "      <th>Allegation Description</th>\n",
       "    </tr>\n",
       "  </thead>\n",
       "  <tbody>\n",
       "    <tr>\n",
       "      <th>0</th>\n",
       "      <td>2017-02-07</td>\n",
       "      <td>6</td>\n",
       "      <td>2006</td>\n",
       "      <td>2006</td>\n",
       "      <td>Brooklyn</td>\n",
       "      <td>False</td>\n",
       "      <td>False</td>\n",
       "      <td>Phone</td>\n",
       "      <td>IAB</td>\n",
       "      <td>False</td>\n",
       "      <td>Street/highway</td>\n",
       "      <td>2006</td>\n",
       "      <td>No Arrest or Summons</td>\n",
       "      <td>PD suspected C/V of violation/crime - street</td>\n",
       "      <td>Discourtesy</td>\n",
       "      <td>Action</td>\n",
       "    </tr>\n",
       "    <tr>\n",
       "      <th>1</th>\n",
       "      <td>2017-02-07</td>\n",
       "      <td>11</td>\n",
       "      <td>2006</td>\n",
       "      <td>2006</td>\n",
       "      <td>Bronx</td>\n",
       "      <td>False</td>\n",
       "      <td>False</td>\n",
       "      <td>Phone</td>\n",
       "      <td>IAB</td>\n",
       "      <td>False</td>\n",
       "      <td>Street/highway</td>\n",
       "      <td>2006</td>\n",
       "      <td>Arrest</td>\n",
       "      <td>Other</td>\n",
       "      <td>Force</td>\n",
       "      <td>Physical force</td>\n",
       "    </tr>\n",
       "    <tr>\n",
       "      <th>2</th>\n",
       "      <td>2017-02-07</td>\n",
       "      <td>20</td>\n",
       "      <td>2006</td>\n",
       "      <td>2005</td>\n",
       "      <td>Bronx</td>\n",
       "      <td>False</td>\n",
       "      <td>False</td>\n",
       "      <td>Call Processing System</td>\n",
       "      <td>CCRB</td>\n",
       "      <td>True</td>\n",
       "      <td>Street/highway</td>\n",
       "      <td>2005</td>\n",
       "      <td>No Arrest or Summons</td>\n",
       "      <td>Other</td>\n",
       "      <td>Abuse of Authority</td>\n",
       "      <td>Strip-searched</td>\n",
       "    </tr>\n",
       "    <tr>\n",
       "      <th>3</th>\n",
       "      <td>2017-02-07</td>\n",
       "      <td>20</td>\n",
       "      <td>2006</td>\n",
       "      <td>2005</td>\n",
       "      <td>Bronx</td>\n",
       "      <td>False</td>\n",
       "      <td>False</td>\n",
       "      <td>Call Processing System</td>\n",
       "      <td>CCRB</td>\n",
       "      <td>True</td>\n",
       "      <td>Street/highway</td>\n",
       "      <td>2005</td>\n",
       "      <td>No Arrest or Summons</td>\n",
       "      <td>Other</td>\n",
       "      <td>Abuse of Authority</td>\n",
       "      <td>Seizure of property</td>\n",
       "    </tr>\n",
       "    <tr>\n",
       "      <th>4</th>\n",
       "      <td>2017-02-07</td>\n",
       "      <td>20</td>\n",
       "      <td>2006</td>\n",
       "      <td>2005</td>\n",
       "      <td>Bronx</td>\n",
       "      <td>False</td>\n",
       "      <td>False</td>\n",
       "      <td>Call Processing System</td>\n",
       "      <td>CCRB</td>\n",
       "      <td>True</td>\n",
       "      <td>Street/highway</td>\n",
       "      <td>2005</td>\n",
       "      <td>No Arrest or Summons</td>\n",
       "      <td>Other</td>\n",
       "      <td>Abuse of Authority</td>\n",
       "      <td>Search (of person)</td>\n",
       "    </tr>\n",
       "    <tr>\n",
       "      <th>5</th>\n",
       "      <td>2017-02-07</td>\n",
       "      <td>20</td>\n",
       "      <td>2006</td>\n",
       "      <td>2005</td>\n",
       "      <td>Bronx</td>\n",
       "      <td>False</td>\n",
       "      <td>False</td>\n",
       "      <td>Call Processing System</td>\n",
       "      <td>CCRB</td>\n",
       "      <td>True</td>\n",
       "      <td>Street/highway</td>\n",
       "      <td>2005</td>\n",
       "      <td>No Arrest or Summons</td>\n",
       "      <td>Other</td>\n",
       "      <td>Abuse of Authority</td>\n",
       "      <td>Question and/or stop</td>\n",
       "    </tr>\n",
       "    <tr>\n",
       "      <th>6</th>\n",
       "      <td>2017-02-07</td>\n",
       "      <td>20</td>\n",
       "      <td>2006</td>\n",
       "      <td>2005</td>\n",
       "      <td>Bronx</td>\n",
       "      <td>False</td>\n",
       "      <td>False</td>\n",
       "      <td>Call Processing System</td>\n",
       "      <td>CCRB</td>\n",
       "      <td>True</td>\n",
       "      <td>Street/highway</td>\n",
       "      <td>2005</td>\n",
       "      <td>No Arrest or Summons</td>\n",
       "      <td>Other</td>\n",
       "      <td>Abuse of Authority</td>\n",
       "      <td>Threat of arrest</td>\n",
       "    </tr>\n",
       "    <tr>\n",
       "      <th>7</th>\n",
       "      <td>2017-02-07</td>\n",
       "      <td>26</td>\n",
       "      <td>2006</td>\n",
       "      <td>2006</td>\n",
       "      <td>Brooklyn</td>\n",
       "      <td>False</td>\n",
       "      <td>False</td>\n",
       "      <td>Phone</td>\n",
       "      <td>IAB</td>\n",
       "      <td>False</td>\n",
       "      <td>Apartment/house</td>\n",
       "      <td>2006</td>\n",
       "      <td>No Arrest or Summons</td>\n",
       "      <td>Report-dispute</td>\n",
       "      <td>Abuse of Authority</td>\n",
       "      <td>Threat of arrest</td>\n",
       "    </tr>\n",
       "    <tr>\n",
       "      <th>8</th>\n",
       "      <td>2017-02-07</td>\n",
       "      <td>26</td>\n",
       "      <td>2006</td>\n",
       "      <td>2006</td>\n",
       "      <td>Brooklyn</td>\n",
       "      <td>False</td>\n",
       "      <td>False</td>\n",
       "      <td>Phone</td>\n",
       "      <td>IAB</td>\n",
       "      <td>False</td>\n",
       "      <td>Apartment/house</td>\n",
       "      <td>2006</td>\n",
       "      <td>No Arrest or Summons</td>\n",
       "      <td>Report-dispute</td>\n",
       "      <td>Discourtesy</td>\n",
       "      <td>Word</td>\n",
       "    </tr>\n",
       "    <tr>\n",
       "      <th>9</th>\n",
       "      <td>2017-02-07</td>\n",
       "      <td>26</td>\n",
       "      <td>2006</td>\n",
       "      <td>2006</td>\n",
       "      <td>Brooklyn</td>\n",
       "      <td>False</td>\n",
       "      <td>False</td>\n",
       "      <td>Phone</td>\n",
       "      <td>IAB</td>\n",
       "      <td>False</td>\n",
       "      <td>Apartment/house</td>\n",
       "      <td>2006</td>\n",
       "      <td>No Arrest or Summons</td>\n",
       "      <td>Report-dispute</td>\n",
       "      <td>Discourtesy</td>\n",
       "      <td>Action</td>\n",
       "    </tr>\n",
       "  </tbody>\n",
       "</table>\n",
       "</div>"
      ],
      "text/plain": [
       "   DateStamp  UniqueComplaintId  Close Year  Received Year  \\\n",
       "0 2017-02-07                  6        2006           2006   \n",
       "1 2017-02-07                 11        2006           2006   \n",
       "2 2017-02-07                 20        2006           2005   \n",
       "3 2017-02-07                 20        2006           2005   \n",
       "4 2017-02-07                 20        2006           2005   \n",
       "5 2017-02-07                 20        2006           2005   \n",
       "6 2017-02-07                 20        2006           2005   \n",
       "7 2017-02-07                 26        2006           2006   \n",
       "8 2017-02-07                 26        2006           2006   \n",
       "9 2017-02-07                 26        2006           2006   \n",
       "\n",
       "  Borough of Occurrence  Is Full Investigation  Complaint Has Video Evidence  \\\n",
       "0              Brooklyn                  False                         False   \n",
       "1                 Bronx                  False                         False   \n",
       "2                 Bronx                  False                         False   \n",
       "3                 Bronx                  False                         False   \n",
       "4                 Bronx                  False                         False   \n",
       "5                 Bronx                  False                         False   \n",
       "6                 Bronx                  False                         False   \n",
       "7              Brooklyn                  False                         False   \n",
       "8              Brooklyn                  False                         False   \n",
       "9              Brooklyn                  False                         False   \n",
       "\n",
       "     Complaint Filed Mode Complaint Filed Place  \\\n",
       "0                   Phone                   IAB   \n",
       "1                   Phone                   IAB   \n",
       "2  Call Processing System                  CCRB   \n",
       "3  Call Processing System                  CCRB   \n",
       "4  Call Processing System                  CCRB   \n",
       "5  Call Processing System                  CCRB   \n",
       "6  Call Processing System                  CCRB   \n",
       "7                   Phone                   IAB   \n",
       "8                   Phone                   IAB   \n",
       "9                   Phone                   IAB   \n",
       "\n",
       "   Complaint Contains Stop & Frisk Allegations Incident Location  \\\n",
       "0                                        False    Street/highway   \n",
       "1                                        False    Street/highway   \n",
       "2                                         True    Street/highway   \n",
       "3                                         True    Street/highway   \n",
       "4                                         True    Street/highway   \n",
       "5                                         True    Street/highway   \n",
       "6                                         True    Street/highway   \n",
       "7                                        False   Apartment/house   \n",
       "8                                        False   Apartment/house   \n",
       "9                                        False   Apartment/house   \n",
       "\n",
       "   Incident Year     Encounter Outcome  \\\n",
       "0           2006  No Arrest or Summons   \n",
       "1           2006                Arrest   \n",
       "2           2005  No Arrest or Summons   \n",
       "3           2005  No Arrest or Summons   \n",
       "4           2005  No Arrest or Summons   \n",
       "5           2005  No Arrest or Summons   \n",
       "6           2005  No Arrest or Summons   \n",
       "7           2006  No Arrest or Summons   \n",
       "8           2006  No Arrest or Summons   \n",
       "9           2006  No Arrest or Summons   \n",
       "\n",
       "                     Reason For Initial Contact Allegation FADO Type  \\\n",
       "0  PD suspected C/V of violation/crime - street          Discourtesy   \n",
       "1                                         Other                Force   \n",
       "2                                         Other   Abuse of Authority   \n",
       "3                                         Other   Abuse of Authority   \n",
       "4                                         Other   Abuse of Authority   \n",
       "5                                         Other   Abuse of Authority   \n",
       "6                                         Other   Abuse of Authority   \n",
       "7                                Report-dispute   Abuse of Authority   \n",
       "8                                Report-dispute          Discourtesy   \n",
       "9                                Report-dispute          Discourtesy   \n",
       "\n",
       "  Allegation Description  \n",
       "0                 Action  \n",
       "1         Physical force  \n",
       "2         Strip-searched  \n",
       "3    Seizure of property  \n",
       "4     Search (of person)  \n",
       "5   Question and/or stop  \n",
       "6       Threat of arrest  \n",
       "7       Threat of arrest  \n",
       "8                   Word  \n",
       "9                 Action  "
      ]
     },
     "execution_count": 8,
     "metadata": {},
     "output_type": "execute_result"
    }
   ],
   "source": [
    "ccrb.head(10)"
   ]
  },
  {
   "cell_type": "code",
   "execution_count": 9,
   "metadata": {},
   "outputs": [
    {
     "data": {
      "text/plain": [
       "DateStamp                                         0\n",
       "UniqueComplaintId                                 0\n",
       "Close Year                                        0\n",
       "Received Year                                     0\n",
       "Borough of Occurrence                           502\n",
       "Is Full Investigation                             0\n",
       "Complaint Has Video Evidence                      0\n",
       "Complaint Filed Mode                              0\n",
       "Complaint Filed Place                             0\n",
       "Complaint Contains Stop & Frisk Allegations       0\n",
       "Incident Location                              3369\n",
       "Incident Year                                     0\n",
       "Encounter Outcome                                 0\n",
       "Reason For Initial Contact                      878\n",
       "Allegation FADO Type                              3\n",
       "Allegation Description                            3\n",
       "dtype: int64"
      ]
     },
     "execution_count": 9,
     "metadata": {},
     "output_type": "execute_result"
    }
   ],
   "source": [
    "ccrb.isnull().sum()"
   ]
  },
  {
   "cell_type": "code",
   "execution_count": 10,
   "metadata": {},
   "outputs": [],
   "source": [
    "complete= ccrb.dropna()"
   ]
  },
  {
   "cell_type": "code",
   "execution_count": 11,
   "metadata": {},
   "outputs": [
    {
     "data": {
      "text/plain": [
       "(202390, 16)"
      ]
     },
     "execution_count": 11,
     "metadata": {},
     "output_type": "execute_result"
    }
   ],
   "source": [
    "complete.shape"
   ]
  },
  {
   "cell_type": "code",
   "execution_count": 12,
   "metadata": {},
   "outputs": [
    {
     "data": {
      "text/plain": [
       "68467"
      ]
     },
     "execution_count": 12,
     "metadata": {},
     "output_type": "execute_result"
    }
   ],
   "source": [
    "complete['UniqueComplaintId'].nunique()"
   ]
  },
  {
   "cell_type": "code",
   "execution_count": 13,
   "metadata": {},
   "outputs": [],
   "source": [
    "unique= complete.drop_duplicates(subset='UniqueComplaintId')"
   ]
  },
  {
   "cell_type": "code",
   "execution_count": 14,
   "metadata": {},
   "outputs": [
    {
     "data": {
      "text/plain": [
       "(68467, 16)"
      ]
     },
     "execution_count": 14,
     "metadata": {},
     "output_type": "execute_result"
    }
   ],
   "source": [
    "unique.shape"
   ]
  },
  {
   "cell_type": "code",
   "execution_count": 15,
   "metadata": {},
   "outputs": [
    {
     "data": {
      "text/plain": [
       "Brooklyn         23369\n",
       "Manhattan        16067\n",
       "Bronx            15603\n",
       "Queens           10608\n",
       "Staten Island     2763\n",
       "Outside NYC         57\n",
       "Name: Borough of Occurrence, dtype: int64"
      ]
     },
     "execution_count": 15,
     "metadata": {},
     "output_type": "execute_result"
    }
   ],
   "source": [
    "unique['Borough of Occurrence'].value_counts()"
   ]
  },
  {
   "cell_type": "code",
   "execution_count": 18,
   "metadata": {},
   "outputs": [],
   "source": [
    "occur=unique['Borough of Occurrence'].value_counts().to_frame()"
   ]
  },
  {
   "cell_type": "code",
   "execution_count": 19,
   "metadata": {},
   "outputs": [],
   "source": [
    "idx = 1\n",
    "new_col = [2648771,1664727,1471160,2358582,479458,0]  # can be a list, a Series, an array or a scalar   \n",
    "occur.insert(loc=idx, column='Population', value=new_col)"
   ]
  },
  {
   "cell_type": "code",
   "execution_count": 20,
   "metadata": {},
   "outputs": [
    {
     "name": "stderr",
     "output_type": "stream",
     "text": [
      "C:\\Users\\wchen\\AppData\\Local\\Continuum\\anaconda3\\lib\\site-packages\\ipykernel_launcher.py:1: RuntimeWarning: divide by zero encountered in longlong_scalars\n",
      "  \"\"\"Entry point for launching an IPython kernel.\n"
     ]
    }
   ],
   "source": [
    "occur['complaints per capita'] = occur.apply(lambda row: row['Borough of Occurrence']/row['Population'], axis=1)"
   ]
  },
  {
   "cell_type": "code",
   "execution_count": 21,
   "metadata": {},
   "outputs": [
    {
     "data": {
      "text/html": [
       "<div>\n",
       "<style scoped>\n",
       "    .dataframe tbody tr th:only-of-type {\n",
       "        vertical-align: middle;\n",
       "    }\n",
       "\n",
       "    .dataframe tbody tr th {\n",
       "        vertical-align: top;\n",
       "    }\n",
       "\n",
       "    .dataframe thead th {\n",
       "        text-align: right;\n",
       "    }\n",
       "</style>\n",
       "<table border=\"1\" class=\"dataframe\">\n",
       "  <thead>\n",
       "    <tr style=\"text-align: right;\">\n",
       "      <th></th>\n",
       "      <th>Borough of Occurrence</th>\n",
       "      <th>Population</th>\n",
       "      <th>complaints per capita</th>\n",
       "    </tr>\n",
       "  </thead>\n",
       "  <tbody>\n",
       "    <tr>\n",
       "      <th>Outside NYC</th>\n",
       "      <td>57</td>\n",
       "      <td>0</td>\n",
       "      <td>inf</td>\n",
       "    </tr>\n",
       "    <tr>\n",
       "      <th>Bronx</th>\n",
       "      <td>15603</td>\n",
       "      <td>1471160</td>\n",
       "      <td>0.010606</td>\n",
       "    </tr>\n",
       "    <tr>\n",
       "      <th>Manhattan</th>\n",
       "      <td>16067</td>\n",
       "      <td>1664727</td>\n",
       "      <td>0.009651</td>\n",
       "    </tr>\n",
       "    <tr>\n",
       "      <th>Brooklyn</th>\n",
       "      <td>23369</td>\n",
       "      <td>2648771</td>\n",
       "      <td>0.008823</td>\n",
       "    </tr>\n",
       "    <tr>\n",
       "      <th>Staten Island</th>\n",
       "      <td>2763</td>\n",
       "      <td>479458</td>\n",
       "      <td>0.005763</td>\n",
       "    </tr>\n",
       "    <tr>\n",
       "      <th>Queens</th>\n",
       "      <td>10608</td>\n",
       "      <td>2358582</td>\n",
       "      <td>0.004498</td>\n",
       "    </tr>\n",
       "  </tbody>\n",
       "</table>\n",
       "</div>"
      ],
      "text/plain": [
       "               Borough of Occurrence  Population  complaints per capita\n",
       "Outside NYC                       57           0                    inf\n",
       "Bronx                          15603     1471160               0.010606\n",
       "Manhattan                      16067     1664727               0.009651\n",
       "Brooklyn                       23369     2648771               0.008823\n",
       "Staten Island                   2763      479458               0.005763\n",
       "Queens                         10608     2358582               0.004498"
      ]
     },
     "execution_count": 21,
     "metadata": {},
     "output_type": "execute_result"
    }
   ],
   "source": [
    "occur.sort_values(by=['complaints per capita'],ascending=False)"
   ]
  },
  {
   "cell_type": "code",
   "execution_count": 23,
   "metadata": {},
   "outputs": [
    {
     "name": "stderr",
     "output_type": "stream",
     "text": [
      "C:\\Users\\wchen\\AppData\\Local\\Continuum\\anaconda3\\lib\\site-packages\\ipykernel_launcher.py:1: SettingWithCopyWarning: \n",
      "A value is trying to be set on a copy of a slice from a DataFrame.\n",
      "Try using .loc[row_indexer,col_indexer] = value instead\n",
      "\n",
      "See the caveats in the documentation: http://pandas.pydata.org/pandas-docs/stable/indexing.html#indexing-view-versus-copy\n",
      "  \"\"\"Entry point for launching an IPython kernel.\n"
     ]
    }
   ],
   "source": [
    "unique['Years']= unique.apply(lambda row: row['Close Year']-row['Received Year'], axis=1)"
   ]
  },
  {
   "cell_type": "code",
   "execution_count": 27,
   "metadata": {},
   "outputs": [
    {
     "data": {
      "text/plain": [
       "0.4743745161902814"
      ]
     },
     "execution_count": 27,
     "metadata": {},
     "output_type": "execute_result"
    }
   ],
   "source": [
    "unique['Years'].mean()"
   ]
  },
  {
   "cell_type": "code",
   "execution_count": 28,
   "metadata": {},
   "outputs": [
    {
     "data": {
      "text/plain": [
       "Physical force                            9963\n",
       "Word                                      9626\n",
       "Threat of arrest                          5811\n",
       "Premises entered and/or searched          5645\n",
       "Refusal to provide name/shield number     4631\n",
       "Stop                                      4474\n",
       "Search (of person)                        3701\n",
       "Threat of force (verbal or physical)      3459\n",
       "Question and/or stop                      2280\n",
       "Vehicle stop                              2221\n",
       "Vehicle search                            1831\n",
       "Frisk                                     1571\n",
       "Strip-searched                            1293\n",
       "Property damaged                          1209\n",
       "Gun Drawn                                  990\n",
       "Refusal to obtain medical treatment        982\n",
       "Question                                   927\n",
       "Race                                       668\n",
       "Nightstick as club (incl asp & baton)      645\n",
       "Other                                      639\n",
       "Refusal to process civilian complaint      609\n",
       "Pepper spray                               557\n",
       "Action                                     530\n",
       "Threat of summons                          480\n",
       "Hit against inanimate object               355\n",
       "Threat to damage/seize property            321\n",
       "Chokehold                                  305\n",
       "Seizure of property                        305\n",
       "Retaliatory summons                        293\n",
       "Gun Pointed                                265\n",
       "Ethnicity                                  228\n",
       "Nonlethal restraining device               187\n",
       "Threat to notify ACS                       169\n",
       "Sexual orientation                         134\n",
       "Gender                                     130\n",
       "Failure to show search warrant             125\n",
       "Gesture                                    121\n",
       "Other blunt instrument as a club           121\n",
       "Vehicle                                    106\n",
       "Retaliatory arrest                          97\n",
       "Demeanor/tone                               77\n",
       "Radio as club                               74\n",
       "Gun as club                                 56\n",
       "Religion                                    54\n",
       "Gun fired                                   50\n",
       "Flashlight as club                          44\n",
       "Handcuffs too tight                         37\n",
       "Physical disability                         18\n",
       "Interference with recording                 18\n",
       "Animal                                      13\n",
       "Police shield                                8\n",
       "Improper dissemination of medical info       7\n",
       "Search of recording device                   3\n",
       "Frisk and/or search                          3\n",
       "Refusal to show arrest warrant               1\n",
       "Name: Allegation Description, dtype: int64"
      ]
     },
     "execution_count": 28,
     "metadata": {},
     "output_type": "execute_result"
    }
   ],
   "source": [
    "unique['Allegation Description'].value_counts()"
   ]
  },
  {
   "cell_type": "code",
   "execution_count": 41,
   "metadata": {},
   "outputs": [],
   "source": [
    "stop=unique.loc[unique['Allegation Description'].isin(['Stop','Frisk'])]"
   ]
  },
  {
   "cell_type": "code",
   "execution_count": 42,
   "metadata": {},
   "outputs": [
    {
     "data": {
      "text/html": [
       "<div>\n",
       "<style scoped>\n",
       "    .dataframe tbody tr th:only-of-type {\n",
       "        vertical-align: middle;\n",
       "    }\n",
       "\n",
       "    .dataframe tbody tr th {\n",
       "        vertical-align: top;\n",
       "    }\n",
       "\n",
       "    .dataframe thead th {\n",
       "        text-align: right;\n",
       "    }\n",
       "</style>\n",
       "<table border=\"1\" class=\"dataframe\">\n",
       "  <thead>\n",
       "    <tr style=\"text-align: right;\">\n",
       "      <th></th>\n",
       "      <th>UniqueComplaintId</th>\n",
       "    </tr>\n",
       "    <tr>\n",
       "      <th>Incident Year</th>\n",
       "      <th></th>\n",
       "    </tr>\n",
       "  </thead>\n",
       "  <tbody>\n",
       "    <tr>\n",
       "      <th>2004</th>\n",
       "      <td>3</td>\n",
       "    </tr>\n",
       "    <tr>\n",
       "      <th>2005</th>\n",
       "      <td>83</td>\n",
       "    </tr>\n",
       "    <tr>\n",
       "      <th>2006</th>\n",
       "      <td>212</td>\n",
       "    </tr>\n",
       "    <tr>\n",
       "      <th>2007</th>\n",
       "      <td>613</td>\n",
       "    </tr>\n",
       "    <tr>\n",
       "      <th>2008</th>\n",
       "      <td>830</td>\n",
       "    </tr>\n",
       "    <tr>\n",
       "      <th>2009</th>\n",
       "      <td>859</td>\n",
       "    </tr>\n",
       "    <tr>\n",
       "      <th>2010</th>\n",
       "      <td>727</td>\n",
       "    </tr>\n",
       "    <tr>\n",
       "      <th>2011</th>\n",
       "      <td>706</td>\n",
       "    </tr>\n",
       "    <tr>\n",
       "      <th>2012</th>\n",
       "      <td>598</td>\n",
       "    </tr>\n",
       "    <tr>\n",
       "      <th>2013</th>\n",
       "      <td>499</td>\n",
       "    </tr>\n",
       "    <tr>\n",
       "      <th>2014</th>\n",
       "      <td>372</td>\n",
       "    </tr>\n",
       "    <tr>\n",
       "      <th>2015</th>\n",
       "      <td>311</td>\n",
       "    </tr>\n",
       "    <tr>\n",
       "      <th>2016</th>\n",
       "      <td>231</td>\n",
       "    </tr>\n",
       "    <tr>\n",
       "      <th>2017</th>\n",
       "      <td>1</td>\n",
       "    </tr>\n",
       "  </tbody>\n",
       "</table>\n",
       "</div>"
      ],
      "text/plain": [
       "               UniqueComplaintId\n",
       "Incident Year                   \n",
       "2004                           3\n",
       "2005                          83\n",
       "2006                         212\n",
       "2007                         613\n",
       "2008                         830\n",
       "2009                         859\n",
       "2010                         727\n",
       "2011                         706\n",
       "2012                         598\n",
       "2013                         499\n",
       "2014                         372\n",
       "2015                         311\n",
       "2016                         231\n",
       "2017                           1"
      ]
     },
     "execution_count": 42,
     "metadata": {},
     "output_type": "execute_result"
    }
   ],
   "source": [
    "stop=stop.groupby(['Incident Year'])['UniqueComplaintId'].count().to_frame()\n",
    "stop"
   ]
  },
  {
   "cell_type": "code",
   "execution_count": 45,
   "metadata": {},
   "outputs": [],
   "source": [
    "stop['year'] = stop.index"
   ]
  },
  {
   "cell_type": "code",
   "execution_count": 46,
   "metadata": {},
   "outputs": [],
   "source": [
    "stop09_16=stop.loc[stop['year'].isin([2009,2010,2011,2012,2013,2014,2015,2016])]"
   ]
  },
  {
   "cell_type": "code",
   "execution_count": 47,
   "metadata": {},
   "outputs": [
    {
     "data": {
      "text/html": [
       "<div>\n",
       "<style scoped>\n",
       "    .dataframe tbody tr th:only-of-type {\n",
       "        vertical-align: middle;\n",
       "    }\n",
       "\n",
       "    .dataframe tbody tr th {\n",
       "        vertical-align: top;\n",
       "    }\n",
       "\n",
       "    .dataframe thead th {\n",
       "        text-align: right;\n",
       "    }\n",
       "</style>\n",
       "<table border=\"1\" class=\"dataframe\">\n",
       "  <thead>\n",
       "    <tr style=\"text-align: right;\">\n",
       "      <th></th>\n",
       "      <th>UniqueComplaintId</th>\n",
       "      <th>year</th>\n",
       "    </tr>\n",
       "    <tr>\n",
       "      <th>Incident Year</th>\n",
       "      <th></th>\n",
       "      <th></th>\n",
       "    </tr>\n",
       "  </thead>\n",
       "  <tbody>\n",
       "    <tr>\n",
       "      <th>2009</th>\n",
       "      <td>859</td>\n",
       "      <td>2009</td>\n",
       "    </tr>\n",
       "    <tr>\n",
       "      <th>2010</th>\n",
       "      <td>727</td>\n",
       "      <td>2010</td>\n",
       "    </tr>\n",
       "    <tr>\n",
       "      <th>2011</th>\n",
       "      <td>706</td>\n",
       "      <td>2011</td>\n",
       "    </tr>\n",
       "    <tr>\n",
       "      <th>2012</th>\n",
       "      <td>598</td>\n",
       "      <td>2012</td>\n",
       "    </tr>\n",
       "    <tr>\n",
       "      <th>2013</th>\n",
       "      <td>499</td>\n",
       "      <td>2013</td>\n",
       "    </tr>\n",
       "    <tr>\n",
       "      <th>2014</th>\n",
       "      <td>372</td>\n",
       "      <td>2014</td>\n",
       "    </tr>\n",
       "    <tr>\n",
       "      <th>2015</th>\n",
       "      <td>311</td>\n",
       "      <td>2015</td>\n",
       "    </tr>\n",
       "    <tr>\n",
       "      <th>2016</th>\n",
       "      <td>231</td>\n",
       "      <td>2016</td>\n",
       "    </tr>\n",
       "  </tbody>\n",
       "</table>\n",
       "</div>"
      ],
      "text/plain": [
       "               UniqueComplaintId  year\n",
       "Incident Year                         \n",
       "2009                         859  2009\n",
       "2010                         727  2010\n",
       "2011                         706  2011\n",
       "2012                         598  2012\n",
       "2013                         499  2013\n",
       "2014                         372  2014\n",
       "2015                         311  2015\n",
       "2016                         231  2016"
      ]
     },
     "execution_count": 47,
     "metadata": {},
     "output_type": "execute_result"
    }
   ],
   "source": [
    "stop09_16"
   ]
  },
  {
   "cell_type": "code",
   "execution_count": 49,
   "metadata": {},
   "outputs": [],
   "source": [
    "x=stop09_16['year']\n",
    "y=stop09_16['UniqueComplaintId']"
   ]
  },
  {
   "cell_type": "code",
   "execution_count": null,
   "metadata": {},
   "outputs": [],
   "source": [
    "THE"
   ]
  }
 ],
 "metadata": {
  "kernelspec": {
   "display_name": "Python 3",
   "language": "python",
   "name": "python3"
  },
  "language_info": {
   "codemirror_mode": {
    "name": "ipython",
    "version": 3
   },
   "file_extension": ".py",
   "mimetype": "text/x-python",
   "name": "python",
   "nbconvert_exporter": "python",
   "pygments_lexer": "ipython3",
   "version": "3.6.4"
  }
 },
 "nbformat": 4,
 "nbformat_minor": 2
}
